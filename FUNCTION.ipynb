{
  "nbformat": 4,
  "nbformat_minor": 0,
  "metadata": {
    "colab": {
      "provenance": []
    },
    "kernelspec": {
      "name": "python3",
      "display_name": "Python 3"
    },
    "language_info": {
      "name": "python"
    }
  },
  "cells": [
    {
      "cell_type": "markdown",
      "source": [
        "# **Theoretical Questions & Answers**\n",
        "\n",
        "**1. What is the difference between a function and a method in Python?**\n",
        "\n",
        "A function is a block of reusable code that performs a specific task. It is defined using def and can be called independently.\n",
        "A method is a function inside a class and is associated with an object.\n",
        "Example:\n",
        "\n",
        "\n"
      ],
      "metadata": {
        "id": "jraezlKjC3e8"
      }
    },
    {
      "cell_type": "code",
      "source": [
        "# Function (Independent)\n",
        "def greet():\n",
        "    return \"Hello from function!\"\n",
        "\n",
        "# Method (Inside a class)\n",
        "class Person:\n",
        "    def say_hello(self):\n",
        "        return \"Hello from method!\"\n",
        "\n",
        "# Calling function\n",
        "print(greet())\n",
        "\n",
        "# Calling method using an object\n",
        "person = Person()\n",
        "print(person.say_hello())\n",
        "\n",
        "#Output:\n",
        "\n",
        "#Hello from function!\n",
        "#Hello from method!"
      ],
      "metadata": {
        "colab": {
          "base_uri": "https://localhost:8080/"
        },
        "id": "ojT2DvWnGzpk",
        "outputId": "b2befa8d-1dda-43d5-9b8c-935be65e2b6a"
      },
      "execution_count": null,
      "outputs": [
        {
          "output_type": "stream",
          "name": "stdout",
          "text": [
            "Hello from function!\n",
            "Hello from method!\n"
          ]
        }
      ]
    },
    {
      "cell_type": "markdown",
      "source": [
        "**2. Explain the concept of function arguments and parameters in Python.**\n",
        "\n",
        "Parameters are variables listed in the function definition.\n",
        "Arguments are actual values passed to the function when calling it.\n",
        "Example:\n",
        "\n"
      ],
      "metadata": {
        "id": "iAX533J1HR6Q"
      }
    },
    {
      "cell_type": "code",
      "source": [
        "def add(a, b):  # a and b are parameters\n",
        "    return a + b\n",
        "\n",
        "result = add(5, 3)  # 5 and 3 are arguments\n",
        "print(result)\n",
        "\n",
        "#Output:8\n"
      ],
      "metadata": {
        "colab": {
          "base_uri": "https://localhost:8080/"
        },
        "id": "7-TBSWKrHnWE",
        "outputId": "fe0b5d5a-0f76-4502-b4a5-7775b3419eab"
      },
      "execution_count": null,
      "outputs": [
        {
          "output_type": "stream",
          "name": "stdout",
          "text": [
            "8\n"
          ]
        }
      ]
    },
    {
      "cell_type": "markdown",
      "source": [
        "**3. What are the different ways to define and call a function in Python?**\n",
        "\n"
      ],
      "metadata": {
        "id": "73rXhhkFIBKS"
      }
    },
    {
      "cell_type": "markdown",
      "source": [
        "Python provides multiple ways:\n",
        "\n",
        "**(a) Positional Arguments:**\n",
        "\n"
      ],
      "metadata": {
        "id": "MPneydbDIlNx"
      }
    },
    {
      "cell_type": "code",
      "source": [
        "def greet(name, age):\n",
        "    print(f\"Hello {name}, you are {age} years old.\")\n",
        "\n",
        "greet(\"Sandeep\", 25)\n",
        "\n",
        "#Output:\n",
        "\n",
        "#Hello Sandeep, you are 25 years old.\n"
      ],
      "metadata": {
        "colab": {
          "base_uri": "https://localhost:8080/"
        },
        "id": "VroKrY-gIxj7",
        "outputId": "7c09d7e6-5fc1-4d6b-a5bf-7c69ba1e553a"
      },
      "execution_count": null,
      "outputs": [
        {
          "output_type": "stream",
          "name": "stdout",
          "text": [
            "Hello Sandeep, you are 25 years old.\n"
          ]
        }
      ]
    },
    {
      "cell_type": "markdown",
      "source": [
        "**(b) Keyword Arguments:**\n",
        "\n"
      ],
      "metadata": {
        "id": "NxtE4QV5JFuQ"
      }
    },
    {
      "cell_type": "code",
      "source": [
        "greet(age=25, name=\"Sandeep\")\n",
        "\n",
        "#Output:\n",
        "\n",
        "#Hello Sandeep, you are 25 years old.\n"
      ],
      "metadata": {
        "colab": {
          "base_uri": "https://localhost:8080/"
        },
        "id": "zRDGnNcwJcB5",
        "outputId": "cbf61148-cf0b-42f2-be3f-5ac2ef7a65ce"
      },
      "execution_count": null,
      "outputs": [
        {
          "output_type": "stream",
          "name": "stdout",
          "text": [
            "Hello Sandeep, you are 25 years old.\n"
          ]
        }
      ]
    },
    {
      "cell_type": "markdown",
      "source": [
        "**(c) Default Arguments:**\n",
        "\n"
      ],
      "metadata": {
        "id": "nu1EcBM1Jl9k"
      }
    },
    {
      "cell_type": "code",
      "source": [
        "def greet(name=\"User\"):\n",
        "    print(f\"Hello {name}!\")\n",
        "\n",
        "greet()\n",
        "greet(\"Sandeep\")\n",
        "#Output:\n",
        "\n",
        "#Hello User!\n",
        "#Hello Sandeep!\n"
      ],
      "metadata": {
        "colab": {
          "base_uri": "https://localhost:8080/"
        },
        "id": "666o_n8HJtPx",
        "outputId": "c1fc3028-94f0-4a03-ca46-2f5ce5af0219"
      },
      "execution_count": null,
      "outputs": [
        {
          "output_type": "stream",
          "name": "stdout",
          "text": [
            "Hello User!\n",
            "Hello Sandeep!\n"
          ]
        }
      ]
    },
    {
      "cell_type": "markdown",
      "source": [
        "**(d) Variable-length Arguments (*args, `kwargs`):**\n"
      ],
      "metadata": {
        "id": "7WIE30xiJ9vy"
      }
    },
    {
      "cell_type": "code",
      "source": [
        "def add_numbers(*args):\n",
        "    return sum(args)\n",
        "\n",
        "print(add_numbers(2, 3, 4))\n",
        "\n",
        "#Output:9\n",
        "\n",
        "\n"
      ],
      "metadata": {
        "colab": {
          "base_uri": "https://localhost:8080/"
        },
        "id": "psOUg3MlKExo",
        "outputId": "079181f1-6e94-4785-b089-af723b9c575f"
      },
      "execution_count": null,
      "outputs": [
        {
          "output_type": "stream",
          "name": "stdout",
          "text": [
            "9\n"
          ]
        }
      ]
    },
    {
      "cell_type": "markdown",
      "source": [
        "**4. What is the purpose of the return statement in a Python function?**\n",
        "\n",
        "The return statement is used to send a value back from a function.\n",
        "Example:\n",
        "\n",
        "\n"
      ],
      "metadata": {
        "id": "sLfpdriCKNkB"
      }
    },
    {
      "cell_type": "code",
      "source": [
        "def square(num):\n",
        "    return num * num\n",
        "\n",
        "print(square(4))\n",
        "\n",
        "#Output:16\n",
        "\n"
      ],
      "metadata": {
        "colab": {
          "base_uri": "https://localhost:8080/"
        },
        "id": "ndwpNs27KkGr",
        "outputId": "80f8ea78-8f69-4e6c-c7d1-232a83cf7a9f"
      },
      "execution_count": null,
      "outputs": [
        {
          "output_type": "stream",
          "name": "stdout",
          "text": [
            "16\n"
          ]
        }
      ]
    },
    {
      "cell_type": "markdown",
      "source": [
        "**5. What are iterators in Python and how do they differ from iterables?**\n",
        "\n",
        "**Iterable**: An object that can be looped over (e.g., lists, tuples).\n",
        "**Iterator**: An object that implements __iter__() and __next__().\n",
        "Example:\n",
        "\n"
      ],
      "metadata": {
        "id": "YVnIAFJ8KrH5"
      }
    },
    {
      "cell_type": "code",
      "source": [
        "my_list = [1, 2, 3]\n",
        "iterator = iter(my_list)\n",
        "\n",
        "print(next(iterator))\n",
        "print(next(iterator))\n",
        "print(next(iterator))\n",
        "\n",
        "#Output:1 2 3\n",
        "\n"
      ],
      "metadata": {
        "colab": {
          "base_uri": "https://localhost:8080/"
        },
        "id": "bz1HqoVcLJXn",
        "outputId": "02abc850-75fc-49a5-8f37-464a1c36a477"
      },
      "execution_count": null,
      "outputs": [
        {
          "output_type": "stream",
          "name": "stdout",
          "text": [
            "1\n",
            "2\n",
            "3\n"
          ]
        }
      ]
    },
    {
      "cell_type": "markdown",
      "source": [
        "**6. Explain the concept of generators in Python and how they are defined.**\n",
        "\n",
        "A generator is a function that produces values one at a time using yield.\n",
        "Example:\n",
        "\n"
      ],
      "metadata": {
        "id": "CV9GDwOLLjU3"
      }
    },
    {
      "cell_type": "code",
      "source": [
        "def count_up(n):\n",
        "    for i in range(n):\n",
        "        yield i\n",
        "\n",
        "gen = count_up(3)\n",
        "print(next(gen))\n",
        "print(next(gen))\n",
        "print(next(gen))\n",
        "#Output:0 1 2\n",
        "\n"
      ],
      "metadata": {
        "colab": {
          "base_uri": "https://localhost:8080/"
        },
        "id": "RlJJAQZOLw5G",
        "outputId": "42759734-fe85-4d4e-9155-78cc2ab9f92f"
      },
      "execution_count": null,
      "outputs": [
        {
          "output_type": "stream",
          "name": "stdout",
          "text": [
            "0\n",
            "1\n",
            "2\n"
          ]
        }
      ]
    },
    {
      "cell_type": "markdown",
      "source": [
        "**7. What are the advantages of using generators over regular functions?**\n",
        "\n",
        "-  Memory-efficient (does not store all values at once).\n",
        "\n",
        "-  Faster execution (produces values on demand)."
      ],
      "metadata": {
        "id": "a6Q5hB7qL7rO"
      }
    },
    {
      "cell_type": "markdown",
      "source": [
        "**8. What is a lambda function in Python and when is it typically used?**\n",
        "\n",
        "-  A lambda function is an anonymous, single-line function.\n",
        "-  Used when:\n",
        "          1. Short, one-time functions.\n",
        "          2. Higher-order functions (map(), filter(), reduce()).\n",
        "          3. Sorting data.\n",
        "Example:\n",
        "\n"
      ],
      "metadata": {
        "id": "JszZS3lcMRSh"
      }
    },
    {
      "cell_type": "code",
      "source": [
        "square = lambda x: x * x\n",
        "print(square(5))\n",
        "\n",
        "#Output:25\n"
      ],
      "metadata": {
        "colab": {
          "base_uri": "https://localhost:8080/"
        },
        "id": "wdWOjgM5M7sL",
        "outputId": "bfb7ab48-2a51-4bca-d9a2-f4541c98735a"
      },
      "execution_count": null,
      "outputs": [
        {
          "output_type": "stream",
          "name": "stdout",
          "text": [
            "25\n"
          ]
        }
      ]
    },
    {
      "cell_type": "markdown",
      "source": [
        "**9. Explain the purpose and usage of the map() function in Python.**\n",
        "\n",
        "-  The map() function applies a function to all elements of an iterable.\n",
        "\n",
        "Example:\n",
        "\n"
      ],
      "metadata": {
        "id": "E1L0uIbJNEBc"
      }
    },
    {
      "cell_type": "code",
      "source": [
        "numbers = [1, 2, 3, 4]\n",
        "squared = list(map(lambda x: x ** 2, numbers))\n",
        "print(squared)\n",
        "\n",
        "#Output:[1, 4, 9, 16]\n",
        "\n"
      ],
      "metadata": {
        "colab": {
          "base_uri": "https://localhost:8080/"
        },
        "id": "vkY2-uXINkAd",
        "outputId": "49b40240-8dae-47cc-d87a-e9834d78ad0e"
      },
      "execution_count": null,
      "outputs": [
        {
          "output_type": "stream",
          "name": "stdout",
          "text": [
            "[1, 4, 9, 16]\n"
          ]
        }
      ]
    },
    {
      "cell_type": "markdown",
      "source": [
        "**10. What is the difference between map(), reduce(), and filter() functions in Python?**\n",
        "\n",
        "Function\tPurpose\n",
        "\n",
        "-  map():\tApplies a function to all elements\n",
        "-  filter():\tFilters elements based on a condition\n",
        "-  reduce():\tAggregates elements into a single value\n",
        "\n",
        "Example:\n",
        "\n"
      ],
      "metadata": {
        "id": "FFxhEni5N5wt"
      }
    },
    {
      "cell_type": "code",
      "source": [
        "from functools import reduce\n",
        "\n",
        "numbers = [1, 2, 3, 4]\n",
        "\n",
        "print(list(map(lambda x: x * 2, numbers)))  # map()\n",
        "print(list(filter(lambda x: x % 2 == 0, numbers)))  # filter()\n",
        "print(reduce(lambda x, y: x + y, numbers))  # reduce()\n"
      ],
      "metadata": {
        "colab": {
          "base_uri": "https://localhost:8080/"
        },
        "id": "qeHXVzFRO3cG",
        "outputId": "c36d2e8d-68da-4055-fdac-2d14e83427a0"
      },
      "execution_count": null,
      "outputs": [
        {
          "output_type": "stream",
          "name": "stdout",
          "text": [
            "[2, 4, 6, 8]\n",
            "[2, 4]\n",
            "10\n"
          ]
        }
      ]
    },
    {
      "cell_type": "markdown",
      "source": [
        "# **Practical Questions & Answers**\n",
        "\n",
        "**1.Write a Python function that takes a list of numbers as input and returns the sum of all even numbers in the list.**\n",
        "\n"
      ],
      "metadata": {
        "id": "iONLWE0jPmv8"
      }
    },
    {
      "cell_type": "code",
      "source": [
        "def sum_even_numbers(numbers):\n",
        "    return sum(num for num in numbers if num % 2 == 0)\n",
        "\n",
        "# Example usage\n",
        "numbers = [1, 2, 3, 4, 5, 6]\n",
        "print(sum_even_numbers(numbers))\n",
        "\n",
        "12\n"
      ],
      "metadata": {
        "colab": {
          "base_uri": "https://localhost:8080/"
        },
        "id": "2I8usL_2QTlB",
        "outputId": "1dc0baac-27e4-4f05-fe8e-0bea9d5b831d"
      },
      "execution_count": null,
      "outputs": [
        {
          "output_type": "stream",
          "name": "stdout",
          "text": [
            "12\n"
          ]
        },
        {
          "output_type": "execute_result",
          "data": {
            "text/plain": [
              "12"
            ]
          },
          "metadata": {},
          "execution_count": 23
        }
      ]
    },
    {
      "cell_type": "markdown",
      "source": [
        "**2.Create a Python function that accepts a string and returns the reverse of that string.**\n",
        "\n",
        "\n"
      ],
      "metadata": {
        "id": "Gx-1tG_RQ5Y6"
      }
    },
    {
      "cell_type": "code",
      "source": [
        "def reverse_string(s):\n",
        "    return s[::-1]\n",
        "\n",
        "# Example usage\n",
        "print(reverse_string(\"hello\"))\n",
        "\n",
        "#olleh\n"
      ],
      "metadata": {
        "colab": {
          "base_uri": "https://localhost:8080/"
        },
        "id": "X8mhM3dMRGuH",
        "outputId": "d13d94c5-3431-4e65-9a42-8397f02efadc"
      },
      "execution_count": null,
      "outputs": [
        {
          "output_type": "stream",
          "name": "stdout",
          "text": [
            "olleh\n"
          ]
        }
      ]
    },
    {
      "cell_type": "markdown",
      "source": [
        "**3.Implement a Python function that takes a list of integers and returns a new list containing the squares of each number.**\n",
        "\n",
        "\n"
      ],
      "metadata": {
        "id": "pveM6_frRtvJ"
      }
    },
    {
      "cell_type": "code",
      "source": [
        "def square_numbers(numbers):\n",
        "    return [num ** 2 for num in numbers]\n",
        "\n",
        "# Example usage\n",
        "print(square_numbers([1, 2, 3, 4, 5]))\n",
        "\n",
        "#[1, 4, 9, 16, 25]\n"
      ],
      "metadata": {
        "colab": {
          "base_uri": "https://localhost:8080/"
        },
        "id": "e0rDt7eNSAYk",
        "outputId": "5ee576cf-5acf-4b9b-e8c9-e89eb21f3ac7"
      },
      "execution_count": null,
      "outputs": [
        {
          "output_type": "stream",
          "name": "stdout",
          "text": [
            "[1, 4, 9, 16, 25]\n"
          ]
        }
      ]
    },
    {
      "cell_type": "markdown",
      "source": [
        "**4.Write a Python function that checks if a given number is prime or not from 1 to 200.**\n",
        "\n",
        "\n"
      ],
      "metadata": {
        "id": "dOrCp2JmSMYV"
      }
    },
    {
      "cell_type": "code",
      "source": [
        "def is_prime(n):\n",
        "    if n < 2:\n",
        "        return False\n",
        "    for i in range(2, int(n**0.5) + 1):\n",
        "        if n % i == 0:\n",
        "            return False\n",
        "    return True\n",
        "\n",
        "# Print all prime numbers from 1 to 200\n",
        "primes = [n for n in range(1, 201) if is_prime(n)]\n",
        "print(primes)\n",
        "\n"
      ],
      "metadata": {
        "colab": {
          "base_uri": "https://localhost:8080/"
        },
        "id": "th2KN2gqScwR",
        "outputId": "c17d2324-d143-4a6f-e953-ba680de86eda"
      },
      "execution_count": null,
      "outputs": [
        {
          "output_type": "stream",
          "name": "stdout",
          "text": [
            "[2, 3, 5, 7, 11, 13, 17, 19, 23, 29, 31, 37, 41, 43, 47, 53, 59, 61, 67, 71, 73, 79, 83, 89, 97, 101, 103, 107, 109, 113, 127, 131, 137, 139, 149, 151, 157, 163, 167, 173, 179, 181, 191, 193, 197, 199]\n"
          ]
        }
      ]
    },
    {
      "cell_type": "markdown",
      "source": [
        "**5.Create an iterator class in Python that generates the Fibonacci sequence up to a specified number of terms.**\n",
        "\n",
        "\n"
      ],
      "metadata": {
        "id": "aUJ30sRUStHY"
      }
    },
    {
      "cell_type": "code",
      "source": [
        "class FibonacciIterator:\n",
        "    def __init__(self, n):\n",
        "        self.n = n\n",
        "        self.a, self.b = 0, 1\n",
        "        self.count = 0\n",
        "\n",
        "    def __iter__(self):\n",
        "        return self\n",
        "\n",
        "    def __next__(self):\n",
        "        if self.count >= self.n:\n",
        "            raise StopIteration\n",
        "        self.count += 1\n",
        "        self.a, self.b = self.b, self.a + self.b\n",
        "        return self.a\n",
        "\n",
        "# Example usage\n",
        "fib = FibonacciIterator(10)\n",
        "print(list(fib))\n",
        "\n"
      ],
      "metadata": {
        "colab": {
          "base_uri": "https://localhost:8080/"
        },
        "id": "yToix0XdS1hr",
        "outputId": "3e4fc0ca-e531-4ec8-ab50-7a1cfb07720b"
      },
      "execution_count": null,
      "outputs": [
        {
          "output_type": "stream",
          "name": "stdout",
          "text": [
            "[1, 1, 2, 3, 5, 8, 13, 21, 34, 55]\n"
          ]
        }
      ]
    },
    {
      "cell_type": "markdown",
      "source": [
        "**6.Write a generator function in Python that yields the powers of 2 up to a given exponent.**\n",
        "\n",
        "\n"
      ],
      "metadata": {
        "id": "CMNAKNfkTDt5"
      }
    },
    {
      "cell_type": "code",
      "source": [
        "def powers_of_2(n):\n",
        "    for i in range(n + 1):\n",
        "        yield 2 ** i\n",
        "\n",
        "# Example usage\n",
        "print(list(powers_of_2(5)))\n",
        "\n"
      ],
      "metadata": {
        "colab": {
          "base_uri": "https://localhost:8080/"
        },
        "id": "KZGxnkMiTQO7",
        "outputId": "98823653-f4a7-4db2-e244-37f4a6b153b0"
      },
      "execution_count": null,
      "outputs": [
        {
          "output_type": "stream",
          "name": "stdout",
          "text": [
            "[1, 2, 4, 8, 16, 32]\n"
          ]
        }
      ]
    },
    {
      "cell_type": "markdown",
      "source": [
        "**7.Implement a generator function that reads a file line by line and yields each line as a string.**\n",
        "\n",
        "\n"
      ],
      "metadata": {
        "id": "NJxCsHqRTmAJ"
      }
    },
    {
      "cell_type": "code",
      "source": [
        "# Step 1: Create a sample file if it doesn't exist\n",
        "file_path = \"/content/sample.txt\"\n",
        "\n",
        "try:\n",
        "    with open(file_path, \"r\") as file:\n",
        "        print(\"File already exists. Reading...\")\n",
        "except FileNotFoundError:\n",
        "    print(\"File not found! Creating a sample file...\")\n",
        "    with open(file_path, \"w\") as file:\n",
        "        file.write(\"Hello, this is line 1.\\n\")\n",
        "        file.write(\"This is line 2.\\n\")\n",
        "        file.write(\"Welcome to Google Colab!\\n\")\n",
        "        file.write(\"Python is great for data analysis.\\n\")\n",
        "        file.write(\"End of file.\\n\")\n",
        "    print(\"Sample file created.\")\n",
        "\n",
        "# Step 2: Define the generator function\n",
        "def read_file_line_by_line(file_path):\n",
        "    \"\"\"Generator function to read a file line by line.\"\"\"\n",
        "    with open(file_path, 'r', encoding='utf-8') as file:\n",
        "        for line in file:\n",
        "            yield line.rstrip()  # Removes trailing newline characters\n",
        "\n",
        "# Step 3: Read the file line by line\n",
        "print(\"\\nReading File Content:\")\n",
        "for line in read_file_line_by_line(file_path):\n",
        "    print(line)\n",
        "\n"
      ],
      "metadata": {
        "colab": {
          "base_uri": "https://localhost:8080/"
        },
        "id": "oEwVUI9dTubm",
        "outputId": "8e4c5ecd-bfd8-4432-9722-0dfae2550de3"
      },
      "execution_count": null,
      "outputs": [
        {
          "output_type": "stream",
          "name": "stdout",
          "text": [
            "File not found! Creating a sample file...\n",
            "Sample file created.\n",
            "\n",
            "Reading File Content:\n",
            "Hello, this is line 1.\n",
            "This is line 2.\n",
            "Welcome to Google Colab!\n",
            "Python is great for data analysis.\n",
            "End of file.\n"
          ]
        }
      ]
    },
    {
      "cell_type": "markdown",
      "source": [
        "**8.Use a lambda function in Python to sort a list of tuples based on the second element of each tuple.**\n",
        "\n",
        "\n"
      ],
      "metadata": {
        "id": "tTOUZxZHU2qy"
      }
    },
    {
      "cell_type": "code",
      "source": [
        "data = [(1, 5), (2, 3), (4, 1), (3, 4)]\n",
        "sorted_data = sorted(data, key=lambda x: x[1])\n",
        "print(sorted_data)\n",
        "\n"
      ],
      "metadata": {
        "colab": {
          "base_uri": "https://localhost:8080/"
        },
        "id": "ufaQjDCrU-Dg",
        "outputId": "82a3c6b0-f341-47de-abcc-573a45fb5e55"
      },
      "execution_count": null,
      "outputs": [
        {
          "output_type": "stream",
          "name": "stdout",
          "text": [
            "[(4, 1), (2, 3), (3, 4), (1, 5)]\n"
          ]
        }
      ]
    },
    {
      "cell_type": "markdown",
      "source": [
        "**9.Write a Python program that uses map() to convert a list of temperatures from Celsius to Fahrenheit.**\n",
        "\n",
        "\n"
      ],
      "metadata": {
        "id": "nOaR-vElVMwu"
      }
    },
    {
      "cell_type": "code",
      "source": [
        "celsius = [0, 10, 20, 30, 40]\n",
        "fahrenheit = list(map(lambda c: (c * 9/5) + 32, celsius))\n",
        "print(fahrenheit)\n",
        "\n",
        "\n"
      ],
      "metadata": {
        "colab": {
          "base_uri": "https://localhost:8080/"
        },
        "id": "5CTa0MLYVW1X",
        "outputId": "7bc53c6e-63e3-4316-9b92-cb101ab40f09"
      },
      "execution_count": null,
      "outputs": [
        {
          "output_type": "stream",
          "name": "stdout",
          "text": [
            "[32.0, 50.0, 68.0, 86.0, 104.0]\n"
          ]
        }
      ]
    },
    {
      "cell_type": "markdown",
      "source": [
        "**10.Create a Python program that uses filter() to remove all the vowels from a given string.**\n",
        "\n",
        "\n"
      ],
      "metadata": {
        "id": "rkDsQ2XjVmot"
      }
    },
    {
      "cell_type": "code",
      "source": [
        "def remove_vowels(s):\n",
        "    return \"\".join(filter(lambda c: c.lower() not in \"aeiou\", s))\n",
        "\n",
        "# Example usage\n",
        "print(remove_vowels(\"hello world\"))\n",
        "\n",
        "hll wrld"
      ],
      "metadata": {
        "colab": {
          "base_uri": "https://localhost:8080/"
        },
        "id": "AiUxhzpuVtjE",
        "outputId": "1bbb4f09-4ae6-4e08-9639-2025c12a930b"
      },
      "execution_count": null,
      "outputs": [
        {
          "output_type": "stream",
          "name": "stdout",
          "text": [
            "hll wrld\n"
          ]
        }
      ]
    },
    {
      "cell_type": "markdown",
      "source": [
        " **11) Imagine an accounting routine used in a book shop. It works on a list with sublists, which look like this:**\n",
        "\n",
        "Screenshot 2025-08-06 132230.png![Screenshot 2025-08-06 132230.png](data:image/png;base64,iVBORw0KGgoAAAANSUhEUgAAA1QAAACHCAYAAAARIxhBAAAAAXNSR0IArs4c6QAAAARnQU1BAACxjwv8YQUAAAAJcEhZcwAAEnQAABJ0Ad5mH3gAAP+lSURBVHhe7L0FYFzXlT7+zWhmxGCBJUuWzMxsxxAnjsNpOGmSbnHbbZf/u792oSmmaZpCyltO0jDHATMzsy3bkkEWM9Og/t933zxprNiBbtt12jn207x334Vzzz143333OXoIiEIUohCFKEQhClGIQhSiEIUofGCIBlRRiMKHCS4mrY7wL0G37UPg5BFx+z3hYuUFF9YRYoaIXA7lsnNGIQpRiEIUovDhB1o6c9h21BFpHAUm0ToNWj/mMmoN/zohOu5RiEIU/ncQaWCiEIUoRCEKUfgLgQsnEwnvSLDgEslR+CuCaEAVhShEoRf+IKMQtSRRiEIUohCFvzC4pGnTjUvcjJrDv16IBlRRiMJfINj6/g9R7u+rrMnAPzr+oFaiEIUoRCEKUbi8IWrdovB+IRpQRSEKH2a4iLZXkgT7f2MIVNYuf/F6/hitRCEKUYhCFKJweUKkDTTn72LudCtqEf+6IbopRRSiEIUoRCEKUYhCFKLQD+QgvyNI6r8xBcFOigZUf71w2T2hUnwXCoUQDAbN+V87iBaRYNMnCpcX2Dwr+L8cI7X9XnLzfvCz89h12b/qY2TZyDx/CaD+RI5j//5ejtCf/jb+UYhCFC5/kPz+JenQvzToibAJAjNeOlHkFBE99buMwl8hXHZPqGzGdZh3MyxwOv96VybawyOnzqaD0v6aaXI5glGyPGznW/yrMYrk4z8lmMCGh6Nfm5HibfON7kfyUyTY/eirQ+XfWZ/K2n11OnX/z9PPPzUYOob7ryOyv5cj2OMlkO60x/dyxTcKUYhCnx61dY0NkedR+L8Ho19D1liFemhfpVtjYsy500Fda+5EgLJGh/CvFi4rq2srGdshkHPz1z7baivYGAqxaKFDdLKd2ShcHqBxsvlXYyX+DQQCf/RxUguRhw1W+9Ll/KUBCPj86AlaBsCWp0gn+1IOt5Vfskg+CwV4BBEKBkxfxHsK2Ixsqi0ZlHC7fwlgOzcaP/vcTr9cwdaRNt4apyhEIQqXN9j6xdbDkmMdl7Ou+WuEEG2oxsUZ02c/NUIcvd5vVPVCdOj+6uGyfIfKDqLkIEShz6GLdJyicPmBxqdX6YYNpsD+/WOApcwtsGvVr22MY5wRvMGMPY6+JxgXw+1ioGAqJMdcvOZSfSrXFzCaCTsWd/J+kO2qHRcNzocdemkYIV/2mP4xx/CPCcLXHheBMf7E1x7rKEQhCpcn2PpGusU+onAZAg2e8Ull81wuBDlmwVDQ2FrZQI2a+eBvJESH8q8SLquAyigY/sZEOAPmcSuZ869R2WhoJMguCnEvGGG2nKaoAr58IRgMcKg0A9k3C/nHAM2I2QJr1youkOxItfcu+zPL8MIQ5hmBeObd8WHtNBa2QQgGQwwwyH+OC8v0zs4xu+5ENveXAKJjgLLndrsRCNB4MmC83ORN+kFHNIiKQhQ+/OD3+81kTlSOLx+Q/xlpS6VrOUAmqDK2lGm6Gw2ooiC4rAIqG5Xy8jI0NTUjLzcXGZmZJu2vFSTALS0tOH++BDk5g3jk9DpQUbi8oLOzA0eOHEUu+VbjJGdcPP3nGCsjO+Yw/3HuzBlUVFRgEHHJyx+MhIQEK+iiEdBxaR5iaRkNhUsyHAwmqqtrUFR8Gu3t7fB4PMjNG4xhw4cjPiGegRoQQ2sSc5kFG38IeH0+nDt71tBn2LBhZiJD55rUkKOj88sJbH2p4K+ruxtFRUWIj4/H6NGjo/ohClG4jCHA4OnsuXNoaGgwtiI/P9/IrK2fo3B5gJbNV1dWoqS0FJkDs1BQUIAYD+26xon/ogFVFCIh5utf/9rXyR2GAcQTOszMM8FhrgJM0PIfJ3y+bpylw3H2TCEqy86gob4BPXFJcMXFKpfFXDZj8cS8xBeyOKvHEWR9WnfqgJ/1Osw9Zdb7GHovyM8zP0LeFrzywlN47tUVyBg0FCOH5TOPT14D24hB0ELVtBPkoXYdvO9g/aGeGIO89FHItB/gOZ1C5ujhP9Vv9TCMEx0SS3dZy5mkyIyPEm7DQNCHptpqnC0uQ3NHNzzpqXDKiSQ+wUAjahqbUdXcDXecBy7NLplC1pM20+Ogn0cAQWcMAqYxiwIO9tkgr5ac4XY1G0K8e0QhXpt3VHp82LFxLX79818g5I7FqAnj4YkRHUVF1eY01Si/UwQh6HG06M7a4OMNF5voYT0hBxHXWPMwp/wXVJ9VF8fY4aADqacTrEYKw3bYbAXf//r/FISKDnUnTFN4O1B+9hyKzlfibGkZykrPoLa6Cq0tTUhMTIaTAQ45DK6ebhJJNCRPs7xT/fVzzExdqtJaH03qkP6dPOGoBp3mR2D4lplFt5DD4kC1X1R4GF/96sOoqe3A+PHjkZxMuQh2sSk54xpLZjWyxB/RkNd9pLRatMBK7O7qQun5czhdfBLlZWdRXVXG/tSgtKIWJRVVKGGQXV9Xj1jyhfjPGGQegc4W/PJnP8aX/uNBtPiCGDtxMjIHpLJWjjhx79HgO7rQ1dWAyop6dFK83AyOhAtrMH0LkA9Un57OHNh3AE8/8TuseftlvLH8TRw7X4cxYycgd2CGKSNeERiqUS562Ne+nrC/lEPTdUmHeMj0W2WUapUV2GX02yePWv4rTmadQlv1EX8fB0N3VNph+NJKl+SF2Eenacuqy0/CW3n5zzSiioRrGE9WItwrS4/j17/+BfYVnsHoqTOQnsQglLKr5YwaPyuzlV+nVl3WuWSLWoyt+uFvqcX5M8U4X1GDbmcs4hPjoWfM0mDSgxaVrX4L46D0H8/NE01zor5IvtVv6jRvJ8pLz6GWAxUTFw+3ZkyZT33VTKmLLZ84cADf/c5jOF1eiylzZiMh1mXGWnyuvgWJLCUcMea9OEmB6Eu+VHu8I30iXRCS3hDdmeIUHtK9vC8eVnmR2iHaMb9wEDGscaIMmsp06L7OrD4K+s6iEIV3B8vOUPc6LN4rq6rCqZOnUX6uDNVlFegMheBJS7Xy8girZYL4Ve+8SM7DQspDchQw/C3bKH0vvc502ktlE9+LPw372oxqcJAuC1CHyzbK97DsgpPtq05JaICFZIEdIS98NTU4U16HBlcCEuNclEsvc6hK651TlVL9aq2joQ4/+8kP8f2f/AwdAQ8mT5mJ5AQ374SRkLKjT9Td0YKSctowXwCxCQnGlst36l0xoOwGpEPYR+oL1S9Mjb0Xbka/6KkK05nW28aHHIx95tHWUI3ThcW093UoKy9HRUWJCYJC9LnikpN7e2uNno/XopQ2lpAfxz8cXxIGfp6LOtJjFo2Z1tWMp3/zM/zrP30JtbVdmDF7LlJTE1hPl6nTSZ/T8BIv5Opqib3T+ARGg5o2hICxUfKthDEzChNzz2qGP8rPrMprcNC5dLRaeSfILiqfYWqC0e/E2VgWIqOyoVAXaaD+yhrK1kkjsyX6tEZXs27Dl/xVu6Y95VGVPA/nNn8d5EXh3yM/lvULVwF7yLzqF8EgrRPJFf1xlhRh1BRIk6bmahQVnUJJ8QnUcXyqa5sNb5eUlaKltQUeBqqxcZIB2doggowFKnm/qdULd2IiYmj3DNezPuPqqs/0r5XglC0nGoYaxsayvPFlSRF1jnYvwLEymPKyd4w1cOoPf6xeKK8qVx5T2weCmK9/7atft05JynClAdMgDwUkVAoS7M7mBmzbsRMvv/E61q16Hbs3rcZBOlqnGwJw5xQgKS0BsSwbQxxDdE69HDS5GK6g28LR4TW+pI+N+EiYGH8nYuisweEx+eg+kig+Kqtm7N+2DnuKmjBxzhKMHpbJQKFZCMLroINKvEIkYozqJHml1FyODt0lcWPZPolDQnayfSeRUYjjo/IJsvGYUCf7RcJrkFlCM7vmJIJwIRFBYP90t2L9Sy/gP/79Uew4XoqxC2diYDIVm9+L9tZivLRiLV7fdhrDRw5DTkqCYVYnByRIZ5RuOzxBttnVCb8nnviLXaXgmBbw0mdy85p9IB7GGWY5B52dHke3wcNBleyg43vu4G4GVdsxeOJUjJkyGR5GdD0SFvbF1+MyLo94wO1XeW1cIYFRAMf7vBfwtrOz3QjSNwvyTwyJKJ6TAHkZnOleSAJD58/BMTFBnWjG+2aNsPCWgIkxCX8Io/0xQWgYIQ3Lg4IaUTtQVoSffvtR/PS5Ndh15AiOHtyKAzt3YOOadWho8SMufxJik1xI6GkhI8ZQgbrRSZo4SYuYbtJUrEpCOqmkxKNSvjHeGhKNzmlPnOE9NesMsGEKSQ8Nvp+Or9JjejpQX3IKr7y2HqnZYzHvirlISZY66kLA6WFgQr7z9RgFLjoyXCEdw2wmeqszpnY1YjVUV1WNlcvfwBuvPYdd29dg85qVePGpF7Fu40EcOHEeu/Zuw+lTRcgemIusvIFwupyG352hDpw+dgjnyhsxeuZ8TJ07GwMSGHDRcKgVB/nHSb46cXwTfvOrZahodGDklDHkQTbrp5CGeCIUSBin04XM9IGYP3cGrpw5HJWN9SgLDMCVCxdiSFaaFQywIyaIEd/xnz8Ug27j21DmxOscnx7yI6nJrjIf+d2hyMEMokByYYbTHOI7OeiGNY2yJl+zvFhUeqLHGUBnj4fjp7EAdYxOvGy3E14pUcqNk/SWXfPzup3RjDSZKndJxhRQS+c4NK7El6cuJ8ev6gg2rluHup5UzLzqKmQmxFInWQ6I8BewFqN8ha9R7iyrcx9pJerGkPanNryFX/3o+/jNc2+isjsDEyZNRFq8svqYR5MX0lxU7iwYpCAGTOAi+Q/rAHU0hvKqtqnzOs4U4kePPoK1RVXIGT4Suekp1DMKgSTfdC6pCxqLT+OtNzfANXA4pi1eRIdOnWddfi0hCjGwo05mm54ANQKdP7lYDupe6SoyJusSbuqj5TgGiZPLT6eB+gshH7qZt0vjx/7GiLAK+Fg0QFkwfCPjZOgkauiwxpKthK8sEP2iEIV3A2lDJ/kLvjoc2L8dP/79M3j7lVUo2n0MuzdvxfZjh+FPTUVqVg4S3eRvyoJ8AkeMuFr2T1qQmkj2nTpXgtrp6CQPkyd5z0OdYCbFeMg38JHfNeERJC9bqlc6ivepzwKym+RkP22AXGjpOk9Q7QAdao2y4KZkOX2tKHr5VXzzZy+gaMAoTB+VgyTqFGkP4aNXcELSuywn3ELtjSguPIKqdi9GTL0aE6dMQmqsMhFnTQxLnojz2aMH8MhPf4fzrUFMnDYJibL9PskqfQNj/KwimngNUm/44aGM0vGkHxGkTgpSXzoo8wH6CXIoY0hXa0LE0mcfbuA4BFuwfdlz+M6D38O6rWexc/8uHDqwGds3b8LOQ8eRkJWH7KxsQyf5s85Qk9F9XY44E1y7+cfh6yI5aJ/ofAfMZBXDUuo8BxW0s7sJJSf34fy5VoyfsARTZs9ESprCiDbaBvIYg2EOBmjy6N/JY1BIy7IcFAVtJuwxNo9j62OATR4L0O7YvgQNlAkU5HNrVIyPJceAENK5gNdWCiGcpAlw+dlO8pZY1U/GYkhv+NpFnS/lHCCH+mM62E8GKTzUNU389tD3ZGFhRltmTZTJApkVLCzXQ35RsNFNlIWXpqEdfvqQ1O1BXhk6sS7xcoxsF+uSEQjJbxCdyaNB+UbidOalWBLHNhw+vgsvvfQyNr3+Eja8+SZ+//IGrNt1CAfpq1RUVCIvfxB9mUziSsx8nWg9fwQ//8nj2HWshjIyHakJlGv6pwE2LtsvexriOFnvsdGWqxPCkX6Ame4QrdRvs1FTgPShr8y8opcewBjbbgJSq/+ypeqhSwMh6hgf8IMBKWBata50SrAIL9xICd0L+BlA7cDvn3kBKbmD8M9f/A985esP4bYbb8KJndvw+C9+h9PVrRw+5pbSIHE9evdAHKuKPAygnHFwucl8VGB+MqphETmS7F2My01+TqZXwyM+GXGMRnvc8cYRFQgPB427HCz6vIiPIZFinKAuNZ3WTixm4HhOXkWMJwZuN8M7zR6wPdUS71SZOBYwhdhV5uW5eXJgzoUob5k7+g0Did7WUIezpWdx5MQprFu5EZ0+MpCHLnDAhZraWpTWlaDbF3ZHxD3sj+q0HENeM/pzkybCXSrVyX479bK/i8rPTfyIr5wSMxykm9MZDxdxNcNBwYllR2NJuxgPlQAF38WaXM5U/mUAKTLyMDPfajvYBnccmYVlWC2SmSGRNPW4k1gf66bTzS5TAmkEPKIDmyDRYmMYJPLcwfbFAKKCvQQhMpBS2uUJFAUvhbC+Djk5g/Gpz3wW3/zmN/BP//iPGDFmAn7++At49pWN6FKEKSYhveT7JZB2cbx0JtPYkKdcHJcQaSbfPaS+apx6GPxS0DTAJB/HniexPEgxbyiWeUlXGiwZ6lgKfU+Ck8aXTZDzyIn860eCiyIfp/rYGHnVTB5ozC4CorbkIj0zCzffcgu++MV/x1e/9hX8zQP3ITkhERMnTsE//MPnmfYgvvCFL2DCuLFGHmxwxMXhY5/8BF5+5SV84e8/jczMNFVo3TO8L6DaZ6BdWVmJuvomuIkWfX7ymYtsqc0oFFBTrpg/JTkZg4ePoEGfiIIheeSvRMPHAvGeJiuk3qSkpMVUF+M3U5fDxVoVqKtd8SrxlOI2kxm9IBfGAmYxClKHvSzRqY02eIPVkD/jeM+N5PDQSIcbihFXN2UjzhUHPyMkowzjOAIcJ42C+FnzN6K9GXgGYFK66kYs8QWSkJSYhJTEBPMkM6TyBCscsLGzoPdKcsFxUk7zNJ4q2dvdjr37jvLcgZzsFBSfPI+aGnucleonDwk/9Ys4sY8KXpx0cszss5t/YshXdJpcpIHqjqcsN1ZXo7ahGa7YOKPP3Oy8m3zqZl4H6R/H8fKw/xRw9PCesIr1sOckv4ymjB3/mv5qu191TxM5RoEwk8eZQjXNmqWzjHlhEGyc0SQ2lkR8qReYNYG0iiH9ndI9HBBDV1pdB9uVodKYmYzhv7Y+jUIU3i9IFuQeVp8qxDPPvozqVj8+/elP4T//+0v49Oe/gJhAJ37/s8ewaeteo6elpmNoHx2gfST/hpw8JJsK/KlzHZQNl5QHJUCb7BgNyODDEetGHPk/SSLAQ0+i5V9JJiXPFDYytPBhPo/LsqViZuo1yZRsehwzSMcjNgX+Tj+qysrR5fWGdUoC78VRRmVX5A9In7IC/sZnZuIzn/8cfvGL/8FH778JiXR9NDllGlQbUm6UqYC3G7V1DWhu7Tb600yZxcYTBepIqUXTd/4SV0dMLPtp6U0pZjn2Hto6pzuVao8+A3FSt4yI/gWAyCQ/po0+mJTngltuxr//93/iq1/9Cj7xiY+j4vQ5/OTbP8ahg2dMAKDJK3nLopFAQa5Ttpw6X0SUbfKFaeeQ7yrdmjYAd/zNZ/D0i8/jX774KWTlJRieC/XEmuBcwyV20rJ3TYaT2jwSOS56msj6mDkYfookpcvRMUMbzyOOh1s+Af1DJ3lL/8xW7Mxuxlp46MIGtmP/yt5rB15zTrXtpk2hKwkPfUqyHBz07dzuZPgCsaxHssGszK+lpk4P8fOQ4ehjxrC9WN6U7dETPXOIT1204/JLiaxlSy07oC3j5UJrUrGXj4iLQCJngVqTlOmXoHTeHDNqND73uc/iKw9+EQuvmEm8XFh81TX4ylcfxCc+/nEMGzrUZJdtRJzsSw/qa6pRXdNAa0T/SveIj5sIu2gnJWLxcjaIh99Pf0r9ZkdcLsqd+D2G/ea1giTZM5WhUBh/z822HRIgAfNo1YdTdpIxg3ngEkn3DwART6jYiXAd8jdi9GhYs0Rkn/JTxXj++bcRk56Fj37605gxahIyc4Zg1LDB8NaV4/U33kB83jiMGDsMyeiGr64GXj1FSkhCS20LqsorUFFbgiANr9MTz4PEYVuaXZahbmxpQmn5WTTW1KC1phJbdu7Gyeogps9ZgMnDBrKjnUTIja7uWJRVVaKp7jTrrUBbO4Ms1pdAJ0Pqg5RBoLsNDbU1dIrjSdQYVFWUo6SyDi1tLWwzyOAlgW2Sor3MqoDBXBowDoAIwGvjTPk6cPrAPpxq6EBy3lDUlpZgyvRRyMvIgq+tCwdPnkIlo/eFU+chPz0J3a1lqKxoh9+VaA08A0E5zm2dnTQM3UYRJzr96G5sA4NwOuR+VNZVoaO9k3KdhPb2ZlSUF6Kt20/nnEGTK4Cac2eweesBDJk6G0NHjURDdQXqKsrQ2dZNPk/VYFG4u+kUBchAVLx054tOV7LeZtTW16O7qZ1MRLrHyWUmpRSgBjtRVdeKRm8ISQlxdKprcLasFK0NVQjKmWMQpgDDEhULbCZTgPWHMtwfBTQ2Rkh5EEEtYdOyC39tJTau34aUEdNw8+23YEzBYOTmD0bSgBy8vWkvlYUL1111BdKoLGRQFXjXNzSh+Nx5tDY3o76+inxL55YBhBSwhNDMzpBZ9TThdGUjSitqyHu16KqvYDqdb46Z3EvNdHlrz+Pl5asQnz8CC6+8CmnUcDFMb2ttQkl1HerbGXQTh3g6+XpCJPQNLxrQlYAN81STBJ44D1IGDKCsZSN94CA6El7s3X0EoybMws133oDhOZkYmJWJOAZQAY5piBaioawSNeWn0e1nW3HkjXg64HIcWKkeCgXYkRrSqb6+GIXHDuDAgQr60xkYNDQbTU31aKipg7eLvBdPRUzUFL5rVk1LWgLtVdi4cy/ONblx1fw5GJJFQy18Td165iYF70Rrmxfnq6pQXV2FZuoH0To2cYDmz8xTaqO8pDQNjcVh5qSXAlaKHHuOKxV+iDLS2NKO8opaNFSeQ0tDDTq8bI88KiXpFjOQ/zsam+nM0BAw4KtnYF1z/hQa28j/vB0fn0T5pzwqANITqhgvvDTGZVX1qKxpQnsL+f/kMezatQfdCdmYc+WVyCENZGgMZsbQhfG0fgw9BWZSh32PoZ6qrSzFhpX7MHzUMAwbOwQHDlVh0OB8jBmfw3IMuB0+6ogWVNd1wkuFr6V5cuaclCk/+9hEXHxmwghoa2tEfVUFKo8fxdoNW1HjSsGw4UPgIh/U1zagpaubwa+bbpsPzRVVWL1xF1LIezMXzkFHSwXq6dx5WwII0HDGJrjJp52GrjJkOurbOlHKQK2xuhLN9Y3o7AwilbyvoQlQ97vY0e7WDgbePvjYTktnOxqIT1NtmeFpJ3VKXEI8+yUnjnRgP6xDBAo7COFfKyUKUXgvkFB5KQsVePWZF3CwpAXX3fdp3HvTNcjMzsSQMUOQm+bCjg2rcKY+BtOnz8bAhCB9hzY0Ue/ExMtRot6lrPUE26h/WtDc4oeHTrOLvoZxygJdaKWuq6muQXl1LZobmuFvY/CRREmSMErvdHvRUd1Ah5S6jz5GZV09ystL0dzcQp3ogSfeQ93QA19XHWobqZdKqnFs007sLCqBa9hw4phIAW5ATWMd/Kwjjj5KkHbK392NOvpDDVWl8NFHctN+u2hDPAz6mINy2WMmU+prKtFYdganTxZh075TiEnKRm52AXwttZS/KrR2+ajaY9l+u/Gb2jroZ8SnSFubYEtPCRwMPBto+ysZkLrcbuoey57LcTSC+qEH6vLuDpzcuRNHS2sx855P4JoF45GTmYORo4YjsScOW1ZuRiN9qUmzpiE1MQZdzfQbqfcQm4EO+m+1pWVo4lh0dXUyUCWP0FZadAqivrIalSUl6PBzXGIHwJXoIY1JYdLPxSDFFWIkS15yODvMRLSPdZSVlnM86ml/GtHmpd1j8BtHP8AsjVNAR9J7A0GcqaxCOXVpe3Ml9WsHbXSK8bf8WvlCETAPByLGyJzZl+aXepwGyO9to72toL/ZRTsXRG1VHZpKG9Fe30VDGwt3QjKzs336NTFaccKAq7mlkzavBnXko2byp1Z0xSYmmckE6XJNBnS3VKOhsYPRRwpd4DZUlp6hzaF/3kkr7o4zEwyGl2jQZf+08JyMpf+Gt7R6il4muyt/k/XSB4inDGYMyEf64DRUnTuNo8UtuObGj+DGRVOQnTEAsZ44+OlnNJF+jWeLUXb6GDbvPoZ2pCBv5BB0djejubaavrGX7XsQT5kJ+bpJNzf9gQBKq6op07WU7VrGAV2IZRDYo/egiYC3owmVDRwr+mztLY2orjrPgIt4B5y02dWobaKscwzjYxnI6cmkOvIHyIgVUEmHsbAZQJ7LmVMQYGacu1uwZf1mrNh8CItuuRWz5840S/vM+zqeHiQEqrB+3Sb4U8dh5owpSHY0Yv0rz+OtNatICA/WvrUJr7zwElZuWoE9uw4gLjEVecMLQDNs6iguLscLr7+GZ158BpvWb8GOLRuwces2dLkHYfE112NCQRpx6USgs5tOxX785re/xNrlL2LPxg3YunU7/Iwo8wYNJiHoCJBAVaeP4CePPYbisjY0NrTg2d//BstXvoX1a1ajmIFhelYuBmRlGSYQqOv6o66bAEps0EtHXrP/hXt2oLDJj6ETZ6CrpgQ5Q7IwdPRI+mRB7D56AMWNNbhm7mLkUYduWv4sfvA/byIuazxGj8gw0XCPrw3rVy7D719ZhYTUAuTFBbHu9TewfusRlNWV4dU3XiBt9punJzt2bMGvfv4oDhwpRsHIacjNiMc5OlQ7dh1BxqjJqGpqw4tP/BZrX30NuzbvRmwSneq8QUiIU5QdoMPahm27NuOXv3kOb7yxHts2bcGWt1fSpw0he9QIKgwP3HQovRSYn/3qSby54SCdZWDV6rfx/MvPYcWyF3Hi+CnimYfcvFzjUIov+gdRked/dtB4hX8l1VZA5UcPlcPmDdsRSB/KYHwGslI04x7AudI6rN15CPlDC7B43kwMoHMZ8jFwPXMcv3/+Vfz6yaewc/dWrF7+OvYePIi0wcOQNjCbDjiNHOv3dzVhx84d+PmTr2P5irXYs2Eltq15A/XkibgBI5CVkQA3FUEbA+FXV29B5tg5mDVnNgZRgdefPYtf/vQJ/PTxF9HQHUB+QQ6yBjC41VShnqBeJKAybijpq3/WOjcGAA4vqs+XYfPGnUjPGYGpc6YykBJz8ZaK8rShoZ5OyPN44/knsOrt5XjupRVopdIfNWESUhkUymlvYAD5+huv4qmn/ge7tm/A4UPVVETtKDx9HJvopOzcso3Kpgljxo5GcnK8mcVzycPWO3idNdi+/wgqOuNJxzkoYEDFXlA+aQRkWOjo11TW4JnnXsWvHn8OW7ZsxjbSqrj4NBIzBiKNhk4OtitEXIzjwiPMR3bvrWdVlmLWEWSd1ZUV2Lh9J5569gVse/t17Fi9CqvXboafRi536HAkuKlLutrwJvu+7K0NaPc5KPMr8Mrzv6ZuWoGTxWV0xkYjMz2V48lKY3xUsJXYvX8/ef5tvPbaSmxetw47Nq1DUdFJDBg2BYuWLEFGHIMQQ1yhREsoWvP0goDKHDQavO1CB/bv3Yvjx5swe/5MDB2RiV07TjLcicesq6awrgA1oheFO7bhR79+HR2hZEwdzwBJYx3oxukdm/Cznz2O1tgs5OYPxM7Nq/Dqs0+xz2/j0LEzONkaRNGZszi8axvpuglnyA/5w/IxaGA66shn67fsQc+AgeghX6x+6yUsf/ZJ7Nm6F42+BOJSgORYjhEdgZ5QDM6dOofn3lqBx597HptIq63r12H/noPIzcxHRnYOYmh4g/5GrF72PFasXcMx76BsHMayp5/FqmXPYf3a5TTYqZSpUXTstJWwSNTHt9Y/Af/aBBNEnEYhCu8EMkiggXb8IH75qxeRlD8dN917L3LpzDo624wY5qbH4MzRY9hxohUTJo7FwHgvnvzta9h7+BRGTqQjTf3ucXQzKDmL3/7P77FnfxHGTZuMJE0S0ZmtLSnC5s3r8dSLL2H1qnXY9NYa6vMNcKelIn3YYBPceNo68PSPfk6H7gBqWjvw2rJleP3lp7B94yacP9+EgbmDkT4gEWVnjuGFV1/Hi8++hiObd6CIgddpBjfH9u3Dvu1bsG3nNng7Qxg5gvo0IR7nS87hpd//Hsuffwqvv/4qXl+3Fa6UERg5LA/J8jxpyzQR9day1/HyE7/B9m07sftYKSoaunHqxCn6PauwnXqqwxfA0KH56Gqtxm9++j2s2boPIybORnpyLB1FKm3W01J2Dr/41TN4bfNBs1FNzgD6SLql2Zq/BDnUEz1fJ0oPHcTeM+XImb8UY4bmIDHIQCCGmra2DfuoE9vY3YXXXclAswvr6WutXLEOVS3AoYOFeOWZp7DujZexcuUqxCSkYNiIUWb8fR3teOuNt/D0c09jJe3Ns89vRG0rMHbKSCRqUwpGHyJzDG2Jw9mClvp6rFu9GY8//nusfns11q7dgkL6tunpOcjLzrTGhLa8paEOK9evx29+/yRWrXoD27eswtFDh+B0pyE7Jw+JDNisd92sqUrbz+odrvBJj5bF0SdoqDqKF177PXYe2ofzFdV4i/Zs9SursW7tTpRVdyI7fxTtuIvBB9unjS4trcZvn3kFL7y8DGtXLjev7lSWlyE+LR3JWdm0ueyXvxOHt6zEs6+uQHlLEEf27cYLT9LnXLMOG7buJh28GD5yDJKJq0t+DJFiqGaCMfkCutZ7WVpaqVURhq3VHycDUHkM3VU4tn8vdh2qx5RZV2DcxAJodYPKdna3YfP6jXjxd7+hPV6FPUfOoqiyHcUVVdhGmd2yfjVqG1sxYkgB0hOoE+ibNDU04tWVa/Gz3z5Ju7QW22mvjuzdj/ikNGQOHQYP+f3k4e341vcfR1WDH7u2rsEzv/8lfAzMqisa8cYrL9NneQqdzjiMGzMOSbZ8hGOEDwIxX//q18JPqASsQOExiaR194qoA231WL5qLQ5WdOCGO+/BsGwGCeY9fTrZrhCVXCGKCotQ05GPebMnY1BSB95+7Vk88fKr2H+iDBMZFCxZchWmzp6IbVt24PjJ0xg2diSGDczAyf2H8JsnX0BH0I/b7rwVC+degRmTxsLn76ITkIhpM+dgkt6h6q7H+uUr8Ntn38JgBmN33X4jFl6xAN1ePzbv3ImOlgDGjh4PT1wMGs4fx9NPPY3X1hxEfV0jrlk4A9dTmLRs6a031qKTkey4iRORpBfO1cUwzfSjeWbzoppJEGPw3NtMPHfiZLMb85bcAHf3eZyvqsDYSTORSibddXg/Ktq62M5iDPJ46ey9jOffPoGxc2/C1ImZdKBCZqbswPZVWLPzOEZNWYwp2Ql4m/T56RPLkJjlwYQJQ3H+TCmWr9mMnNxsKoU0FJ6tgjNxEKaNzkVTRSnWrtuFc816KT0JS6+YhatnTUPV+RIGWnuQTIEdOnwoXL52bNm6Eb+k0zMoewjuves+LFi4AIlk7K2bNqMh4MbYCWOR5PGhiwHVy6+vxhMvrEYdjcCUKeNwy0duwIiCbBzYdxA79xVj4oSpGJiRYkXrYegVcJtw/0dgWtcQRQRU/rpqCtRmlHXHYlABg8GeFpw+dhxvUsFpZuWO22/DuBGDkMjg4+jubXj66afR5AXueeABLJw/G+OG5+Ho0UPs+2GkDSrAcAaUcYEerF/9Fv7nyScxeNRU3H377Vh8xXQkJrmwYdNeHD5ai7FjJmDgwATUlx/Byys2Y+C42ZjLgC7QXI0nfvpLrF69HzMWXItb9FRpSIoJABwcC3qkxgm1QJ0RWJwo1tOv3j8yQRW996bqGmzZtBvZBWMxjfXLkdUkgNbS610uN53gHCrFSZOo7BISsGNfIZypGZg7fx7SFXz5A2Y5WyZlb/KkYchKT0JNrRNjJ8/DA5/6KBYvZCA4ZSrLT8WgvGw61Vqa56RekaPMYL27gXUeQkmrGwtmzsbQbCug0hpqzYo2lJzBE795HAeOnsLCJUtxz923Y+KY4QwGjmHXgePIzhtGmmaZJzJ97KOL8KkBXciYUBZ5tDY14MzpYnQGQpgyYwaWzJ+LMfn5OHr4KFbs2IcB+UMxamgutPBy9fOvMEB+EzsOncAsysgdty5F7sAB2M/xPFfRjbHjZiAzzYlgWwPeev0FrGBwOmzsVFx7zXW4etECBhPJaGRQ7ho4HHMoNznaaIb6sMe8tEwlS4wMdmF8TUAlAuipl2jlb8Ibr69AbXM8rrn+KspSKoqPnUM55XYS68uIdxDPThQf2IXn39yDjILJuGLGSAas0rc+1BzcjmUrtiB26CxMnToaeZmxGEV9N3pgDs6UVMI1ZBzuf+CjuPP6JZgxdRrGT56IgoJ8GgA/msrLsXrzbjp0TUjLHYg5k8fghsWz0NzQgLWbTyIxORETxzPYIsKHj5zEr37+FCrb27CEdd163XWkYR6O0yhv33QAaVlDkD+SwW+oFuvWLMNvf/8i9p0sQW7ucNyy+DrMnjwKx44exJ5DZ5A7ZCSG0wm19YEMo3Z8NJSyCRUNqKLwQcBXgzN0gF5bcxSj59yIGfNmawUQYj3Ud/4G3m/EUeqTPYXNmDR5NAoy3HjlpU2obOjEFdfMw4AkDzVrF5rqzmH5m5sp+x1YsORKZKUmoKWuDmdPHTZLvcZTh11Fuz120GCcoAO2+egRZE8cg9F0bGNaKMuPP4cnXlmOE2XVmL94Hj56xw0YmJyCbRt2oaaxA2PGj6U+8SCD8jlt6myk+hw4XlaDCdffiE/eexuunDUDM2dOx6TxE+hYpyNEf0Ez4Hk5OZTFUUYWN+8/ivzRMzB7xhgk0o6FenyIY2cHDszChNEjkZ01CMWVHRgxYRY+9an7sJh+1CwGh5OpC7MHZaLH14R9OzZg4/YjdPbnY8wo4k5dSO8Zh7Zux2+fWobUYRNxzdVzMTApztgKY2r+AGfx8gMroDpLvbXvdCUK5l1LfzEHNM0EF2pLq7CJgU0c7d3VN16FWGcHtq96Hc888xKOnKnF4MEFuO3ma+mnjcFeBsC7Dh7FMAYKQwtIQ/qBSampmDBlNMcuCbt3l8Adn0q7Ng2JHEPR0E3d7/AEyVOn8eSvn8fb1N0z58zBbXfchvkLF2JAVi46OrvoQ6UyqPGgrboUb7/1Bl5+azmmzJyB22/7CObMmIyy8xVYvXYHMrJyzAoEmltTv55S2dB/tIx+pc1oqDmClxiYP/XCcvrNblxz5VJcR9vrdnuwasN21LXQbk4eiZSEEMoKD+NnP/8NCksbsHjpdfjI9Vdj0sh87N21DXuPF2Pg8HG0OQPgCnbixE4GKI8/j1W7TmAw/cvbbroe8+bNY0DSgrWbtiI+IQljRw5DnJbRERetvJLV1pNh4S7rrSdeet9WtFSnQpr11R1vBU4fP4bdR1sxacZcTJlUoN6wmF+rLJGWnIaRw4ZiRF4GShlMpeVPwH1/+yncdP0izJs5FVOnTaOfk4V42k1vTS2ef/ElvLVlC+ZdtQQfuekGzJ4wHlUlpZSJ3UgcPBI5g1LQyLjgJ798DgePFWPm5OEYOCAOO7fvQGt7iD7PJFRVleFsixcjR01EPv0AIx9C6gOCJowjgJTgf01IG0+hJ4Cgz4v27k44yFxxKQP0UMo4Elq600WGTqYyy89JRSMjX0ebl0zmhzfUAReF9wp28O777sB1tyzE9dfegGuuuYZI9qCO0XxXZwdWrVyJqpoaLKVBv455F9LpmH/tEuOEuTkweuFNbkz1+XM4xCg+MycXn/ncP+DapXdh5qKbcd8nP4n8wbk4cOAI62kS0nA5tLAoiLQBA3HzR+7Evffdh4WL5uNuMvnIEWPYdgM6u6zlVnbf+0hgE1F3TQ5eh8xyKr1YOmToUIyfOISOx2EcPlAIH//JoY/TelrmD4bakEQ/2e1KJDPFi4JMZYLee+rpMu949Dj1IngIbkbBQTrAQ0eNwBV0/oJ+PUqNxUwGlVcumGtKnq2ogVdrXumgdHl9dIpScR2F4KYbrsEVN1yLBx64HT10co8xaGjzhdDMAHLZ66uQlDkKf/e3X8B1S6/Eovmz8Nl/+RwFdRCOHD6G86Xlpm4pbtEpIS4BCxYsxkfvuQdL5izCHXfeQSM1CbW19eikMtDj4A8H6CmB1iz7sX3bNjz0zW/iC3//93jwwS9jy6o3cfWUkZg/bRyS9HiVAfvOnQdwvj6IG+68FzdcswSL5y3GrXfehi988qNwdTRg84Yt6CJNq8+WY8v2/XTch+P+++/GDYtmYc78hbjr43+DRUsW4czx/VTGR1hnD5wxHsQmemjLmlFbcQ4/fuzn2LbzGO79xOfw7//v85gxfghStfta0E9zR9HTYuowm70DzMSGbpIhjWLtQSBg7Zan95HMjI511/rD6xhGKqMmjMO0RUswbz4DhNzBLGqtCVZVTo8HCYnxGD1yHObMWYqJk6ZgEI37WBruxQtnYDEdjMWLFtI5GIOEBOt9Q+kC8+RWbZAXggG/4Qmnpp0IemdBBkAvuh49dAC1NVW4nYHrP3zh40b5XXPD7bjx5lvQ1taBYydOSWIM7r3Aeu1LNWFUjzbPUBBDCUpIiMX4sWPMpMwNwm3+Ylx5z934+89+Gt1trSg6e4ZyJ12lwJJHyIWrGSDde99HsWDRTbj7trswKi8HRYWHqJyrVDtKTp7C1nXbkZQ0CLffcR+WXHkFZs+ehUVXXUkjO5j9UyCpIF3Vsk4FC0LuYqB7mnyifDdW16HkbCXcKanIGjwMyWkDMXJIGrwdVTh1robSJoOiV4C9pJ+bvdMTVPVZRNaL0J1sV5ucxJHubo7fCEyaNQ8LrlyIDDpkQ4cMxaIF83HFzGnUafMwa/oUDKCDZ9DgQHVTV8e4YzB71mzcSH07Z/7VuGrJFTRgPmzbsgut1DGd/jps374Rp85W4+abb8XdH/kI5tMJuPnO26lP7kBdTQk2bFiJ5qZmuBgk+hiEO2KSqaOuwkfv/Siuve5KXHXLR3HrzR+lsfSY9zukITSG+maZ3v2zws7IIwpR+AAQ8qLi/Bl0hTxITR+ERJpQ85ze2KIO0JMy70fEBLV03U++C8DjikN8fArzaWpNuqOLefzm0xVauB2rpTxMTUpKxJhJE7GIOn/pouswe85cXHf/vfj0xz+G2vo6ymkJy2tjAT1Nlk1JxILF1+KuO+/E3DlX0wG/EQV0xo7sO4Cz5Q2U8cF0yGdh3oIrMHrcKPpDmRgxZhyuWUxdSju+iPZ8FB3PWOl96hK1P3bqNMy8dqmZ7EwbYL3fyluUIUteYmM9dOxHY/qSJXSGqaOzB2H0qDG4atEEXEldtWDJNRgzcgQDTDfSszJMWk5mKgqPHkWHV5RinNFOv+DkOZqlWNxxyw3IyEhBt/HpeNNWuB92kOGhzeuijtKqh1TqowQNsvQq+1pSUw5vnAMzZk3HgMRYM7mtMZXvNWfuXNx1z61YRD16FcfiNtqsUCCImqpqBPxBuOPiMYrjOHvODFw5fxJG5OeybCztnLw649KZJfEasv37D2HLjmMYN2Ue7vvEx7HwqoW4YuEs3HTTIsyfPxkpKbSltI8V9GPXrV+HeXPn4W8/83dYOn8prlxIvXv/J0wAtJ88VV3VaLhAk9jiiUuDbvqYLwC/14H05BG48br7cMcdd2L2VXPwic/cjHkLJ9M3OYBzDCxld4qOHETJmbO4/a678PEHPoKFtCVX3XoXbr31I6goL8Peg8eNfdb7YNrqTO9Gj5k4FXd89AEsvfFmBpPX49prr0VWRobJH9QGVuHoz7AVEdckwYUMxmvaNvXFvNvsINFoo8xDIPoXofD7ZXbsqPfO8guGYfriazBr/nwMHDgQ+fkFmMMxXDB1PBZfMR9jx4w2r6moUCHjgl309+ZfeSX+5uP349oF87D4xhtx1733o621A7v27kNzewvblx8dQmZWOhbOn8tgcCga6uqQmZ1n4o8hebmoqm1EbZM237Bw+UPA+C/vBFGGFKACk2Ojb9HoRTWPIvPwbR3GcNKAWv5eCH4adO0w53E7MXrMWCy94XrkDU4yNNU2zHfddSce/O//oiMwDbXV1ThLZ2jo8GEYN3GSNQR0SuBrYpDQAnePF7EGux7zmLzo9BnkDR2J1u4gTnAwz1dUor6xFfFxcSg8VYxzjPI5wmSEIOKpaObS6V189VVwxycwvRspqcn4zy9/Gf/8L/8flUumtURFeL8XkA7a8jxIZkhkW5NnTsaQQYOwZ9MWVDXVo4dOvHbNoy/BbioG164tmtWnMlZxkti85MagzOXWTjviA6nOHkygspwyfQYSE+JJuy6kpGWgYOgIOCl8ATqu3T16sU/+pReJiYmYNn06xo/Lp0JgIgPHgqFU3kMyUcMgsbaxA9VnKlBR0oSUzLEMhJ0oLynB8fN6olaM2LgAzvP8zNkSFTYM7SddRo8dzUB3KbJSE43Cdbli8QkGqj/60fcwatQQCrq0hmjFPoQJ9n/9dOri0EMlpxW7wIwZM/DZz30OX/ziF/GlL30J1y2YiR3LnsGyZ15DY30ALTVncPTYWSQOnIhhU2Yah1BPb0TsKRNGYWp+NsrPVqClOYjSorM4fbYKM+dfR6U6mBm1Np/OZlIy5i6YjYGpQFX1GbQy+ArR8dQy2Yozu/GrHz3CQL8Yd33sn3Dvp+/CwEzSkUGsnik56DD7iWtYl7wTmC4H2V6WaoG9nIqDL36yx8DktZbl6QVTs0tf0Et+8tEwcDzdem3aafhd/ZNPos8UyEURz8oJ1pp9BTlyQ7Rrm8+Qgv+YJj42jZiD9REna30xLwmWKmW5jnYcPXgA3d1dGJidiZLSWpwpq0B19Xk6+W4ziVFYWIyWVqve3ir7gZKsJ6JSzNQ5lN/UzAx4vR0oqixHSdFJ1J05g+6uNiLvR2NjEwNfmgEqSxmCUWMnYun115r3GQUxPW4kx4TYzxZ0BaxJl1LqnS7N3E1agMyURNNvjWt3d5uRO7MRRiSv8/qiyBK0257l7nXhyOFT6PbGYuKMccgcEA/EZmLG9BFIifNi/66jDGZUQvpAE0XSARxTQz7VzRCbeMrpcrv0nqfdHnWBr5vdC5r3L/S9KRXRpJ90iVonkiyrF+7dGDZ8JMZT9ybJcBEnvTulmbzujgC6gx7UV5ag9MwJFIychMnUPx7W5jUD4sbUqRPpAExAY1MxmlpKWS9x7ElBdvpELLn6eozLG2iNXbcTS6+5F9/4xsNYQEdSPobIpAkNHaZLNlxwEYUovA+gTGnX0BCVlivGTR1mJUs2DKPp19yXZtM38ChV1GlmIwpnLNPsAnriQxlj8KVdayV+sYnxSM8ZRH3UjdOV51BC36KOTqYm4mSn65tb0RnSEhzaa9Y7ZuJMLLhqCXIHJLN0EJ6YHmS4qFupzzqDsXQ7JWfSuc3Gnmr7Ii/b9Hotxje7kQltqhD5BUYgmA/ebvi06xv7IbTNERYWK7CiUDGPl4flg9EfYDHRpcfvg1e/7KnTHY9JDNDGjRyCs4WHUFZRy7IOnD9zGoeKyjFx+lxMGT3E0MjsYGx0t+r/S4AeBKj3taldoNOHjnNVDBhqUVFVgs2b1uHl1W9j8PRxuP6mpciM88BD2xijVx8ys7F40WIMzx/I8bEG57obbsIPf/ADXL1wIWll0d/azKAFjkAd3IFueIJuOH16q1jjxXJs19vRiiPHz8MROxA33nk/HfYBLEd7GuikHwxkZqaYScGgtw0nTp1ATU0tBmbloaWpEyfPlqKqogw+BkRaCbJv337ay2ozRBZfWPxgeMHS9H3AfhtOIa+5HRkYO2Ix5s5agjjtPOKvR3xyO8ZPzobX34paBg6tTU0oPH6MwV0yUpNjUVbTiFPk+9rSs+a9qta2dvrj5+hfiz1k50O049lYsPhqjB6nzSKIVMiHadOm4utf+yruu+cu8w5fL/Ti2h/C6aRpr8/CJMUT6p/u2iWtc9lH9o301oeude6TDJD/La/Fyi1fGpTBkqJTtFeN5vtgot3J0jJUlpSho6OTPnMS/bzjqKmtYT0BjkcMZs2Zxbx5CPm7TN2DBg9FcloKfe4utHT4aCPZyv9CPPpZP3ba+A78w+hRhzZ9SKHz6GhvRx0dGm0NqSLSDXEs7m0F6ho6kJ6XoU1t0ONyItEdy4HVS+1mbpuIy+GLQU72QEweOwKDklPQ0dbMCJKBk16c88isExiMyen0aMcSKilt9ykl1kynqbDwJNZv3IIHv/kIvvjgQ/h///0NPPTw97BpwyZZcjbAg0xIjWOcIb2Eqq0sVV7IumM9dLYKMGZMPlKStbuJ7ll96SMgr3oTwofDw3ro4FCpaf31KDoic6dPRmXRMRSdOkclJ8YPkWR0lZlXDqo7hpE4hUpVqRbt++KMiaXj4YB2jrO+O8MALSGRwV+8kQ23YTg3nc84eBwBszOQduZRxB9DJR4b60YahUGmwmJDMpjToldHRxeaWv3wtvvRUt+Bl19Zha89+A088tBDpNc38Y2v/gd27Nxg2pRLLjDbbvI6ng6Xy2X2OyNQQdMg5Q0uwIzJwzEgLUJgPgTgo2OtDRokXFcxmL7umpux9Obb8LlP/Q1yEp3Yqhf7y2vRVHmGwRKFNDYLIbcJUSzLp/dLaKxi/XRcW7yoqaKQ1dehra0Lntg04zhKsekJk3ZvstZ8taGlrQ4tnVq3Tb7i+B7YuZnHVnS0d2AgcUlM01wSWZQjoLbkBtBFDtP8ImAzjgFdWCAFJP7SA5le6FVkCigVhJnemMBIDofy630lJUtP6dATLmETDOhJEB0HKlQv+dg0yT+q0bj7zKeAwewmZCyylCB5nbwqUVM+PQGjG20Mfl1dLQ7s34/HHvsx/uvLX8dXv/Yw/uNL/4Vf/+q3qKyqNLPEAbYZRvGiYNUvkbYyheh0nDh8ED/54WP40n99Cd/41kP47re+Zb7hUl1WQgeHMiJ6MLvTTTlPTqaMGaln39gd+jpxPX7EukkPNx0TUr6JePb4nIiPz0JXL3m1HNIKYkXSAP9EkvlSYJ7gshF/ez327z2C9g4HXLEuOmsNqC2vY4DVgo7GEpzatxfVtS0sEUe5JX7kMW2la9FCxAwgQB3p8pCvOCZG9RnT7TGTUdotVHmtpZAW9A49U3yMgkWHlNQ0s2uoNIxA25g7qFe1CYWemrc1kv9rypCankXaeUi28ISYOJR6Ky7RRX5vQmc3FTvdwwRPInV5OvPEmcDT0IQFkjLTGICNREFumpngMVXoj42caZ9H73UUovA+gTyXmV2A+JgQGhtq0E4nT3ZP7xqanYCD2smLabTpzhjtUMtrh5fyQa6nPtDTf8sZccPvI//T9iqokbz0dLfjyK7dePR7P8T/+6//xtcf+hYe+sqXzXf7ahsbybF0GmjnpQ9c0gfJaWYlidhYHB2ioxcf6kCsJlljNAmpdEpFsJP6xmveHXESOeOUh9nfyCn/WBpFSOhXq16of2mH9VI9T5lXZWKMnVEReFxwx7mZx0edaCcSWLddm3REesFITJ44DvVlp7B7+w6TXnjyDMqbvVh0zbUYmBIna0WQ3hZSdkUfbqA1osn2wE1fr4qO9LKnXsC3vv4I/v0//gOPP/k4xtJPe+DvP42hQ7NJbvpRpLWWcGtzEu32KH2mGBN0zjPy8jBp0jjkZlOfmUFT7Ror8lWwFR75pfquSsDajMF8OoJj2NbRjtqGTrgT0pGSkYMmJmuzeq1a0KYjsiPC1EuF3tjQgKrKavz+98/im9/8Lr70RdrIB7+N7333Jzh1qpi+i74Fqak21k8dG/mqhQW6Y9VnDJva0XvYoWTEugaSXWQvCBIWdyc6vBXU403o6GxHV7cXp/X+7aH9+M2vfof/+k/6hl/9Fr721W/gF79+nEFJK5LjySX0f0LEVX2Mi0+COz6RPG1qZZtOZDD4mDBqMEYMyUasdkg0vCzOskElI/FWHsoR8XYzoNFEBSMlBPRJD2b1xFn+l6mF+UxZ00U9faYk81ITGx7+UR5tR69cJhN9Dm1od6q4mPL7c3zroW/jy1/+Gr723/+FX/3i5yivrODQUn4oz3qHSztca4WONqOQL6ZdOrWroWyvm/LlpO0NUdbt6v8QYE/tkhYR9GKZzg2d2GMPo7xBWdmI6+5k8NQAL9vvZpsGQaLV1Z6A40V1iM+KR3ymttGlgxbQhtHsiGEm1Un6yCkgQyvFSyZVJ0w0x4aMg2buiFFC6PZ1w2t27xDpiAMHQo8ZZ0ybaZamPXDfPbjnrttw33334d/+/f/haw/9JyZMGUHKa2bZzYOEYj1mm0yBn7Wzal2pFXbB6raa46/psek++x3uvzlYj7/HY5YeCAcXmSHZnYkpY8cgprsRm1ZuQDMdb+2QImYIBq1vPfj9rUjyWAt8TE0MyEJ0Zrr8FDXSxEc66NsWel/L7IPvpyo1jxC0LIBUZTsSK31AzUTWZCYXnXfRVs60nE7VrA/EnSmtMo5xenI86aXt1V1YsmAu7r//Y/jIbXfi3o9+FLfdfS/+lcbjKwyspk+ZzLIqrZ3mRJFuMphlgjRcPSHiwPr8bEMY6fiwQJCOqJ4uKPDwUoFopkiGcdC4MZgydTLaqVgqKssxIDUJ8XR6g1QcisOtpzeGK5jWQyXZTWfTyQA2BvGJesGZtCIPyXGUc6sZT81TtbS0oLG9kUEpr+mMBsnXQV8IM6YsxH333o/Y+ACWrXgWR4pqDB31BCnAoE8spoBZvPHBQPytoFe/4SQB+yveMKOlynmYp3XEW4GPdIY4RjiwOH91JiVjZTdBk6mDHEi85LjbRt3MkkkJst8yPAHS2OelkVFZ3rcMhlWRxxOLESNH4eZbbsbHP06+u/1W3HnXPfjkJz+Fb37j6/jYfbchLckySFblqiEShAMdBbWleqkwT58oxE8fewyH9+3H1QsX496Pfwq33X8/rr/leqSlpRq50Yo7KyAJoIt91bcmTM1qg7zsppEw8aAu6Zz4uzvg79JTOWLCdGUTbdWk16tlFHLQrDoMVUwEa+W6EJRmaqVBqsOBwyfMVs6//OUv8Xdf+Bf8wz/+P3zvBz/Bob3bUHf6CKrKxQfUkaSxmwFevHblNIjKm+pBN5V5B/nH6adOETsaTSUcxSuSRy0XZGDIVOFlj4EWnmsJoWRaSyr0kNK6o+/OMJV1m89KOKjHaGASzMcTZZg0ly8ToBq7GOB3W0FfTyqS4gbyl2PNwEofTXQwpziMYmBQ0kG2MWDoJFLwkOE0J+aiN9EC+zcKUXg38KQgJbMAybShTfXn0NzZaQKCWCkmpJAJY1DXUo8BOVkYPnSYcdD0uRCnUwGN+Np4lOT+eLIf/RBt708lqJ2Fj+7fje//4Id0wkqw5OprcRv9ibseuB/X3nQdklPTyfJ08KR/qCcCDNA6KVc++/MtlADN3GvCU59y0ISnBRQE2VKKazDEECvQYdoyTocRDAvkDxl9on5Ix9BfsW051RRB6Zpc1joGnhOPgL+bdq0bSbRD8petJbVydSSTDOron8AxAJOnTEAG7U3hgZ102utw/HQ1XCn0mWZPoa2TP2Y5otq9Vu+//yWANLToqW3u09MzMGf2HNxOmyOf5+N/8wncT/9w3OhRtIXMy0NP+vUxZw0U1ayZ0JROM6D9za2PG1GHKo/uSC9rxZFu6ytkpKNLO0rzTog+LP0L2Vnt4tje2Uwd7A9vl69xle9Gp91S8MamxDNgSRuQjhuuvwF33XlXr428hzz4yCPfwH/8x79g+PDBmk8zulUflLb4wwbhxUP4ySZrGZva8rNR+m3C0+Qmj8gH9QUoE+4gEpMSjX1Iow89fFgBbrtpCT71sTtJn7tx85334m/+9gv49qPfwb2334BM8pk2r5LvIF4MUverTrUsO2gmPHlqfFvaXPMNKuFis5T8qHCfTSldKxBlLT36Fq3yepIY3GjDqwBx1JcZw3iTp63aebCoJqdFX/VLsmKyKAdxME/w6Lz5mT4oLxe33XwL7rv9dnzs/ntx13334mOf+RT+6ysP4h8/91mM4P0AfT3j44h8xE+bgqkOedqazTC7GLNZfSfXAMf9DwELSwEbEdFUjVhJL5kZssUm0UkaiXQKZdHRA2hua4P5nJQ0RocX+w9Wot6fiEnTRyMvK02cRkJR2B169G45JdahwTA1k8l6kJIQZ3bd6WxrRUe79gNk+1RS50+exmFG69qqUrM9guycbBTkDkIK899w9RW477prcPctN+AjN92Em2+6FVczgBiQoSU+bIVtK9AIUOkFTMCgOqikbMawO8kT6RU5WlYrGkPRgAwqr9P0n+fOOA44GcDpMjMXyjt21GjMmToex3fswtniMnQ79ZSJLraDEa47nvxFGoWajBFQ/pqyWuw7fAaNrV2skoMq2pG0WsYTQ0HQ96S0BhgMBvVYPsY8AWE+MpR0r3ZQ07I/IS6BNduesoJTp2vQHkzAGCqN7LQ4JGdlIj0zAbkpfiy+5kpcd8uN+OjSpbj11k9j0bX3YcHMCRg8SF+Y5wCGSCdvFxmVgavTmpFQrQ4yv5wyGQ9RQ/h/OEAGymWeUukpTXw8x0T9ZK+8bV2o6iKtE0lnBj+pOXlITXagrfYUWqpqzQwIEkSBWJTVt6O224FxY4chb1AsEjKTyHdOnD28n0pTBpUKNSYVIS+dTzrIgbhUDBk2CoMGJHMMOxD0uzFyzCI88Ml/wGc//1FUlu/G00/8FoVFVaQmFQudZhkBi7suAZckenhEpKfCKdaldWXERUxNXlVwI3qI392MBPWs0UzG8NdyhHsQpxleJra2NiOZ/bfcBuYjYpRWU1aP1jULqEQFWwrYtWWp1u8LrMCDtI+NQ8GwoUhJTcWYsRPwkaWLKKPX4SMfuQ033/gR3HL1VZg4cggDScsMXgxs9K0PbpMD6SidO3MGe/fuwxWz5+LTn/gUrr/mGsy/4XrMWjAHSWlp8HXqc7UqSeff4Ucn5SNIPEVba407g2ZN/wYlcIl0ylKQPTCLRqgLZRXnTT6V7mKeg3uP4OTJU6RHG1OsdKPBDGF19AMmxVApBFnX6aIiBNngTbfdgX/4/Ofx8Y89gDvuvRef+Ozn8IVP/w0Gurpw+OBhNLJYDGkVr5dRfdQTYgT2oLGlDntOUkd0dCFOk028LV0kntQTbfMdGz22oiEwfSOhpLsMJTUDxzr0FDxEPSIDpDz620PrHFRUTUfCzSN3UL55Qf7kkb2oLq0x+VxGn/hRVlmB8+VtmDxxCQakDGFTAfI79Y7qZ72igGLQHn12wGUF5AYXHsLFfD+IuMtMiScNbioUeUQhCu8FjhQMzB+HgkEZOH/6IErKS0yIRKYjk8XiwPES7C8+h6EjBmNowWAkxMaTT/UB8Xbqfk1ZEIJunDt4GidPlKCjm86UkWHtlHcUh48eN+8Efor65LbrrsOiW2/B5Nkz4NbnJ7wMmMTR9B+MPqGA+u01h3SgtTmPpjV8dBRlq42KMZxO+aQQxGiC0ttImWKadKbkVNVJT/IwmkmKmM6gKcU8Wn2STPfFSJiK0Q8wfeW13r2Squ3qbJToQ98H1BpIS5z4l36WnNaRI4Zh4ezx5tMdq5evQ1VbLGYtugoZWQnMScfb10Ua0jcjjnIc/xLA9F+T1BzfzEE5mHvtYtx2x2LcfuPtWLLkOgzJzIG+lSy/n0rMrEAQ7WV9xQ/yDo2XI94wh/lPH0gjY+lZfZ/Q6Umny0QPNZbOPcdCI+Omz6c82j585PA8tlGPU8f3Gp/PRQ7Uu3da+dHZLf0L2tokDByYY1Yl5ebm4uolc3HXrdfipo9cj1vuuIlB1mLMoE+ZnMzgx2qYfMAT4WVARluHcCNI15LHFKBoIjckvmP/TFFnOhobu1FaWomC/CGmveSUVGTm5CAuzo3xIwtw65IFuP3mG3DTLbfhpptvxc20zxOGUZbM7CQDefqHPh7a/txCQe0a79hqw9gUBVSkIvFQHkM2i4ImzQI5HeqHPBdNVvI6Npl2iYGbkvlHJVSnNV0oaeIVZcustqEN6uxsZ9wW4EgwH8u7iZMmpx2J8cimzxGfnIyCnFzcet1S3H7DdfR7b8FVN9+EpddeiflThiODAaX5YLGCMKKlvQzk85n3pPVEygSG+tg9u9RLbxv/Dwbqh0UDgqowdNK5vBGtw4/xYOyE8Zg5bRw2rXwTq5e9hqrq8+hsrMT+7duxdu9ZTL/mDiy9ci4yWJGDUb7eZOqgERazanhUsXmEKSJzELSVYvagbEyZMtl8L2bL5i0ob2rGocJirNu2G2er6kj0RHhNtNiDUQwYRg8fim3r1+L1F17FubIytDU0obm6znxYt6qj3TyLMEDlonXXIWeQ5dUT1qEZKvZF/ZPDpg+GSS/pXPXryUbfBylFEv2Gz2O0RCeOghFgAKJYGkjLHoQli65EcqAb+/fsR3FVOweHipPCkj9iHDIZ3BUd34nSmnKUnTuPN15+C2vW70ZTu77ITbrwCFEx60Nw0m4OPxmEyCno0xMSrR/VKAQlUMRL+WLpuLVq//zaZnQ01aNo/1G8/MpGJGSNwhXz5iAjvgeZQ/MwfcZonNy7DE89/yROVbWgtKkFNQ3NqGtoQXM321M3ias+dOgmEfy+Vrar2Rf2lk07tF5KuEAbd/RS9UMAFEMOqD5c19TYhOqaGrS016Oxpgrb6CiXdDpwxbV06qeOAVIycNWiqQjUH8PyF57GuZIy872u4yeP48UVm9HoSsHcBbOQFOfCoFH5mDhmMA5tXm12CyyqIR0bGlC0Zx92bd2DgknzMX7yDKNQ3D3WU4+OYCI8yTm4885bqdzn4tSRNXj88d9gx/EydPYkcQjirKUHYczfH4h7LaUQpGOsWaxwCtvW6FHuGIh3NDeho7oS9XW1aO/oQHt7B2lBejS2orvDG6H0nMjIzEJWVhbKyypw4NAJVNTXmO8bNTV3UzaYh/KqJ3JdLc3oopw1Vet7aa3o6mKAWtWA+pZOtLINH/nTlZiIKdOmm6WGTz39LN7edABVLR1obm4g71WhWnh55aALVcNgFhr9wJoBs3qmfukJi+S5o60NxafOoJQytHH3Nvzy8V+j9HwJ4t2xlB8yddAHn9NnnlAFbItEI4OeTvr+ISrkWPKGPtYATJ48mUZwEPYf2oeDxRUob6jB+rXUZau20HnxmCBSRtaQSmDoezFgDg6it7MVO3buZlDWQ+N4Gz522zX42N034L777sDN93wan3rgfowflICThcdJk24MGjYCaakelJ0+QaPXRD1RjNUb1uCF5WtR29yKeM2M0oBYps2JxIEDMWHyRDQ21GLfgQOU5zryeCMq65vglbWmnvAzv2ZFfT5rsZ+FO5mE9/WBdBnnGK+XAW8Wpk6disbyU3j+6RdworgWHa3kZ/L+6nW70c6IdOasuWa5bw91kbuHv349zWU9qtFBY2smq6x5RbMRiA62KGNrtWy1rr9G3eicJLRSoxCF9wI3BhaMxfXXXYOu1jK8/spz2FdYhLa6Vpw9WYqnXl+D1thUXLN0AQZmxCM+Phkjhw6kzivBsWOnUNHgxeHN+/H8757HyZNnqZ/Ix3EO6scu5vWYT7fU0I6eO1OBc7SPa9atxm+efhLlVTWIjYmFUzIVkj4JoIMKy2v0ibhf710o0KIuof2UK2iFWpQzdzwKRo7EsPxMlBbuwqH9+9DW1Ia6xmbz3R99/Fr5vf5u9qMGXTXVqKWN0gSgdtmtrO5GS2ubkV+pG/kTUpBZWel0iLNw4sRh7Nq1E7W11Wiqpy6mHmHWsIzFIC49A9OnjUZPczl++pNfoaTJiXmLrkCCEKRTqicJ+gC4pFbHX4osuqhzY0mrbvatItCFBrosfn0WJuilXQggmUPpkRvFMQrpXVqW0aSTfFOd6zAElzMo51f+l55eBHxo62hEE/3S8mofWuj71bU1oKSyAyUNtHvtmtyKoTOfgPlzJmJguhfLXvwddm47ivqadjTWtePYkTLs23eKNpB2KDYBY8aOw6hRw/Hqay9i5ap1qKhrNhsj1Or7SbVNVp29QDwUNPDfO0dL19bRQ58jNo66OdSIsspiNIjfKlqwce1+HDpYhCvmX4lBgwYykErCJNpnv68Trz73JA4c2Ica8n55E2WKvmE5bbXXp5CGvEI/Qh+4DWqZOBW3oZHAmFUroDKTBDoJp8mmmxhKyt78UV+Ubv3oaZrP325o2lpaheb6NrYRRENLg/k+a3Vrh1nBxZp5EFwxiE1LQX5eLu1TC/bs2YPKpka01FSiuaaBLM02GBiNnzENefn5eP3Fl7Fnyz7KVCNpUEu5q0YV/bQuL7Gh3yHcZKX0XqZWdEketHJDfKCYxEF5l8jpW/bWYtreXn8giPn617RtugbNdmNYFf+Iv/Sip0KiOEZ4wxgJthG7DevWYdvaFVj/9hs4eKgQg6cuxK0P3IuRgwcgweFFoKMVew8eQXmHHzPnL8KwrEyzJMeh5S3Ck4QPkrieWA9y0rNx9OQ5vLFqOTbv2EzH9jzGjx9DJk1BfXc8ps+ci3EF6Yhx+TF48FC0dsZgw8Y12LFxFbasWoU1K1Zi445tFKIuDB81CqmMNtsqzmPTzj2IKxiFWbOmIScxzhIUjr4CFM1PWI/7hJScNoOScd7MuWihE/4X+BkgHjx0nMzahMUL5yN3ULK5nx6fgFYGllsKSxA7ZAruWXIFclJiMCA1hc5DHDZs2YK165YzCNyCZDJz7tACdHqSMX32bIzLjcW+bTvQ2OLAQgVmdNx3bdtK5T0AS5deidiW49h08CwSB0/F9XOGweFtpSN1CpsPF2HT1m3YseJ1bNuwHWk5I3HD3R/F7OkjkeDqgtMTi6H5qUjxdOC1NXuwbOV2bFm/BiveWoN163dQVEK8n08l64KvpR4bGBDXdXXjJkb2gzJzxFdWUKWcdJj0ro2WdfYS4zICg5GYlQJtf9g3RKd98+Zd2Hj0HI6cOILNa5Zhw5q1OF/TjBnX3IhrbliKvMwkuKl88walwRlox6YtO7By7Toeq7GVYxB0J+PGu+/DvFlTqTR8SE6JxfDsDHjbuvHM8g1YsXYDtq1ZjaObN2HExBlYcs/9mDRmEOIDXrRVnsGyjXuQPWYWZs2cgZwkD0YMGYC6+nKsIB8UlbQjL3cUhuSm0BBT4ShY1oyNAXVGoJ7xMOMgEJ/qAOoqarB752HkDBmD6XOmIFGfWtcTC46TlIBeen3uiafx0pO/w5Yt23CUwUIZleWho0exY/1axLvcGEE5MTv0OTqQnBSPxPgCFBaX4eVlz2PnlnWUqTU4U1KDMWPGIJ1y30Karlz2Bp79zS+xYfXr2LLvGE7WeHGGjsr2jevJw41UetlITU5CZnoasgblY9+Rk1izcSvHYgvWrHydxmMljhQWIz0zG8Oo3M0SM8mYOmX956H+86AwmokOBVY8iY9lMNXRhi1bd2PLjr1Yv2sHGhoqkUG5rm0NYfyEGZgzZSwSE0PYun0rzrQ5sGAeg9y8LIp9B2WnBYW7DqKoORaT5l+FMfkpSExyIyXOjS0nTuPllW9iz/ZNDDZcmD5+PB0v4pKag1lz55oXmc00jHSFcaos82b9sXSkFG91xTm89MoriE3Jw/U332GcPK0e8VO/6MPQ+ip+6alTOFTegoKxYzBjfC6cfg/27TmOlXTmNm55yxibwfnj0dnqwPSJ0zFpygg4OL4BOnBuOkXZObkorm/Hxk2bsGXNCmxcv4Hjdhp5eXmU3XTUlVRgy85DSCD9Fyyei4xYzYbTwaiqYnoJUtIG4Iarp8OT5ERuXj55IQXbdx8x+mTd8hewdccu9iQN99xJ3p8/GUmJbNvfiiM7zuB8qRPTl0zBkGHppk5xm7XRjgy+xk1BMMkS1qdh8vCOzozFNWDyWKcXgqoQ9Lup5Ivmj8JfNBh7TL7Jz6euIO+voa5dTRu2d9N2rF7xFu2oC3d84jO4ev4VGKCnBmSStGQ39p8qwssrNmEnbV3NqZMYM2wIYlIHw5GWiauumY6sRAZAzNzQ7MOa9duwe/cebNm9A+2tDcikrqvqCGLqjFm4YuJQeAId2LB5B87EZJmNV6ZkExHqk1B3F7ZtOYTyzngsuGYJRmbLo9BGMW7qvxwkJMbi4ImD2Lh6Azas3UT52oquTj+GDR3OmMuBfXt347c//RlWvvYStu3ehePnqnCeTvqenftx4uBODCCueYMHsfeUr1C32dAgYUAWdepxrF9HGlBHr3z7bTR3hkifYZTTWKlK+paUXncXTh4+hmWbTmD69ffjxuumI4NoO/wMLkJBQ1cvfSTJlFYjfPhlix1n384dOoQD56sxeMFSjB+WhRTaNz3JcCpyDDoZSFFL0Qn1+5tx/MARnC6px4ylN2BIwSDjD2qPZod8RE0mCxxBVJwvxrMvPo9f//Z32LBhF/3USpyvbsAhBuzr1q1nfNCJiWNGmSeGA9JcyB+cgYqyarzx6nqsX70Ja9dsQmHReYxmnmEFOWYzk+TEeAweMhSNbe1Ys2EDVq2kHl+zHCuWL8eWbfuRnJyBIUPyjQ7V8jSNj/0e1YVjJVzprDm60Fx9Blu2H8KO/YU4VrQbm4jb6jc24My5s7j2pruw5LpbkJXhgYc+RDb9mIyMDJwuLsLqNevM9ufLVqzDmyvX4zx974LsAcjOSgW62lBSdBq7imoxbMpczBqfD4oOcVCQQVpKMRv8eK2HFrrWwxf5izxXzCD/UYG+lovL3aAhxoEje/C73z6JV3//DA7uP4qiilacLCmlHdplvhGbOygLOYwX5O7In3PFAgMHDsG5iiYsW/U2tm9YhU0r3kZNdRPyCvKRPCABicnJpNkI2uB6LHt1GdZtWE+bugJvvL0MBw4eRQ7LF2SnMchlnLHhIMZNnom5k4abb5AeOn4aE2YvxdSxudi7Yz0KOxMw74orMJ3+memUWbnxwcDRY56DGWoZuugQb2kcrbX1DISM8+NGbUMjdu7cifqqUjh9PmRlDcKkuVdhUEGWYUx9/yDQ1YoTRUUMiEIYMW4KBqUkm9l4Man1KFUm2JrZ1FTJ8cIz2E+Hr6mtGSNGDMX8eVPoQLXj1PkWDB02gs5sEvN2EqEE1Ne2YScVUm1lKaNORZQ9cFGhDJ84AdOnzESqOxZdtVVk+kIgczBGjRyBzAQOtLqofrEbcgbMGkwxhJwk9s2KucOgjAT1WOBn1H76dAnqGzswbpw+DspRZrt6ea/mzAlsOVkOR/ZwXD2VDmicCvvRUNeKbbv2orS8BKkJqZg3cw5SBiThZFUDsgsKMDzdQcXHPrfGYMLEiYindjt++CDanSmYMo3Xbaewv7gaSB+JueOzEepowOEDJ3G0tA5tnZ1IpKJNS07H1FkLMGRMPpUj+xfqIlW1jtYHX2s11u44heLztYhh5C2l4omLx8RJ4zB10gQkJsQxTx0OHjuGFn8AM6fNQHpKuuU3qgvm63+a6ZZaF1PZ1LhMQDiGx4nyKvEllgF4m+opqEdwrLwJnd4OxDBgimMQMXTEOExn4JrooYCzjKuHNKHAd7c00agdRvG5MvMkJi01FeMnT8M48pMm9gJUmnFuLSgLorG8FivosEoGtC9cTkICZi++BmlUlsrrCvrR2VCKrQdPIWHgCEwYJ36Q/HTg/Pmz2H2wGN5QCvl0GsYMl7xYu0ppswADZrZBhzAkvU3/RHeemKWrPWiuq8exQ4VIy8qnbI1ksCFu1qSHk38DKCsrx9H9xLHiPA2sG47YNHT0xKCbvJrMZvT+3CQeLq1dDXVSWffA2xWLw8dOU7nsR9DXwU6HMChvGJ3qOcjOHGC+IH+MBuvE0YNEo40BZwID/0wzQ+Smsz981FDWOwGZA6ztu6Vj9x88jsMnitFC+rp6vHB5PMjMycOUqTMYYOo7KTaEB7GXv+yB5WF0DyHgR2VlBXbvPYya+mYEPX6MHjUM44aNw7nyOjowSZg4aghiqbWPHDuKim4vxo2agKGZGSzMce5qwfmjp3C23YOCCZMwNDueCr4bgZZmbD9+FgdOFCKOBnfu1LkYO6IAJaWn0NoTj6GjNH5ajks8jP5S8GqhZA+PFUwE0VxfhWPHjyI+NRejxkxBUhw5hmX0z+Ok4aPRL6PBKGoMYPDoYRiVk4C2xnbs33eKxv0s3B7iPH44Dfw4lJ2pRVZaDvKH5TCg4vg6aFjo3Km1E6X12E+Hqam2xixbyMrOwYwZUzE0JwOt1bXm47+u9GyMnzoOKWRKBT/NtZTzI1XmBeNZ+uaV4UknOpu82HPoFIrOnoa3vQppmQMxesJ0zJw83sw+mvXmgUacPV4ObaA6fPow5AxKoobxcfw0PuJduWXiV5sw4TEz0E+vEiLIZw4Doq11woOpxtb01WTyhm/1QWRNYbggyb7oDxdUEoXLFTh8PT4GAZ4es0HK+u276Cy9jS1rN2ARg6gvfOn/YcLUaWaqz7zbKp7Rtx4LT2L7oSKgO4iJBXmYO30SSuu7UN3uxaRpw5ARR84NdOIc7eKuvYfQ0NSE2KR4jKdMjhg0CCfLGqhbszFpxEC4qDcOHjqGEqTT7o/H2HTKv4OBE/VhIduo6vRgzJSpGJwpHte7IQxqqMu72luw/8QxnKJf097KgCg5hbZgEiZPmUQ96DDO7KE9e+BtbTQf2fe5EmgJkhCkP5NK/0HbeY8aM9KSHL2PRR3tD8ZgD3Xqcdpr+NoR8PkxYuxk83mEtBR9T1MbElHXtdfhB9/9IX776lb85/d+iRuWTke69ABtkybHJVUBLXGiBGtR/4cfqCWoW6tPU4/RyU4bMx1DslORzODJTO7o/XQtW5PBoU8Toj9w5uhxVNS0YsT02XTW040t8lCHyw3WEyezuyqDldqachw4egRnGWjog7QeVzKCITcCAb2nHeSYjsDsmdMQqy//0/aKac8Wl9A/Pobmplaz0VpewTCO50xkZiSwTjq7UmTkEa2e2b5zD6qqKtm+XiOIYeCchqn0w8YwANPybmv/AQbVvSpU1zqkGdk3PaFxteL8qfX45kPPMJjqwS33XoOMAfFmw6XhQ8eaz214GMSrlD7Aq4kH7TB5gv7xoWPH0dxBX1H0YTtDBlNeZk5Bbk4WadqB2tLzOFrWjPSh4zCmIBMJxjFkm/zRUldVpR2Ne+20w02TQH9R2Zivh/f0fpICKhXtoc09W1qM/fsP01ZV06+Kg981AO1a+dDjx+DcQZjJ9vXrUv2ilzZdC3pw/MR57Dl6CF2t9bSFPgwbMZZ+8lQMzElXwzxiUF5Shq1bt6OlnT4KbVSQvklGxkDMnD4PIwoGoq25Epv3FjOgHYWJI3PQWHkWp86UoWDsbIzIScbJI7txqjsBYyjrYzKs9+RU7wcFxjW9Fu2SoAwSRwv1i4CIaiipUEm/yqkYU1GsXHL91bnJYmUXpyjBwjwC7PKRZ4ILr/pAmIkpNNhsR7OmYSaUDgnbZ6uoGlZ3DWOHE01mi+kEJlkXdoLArk/FwvVpiaA2B/hjg5oNN2HAnqno68ilwThB7KOF13vl79/ShwQix0bo89ClxFoO7Ps1FIauJuvF879f6kjxWdVYSkZgi5S9FO+SNdn9EJgs6oUOG6xg6+I1KJ9dv0Dnl2jnXcCiw8XLvdu9C4A8p/cjTV6T/+KKSJj2Pv02KXZf++RIy28FehlV8E4cqGTZTxk3Of72dSDognbvsa5Zb48eNam8jKtVvxkWpkXWFgmRbRmqmgIWvDsdwhVHnF1Ql3kS2ddH8Wkft0RAb2Ee9vDqggbHJMTYAUw/MIpOJ2G6qwj/9cfZxsn8qkDEbTUpt0BJ5qlcb50WD9r3rGCKNBZtzMv6F8HnEqAuqR2VMFXrwvwxJwSmhnG+IG/EbQt0V6CEcKKdRxC2RRdCRN4oXN6godNGE2Jnowcc2LNnG37wg8cwZOhw/OM//yvS0jJw+Eghb3kwefJ4pGri9D3gnbokAsTPtmwoT+9TaQudvlJ9V5YPwF+j/ywZ1xRkrxxGgLSaXfKddy+EC/G8sPX+oPcczZMCyuKJ40fx2I//B61dPjz07YcxPH+QKa32NPVmpJh4WjPv702vDwf00Ud00zDaT3UuBpH2wAaVE1ySNy4B0rHSpDYGF9Z6IYhXVP+7tqGxoQ/LTOEE67IP1JLFSY4AI+WYNpwpXoVHHnmBfRiHh777IHIH6jMp1lS4bK2CHqPr5RebumxsLwUWLSLz9Jeb/tfvB953GTYveRLYG4xdrFxkus4Fl6rfyquzS7Sv8hFl3zeuF4F344GLgk1uA7ownbEY2eDFf0SHg0oG6r0WWOmalb+gY5oZEP0sGhKse4bxwyUtuFgH9RRFh5+8qFkGK5wzf3iEY6WIohdc9EJkKxfABTdE5AtzXnhbNLhkTda9iPu6fmd+Q6GIesMD229wLyxl1aPDyus079i8G+iu+Z7FO9r/cIO6o90Jwz3kIeXDI8wbF4JmgcKn/UG0DJ++F53Mk1ydROTROKhM33t574QL6uzN0j+vlafXPzSX+mP3xfqVTP2h42kpjt7K+4B1qb53r9O6p7/WBIkE7t1VimKevl6+M7/wsejXd90LJk2ufdDQndjxHzUNx1xG1CrD8eavznVEGk9VpdpMtvcA5TNtR7Z/EbBoFL4gmNwmrY92crT6svDsYgjYafav0LYq0x9VwlPrXKMuKvRytJLNPaWG274IP9i0tPplTnvBMtN2k6zZHOairx2CkSOTsV8FHxD6MFM9Nh980DrDtfRVdglQvf87fKPwZwTxrbWTAxnTmkwYM3osbrzpJpSWlprvC375wa/g2WefM7u2avJFE/b94QK2CMtCP5HoA7ZlyayCI/6GgymBscnmnnVlQ+/EpSZyw/xreS3yQ3Ton4WHSimHDjvNVNcP+susad203XdEgnn/OxhCTUUp3njjTfPe7B2334as9LRwjggwRYVJXx8+zGDRI3xBkF4zdqEfjSKhfzDVH1TWstt90FebdJ/40dK+tm9r/AiTSX9kfyweuhDejebhcjT05h8v7dLGhw5f2COndi3QCgbt6qpvNVnfLrVq0pMngwZBfrhwteHd8GAZ0/aFeS6wwYT+1+8HTL3voMk7Qf23wGqjr60LyyrdqtM6vxROGksdkU2btHCCGesLyl7YzgeFmK8TwufvCWrWsKPd5gUeaZgZdGY4QGubrWdT9j/TB1ZifTSTF6a4FI8Fhkh9V6afkYQQGCHqPacy0cw4/2nNrITFJqz1N9yELngon8Wh4UTzK+g9iTgjmAsJmN77EncKpwty9F73Yq0+EMfIfAZndYRp9n0dkU+4zP3wb2QL/duzy9qHcBMoX/+89rWdt/c+zwUXK3PZg9DtJXb4ICipN9mkhemovtp8EdFX+1R0saGXXhHnAjuP0mxa9ofI9P5ldfRPi7zuG3CVj6xbN3hEZGVtqkD/TVYZ8si67HO7XR3vBy6WV/x5AZ79oC+7cOTRYwUOkbX01XvhnUvVq3TrsMraYIJGyaCWGWg8e/QskvfD1kZPpvmX/2XsNLNlz8D21dEfIvts4xNpTA0e4d9LQSSONijN7od9rcNS7OH2DK4R9yKMsPlrNaz/EaCLMI0NmtQhymAK6E9EZiXbbYUriWw/Ekz7+mUh0dQY4LC+U5p12C3oSuOgC+vpwR8Cprh1eiGEE20szUoTG8y9/vgzsX9F5lp/Io8ofGhAPGqGjZwWDJgjPjEZw4YORVJSMh3IIDIzB5qleLNmTkV21gDyqyULF8gYryPPrcNcmnw67HQbLnYeruKS0Od3qD2TEj50IXlRHh7heoST0vqDblt5L7zbh4dVgfCWbtbHiA8d2I9f/OynePLJ36Omrg633XEXbr3tNvOOOjWLoYmp09RuA1PeI7D4sIBNk0gw9O1HQxt0L/IQKO/F8r9jHML5bfpFjqJ1ZrVrO+sCXVv49OEaWa+VJh84UjcrMOzLI7Cu+Nec8I/eX4EftXVnsX37Mfh9yVi4+ApkDEhgQEUbqOWL/OfU8kcV0dI+1a8qwnWrPR32qhClmyN8z04T6DoS7z8UIuuL/BVEttm/Kd2LzCuwri8sH1lHJFh1Xti2rvvnD18a6F/H+4H3teSvF5hTmXubsUuaBF5QY4g1rP39tE7XLBB5B1jZ7cpsB0ap1rsHRgm8Z2dEPJW1GMY8+TLL/agodBpu2Pzw2q7NUizhmwaUYt8N5+uXxQoQee8iOL1zQC6dV3Cx/JF536u8DXY+Qf+2BVK6At2zj4sZkP7tfyigr5vsoHVpH6YnDLJNv3hKjhAReLy7AelP9/7XkdCfZnZegc4vFij3r6d/HRYor8bNri8cJFi9MmDuRLQn6I9L/zbtXzs9Et6JQx/YdSmPjv48ZcM7a7XgwhzhXHbmS4yHjWNfH8I4Ur6JDe2IduyhoQgxYKLu6HGGlzRoobyCrhjNIPK+AqowApH9Vl19dfdhKOifzwal9897MbDpY49//3Z6r8OIqT8GwvdtQ2w3pfviX6OzdEs6TqAfZrLRNfl1rvalq0z7ff0URPZb0L8/2t1I2OuLDvb7FqpD46SdBlVSJUzNei8zxDx6a9ikvD9QHXY9pvU+dPrA3OjL+86ASmDf7a0pCn9JQD7tYRBlVqlYL/SZYdbH8yP5TRyqQx8v1+cbtJNwf7BlV7/2eaQ89peD9wMXk6OIpH4cqRvE0s5g8vfJIjGwfpXOJMv3MUkXQCSu9rmfAdWRwwexc+tmtHd0Yvqs2Vh89VLEuPU9TNVl4SKKWXIUlmuje99r4eGHC2x6vp/xvPj4XaI80810k7E/OvpAeZX9whJ2jn6pqoeHVaZ/CQVT4mTVKY0vnlcZXZvkd4KG0tGN+pbj2L3rHNVxHhZcOR0pKS7W5qMZiEMMcXZoRzhtYGEmO1kvmeId7Uf03cbRBvueDf3Lvl+w+x/Zln3Y0L8tQf/2IvP0L2tfyw5frJ2L2WelR+b938L7DqhMNpOVyIWZxVyFcTCVyMEJ/7NWE1uIC3TfPlTE3GF9Cr9knK3ybiaxdjPolqKUUuhzUMM1sJxxPvjfusdrPakxZXltcOIf82uBSgr6MLoE2BkjQFjaxL4YuZQWeV/n9kBFDpKuI+/bA68+2L+Rg26f2/kFyie42PXFziNBaXY5G+y0/umXPah7YZTtnpq+6ER/mNjXI571XVwAF6OTwE6/GL0iaXax+0rrX96+vgD6lWUuohmZzz6382nCQW32pRjoLWLhJrBxi+QxQeR5JCjdPmx+1CGw+2DXaacLdMvG2sbJ3Lb+mGvdteIn5bDLXtygW3Xbh9VXAzIIPNdOlYoZXAFWSGMRirECKn0HThkCZksh3ldmgV0+Avr3S3CxNMGl0i8Gyqsjkk46LqC3qgvXKdys7+PIzWFec9NC2Rhx/u3Voxp33TSGV/msl4lNolVAypwH71Npakw+CM7m+xs8NCrOHhlg1qNBc+gjF+QjKzuNtNqwlrzAfNg0om/vCVYfrZ6EcQuTohdMsk0L5nyXcbRAmEXUZ4NVPAofRpB8kMdCQYbyeofKSR7kuYZUHyjVEreAfAMGDsqqG+YzKCobMebiaxtsPrdl05YNO499773gonn6mjHnpkqypSZirU1c5eOEJUgOzQWMGWP0mqRCZVV95N1I0JOESDz1q1cdzLukVkO870CXL2CCKn0DSznNIZw0eW3L9QeS278csMe7/zgq/WI8YN5PMwOjgERbSFhg6Mn8RgubIpbONb+ksV2Xfdhgty+wz82EfTiLRkw630CYZXrBroa/WgnrdPGPo44JKWSvJMNHQXjZnh8xoQTqatajgMpgzZsRKwrs/goifQP5C8LX9gH60+N/A3Z7kWDjcTFaRYKdT0fk+9UCu4x9HQmR9+z7kf0VSK6UpsPu/6XweC94nwGVskgYdS5CszEhaAZJSOtuOI+5RSFXpC0nSEmUeH1cUsVsRNUlnYVC2u2M+WP0KrSeaFn3rXtkWJXhvyAVh/0OkyGHqYfMS8Uqg2+IzKT+BLE7p18t27Megese8VH9Im6Y2Na5yd4L6qWVaNWpfL11R5y/F9hkjszfn/R2/fb5xQKqSLhY+YuB8umwGekvFdRH0czu56XoEQnvR4Ai6fx+6hTYZd613vBhg3JKLfelWuNvgcbQiQAPsjz7aMlB5Laq72xJZfpwsPnA7q993h8uRpPIvHbfBErSrj+SE5VzUQ7tUn316Mouw1+dGuX+TrDaMWe6MJ2ymmNveUNbTmi21R1ge046GEbsqQzN90Oc8GoHQ57qu7kqa9XVBzbu/ftysb4JImlwMbDw7cvzXvWTWLoy/81BkO4M8q95F4z5NK7GKFPn6RtcwfDyRWsLdxpR1Ul9KRrq3RGzeykPYy5NOQY80r9mRv/9QdhtsAImtSHeM06avkdCnuNNoWvaCO9Y1f+JwXuDWrCcDdkQ85FHpYbrtulh57MSLl6/RXf9WjLSR28lWjxn6rV/L4mm2rLKRuEyAfOEVONij53NJ2F9FtbvGnlzzV+zH425tspFyl+kfNpg54uEdytj2uavUiPvmWrMZC7TLWfFQkzAc72SoF9LTSsz66EDZ/pk+qEbctbfi+Mtx08gX0e6VXChTbdqkH2QGNjLxvS3N6AyLdntfvjhUuN7KbDH/d3K9OYxf6lLg7Q6DhdCMbFGT5qNlfgrfWw+Zs6xMO+WKtgX4ZmuCQCNk9rRWPUPAgQ2DvJg9fF2NajqYqRXjZ3gtX5s5aXsPCyeUxYfTV4DeSCV7SeY0VdaDAMqlyOeabQBpgI97SWdjI/NunT+AWj2pwDhY/sHF/NLP8g4CWw6Cz6In6s6DG1YXsf7affd4H22zEb1FMmv3Z1IhHCqxlntCgULAUZ4QpD/rDX4lmIUcxFT5TIOgATe6roFpr5wR/TXT47VDJT9CF+Oht2/XofTOA78pWJS29rOUh/JM3mEE++HhLMGzZQTdtaSQs11EUPiYBHTlFEO6/QCUPoF72bZiBA+CNGVt39+Oy3yXuS5GEOHfd0f7LyRZS4GuvdBmOxDCWG2sKmgcbV48d3h3ehrw/uhcX94P/nDKPfDUWXscvrlXSNLPKQcKRMx+sw36w6n9srShfUIpCjCpwThE9nfS+F3MZpEXuvcPnjFf5ImguhNedNSFFtZhpN5SOFRtVMBhG2FhXA/pG15NGXMTfWbZSjffh8PplhuBetXHgZRpj5Tziqh+2rrwh5Y0Ie3BZe67p9+Keifp3+5d9TTL7+FNZP5z5rske5T0MQOaLIoEIDXHwj3maDM+kPdpg8Umr7yUDzJbIYMps0/UN4NetaAhYlIXmCSaKw2zIV+dXxAsGZuVacqsfjBDBsvL6xO9wXq2cWhl0/4T06rCUl7NDnXVyayG+Hs/UCJ9hGFywbEH+Yg7ynwME6q5ChsD61cxnlRIBV2EwxcTP4uBna+yMOGyHMbevP0u6crk2InS1DIcJJb81SN+Bonlriba96zVtFE8t172ymBnHLbMRcddFggntdhYaNJNn0QvRc3wTtP/iLgYmP1btA7ju8CF4y19IkJ8KmOOUja7CH8fJ7pTNDHO6WFTZ28Dlet8n22jNopHAzbdZv6w6BsyhnWtMZ3Nn6uUVxWef3z+6nzyV9qWyKhdJczlvllr8OyoFr4q9VdVpO80IxbGBeeXdD2/xUIB/FyHw9fCP1pdDGw89j5LpSJ9wcqqzJ2HZH1/SHwPltXI/xrpoFkFDXDYjWqwaWvY/SIhkwDr80oLIcgwHxiCj1dMtkt4LmYM8BCTkbj7JLFt2a4GfmzHSkd5VGdhkhkiBAdNaOMdITrE+uZddbSM2xEykSBlKmNSstE6CyrD7eZ1/So2HQ3oLRwMGYOWysrv6YJzG/4iMJlBcaJMpyhQxxojZFGkCNp/eOYhvWR4c3LE+w+9J1diCqvjIMojjXa0Qis8qhP4lnz5DfcwTAHE0wO6/TPAFL+Wvqgj2ZKjKQfjMyFhV5Pmq1RCuc0DlIEWOgbsBSiJbcqbt+SXOueuqo+9+kUmSGeqFjIb1FKl7q+nCGizwJ1RT0R2nruoydFipt1rY9Hql8+RjRmJlRX5ikU6ck8spfmHWXTZ1ZsCKPj/YNy62m/cQKk58NVSJeK3KpSTUvXi7hWwKZMHwRYgVH0eopslVXd5lD9JkXAhN6jLzUSbMOpWnTaY5YhWjwjPMP+i7mWD2q1Fgl2/YJ33o3CZQSRwxMeMiVFHn9OsLnGgPwD8ZeJc8TbCu7lp/CcPB6ggAb5Kz+ld4ksfRBLRm0w7vP/AiQLOqw6bZpEHhZcmC8K7wPC9td+j156SqrF7CppxtAac42/sU08ZN9cLmt1gCYWdW6CIunWi4A+zC8bpskgrezSwwtTJ+uWLdW1bKiDBkGTWt36w6ZlF6xNyQx3mZHVMk/VJ77UIgY1aXA1gXh03P/U8AGW/Glu2AyZEi4Av2Eu/uchw+ZklQ59qyTA81i9uKyDioV/w3bOMIJeJJXTcCnwkTtl2/WkKhjQo0wmmm+x9IEw0wvVeonVQ8YVhu8Gyu/lESSju2mJxWZ6BG+WKKoDvY/FbYgqoMsJrJFROEUe45lxpgU94ZGPGCrjqKkE+dEVdsAuJ5Dp1T/xmI22haX6JkXNw3zUl78BP86VVWPZik2UC+CuO25DweBss2WqynioXPt6qDotSlkEiSDKnwKM0qcTIQ1+Ef0gMLN6HBBpG4mZZP8dIxJGM6Rvqzit8bVAfVG9TjTzr4MESA1Ritme3+Ux9fS0t2D3tu0o7urBjJmzMCl/IFOV2fq5bCByaMIEEI+GxA00nNJxTuomsyxIkUFsAvvgQpeyU9HG6vP/0q1yzpxxRiuzy6QZkEhl5uZYaDzwAZfjaVw0Pk7z3RKVp+Hu6MLO3ftR39qJOfPmITc70+RzEk+Jk+MSyzYvCbQNWo6okXXGyCZYIPth6uO5dTCh11KojYv3I0idb+Fh5bd0AuklYJIhNf+I3wTmN3xuMvTCBTei8H8OGhuNnkBjz7GxLwUXDJWdN5zvTwgXR4HtS/gkcwTru1DM6Y7nVYzla5gb1oYvRjuavKqNCWGmlNQJ9Pfi3B6F/xMIdnJ8uzmUHE9nvNG3GlPFV/EcLGeImlkrCsx4K2C+EBRQBegHK6iyJ+8vBj6/tj33IT4ujqzByqmLHSYos3RsmFus9sk+sbyg9aMf28q6pfPUvg2SiT4u8vlpV1iVedARhT8pvM+AKoTiYwexb+8etHUFGPHKirkwaHA+5s6bi5yB6b1qLUjmcmv2kYwom95U34RdNMpV9c2YMGk6xowbh/h4GlMWqK+tx9HDh1BxvoSOIet1xiDEwMbNaHrc2DGYOWMaEuKYlyhqRvPc6SLs3b0bbW2tVFwMiBJTMW3ufIwcNdI4Iq0tTdixfQsqSkvNtRhQj0P1T76pcJwwexbGT56ERAZ6uq9ZWc32ul1uXisl3JPwjITFmFEVd7mAFYJobKxZGWvMND78pRKqqqzCscJC5ObmYvgI8kUslRwH3xNeKnE5gVxAOdN2aGH3RPxuTT+QFw0f8jfQjXWbtuPO+/8OMVTer736Cq6YO1W5e8uFqUBQGZt/lWKl/umAuBK/ivIKHDlyFDU1tfBTrvwh9oKoj50wEVOnT0dqahKDQWsi46LbGYTRlA6JoQDr6YiewmmpTMmZUhSfq0L22HEYljsQaT00ctQXPgYWZmlwQx0e+sY3sf5cLf6/f/933LF4tkWCP3XXPyhEDk2YANb0ALmBAYL6os0lRLiWmhocPHAYtSEPJs+eizG56QyyaM69bUw/hBNnqzBs4nSMmDAesW6HeW/MQ2ctRkH4HxBQydb3BH0UFz/jNQ8aq6rx6GM/xpnyGvzbF/8T86ZPECca/MxbH5oJ/QAQCvk4ln54fX4UF59DbV0TJk6ajKyBmf0CKvG+Dl1FBFQ23QS81csnmsTTslDyy7Fjp3GOdBk7ZhyGDx8KF+mivgnUhqnSgBLtCu2Wo3B5QNgG944Lj35jb4ESxScCDe4H48cPCu9EQSnEVZMECqTEqrzRRLk9evQISmvakTt2BiZNGoMEj6Xz9OTZsKEmAUwXrf5FA6rLFEIMqGhrKsrrsetwMZr8PZg0eSrGDB+MxB4/XAy29OSoRX7u/qMoLq+Gr7MDGWkpWLp0qfFDuru7e59Sud3vDLqULl0mhjATv+IJHu319di9bx9KSsvh7XEgeUAGJtOOjhk5zLC9h6FdMNiK8+fLcXD/SbQ0d9Hmeukf+OlP9yA1JQ+zZ8/HkOGDqCdD1KR9E7dR+NPA+/wOVQglxSexZ9culJdXoo7MU3zmHAOlvWjv9GLoiBEMkhhZK6dmWWMYwkhhBLuxduVKPPztR/G7J59CekYWps+YjSQGVOKZE4Wn8fOf/gzbt26joQ2hqraORrYeTU2NGJA2AKNGjkSsx826HDhTXIyXXnwBhxmAVVZUoJEOVGHRaZw4cx4ujwuDB+eiq6uTjsZ+HD1yBLU1VaijY9fE+qqI876du/Hqq68iOTMDE6crUIszvqrhXeLdF72H1eYFnBdVcZcTWCOkoEPDZP01Bwfz8IGD+OGPfmSWhU2n8nGTfwRaU365gfphbOqFvTCJ5le7L2g2MxxUSUkGXQmYPGUqFiyYjzQqbXGm4gmTn2D/9p39qXnXwk1OxbaNG/DY979HZ+KYoX9VdTVOFZ/G4WPH0dLagfRMBkIDUgxmZsKjD1kLeq85tjzXuvMYBk3+gA/r1qzDb373NNKHjqYxG4J4874Ms9JAqYcxrhhs3bgJRXUtWHDlQowtyI0kxuUJBj91wuJlExgy+DfJNKzlR4/ia//9IF5cvhFjps7GhFH57GsA7dXl+P53vofv/+hniEvLxmTq1NT4GPNwXXvymV36TED1AQjArMrtIL/pSZkjxkNHoAtbtu1AR7cPV5KmuQx8tNrELFAxVX+A+g1YG7C3tLTilVdew5tvLsf48ZMwOH+Q1XbEYXjKgEb3Iu2YJPEJZULOLLMFGAw+9+zLePy3z2PYsJEYN260WemirOIlLQ2/uBr4U8tIFD4YWFNmGrmLPMeOYIew7jFwCT75E4HVEtuXEjJP06mnKb+B7k6sX/U2HvnWQ3jyhdfgj83E9JnTkZZgraxRdpWVqFuVmKtwf60rk/wBQGUvLKMUu0ZB39135o3Cu4KD+rC9iXrlBTz4rR/g7XU7kDWoADOmjEOSm/qEura2rIS+6UtYv2UHquubUUX/9HTRKVTwNykpETk52b0Blb1U+UKwxksbOgn0ast5ll/+5pvYum07SllPXVMzTpecR1l1HdJoRwdlDGDwpdUpfmzcsB6//tVv6RfXoa29DbX1lSgtYxDmcyK/YBwG5qQZ2/LnlZC/TnjflmTyjBn4l3//Ir7+9W/g0e98Cw8/9GXMmTEZ69aux45dR9GtAJvGLcYRgFOPSGnhjh87iZdfXkaHqBtJyS50+YPwBmXyrYejziAj7G4nFiy8Bt/+7nfw2KPfwbcf+gr++2tfxE233AgPgzStR+5oKMHG5a/jSOFZ3P+5z+Oh7z+CR777GP7hM59EfVkRfvf7V3HqfAsyGbB97P578MjD36BC+w5xfBQPfec7+K///mcsXLwIg0dOxtDho5GeksTWqbTNmlWyGPlZuwhawGtjdXWIPO+bRFH4M4AVfFiGts/YcgClk3xdcAbaEfDpW+Fx8LvjzJpmzcyY9X/GA+c4K0gJ0Ok01xcH3TEHmdU8xew13BeC2N5vquEfObLvAX62aXb0IeidPuEmNapDvRHXaSttv1mUzRRrsTZvJmHMmCn49re+jm9966soGJqHgGbldYtZzDIss7BOoF8h1ce7arF3+YnBWovIKKeXALWqvHavL/0gW+lEgjgHaXh6AkHccOfH8O3v/xjff+wH1BXfZHCTijdeehzL122GVsfECedwSfXBR6MVVDRgXsbkPQYDNC/hJQ9OxHo8cPW40dbUBg8zpMs3iU2AIzbOLKExshvsgtsZRFyPi3ktw9Qf7L6YcdLOTZcA028zlqLTe0AEWXTae2ku9EetRmTSANvAZOvplID044mZv9a4awkIlao3mECEenDuTCGq29p4z4Wa0jq0dLSZF95jQjHmyZR2i3eTx80OUS4t/+gbe4G1QUsvBQg2j1jQi5aWVLs0OSYDzzpj3QjwJGi23+U1dbyWBUZ2pK+WdweHg2NK/JKIbIiOZ2Nrl+Fz1Sxs9WtaEd0kI1ra2K8fJofDGhfxiSyJy6nVBW54eBkIdCAU7DYzwS7xidBkFS6P3pcVpiqrvodvvKN+C+wdo6LwfwEaG3t83gvsvH960JNZsZC4SObEYnzyiZn0Ig48PXbkONavWw9/VytyMtMoTy7KTozhOtkSbUJqNt/WhYG+96f0+8ftiV1zFN4T7PE0Bp/6oUcjFkTA2431m7Zh86bNSIp1IiExBm3eDkuDGJvVhu3bNmPlxt24YuF1+M43v4af/eA7+PhHb8fhPVvxysvLUVHTzpr0XpXskrXA29JBPp6rUSdjcgbV3bLH9HfbavD8i6/h9ZV7MGvRUvq638ejDz+Mz33ybtSWF+KlZ59Bc2OTqUvLo32dXUhPz8LH/+5zeOQH38N3Hn4Ujz76Pfzzv/0jJk8uoF20JOnPIyV/3fC+nlBpyGNcbvowSXRuEmhvHUhNS0CI0fCmbYeRkz8eYyaNRqw7QIenA45AFxrqGvCL3z6H0tJa3HbH9ahvrUZm7mTMnrcEKYla/9mJltoKbF1/CnkjRuKa6+Yj3u1BYqIbMXF6oS7RsJ7T0Yb64u1Yt+wtdMYOwdKP3o3cARmIpTOVFetA5ZnDWL23DjOuvAUj8uKR4Arxnot4piE2MZ4OQRyqyg/i2ddWIGvkQtx3713ITouXu0blqAjf3m2E7Cal2BtM6Yiy4eUJ4aCqh8aIFs6MkN6hCrWg8vRRbNtTjKzR0zFx9iQk0slyk4GDDLKURUrQIWeaAZWWWB08WWQc/cKjhTi5rxC+Di+yBuWgJ4ZBDe2e9W5xDxobzmP9lnXYv3cfju/cjXI6uP64WITIi3qCGktj622qwcmDx9DW4oOLsrJj7y5s27we52hkO1o7kZg5UC870VFuQ+XxAyivrERPYiLOnj2NtRvW4ejBk2it9CM5MwuId8LDSK2nqxPnT5/Exp07sfsIneqySrR2dMOTkkTedrJvciVJAX8LqiuKUHS2mIFICDXVldi8ZhtO7DmMutpmBFIz4En0MGeI+TtIsE7UV53Gru3bcXDvAZzYtxdnC4tx5MQ57Dlfgxb2O5ltxGpW3zi4MjKkuZEP0Vt/ZBh40FGWIao5uhN7Dp7C0AUfwbxZE5DgicWAtCTkJzVjD2lX5h+IWRNnoLu8AvuPVqA14EJKhpuBnpfyGEKMP4DminpsP3gcZ7va0dldh8K9a7B7/U7s33UCR48XczACqGxuwAHS9DTHTssBB2Skwh1sxoFNG8HiuGLeAgS66rB5w0ocP3KKtO/BgKxsfeaO+QMMPmgsiW9tbSVWbt+Mnft3o+TALpSVViCUkoX45AQ6Pj4ESNPK0ioUHjmNuPggzpYVY932bRyHg6hv7kZqykDExyosZr2kh6ghsohc4hkrKNDBROayvzkVpiBPGFyb4MSaHPCJN4mkU9/YCnbg3LFibD3WiMnTJqCtuxx5k8cjJzYT299Yi0BCEDGJAzAynzp16nikJLCcz48zh4/TwG/DvsO7sff4IZyvaaDeHoDU5Hj4qJe1BLqhrgJnTu3ikNJ4t/qwnfy8Zc9OHCcftnoDZgY0jo5gd2sdNmzdimq/EwuvmIHBmUmkH/mspgxbd27HoWNF8MQnIiU1hf1lN9hxa5c9PTlSB03HCZbTKJlVnx0tFdi35yDO1vfgiqsXYWhupgkI9XaVvocVQ5o5RP/OVhQeOIqKila2k4qEOPJZqBO+7lr27zCq6jqQEptCmanE0T3rsH3PWmzesgnnz1TA5U5CTX0ncTyD4yfKGXR7MTCLwWmolcHpUWzdsgEH9h9FYeFZHDtRhKOFJ3DmXAm6un1IiE+gTVDwJ4Vh/vdBX5ei8CeDsH4PXxnQhX30gp0gO63jTwgcdzOxRv4M6dCpCbBoS8TzTg/loglPP/cyairLcctVc+F0J8CRORKz5s5CRnwMaC0Qo49im3cgWaFDT6a0nU9fUPWOLr4PeGd+u5Z31vbOvH9dYAUzonYEf2lsOaCyjUaLmzFVQOXHsZOn8ePHn0NGYgKuX7IQVR3NKBg/FXNmT0Ey2lFbcgSvrlgLDBiDz/3d55GdngAP9VR+mhv7t63FzoNNGDfjOuQPSWIgrTas1jW96ejpZoqHtoMBVYj4mM9VtNGOH8f//HYl8kffhE984T5kpMYhLtaDwdk9OHtiD47sK8ak8ZMxaFA62bELx+k3nC1pwKwbrjcrM+JiExAfn0Q/PRZuF/0D6eWgNkp5Jz9E4Y8L7zOg6kGADlWMPBLzyJID723FHhri0+ebcM2Nt6JgOB02ep9uhxehrg6sWbUBr729Fvfd/VHMmDEe67auo6M6GXOvWIgk2jUFXnUVFdix5TQy8rOxYNF0M0svJeM3jO2Cy6zR96Ox/hzWvL0G5RXtmL3kGjqcNK6801lTitUrVqCiOxbX3XEb8umc0V2Fo9tLh0TTqzEUlA689PKz2LavCFdefzcWzRmPeDKZYStytnZEsWYJ2HTY4bEgyniXK8j8mA9+Gr0obagf8UorA+xT2Ly7GNmjJmMaxzqZyS4ZPvKUvuGkf+ZrRoFW7N21E79+ahm2bt+P2qpKHD+wA4cOHoCbjmp6djZi4xncs+7W+ko6qeuxbss2nDx2AqePHsHhg3tw8FwpXFkFGDqIjjUd4+aKs/j+w9/Fps17UFRehS07tuPk0cM4sf8QDtLR7WbgUTBiCJLpLC5/5kn88qmXcK62CSeOH8aeHTuoKI8wICsCElOJP/O5iKu3CyeOHsWb6zdg246dWP3Gchw/fQ5TZs/E4AEDjF3W5ABCzdjK4O0nP/stTpWcReGJU9i+cQdOnDxIZ3kHA7dcjBo1gnXSdfd3oqbkDJ5/eRleXLYKJ0+dwrmTR7Bm+XI8/8qbOF3XhryhozBqaC4S3ZQPBp/aSNP6HkykXIj2NFGUIYcjgJpjO7F130lkTbsS06eNNs6Dvonh6KzEtm270OAYhIXTp6Nox2Y89pOn0RrswZQ5k8z7bXEyMB1NWLduC775098imJyC3MxY7F33Ng4yKDxy5AwqGRj63SGUVJZB68ZPFxaiIH8Qho8YTKPRhZ3rNpKeQfjp3BxjcHdo/07s27EXRw+fRsKAgRhUkMe25ML4cf7kSTz3yuuk6zoUF59EFa+3M29haS0yGVAU5GQi4GvC2uWb8L3v/gRVjXTaSae9+w7iwMHdOLD3GOvKwpCCwTRedIpsdhRZGF2ZJc8mRaBUo90Uk1p5wrdCCqIMT4pDdWYZV4TaUXm6FHtPt2LG7AloaSvFgLxcJIXisGvtRgweNYjBRyyC/gTMnDUeSbE9KDp4BJvWbsLu/ftx8MQhHD1xBHv3HkRtXTeGjhiGAakKKEIoPnEYTz/9S/IL9ffpSuzZt48BxTHs3M2gnfkzM3MwalgBQh212LJ7Nyo7Arh6wSwMzkjHuZIiPPf8S3j8iedQUdOI0aPHYTDxsnYfZN/YL6nRPl2qX/tc90PoaavGnr2HUVQTxILFCxhQpZNXKJIsI/ro+aT4SRNu33noURw8chajp0xH9sBk1uBFKwPCh7/7Qxw5VoLpE2fC396E9Wtew459W3Dy5DlUlrcjEHQx4GrCqTPn0NBUh5SUBIylTLnIyEcPHcaby97G4SNHcb60lIF6IV5+5TVsoIylpQ3AhImTkJIUb42n+mIw7wcXTYzCnx80EH+ewbBY2lgfuSlm0sShAImiHfB68eby1di0dRtuue5qzBw7DLsOHYc3ZQgWLZqL1FjKOPWoVhEYx9YwlhVQReKvs76rKPzxoU8nX0BnswrFeo/VjDOHpaOpEU888xLO1zTj0x+9DclJbuwrOo/MIaMxd8YUpDg6cWTXFqzevA8T5i7Bwismw0OeCNTW4tCWDbS91HFVQYycvABjxmYhlsZa61GsaXxpez+xibVWGpigXCi0o6z0OFavO4GhI6/ElUtGyo1lKeLtbEJl6TmcOFWPocPGYtToIXC6vDh+6CSOF1Vj0tyZGJWXQx2rPsjKhfmJRXu0eZVZ/xzlrj8laAjfEzQE2gWvuqIca157A2teegm/+9n/YMOmzbjyKjpP00cgQasvTCAUQwfxBF597XVMmzoFS5YsRmKCZvzEykEEg1Z9alrBTFdXO3Zs34rH6WC+8OLzWPHWStSUt5DNqLjIZEHEI61gMiYvWIBAYxmWP/cySqrb0O1rxfK338SxwlIsWTwV+Xlx6GStQb/WecTTKqtrPtRVluDI8XI6FBMxf+5YJFuverHusGCF+evSS5qicLlB5EhdOGoczEiFwZvWFZVXjGa9dZ98wcD/1JGdeOmlZ5CQkIpvPfxtPPLIQ3j4Ow8y6B9AZ/MFnDp11rjAmkhoa2tCUmIKPvOZv8d3Hv0ufvDzx/CxT32Ciq8aK1dsRmNTu2nDGWLelmas27CWzuluXH/zzfjhT36Gf/r//o1OXRPeeP1VylAZXC7mDXqxd/9RrFy3HSNGjcJ3v832v/bfyM5y4ffP/A7Hz1QyMGC1iQmYvuBKfO0rX8UjX9cy2wnsh57dWgbBzG1SUQeoPpsamxlklODVZasRl5bO/nyLuD6E6QtHY936VTi4sxAuPRBpbMeyF5bjpTd3Y8ntf4OHf/wTPPSDb+Ejt1yLQRlpWLzgCly1cBaS4l2MDdiS8NCfMLHNjyGsRU+LxkGEAh2UIz1nsF7A9ujJFSW53edBN0OmlPgYZA1MwcixQ5Ae34Yj+7eitKaTlNPCxxBa6WgfKj4Oz4AMzJ81D/MmzcLff/6f8fVHvoF77rsbQ0aMxF0PfAw//OEP8YOHH8YPvvsIrr7mKrOJjfDQE8VzDIy37NuPiZOn4zvffgQPffU/keD0mnd2zpTUUC3EoLWiFK+9+CL2HivCp//2C/jJYz/Et77zfXzsY59A6akTeObpZ3G2vILjRF1CA1tSUoqV63cie/AofONr38RPHnkYI3Iz8dLzL+D4yWL2XL0nXSxCEJfwFI3Nb1Kz4XvGuFmnfWnWD0F3eCjB50NnVyf5tgeZOVkYwYCo9tx5FJ4sRHpBDoODkXTmgqhpaURLN/OxTGNDA4aNHYsvPvhlPPbDn+B733oIC2ZMwrbNm7F2006GIjEmoIgl/xQXn8Yrb61GeX0L7v3offjRD76Pz37yU2iqrcGy115BdXUVPLHMT1mJiyUfsK3S0tN4/plXsHH9Llx/3W34r//8MmbSsRC65kO97KveEbhwYqofKNA0waa54BHmH9HFJowpHyIJuhDo7kZ3Zxd6SAfR2NCTJ12NrehobYevJ4ihE8fh0//6r3jo4Udx8/V3YPiwibiffPLIo1/B937wIL70H3+Pa69dzL7TLvQkYvacpXjwa5SNH36X8vxV/P3ffw7jSLcpUyZj8eJFyMpINf7Vu3UjCn9lIMHVQUYVnxrWoG4wPg8Z5cjB/diwcT2GDinANUuXIik1xWy0JSdWrrPhXZ47Y6QZVdo++sCoWes0Cn9msN6vJPW11EATh/zZvXM3jh87Qb/xCsy5YobZfMLfzTx6kVSObI8XFeW1CPldyMnKMIPXVddEH3k19u85ZjZiGpSXiqIzh2mbuow/IXax1Dz5QIeaVLJ5UMEctDnpAzJp0n04eWwPKkpqjS1VRn+HF1V1zahubEFdK+2mWRlCy08+rKmtwzr6w8+/9CSWPfs4tqzdhO4Ow3WG/xxmy/4od/2pQaP4niDXTWavproGG9dtwHN0ONasWYumllakpibD191hmMJFhmhqqsdbb6+Azx/CXXffg4Lhw6SCaJDJEF4fYkyUrkHuQXxCIiZMGMMgyIdlby/DU688hce+9z38+pGfmJlgrTCVa5aWkofb7nkA11y1CAe27cJvf/Zb/Pp3v8Bry9/GqHFTcP9dNyI7QS4Z+csvDmULbrbqbcKmdWtRWe3D7HlXYcyIPHXHAjmKYYup33d1AqJwGYK0kgV9Z+Ex5I8CjV4DFV56Jb/bJPB8587taO1oxQMfuwtzJ+cjb1AGhk+YgVtv/4jZBKGw8AS6/X7EuAMYNCQX8xctxqRxkxgQ5CI9bxQWXb0Y06bPQ01NGyoq69UKnUntYOfA2DFj8enPfJqG9WoMzMjAtNlzcfXVSzBm9CjE6LF+VwtcVJhZ2UNxzY33MJC5FYPzh2D8hJEYNSINFdWnUdnYRgdYEEJsfAoyM3IwYkgOcjIS6OgzeCCzq3/WlgxaQuKDx+1hEJOMJdfehjsf+AQDkBHIzqUzPj4bjY1VqDpfZpzRpuoKnDtdhrjk4Zh91U0YnFuAwcOGYsbsqRiUnYWu9jZ49CSLNUvu5YSbD3uHPV5jD3RiZEazrIRgN+DvRKyHToMrAZrWMM4vyx0sPI/OgAeTxgxFenoixk4ejbnTBqOu/BTOnqtlkMd6Ql6zXPFUVRXmLF6MKWNHIM4Rh6SsAuQMHkhaDSAdkpGQmYmczHQM4XgNys1BQlw87R/b8XnBM3QR3yuuWYLrb7wZ6Tl5dJSHYWhWMpqbGkjXGiIVwImjh1BNA3TltTdj3sLFKMjMx8Cho7H0+htw1ZwZOF102mxRr4cu2t49IT4Ri67/CG658x6MzBuMUfnZmD5qKGoYHJeUl5o30YzuMX0mRWJsfSIKWsFe+JYF9gkL2KcRSVYxBuetbc1o62rDgOx0TJo0AXs3b8GKVcuRPSIfBXm5cLPeoNuB9gA5JdaDaXPn4OqbrkXesDwMIp+OGTkNN109HwPT01BaWcvAllhKFvxdzO7B1HmLcMcDH8fCRVcwfw6umr8QN193HUYW5FNPM0AWX4WohYN+VFZU4qWXXsOBfcdwx2334/Of+0eMGzMMcR6XWbSgbwdqAsxe8ndpoBOqZY4msmSvI993u6Co3jkg9ejgBGgf9IUxYsNkcaST4bkTHjo+shGawk3OyEMu+XhAYjpxSUQG+zMsPxPDSLv8nAwkJVrvlfUEXIiLS0VO3jDyz2AkJ7tw7Ngh1DMYvfvuuzF23DiDgoavN8CLQhQMkEH1RFm8oUsJLfVkS3UZ1q1ZTR87gFtvuxXZBcPJ5XptwY0geVwOrUBPIoLkd95hWfG9BN26p7/2EYU/Pxj7xl/z3i4FX5ugLV+xEvmDC3DLzTcjMS0F7jgPdaGbetdl7WTNEoFgDDo7/IiPddBudmHV8jU4fuIcln7kboybOh1efysamkponlpNO2rEistZvkcL3a1g2zydDwdz2rztxmuvQnPdeTzz5G/Ng4MNb76NZa++hWOsu6nTi04aJ6lz+D0YmJuLvCFZKD50EMuefwlPPP4b/OyH38WrL7yE4oo6dEvti7OizPUnB8vSvycwIGIkPH78ePzng1/Bwz/8Eb7/05/jI7fehldffQW/+fXzaG70M3D3Y9PGjTh89ATuuud+zJ0z15SWAqJ/QEMXQ+dEL+ILXBg6fDge/Oq/4emnf42f/fzn+Okvf4FPPHAXCndvwQ9//gscPXveOGZSQclJaZi6YAlmMOo/d2Qv1q5bBc+AVMxbtMjs2KcAzagn80czR92oqDiPdet3IGXAUMycMRspdD5CymmmmC4MoqIB1YcJpJEIHDJLN/FEw6draivxgu6Ek6y/Tre5F2RA093ahqKi82iob0bR6UK8vm4j3ly1ClvWr6JzdQItrXU4ceoEWttbyaXkVDqNzS1tWL9tN95YvgxbNr5EvlrDOqjcGjupVKXZAvD6Oo2cjBg5Arl5OYgjL7bqGxAxbnzu85/Dl774bxg9ehhxYX5fFwbmDMX4yVeYdzYUUCggcaIVcYlOdAZ70C4+Ndusiqn98FMpB7qa2R3LqFvv3KuvPvbZiyCjrMSYVIweOx2pA7JMGtACfQpOa7D9DDrkFLhiA2wjng5AIhqbA5ajyp62+3zo9gWQmpJMH9XaLEMSY3Z9Uxb+sSgb4fuG07TmXIsMvN0d2H/gKN5YtRubV6/DM088g1ff2IjxU67A7TcuNUsA9RLlgnmTkOphYLtpA7ztHQwyvdh7oBD1XQHMmDEdGdQTAa8sAX993fCzXm3F7otxmTfAQt1s1R8gHnJdhJ0mbPwYWDAEY6dNZZ9JM46FAr1EBpvartuh2WEGH+eKTjLAbMGQUWPM9zzIEcaYJSQlYeKoIeaJV3VdEzraOmk8HUQ3lUHgLCQkx5Oi1CDeNiTFsG2/Fx1e4iZ8RALzV5uD8NegZJQRjz7ovbow2RBRE1e9wDH2BX3sXQCueDf5ZjS6yK+79uxCXGYKBqSnw8ngxcfAp0e7MbCtuNRUBoLlePWt1Vi2kvy84WUc2rUNZSUlOFdaxbFl3oCfeHcjKSkFw8dNxtCxIyHfoId9yUzPxBc++1n809//HbKzBrCfHexLACUMdH/1i1/gtVeX4eqrbsQnP/5JBvjWkjjtmaLA0/AAQSx76UDEoo/1bTVlsibqTK95ae/82LsEm+QT94sPvazUeh5APc+x8oRI5UCPeYor+mspoHZGclPO9WTAR14Xt1uveWsL/4C105+GRPJKng75O7Bz+3Zs3LABi2hHrrxyERJjXbxNPaG8EcMRhSiIZwwPh/nCIYbt7sLOrZtxqrgIi668EgsWLOAdamYJlSvGfH6gh0wnttPTfvNRclPBhbrBOruk4EThjwaidB/dbeilPIW+tbEZq1etQWtHF2699RaMH5bLG5o4VDnqH2aO1SySQxvfxHOoY9BYX4s3Xn8NxwsLcdW112LE7LmITUmHh3Y3PsFDM24Uj1oIY8C/ZgWHLCzZiPbepyCbAXd8fAr+9rN/g4/ddxNKio/j6Sd+g1//4mcoKanEyNGTkTtkONx6J1bVOTOweMnV+P4PH8QvfvIT/Pwnv8KjP/gBZs0Yheee/h1+88QyVDe0wzwYjcKfHDTK7wPEbnTE6NylDspE3sgxyB89DldyIAsK8rFl80ZUVVagurqagc56tHV00wFtZ3C1FWtXvoVdO3agtakDJecY4KzbicLT5TR4NINOF2JTYzBoUDLyM/KQlzUUD9x3B432dJykA7Btf5FhvlBjHVa+9hb+5+XlSBqYju8/9CX88Affw4w5s/HmymV46pmXUFtjOb/mpRe3H0FfE/buPYRjRXWYNmMWxo3NIzvTqdIMLcEOoLSbk4xndMnfhwU0TjzMNE8EWMNp3eI9e17QJOv9qlAMgnT6HQ4vOtvbaQcdOHumFC+98gyeee4JvPTii3ji109jw4aNDMDjkJeXjXgFIT2tKD5xEE899Sx++ONfk9eexzNPP4EXXngeR44cR2eH3hOSGPUwcHKaSYM4Bvix8YnG0RObhaiB41LiGKgkmiceZitWBnYxrngEevTGiDLyCHQj1h1Ct9dn7QbIvAoXLC9QxbrpMGoNviY4TJLlHDKP5YQ6EOdJovNo1WmFRHQQO7RqO8ZstIEYL5JzY5E0wM1+FeOlZ1/B2xvW4/UVr2Pt5l3IHzUB8xfOZx+It5o27ZCeQpt/dBl5WMAzOhAyHh2dHdi+bTueZb1P/u5JrFqxFrPnX4tP/90/Y/SwwdB3jrSRxPiJEzF7ylicPbQFNSUnUFJZi8KqLowYN51BTQH02Vfz5MkRS9xZN9t3u7VjlnkeZ+FFIxTkPwVVekyiGWGHx2PCSwuYicFDTI/XONj68LCCoPaWJga/PsQlDzBjJNknSlIGiAkG0M6AWzosyPr1IrrTSd5xeMwHdLU40ck2XexHgsdNQ+U2ZtKihd6R0JUG0xoznZr3q5R0KbAKE/Qk38adgZsjAHcc+0THLDM9A3fcdIuZAc8fPpRZg+SVGHSxP93EpbWrHbu2bsVjP/wpfvX4k3ie/PzcE49j5bLXUMEgyxdgoOeOJX1iEcv6tBFPT4z422rP/raUVhwkJSYyhf0gn2n+tLG+DqWl5/nbhObmTvj0ZUniLP9SfCHVqcPaEpg008VFQelszwye6ubBU0MaJeuXYBUnLUh7fdxYT7/0EFMBlfjcwb7onQDt5OfgYU8IhBhk+UmPWPIuh9rwr9U78RG5yCw35IjHsAR5oqykFFu37saw4aPw6U9/in1PNKt5tMmMcNCHjqMQBQvEC9YR1JNYnVEAKsvOY9OmzSirqICXfLl52zZsWL8MO+jzlFdUorioCOs37cWR09VGx3i0fbaExtRk6VOBUvq0axT+dGBR2tY1Npj3i5gq21ReWYUVK1ebSdTyijKsoU+wdvVa7Nh9AC0tdTh35iQ2bt6CsrPlHEsXurrasG3DJhSdLMbSG5Zi5uK51DEhdLV1cTRjkZc7BJ4YvWti2QQz/Aq4nW6zwkQjrkVVWnZofBVtKsGA6e67r8V3H/06vve9R/HYT3+KT3zys9RptLHdXqRnZ1gBfSCGPOVBTkYS8vLzkJWbj7HTZjAQXIIBqXHYs+cUSisaey1iFP60YI3wRUBGUcbdMo40toYDeS6r5ucfniYPSENu7iB0dbQygOmGt6vL+He+gAPL3liJn/yYxv2XP8dLL72I8tIK88L/73//FLZv324cHEZopj4zYcgKFRA5U1KRmJtAR4eKJyS3Cig/fhSbl69m+hBcd88dmDhlDEYOHY9777kdg4dn4a23t+L0sSb0dIlH5Qi0obXiLFYv3wJP8hBMmTYNyaxKu6gYIx5WaAKdv+e6/yhcVtBnhgwb9l1RGep7RNqxUUFVr1+nsdXSCzmrPI2Ni6fzlI4JEyfjX/7lX/Dtbz2Mr3zta/jKQw/hkUcfxQ8f+wH+5oGPIi0hGQ0NtYZ/V65chdtuuw0PPfRNfONb38aXv/JVLF16DQakpcFP51yMrEkgGUnNQqpJcZSb+Lg95GXyeRcVod5FMXjS4wvwN2gCImXWQTmjRJqPY3uscMg89QhLqXlHhdm0AYCcPktLqhW9u+Iydao+PTHTLeGi9wnjgon0jelwxjoZV3rR5itHZ6CWvmUXCnfvxhP/8yv84he/Q3coDp/8/BcoL6NNSR3C16bxpRxls88dcQsw6IhLSsa9995IOv0nvv7wQ3j40e/ggb+5Dzk56aZv+q6cwxWH+NzhmDV1ApIClTh/+gB2HynC8UofJk+eh7zUeLgY/Pa49NEE0o5jJ8c6FPAyeNUbV+yZ28HAkcEULZGlopiHzoo/wHIhnxkLKxDVhAnHho636O2MjTW70un7Vh2dnUbnKKYwK3DYRlNDIwK+ALIyGVDHJ5i6ndRTMrgudtOMB/Np+2M9idJOcBxRk64wVled7c04daIQhQxYG1tkVDmm/GP8cxFVoN+wzjF/eU/PazTGSgj5utDa0YKU9GQkJCYgISYBd951F/7pn/8ZuYNySRsnMrLS0c18Te2NOFV8At/9wffQ0NyAf/3Xf8Y3vvF1fOPhR/CP//TPmDp5Mh2FHgS0Lb1wZLvi0T7HLvxXnTU8JWSYJ5w0YcJEfOXBr+GWW25jgLwSLz6/Aq3NdA5JM+MXCGX+Kq/Rp+F6+4M1xcE+0gFQsBwMSG7YIMsJLNEQfhbDay1DUMETByhWT+EICmd1HfDrO2QKfCwu11MBhycOnd2t8AebKQscEcqc4QDWrzodzgDPW2l3utHRWod1azeh7HwDbrrpNgwbnK1hNe3rSYJ0iGTp4j2Jwl8lGCYnP4lRBDxvbm6lzdFTzRDeXr4cP9RTgp//Aq+88gaKjhehcP9evPrSy9i2bTsdbz3fFlhyEGb7MFx4FYU/DYjy75Bpe4JHk0w8a2xpNsvuGptazLdPf/KjH+CXv3wSq1Zuxpmio9i9bQOeeuJZHC8sQUb2QDQ1V6GmvAq333I75ly5AEhkLT3dOF1cwqDMh5yBQ8xEpwUB6tU2NDeV4fj+gzjOQLtTeor6RnrU0lhuo7NSMxIxZNgQ5A8fgdyRo8z73mdLKuCKjcNgBk8et6UTpQG1zsRsu259wwVpmhhLSoRfLxYTLI0ahT81vIPOMlDGSMkwcoRNoGHGSA4L3RR5Km5FJ246DCdRdLoIs2fNwCBGzMOHDsHDNOJPPv0c/ueXv8b//PynVC4/xr/9f/+CMWPG4dql1+JrX/1v3HbrjUjwaE076+aPAvN4nrvIWKcYdG05dQyjxozEvGmT1DDamxrRUFaGzq52OJJUzrhLZsvi1vYGdHa64AklIMnwl5+OQysObNuGE8fOY/7VN2Ps5KHsQg+dMTrbxnPqA/UvGkx9uMBSGfZfEyKbc01LywnUE0ftwJRANjGjrT90QJ0xscxLpz8+HvkFA8n9AbS1ejE8Nx9jhg7F8NEjMISKa8jgIRg4INUIR2NDMyqoLDMzMnDV/8/efwDYdVXn4vh3+53e+2jUe5esaknuvYMxGNM7DiF5yS8hyUsIgQRCQoBAAGOMC+69yFaxeu+99zqSpveZ2+//+9a5dzSyTQL/FxH7vVnSmXvOPruvtVfZe+19rp6LMcNGoqJyGAtJoI3Ka1dHC4K2nK/zJVm+6kJ6SrvJybjRKod0RK3gmObOseMKZGiB1jb9p9ui8cCojEea1GoaczMWb6NUSr2fBoOUdtK+X24lvNHgYblutstm6G2vGNMz1EyhOMuJZFABjSHsiqEbIZy8cBhNZOj33Xkznvj5v+Hxn/0Mjz70tH3vYsaM0QiyiuxC60sZEjpRMT1O0iNFv3afrjoNtu4k+5e8oaayGKMGFWHg8MHsz0HIydb35BRHyjEvGl4IFmLqlImYNCgPC996GWt2HIC/YChGDB2JXFku8R6Wr6M2pAgHkZ2ZiXi4E+0N541X6L8vM8h3fubNjmR9Y7EYAsRFUAqOipPCrnawF/VhRU3oqdOrBw62j9YuX/w2mrvCCHgy2I0uNJ5vwP6Dh1FTU4MxI4fbSmNPSF+dl3uYFHg1gpnQGLMTD8UrKfnkeimj0r6oRGN467p1+NpXH8RnPvsFLHh7BboijoErRT2Rmt12QHeqlAMxWgAxKWuKR+MxEg+Zu59Wk4RjufQVZGezPBEO2xTkHV9FQt04eeo4zl+otU3x8+bOwqiBA1FWXoXWjh40NrYgKzPDObxD5Xl8LJk0KjfIlIqXkuY0YGJmYJqBQnpLkqZ0IMuUyVPwF//fX2D2rFlUMH6Kxx59kYqHnOoccCYGVHXHIHkvkMEooo2FI6TzuB164aNlKqNMTRJJZxntOvFcHK+5BQXEVTfCOs6coS1tDdiwfi0OHT+Brp6QGWGKrZXKJHFSUJzLOnSgufEcaYFkxndy61TL4/Ew0c8EiQ6sX78a6zdsxY03UQmaPoNvSU/MyEvai4Sj1h6tOL93S/rh/z0gEaVmRLxa/tQdx9PQkaPwZ3/5V3jq6efw7z/9Of7thz/Gj//9P/DHf/InmD7rClxz3dX4+7/5M3z8I3dwDAYQER9J5aO/zp0g/dQPf1hI9Tv1BX0YXFxs2vSZdpjUY088iR/+6N/w05/+G374w5/jM597EBMmjsZdt9+Ef/z7f8BV196EsRMn4IrpE5AZCKCiuJzMSNiM4+ypI1hD/lJVPRRjxgyh9Ba/Je/xRMjP6vDEE7/Apz/1GXzjG9/BvgPnjQZMDZVSkKA8lwzU0acGSbSePYsXn3sVdXXNuO22WzCkptL4nrYPuKjbeFEAF3m8feQxEsKGDbtx4tQ5zJw5FjXVRZZLP1x+MJz0BSlNaaNKoNkYKR+njh/DlvXrsG3TbmzbsgOLlyzBAiokASqJd995OyrLSqgcuql4VqCyugaDBuu3DGXVg2hMjaTC4kdGMBODBg1AaX6OnaDVUd+IvZt3YMPmLdiwZQs2LlmFp194BRd6YriJyuuommLa3VEUlZdj+NDBOLlnG5589iks2r4VW2kwvfjMM9h74ABmz5xLJa6EFrtqHMWZc2exZMEqFBdU4dob54LFmXJm66p2vHY//N8DEkxkIsaRpDTFyU/COHr4MDZu2I4d27Zg+5pl2Lh+FY4cOoueHg882bmYPH0cigpz8eJLb+GlBVSutm3Dls0LsXXzMmzbsQcNTc4m0rzsYtJPAc7VnsGiRQuxfvNWLF+wEC888wK2b9uMrs5GMjOp7x4aLF50Ulns6umx8SOx65ebkdg0x5GOy03QmIrT+GjqDCPU007jRSYDx5pcUQNBKtF+1j9GWy8kEwmJcAhn2JZdOzZi07bdpO0GXDh3Hps378T2XYdw7PAJhDleXFQd5dbVGdHHX5VWNWINkjREIloNk8ub6hTgmM1g/eJorK8j4z+K5ro6NJxvxr69e7B132Gca+pwVh84VOQsaDzBlAAHNIJ0qcsvgh89rmwaDzEaPh2Omq40ajp/LC4NM90pT9CoKh80EONHDMK6dRuxZM1WzOaYHzE0Dzq9Tptz0uabO5CFwcOHYtSwaqxftghvvf0W27+DON2MsxcuICZr1ecnFhKI9XTDy7Y5qjD7z6cD2X3o7OxkmGrlxpgJkzDtiqnYt3MHniUeV21ah/WrN+D111/H2fpmzLtqLspLqZiz+CTz7QmHbcXMy+SqUSLpAVFExTuEMC9hX7i22lIoR7s60cg+3bJpMzZt2Y6W9pAZc9afpM+LPak7pbKU9mhsNx0kY0mGFY0JPchEV1+KzWkVLhTtQbS7i3I3gfyCXLsOHtyL5UtI7+Spi+YvwJr1W3HyTK3F08efVVOSC6I0sD2xqLlSCrTPw5QBVtKZoKDRFU7SwJKBkSCd96C0cgA++cn7MX78MDz62C/x2GNPovZcvWOoMo0mrXRc72+boHLaLdc8rf7E0dBQh2062n7rdmxfvwVr1mzAGsqB07XnGS+AvIIyTJk5jVknsHbVWqzftRurli/HoqVLcKruvNGR30WjjLG1nuum0Txl+hSMGzOMfb+ehvoqrN28n+PkKM6du0A7WPVKks534403F6C+qc1wuXv3XqzduAWr1q63e61uO+6L/dAPfUA0YfqRM0419xHIzkFR1UBUVA/HoOpqDNA1YDgGDBwEPxWSwvxs+85aYZbf3L3lpqvVCBsrqWwdSD85o6Qf/lCg/tZFWUH+KLwGqKcWFZegZtBgDB40HIMHjsDAwTUoKa+k7PShOD8Pg2vKkUEDprikDHfecQeKcnPw1BNPYM2KJdiycQXmz38dnd0R3H77rRg4sAhhyTObzJenQCdOnDxi376TfLhwoc7kh81kSUQlPGhtbMTuPVuwbsNqrFy2HE89+RSWLl1pkz9333lLapKIlXW34/yZ09Sh92IjediOzevI9+dj4eINKCoZgLvuvArlxVm20t9PWpcf3vM7VGljSoJRfuQhCuOVSxfjyd88hwWLKKQ2rMPBowdQUVmB++77KK6YPBEBv5iNdiSIMCmM4848I1z6yO95EsdxDBg8xgReNqlBrjt7N27CE4/+BotIhMtWrsCONZtRUlOF+z7/OVw1bSby9eFUdwS5+QES9UA0Nndhzfad2LhzJ3ZQqJ4+dgQTZl2DTz/wKQwfUkCBmkDU1Yrj+w7h8NazmD73dky6ehr8mbTg2SYf62XC/lJO1g8fOJAwEhKpIhsuHVpzJbvRUn8eO/fXYt+Js9ixawe2rFiIjauWYcOm7WhsA8pKK6ksZ6CsIh+Dh4zA0TOdePWNRVi5/C1s27gM69dupNHSbify5edmoyCvGNn+AA4eOIgNO3ZT8V6NpjNnTSEvHzwcWUUlmDZuJKrK8tDZ2oZjR8+gpHoQxkyaaB+c9SICj2bvOaTiHg8ior9EFHWnz6I57MH4qVMwdEAhha0YngvHjpzBubYwZlx9FcZXlKDj/Fksfmshnn7xRSxbsQLN9Y1o7o7hwNFT2MRxGOmJYNSIUcgOunG+th71zd0YM3UMRoweBj/HoId5nj93FqdbmjBkyFBMHDkI+ZlhHNtfj0VLTmLXoX1Yt34F1q9aheVL38Kqdatwsr4b1YOGUUhkmJsbVWTyBEcgpJVl+ys2ISEgy4NlnWSbTtQ1YPT48Rg/doyjnzsxZRsQP0zA9PI71wEhbhcNha52bNh3Bp3BCnzi85/B0OIAgrZKIzdGmYVJeNwJc60sLSzi2N/I+q7FlvXbTAEvKC1GdU0NspI9OHXgMFpdNJanTsbwylwasBHEaPkcOnoe7Uk/ec9kDK4ssAM5Bg8chsbObiwmX9u4djV2rF5rx3Df8dH7cf0t1yM3O4CerlYanR04X9eGmXOvwJCBVciUURztxNkzNEbPdWLKvCsxzPZ80YjTSYfxGDI8Phw4eAw7yIdGjJ1CA20e8rP91nfGfmR0WK+oP/Tf+WemFpU2n3ho1zmcunCe7SnAlPHjUFVUQMOQ+GTX6JsliUQbTp6vZ906MUmnJk4ax3QuGlRHsImG3Pq1a+CjATF+8gz4MstRWlaK2TPGISfgR3NDPU7WnkB55WBMGDcVGRnk18SN3PB0EplAuEt0teEE29npzsHUieNRWVKM0pJCKow12LNvD/aTdqqqq6h0DEJQFjjzsA9kMvFFo0q/zr3tT+KvO9qOE6fOY9OeUzhybC+2bViJTSvXYMW61dh35IgdAiLlNJCdi6ryCtJ0G5au20Sjail6mi9g3uwZyCkdgLJBYzB16lQU5fnhFm254yhhO4sLS3GI/bB0xWqsWEkjac9eZOcEMGbUUJaftG9zvfHWUrR1RHDoyDHyBhpza9di9ao1qK09Z4cvFRfm97Yh3ZJL4D0D++H/biB9x7W3leY7adymHnRqq/gVw6Lkj6RCM/Bb68/gGGVQoKASV0wajxIdTECep1GucSIeoCfFFzgcQE8Xx0s/XAa42OEpUECSKHT2yvp81DmJzrAO8GEknXaqSXpN3py9UI/TZ85g+NBhmDB2otGA9tDWkB8GvRlY/PYirNu4DqvXrEYkHMOH730As6+Zi4xsL1lTlPpnDNonFUt0ou58M7ra/Bg+YSpuvON6VBbnkK9HyXfdiEfj2Lp9K554/mnMX7gIGyjnsgM5uOeej+Dam26kEZdnB2Nokq+z+RgNrvV46ulFWLxqOVauWojThw5j6ozr8KkvfxmjRw+hbHLBJ77usPZ+uIxAHUeS6FJwiOti78djISpytbhwrhWRRBAJL0nNF0dlRSkqiiu0Wur4tLu7bZYwkcg0BcudlPtRK6KxHlyoiyHsyUdReT6yPDRumGdnUzNqT5+DzWf7/chKBGg85aFicJXRuzbmJ1ydJIhmuBNetJ734WBzJ1qpWpRFOpAV8CBYVo3qwjIbFyFXN/yeDkSautFV60NWaQliZT700NALRlzIifrg1pKotLt++ICC5va0IkM8JmmukPjE+GyWOlaPcE8rzjVm4EJIe2x6kNfTCB+Zmb6DFCioQlVVMfIDMdJAmNTvx6nGOA5T8GX7Ysj36cAKxsyrxMABlcj0UVHT3BFp7cz5k6jrTiAZTaLA50bNoAoq6T7Uka6qczKQ540jngjh/JkWeIO5pL0CMmedRtZDBZLE6clE1OeFvliVQSMrVHsabVEvMsuqkBvUvH2YDNWHjoYe1HZ2IqOyGAN0MER7CxrIyBsiCYRiMRoOVNyzCtHKIRMJd6MsqwhDKirhD4bR1dXDerYhszgXRcUsP+aGn0y3o7sJF8JR5GWVoJScePvqR/HvP30e0cwb8fGvfpjGSgKF2tPVdRyvLHoTD7++C5/8/Nfw1U/dg+q8oKOsJnUYhrMOI4Zh8sjCKXBifOJ4b+vpRHOoDcHsIBXYHOLEC32LSvxBl8UlW9ERsXG2N0BBtZ9G4ncfehVZ42bgK3/6RQzL8SJHm1/iWl1j+zl2I8RLUIM2ksRx4aGjC7GIH1RRUFFdjsLifGRHKaDqG9CAUmQU5qI0S+ZHCMmwD63NCbQnksgqzEEhx7870kV8+Glgh7D/7FmWFUYxFaWcrAIUDR0CX+qEQHeii0ayCw31PSiozEZObiZrwf5PdqKnNYK2Rra7lGXnk9dIGMaZL4Vssq0L//tvv4tfv7gIn/v6n+PBr30eZfmO0q+JJDltum21jvdSsrRqzueovXORZqikRU6gke28kKxGTVExMr06/5G0Qxs0g0Zbwl+P5q4IWttJe/kelNBgC3eHUU/jr5Xlx+MRFNEIKyJ9tbYnaMwkUVqaQXrwIBpuQ1PLcXgDJeS31RTyQosMZrnr8Y51katcMtSAcw1taM8oQkVeBseHg8Ikx92pM/Vo6em2fVwlND50jLDlwXTUCUxhZEw92aU7qSZaJXNHzrGOYZxqCVKetHEotrJNXvJpGqvBTFQVV5nLrUfWYyJM/HXjdLO+R9WMouwYBg0sQ127+isHJfm5Vle3i33i5VhTeVE3zp+/gLqWNsSpJIUiEQwaUGXfipEa29ZKQ/HUaXa5j/2ivVwJ+KkYyU03EAhg4MABpAWt4qodTgt6QQ0RXBLYD//3AxFPOaKV3Bj5oGjDzXHo1aSQjRsf9Q+tkgOZfE52nUdjYxtCWeRPhXnIsIkSjmt5yoiGPJo2oa7EW5GSRosZW6m7frhM8K7xKwyQ7xKh+id3fP3IE0A8WaecuilHIuT8baGEnQyck5lBnldgmNKqYzIaQpTX6VNn0aWTacnHNXk4atRYRILky4yYgx74w8qfctbTTD0lgeYLlPfUewuqcpHniSFIepKuoAnHlu4WnKw/ja7uGLLdGSjNLkRVTY0UBeoQ8jRxUX7qZN/zaLoQQW0dZVwgjoxkF2W8B2WDR8GXnYUwjbNMj8eR4eTR/aR1eeESg8q5Sz+y5xVAgnHZMbe6NGPsQJoR6NdemcJFJZWMIx4PMmOtQjF9stkENlxFJClnltJLhckX6YHXGzBXHYFKVX5JKk36Sr4dj6zN5K52KhM6vpeEHqswgpLnvnNcBfUOXh4dtE8jL+wNGZF54ll8wRgk5J6ADLAEMmJB5FMJsyZIL+yHDyiI7YngRJ+aFdQzDSoxv2QLgym0XKX2kWfRk3bc9QWj20jIZhblzhXyBMy+vkjZDkghNWcifddMeRrByWwjKJNkBEnRKIlMCp03KtrnC308lGDffqAyGCAz1iRXkkwxQiEaIlPzUSvNJKPWCXY61tlNZTyhgxT47KFiqe/96WjwzEg335HCtVHGk2P5pkFjyRg6L9mGmkWDrRJ7+C7ifOonTpPGxZc+jRIZA4xNQ+CFh/8BP/z5s7j9c/+Or3/zDjJ7xlUWqMMLT/wSX/7Oc/joZ76Ob3zt06jOz6Chp/fq877uXBrb1kiOS5YbJy4CFC6qFGsvG9LtCrJfPZbeBri0cXO7UqQoOpvO4vEfP4YV+xrw8T/7OubOGc26RGhQMFqMGJHu4WU8P/uGYUG5LeiAD/Z4ONXvOj1dwi8j3so68sZXoGQslc/s1yR5gYvGrBqobtLqjifaIx2IOBUWJDSdGgnUU+bqTkPYT4M4EcvUlinm7BgcOuHLzc6VOJMRGeY7nZSXQTy5wu1oOH4MR/Yfw29eWoCQPx8P/uVfYdx4CkJVnX+0Zy5BHGnlUPWVQSVXZPHLqE7VY/96yRuBc4j7M2hEVULbmeVy2UbayWIFM2kgxDOakfBkEaM5zJWGRFIX8evOVTN6wVgjGyc6ibH/3USQW9ObZp4F2FYdBc9uI5L0SQEZGTJKPDQyvElSpz9AbHo4XhIU+BxVGmd+nQLoDAP1tW5c7AOvjEm5FbKv0yf+OT0rN08nvov5eqIXmK82zxYwRKBcFDc1vghEHf9oRlfISHN7gTDUxdh5TMW8mZS6iB1GFHOrD6g8xNhabYgyuSUTSsBn1l3V82jZNQVWp9SVhiiNa+keAjvgxrl1wMns0gTvAEV5V5r/JH4/fBCASDTa1uE7vHgr12JvkqNHfIG8OyJDi3j2ayxQsRXjiDmcnvyLdC85ojyUl/Z+UnF2piAcKnVGiTNe+uEywbvGr8OZpEU4RpRknIMNsWYZRi7iLUYjSSe9arey8QzJMi08JDRhyDjUPeEWn5I2QR4SIm2Q8XaR18Z4ZSU7yNf9zJWyyE/+rn3E5FUR1qOTFCL5oe8oIqr05IN+TRtLOvmcHFU3FqlPh0T1mgFe03U6+EI8P2A6j00u8VL0LjbIFUkgk3oBpQtfSArobT9cLrjE5U8Kg3OJ2kRioii9IIGRU0jRMEwxTOiWJW6nLjHA5l0pRPVPhKhDAaQwuMg04kmqEkSmTpbyUcgFqFR4yIAQTxEf87KP+FKxcBbGQqTrODx88JLwPK4M5klC1GwiS6IeQ2B90tVjmB0hyXpKCXZRI1V9KV1tg75WGTRTbkdWK/9+mvoAgxidGIRupXVJrUrRnRiRcM+XRo+8xELEKJ0jIhhmDJJMkfTodlN5FE2TkJJUnFIH5DB/rdCKNq0U54f0rNlJvjIerKPLVY7oTDHtZDJL48SRQuZlmE7f06yUER2fNbb0TysUqodTijLiYGQ822dl+XGM6J3ypAKeYFy1Qd8eMiWcICVfPo86VU2TFnq2k9s4ULWfUUe426ES7AWdQuWi0aMyDx8+gC0795D/e1BeUWrfjmpraMbh3XuxaMU6dFIw6PsbU8cMd4wpaw/zVTWtqg4jEK9QvdUuDlbJB/aHxjbbrTYrrfWlaiu1IkIZFEZTSwNOnK3Fq68txOatuzFt9pW4/ZZrUBKkoUFu4PQQM1M6Kb9snD4annbrslliPqto4VgizqsvwWt2UdGtfzSHp/6U4GIMtkHndxhP4ludzseIphyJj3hZTzs0QqnEN3gZnYjWDFdKxIulKVxh1hkWFrPj7M+fPYMXn5+Pt5asw/hp0/HFB7+AIYNr4CcPEgU4H4MkFjWDqaSWVm1lXVRlAnM2GnAqKwEsk9RiGA6050m8VfRqbWPOOl7cQzqzUlQny08jQGUofweUtwwEpzD9Mg371oqz96JXh54E4t0qWTQuAa7DMZwyRXZmvqokBy+Mo3yMXPVGRGOgujhx7Un11qZ+5hNn/uTmjMG4jEAMGJ07Y4ORRVN8Nog57YgzX+FeOJBxqLAEy0yo3qqjQtQHfJY7cEQ4Fb74Vu2y3FQ11Z/vU72kUEehIiiOyldoui96gY9Kl26PkVrvg3Or7PVrtJZ+z3dp5TkNlz6lM+Gv+tNeXhqjH/6HQcgUSkh3Yh/isQ6K9Kux4cgCcSYjG4YZRZKwNDZEs4x0MT4jpUenc2eJ7LkfLg/Y2H1HFzs9L/4gXij8KJLzzuEwDv8Q+vVek0aaVHMmW/jPEXAEjnjqsLKZvfJysCAZPuT9yttkFMPF2435kEfpkTwwwHgO/5akYD7UkZMuacWStSybSq/VxEcac0epKztTgXFyZqWRTiS2oUiafJNmJHmjb2FK3qgcpx3KpR8uF1DfIRp6+1gYSVESIX0nlUVoVTSh22aaTWwQTCimlEC7JBz53qYYhc2gZKEh2M2/XhpLmp1FjAaSQ02Iy12K6Xxx7QJgek83n0VMstl5qTgBlRaa3IwhEpQ7lsPA+sLF2jv1FRidpV/0trUfPpAgPBpCSScuHUktyguSlmRM8VZEKDcM0o/DoIK2yCSP6ICMCsbRaWCiSUXVJ2lEE+Jj3fwVfQeUpSBNK6nfNAkJHIrvGyJ1LsWu0sGXJrCrz8gx2lUdLoW+iVOJeu8FyiH93Dc8na7vM3N3OCmf+GxDPUHj6RyWLHkbz7/wEjo6e+D1BRGKJBCNJjB49Ah87MufxYTxE5AfCEKHohmLZ7bk2WTy+jKWlGDlbgF8qfPtHKVZpacvp0zHgHDqHUfd+dN4+ZU38OobKxDIyMNtt9yMu++8DRU07JJRIkOGjBRuy9fJM91LNivoCrEsOc9o/KtuMjPJF4R/hbi7mUb10ferlEYp0zeqh4XyUu2c54sMMN0KJ4bzN329A1L5SiFPJENUriLo6org2JF6dHVGMHRYDUrLC1K6Mcu0olQm28j+cFR79SypQHml8rtYnPrLvkJGkGHzTk73XqDY71HX94R3xO0tX3V0wg1tdsO60EAzi1kKRao56apabKW3LIUj1T2dv3CZEvYKUbPfBb2Fp34dUBkyw2XUe2zZ0I0waUJhQWaowzik2YYYphIzhT+5i0p7Zf/qdEeFO0/KhxkZDak81skUXuf9pSX/56A0yld5EqWXVF9GnN4JtJaqCQWnEErGFD2ny7u0TL1R3FRmGnC/E8774Q8Hosg0BnX3TizqXXr0pOO9J8H3w/8QpEaZQRozfTHYC6lhmEKpA4ZuPvTyN4H4dyqndFw9vmemvw3E0XglaRyl5LUpvabfKENHv5FITJrs6DFnGH3jSqui4hI6MEkNU/IeXgoLkJe45B5OBhojr7NJSYb3w+WD99xD9U5QBJGQaMREkPyALVRCyfEDdp50CdMiDplQEsABKrSOELxoUDFmLMPBPqPEqLVpptIX14wsc/L08EkGlfZv8FIBAlrmUpalMNGmZ9zfTc3oh/+LQISmywwqOcyJOALU96RQE0ik+niv4xokI0s7dWhGMNyvWR2mTZIJycgSvXppRChR0ks2xTCHEfFPXxDhvwsUSWnTkUX5MvFT0RX8HvnYxBRv9coZL78vKPXvCmw3G66N1DabxsbHoz3w+DyIhHtw5NAhNNQ1oidEpuvymQtuYUUZxkweZ6kT0SQyOHblMqYKmyJtBpWmWFR3/jVhQoU21Ufp9tsjWYtjtOj0pBjrkESopxOHDh/F6XPtKCmtxqgRw5CfQ16gFZWEjK90Yv06xo5jfBBMGda3XGRQyTVNSqtzvDwSWjlhQjOoZGY5rpymOwt6haCMmDREUy1RTNVTwipdgb4V+e0g7il6S6CbsYO8+jqZigaZty3d8ZaV0ayjU4bKTV+EdD0FVqwCnDo5cVTHywgmBnSxLJZv7bIXAvadvXfqKxrWy4vvU6Ao1uHpvhao7UyXekzrHmm4JI90EgP1lTmqpAwq9oPHZQaVcg8kZFAxDrMPk04Ulsk62gmRsnIol2Rqq/cETg+qHQpRQZRkNhHgvHtXW/4TUBpdwog1N11vZnKpQUV6svcMVL1ThegnfV0ERWSu1s8EGwiXGef98HtCX2Q70PfpUnwK3o3lfvifhf8cX+8B70S5BrTNNCmQOaTkn0E63u+NdnE58aZ3GlQhZqlMA3ynPXf8Yfluc/FWcX5EyOfEJcygYhI5fWnPlnLRpJOWy+KMrINU+g2qyw+/l0ElZMjlyHlSqOOKJDVET3rfa3CZ0cUQl5/GlCNMZFZp871cNRAXkfBXtx4ZVAkShZ3Wz+AIY0pxk7uLz062sgKkKMuoUrlUXqRs9Yuc/8dAdGDAm16DSozookFldGJMSgaVQ39SdHw08uXvrO8g2QoVs/DEpfSKFH1kRI7qruPKTQmyzC7+XApponRAtOgo58446H11MUqqbk6Qrj4l/B6gcn9XYJ3Yjpg2LhK81ExNHdUYltuBla5fp94CxdT+LfVTkEqdjT0NZUW1hSOtTylQY4+mAfO39vRpSLpdYi1yAZQxl6Qxq+8AeWnMOW8zjItYPPla0ViyKvVCOpf0JWAKV5R/pSxr1UacQC6fDBf+VQmPVrDEH5wVLBM8qqDbqID3mrQhmKbbw5eiG140FPnAS/W7pCIp0Lt3g/rWo008rh62Tx72mczfuBjcCmdIMsGesjqo/mq1jLq+7fptkC7zv4r33wDWSVbJS4uzcP3yskb0rXcqjRm+zpMD6SeNCMYVXkQnqds06LbPI1+mc3DSyqAyxxYm0lYqoUZ7DpzVZoUzljthYZJBQcazFSFbJbvUoDKsyiAXrQjMmLpoUL0Xxn8bKE2qOlaHVHUtE/GZdJnqld73bIvepUG3fR4JSsWIiiswg+r3qVU/XH5IY/b3gX4cfrChz5jsHbG9AYT3CLOx+/uA5AQ5imRRr0FFWjP9Rjk7bn1WAnmwizq0WLEmDqPkvfrXd4Uqwku5+JUgkUgZVJI6/QbV5Qb2r3q9DzG8B6RZu6M6pRh/LyE5QisdKnTbOyLa8e+gkOOj7hwPToohe6c4qaj81+vdyXARSvpzmb1gcS/WM5W0H/5fg0uQLqoSjbyTEvRs6o7dO7QnIP2k/JhESkbPciP10NBigBNPNCYFmfH+SyJLR3CuNHXabzrde6RXkFOzyw9SYOV3rb0t+mhsnEqr7VWJ6cCGGBLxKMLhHoSjMTswRoqi1H13nCpq+tsVqmjv2EvXXj3ltMBe97kMGN3GNRVXJ5QjXD7kxEssnkRXJIwoDalebiKlnDdOKe+Ro16wMVKChSmtWqgWTnxCrzJuaqzdKWXf91YaA3vDrLUMswDVRFeqvEtAEd7rYmvcqXqzbl6Pz4xHeaI5IIMydWdN0YNuWD8LSIPClUi/6Us/qux71ecyQJreBVa86sP+SdfZ+LWudD31k/pNPeuNVAObQOvFA9+ZgZPqayckncOloPItf+dSLsK4jaxU3fRsXhC99GjrpKkwPVsmuumFiyG/teTfG95digN9w3plYSr00qd3QupNup9/S6x++J+E3xcn/Th8X8LvxAYUIcWLjH/15Tnp8ZnGL8PtvfQGcUCl+32gT159s03pMCnNuM8rhWtCUbpN32kj5720Z8UwSOnaTtr/stH98H8ItF21C+C3dHSfYAktByGpwPdg+pfkkjaoGMUReLr0V+oa0S0/dz3ajwjDieuAyEHKl94Q9McErUAPqYSEPjVyIB3wjhfveOyHDzIYPeiP6EQX7x1yIAjLaTq7SFM24WPpnKC0Qu6sGuilk5OFpRjpu+glHWC/iulcjuKoXB0a1etL0qbKNeh9mb7pDfgvQHkr3sVy/+vLhSiNokgs1T4dUkHLSgdd6NKGf/16PDqgg/eMIx1ZfeP3OM/mukuBkqThpZcKclh5H+CDnnuvVHOUl1ZwEtpQS8NKhxzI8NDmXJ/KZBx94FXlaGOvE4ehulL174VU5lKn9U4z/ypHnMMBtjGptTNn5cFJeVGl1R9VK1U1QvopHeLg7hIDxl71jWc7phTI396c+Zd1sLikIAZppa03F1Uy1RSLor+6SV/84/BgGRxae0nX4x3XHxLMUFJ9tNLLOqnuvQ2SwsB3qqa58jmNe2d1nUvhSqgxFiZunT1hugSWhXPrgL1Mx9DbhCkHdjCEiiE4jrVSIgj6k3plnhECI1rVy6FRp3bOdWlpjhqS6u3/Q7hY314DMAXWb6mrz61dl4JCVNv09e4Y/fA/Cw4998UN8awV0V6aTePdkQkO7ffD+wp6cXUR3h2S5gwKFU9O82U+90XpJQmduA5/VNzfB5Rpn4x7H6WROHqMsTULE19L6T0MdPjhxfIUTxKwd4KJl1JY0n647EDu0EsRF4FB5obDG7nq2N4FIkjuO3KVMKxpGpaKj5ERb0WnRqvp/EySCPG8ZVy74ysRg5QqM+J6eZMQrqpYBMsh/cq8gUQcqoMVkCKw1HtLTtAHiC1hX0i/JDh1c0Df2fodPB374X0KwpyDvRQFCJe9+/ZEq6KelOGuJ0ZRiOjO7vgjPddohg+m0Mo1TSRtGV9UidK/TqGkWiN25/lSOnLErejUxokgVbVLgQE04BQnmYp78XIiW3NS6VSGvuBu6Xg5bnSplwTn/cW0MlB0pcHnlcHkRszaKmAteeuc7iZGzbEnV0e55fGtTuK0PVdSSNUOGVIJKsPsTu1x6ujqRnt3GJEoy1UCdakBe5Hv+1TN2ER6xSZu/k66nPGrOsnw0ElZCrV26Zfx+uZhoABlQkiLj95iDfgkPmXIcw7JcUKd34vJXcardKqfo+ykuIySKZLaq3uH3SkwddkDwclPK31Kr9C4MiTIIO3saENPV7hPv6gGTnsUls7t4k0anLYrV+feKcceU5BI0Udf3Kef0/jv++73hV76U3P4G4928VcuJ44qEeErxxxKGVSqYqqaTj31x2lH+nIgHUmto8Ermk+FCN5VZYuuQJbKMR2OdKKruxMx9rOGr7DvYrjVVzEVjc92YEkvKJOL6qzzy4iiDyWw8eSEpkr6T6G3b/U/VeGLYWyPrfZqwsHJyXDOX60G61fRxGvSaftC37Dfdt8P71NI48ghQt6Inzgg6krTXz9e3ydgXa8/740Dnc928b3GcppPpCdNU/jla2M3qajSb52xrwBBGvO/Oyg/y8dkGC/LTuVJXkqGOlJNl8lSClenutpDLH7Ih1SxjqO0wx/ldZLy+O+HPwB4vvmtb35Lxkxa+TAgcmyDuFu/2ritf0JgEqHuLpvpjspFiIjVvYkyIk3qq0eUYe4dHnSHIkQ+katnCTESiI6V1Ecm9S8aCyEU6ma+RD8VNM1gSqGLhN1we0gWTCJlWOHaE2PHuVOz00b77oj2Uuh7ECQcpnE23asNIiz+UsBFGCcc0VHNfEeFR0109muwNRbXgb73/fBBAHEI4kyMRYq/KUoRXs4qirRX2RTRGGk0TtpJeB06Ig2EotpHRfrivcOzpOAJ/z5zPtadNrpLT5YRIkamPPUmLQw1NnQMuUUm7agaCY4T7S8UKVkVqLWbrs0AhaUVKqlaupQHY9oVI6Fbdozo7DfqzdrKtzxZW7VFhpAMJuWlNqSNJ6XVlX5WujjL0AqVMvPbmJXBSZNE/n8M1D9lbpMZ/HVaZ4XZop3zvSL2H6MnmO/ePfvx3e/9Gxa+vQpDhoxERVm+KfoRfdfLVpDVRsvE6qI+0DjmrWWrP7YCxThJ5qcS7ShrW5VyyhdfSLfFjAgLFajfXIik0nsVzDwtRjxifZ/keNd3vsLas0Qp4iZO4uRTOjVQ9TBcUkCpi/Q9KTVSW3Wtgaq/6kVa0a+KiZuRzv4X8TAwItpR/+t9qlGiCzdpqLOjEc888wK2bzuA4uIKFBbnsO/DLEvtYZmqL+MZpyWB6VH1VzZqgy6BaEE52/G8DJJxq4A07QlipOt0H70X/Lbw/wxUA0sVZQ3JrxPJdrab/DPGfnMHobNbeAePq4e/HDv6lAppyurGS4cKmenFexnj4ukalk5V1O8OzdpIYriMb7VR/aGxIbo12peBwncuWts9Pe148603sHT5GuTklaOstJD1Iq3JoOJ4jWvDAPPX0RX6zIA+OCxeb+hK94G95yV8p+ohECZ6Ygm2zfl0AcnDIN3P6kOrb+pZv+l+VSvER3R8vdI6Bhrf29Ika0OZp48jq0dFcgnRIiul5Ol8+056CNLhaehbXj+8v+AiVoQvXuI9ZPZxGtYx4lVj3g5UIY3EjWdfHKtp3PcN64c/FKTHl/gAoU//p4degviKR8PUa8kjejpNToTIK7qpR+rTFDF9eFcyWVQg0Spmo7FqjIA6LdOLh2tiUPLmneP4PXHuMFDGlbwRbagyDJMXCcsIhULGEyMReQyIY3rIX3inGeBkN+MrzE96I/sO9zBuJzxe7RXWR0isAOOJ5E4Me4/y++G/Dah3xIlOIYQgPPIia+evFCkFCMmy0APYtXs3Xn/lRdTVXTBjp2rgUNx+990YO3a0UjvfSGH8SEcz1m/agQXL1qCl6TyFVYxZefCx+z+DufPm2YEAx08fw8JFr2Pvzt1UjjIQtDP6OymM5KaUjay8Elxz3VW4+eYrmadImoyJgv3UqbMmYDds3kKFF6gor8Adt96CmdOmmIBLcDCcOH4Mb7z2Og4dPUoCB0rKKnHDzbdgxqwZyAo4m9nfCf0C7IMCUmfEEKXxptiDnf4YRvOFWrz26pvYtecIDWnStNcDX8CFQtLSrTfcjgkzJpixZKxGHJT0HabyGCfXCiT91HdJG8xQH+KTemjcjPH0PSl9W0nKrZKJiYoHKrIYaFJKGWlP2+BtBYuMVxyWFMX4jGiVVH5SrFh7KvoaY5pldyku45g7nDFhHXLAuqfTqD5xKm9knqYTshQzSpS76qQKEWRc6T5Nx7aqpV+LyVR8r/LFq00GiNkz3FztePXOprNA2VGK49KBHfEudhjzpiBZtXoLPvWFP0YoksRTzz6D66+a6hg9jKeSbGLD9hFpjHHEcoCqel59ZFV560ENUkk0fmVMqTwZXlLOVQ8JirQRqXYopYSai0qIh3l3sWJqQ6YmUjTpwnj6MLIn1IW3X3sDL5HvdDEwiwzKG+tGVmYGps+6ErfecTsCmZnqKEfhcUq2b9NJmbZVDhk+OqOE+QstMhJke3Z0dmDx4sVoa+/EddffhIE1AxXF8GF95Yngwrkj+MY3voWeLi/+6q/+DlOmj6HCr9Uq4dJnws7ljcNHo8qjDcbqf7WFl2hNl8lRwxEv5i1XTEMg6xijkm7fgeK90z+iLdGT8lefKulF/KfDfldISPSKDqPEXYKd4KnHtl0b8PrCzSitnIZbbr8ZA8tyiY8GtJ9rxm8eeQMHz7Thvk8+gHnzRrNOESbXASHsMDvow6HhCPEQi4fgD7JxxKHI0usJ8B0NUxoaomEZVmqT6N7NMWmTE2xXc8t5/NsPvo+DRy/gwT/+W1w3Zwr7s52VjdAQyqOs8MHP4txxKhHJMOkhl++clc802PBTv0qO6eLD6eMn8faqdfBkFeCmW25BWY4+ev3eoHpJAVbfC2I0ZoU30ZFGeDJMY57hnmAAHc2NeGvxIpxrbMS9H3sAJaXlxkKIRTspU/sVNS6FVwdHTrsNZyQ0wxnrqp/fE3398AcAIyOCuBaRxjsOThnyHNwrlizDmwsWICylxGNfbTNcDx5UgzvvvAPDhw/vHb+iofR9P/whIYUzA0f26BKY3LXxJ303hmh3B9585WWs3rId7dQYtO/XzzGqibzJ4yfg5ptuQE1NDcetI589HOC1585SRq7CxvWb0d0dQnV1Na6++mrMnDkTGRkZNtbF194FqhavRKyHfIU81Cv+GSSfOos35y/AgcP7yPdCRjezZ12FO+74EHKKsilDouR/7fz1YNfOU3jxpYVoaTiBIMPKqofizo98BoNGDDOdxO+hPDSr7z3K74f/NvB80z7sS+bOB1N4xCOkJdgqkwQQ0N3ViSUr1uLpp5+Fz+cloQxASUkpmtvasWf/IeTmF6GyvBQ+xo2HO7Fp1XIsXrYK/ux8DB9WQ4U2A60Nzdi5Yx8CGfkorxxA4RdDW0cTfJR+5cWVKCssRXl5FvLz8rB79zHs3XsMkyZNxOSJI1mPEIVRBGtWr8XjTzyHc3XNGDJiBErLKlBVVYVhQwYhLyfHThA7ffI4XnzuOfT0dGM44+QVFNIQ3ItNW7ahoKAI1VWV8LMNfSGtoPQzuPc/OKow8ZX654CINkIaq8Vjv34MR4+exdhxkw3/mbkBHNi3C0sXL4E7mIPqmsHIyaAqFOsyN7aYjlynwisDSyfGSZPRuoWUpjgZpVxexWjNPU5KDxmvKf+mhZMhS6FlXK24eB3NjUyT73nJYBDDFVmRH5thIKVR6nOM9OwoaXxp+Wt/k2hQ6VV2wgwS3Sua8hF47GAHlqf6muHl3OvXSe+k1SXmrY/7Kk97z/qqikbnvHfa5GSsMSAFQIquRI5YgWb9XW5n5c9FYyYzuwBDho/BdTfejGnTJiIzK0M1YZ1oDqQMJI9XxpQUT+bFPpCgsfz1xyqifHmxv1igUy/rQzaSZaoHbdaP4bq31Wxe6jXF07HZyt8vTZX3caUXxkLdeJlG3utrt6Bq0FDMmDAeReQJtaePYMvW9egJJckvBiAnNwthKkAeuUKa0at8dTgHS6MyrtzUj/reh7pG9eru6cBLL72M3Xv2YuKkKagqp6LMOqSqScR2o6e7FcuXr4LPm43rrrsRRSV5Tn/QMlPbLS/G1UmHHhnHrL/ysH1sVo/Uyj0jq3xWj7jSipizWiOaUj9cxLVjQKehb7jAcPx7QJTCWe54Xn0cWUc7JlqwcuUC/MuPHsbeg42YQ8WguryQ9WvBlpVr8KMfPIIVm49hwtSZmDp1iE0ouGhA6lerfvbRXbVZ1g0NCPNzoKLiZ9vUb+oXpw3sa2uzo2BqtVdUoA9Dd3S2Yuvm9WjvjGDalVdjUGUZ42iWlkaNK0jca4wxr5ShlHA5R+dbD6Sbz1/nloXIWmY5p06ewm8oy2rrmzF1+kzSSRbTqC/TiRwwumMdVS9dvc+8PMKHxphoT2EcZ91tLXjsicexa+9ezLpyLsqKS6wPBJpTEEU7bXfySOMrXYbeqQrsEpbF20ur0w//g3BxpAlFQgxDRLhCUjSMxW8toDK9FkOGDcfQoSNQWFRE3SMfFeVlGDNmDPKo16RXptL47of/CSDvtZF48SIWOY6FVT4ZH6XG2dqCl595Grv3H8Ww8dMwZMhwlBYXIT83B0MGD8SoUSPg95PzEPduMuttW3fg4YcfxcmTtcT/UOqy5SgtLcWwYcNQUVFhJcdShvR7gTwpxNc8Pk3KxlF3rhHPPPUSas+cQ83AKhQW59EoC2D7tt04cfwCBg4dTXnsJ1/pwY5t2/H44y+hrrGNxt4olBb4cOTIMWzacRRZBUMwoKqIPDJiPLWf7i4veP6OBpW62LpZTNzuxSiosFCgawbm+PFjeOKpFxGJJfGlL34Jd999N2bNnk1lNY9MZB3OnTuHqZMnISvDj7qTR/DCU08gM68Yn/3Kg7j+6msw44oJGFw9EAvmL0F9YzvGTBqHykoS24hBmDtzDmbwuuKK6ZgycywGVlbQ8DqO/IJKfPSjH0ZxSTaJIIJ1G1bjKdahpKQG1998Bz70kbswZ8ZUTJwwloReSCZFRsXB0NXVQSKP4sabb8Z1N92C2bOvRFl5JZYsW44TJ05i0oRxKOHA6J0ZJIGlBWU/fBBAoi1lUMnlxySd6LULXS0NWPL2cjK8sfijr/0prrlhLqZNn4qK0kKsWLIUe4/UYsSY8RhUVUgFSCfbhclmgs4+HtKDR3tGEn5HSZdC63EUIK9mlBUgzst3Yn6mBMpY4LPce0xh0sqT4kk9o+GVpFKpJFKQFE/KVUyGBzPVvRQrGVJqSzQaNyVf9OjYGgkybLmqKaliOK4i1OEM0kKZ/y2u7jXLprz1bHuUjHlLZPCfxrboXYl1r4SmwRGkGKbiMykiLN9HvVoKcJJ94vaqjUAwMw8Tx4/F2PEjkJ2dkUquVYko4rEw01hl7aJ5xvdapWIeLNUjlzvGNgNGIYqn+gl/NL6UPzvE+ko+305cKfoynPiKl/LTR1zVF34Zf2orw+Ru6Kahsm75CtTH3PjMF7+IT9xzO6bPnIWRQ8qwb/8WrFi2hXxgCEaOGWKGtJYqVYUE8aFvSHk9bI+tCLHmmnH0ax2Twi0RQVeoB2tWr6GC30V+Mg+VVJLUR+orMyQ8EeKvC4sWLWV8P+bMuRbFpXmIUoEXz/QaXtWfMpTY/qRmIpnY+kk0QsHMR8uPCPeoPa4Yy6cBIHdna6PP8C/cemm0EpW9NCBI8zKHDhx6SL/7r4GZqR02DkSPcYS6a7HvwDbsO3IekUQhxk+ehuEjKhHvuYA3X3qVgr4LkUAVZsydRSNzIBKxCFsRZlo1hOXGHfe7CB+FPOFJXgZ+tYuDR+NEhqToX7QqJGtvWigSsZVl4bqzpx3bt6zHhYZ2yoZ5GFJVznhyL42RLjIRjjsOm16P8oxx3AYsH1G9AauR6h1e5PfEh8puaGzEhq3bEcjJpxybg0KtUClKn/5SH6p/5bal/k73q8I0MaJmyY1WY8DFOsMfQEdLI5avXGHugNdcfyOysnP50qmNxp6c460E5iF8adKhr/uX3Nf18V+nGuI9F+vTD+8fEC8VPTkXgTxu88aNHOsxfOlLX8Ftd96BmTOmY/asmRg7diyCwYDRTXpV6vcfn/3w3wUyp4Q+ySRHEjlgsox40RI6WQ9i7W3YunYtKgeNwuf++H/hhqtnYsb0KzBn9kyMHDkCgQAjabLV78O2LVvx3HMvwevLxl13fwj33HMP5lw5C5MnT0ZZWZmNdeFfk5upwf0uMM8WuS57E4hQ3jzz1AvYuG4H7rjjbnzyM/dj9pw51GUmYd/eQ1i8eDUGDxtNfjwArecP4pUXX8G5C5344le+ig9/5E5cMW008rLzMH/xOrT2eDF29BAU5VKeqWEpjtgPlwdshUpdbN1Mga9/UpJs35ObF0lw147tWLluK26iITNnzizb6K5YgcwcnDh1Blu3bsH0qZNRUVaM04f24eXnnyYhDsOsq69FBglOimkGkbl2zVbm7MPUWdNQWJQjsW3Cz23fEGKO8SYsevNNLFqwEbOvvJZG0ZUkUqAn0oz5b75By/w8vvLVPyPBjLUBIPLQgKBcAnU+Em4CeTnZGDl6JPKLS2xwSKBJsG3etgNnzpzBrBlXoGZANV9pVt0h9LQy0g8fBBBDlGJC5Y8GixGAraZ2o6utCUuXr0JhfjWmXTEbuYXZpBMPqioLcfTgQazfegSjxk3C5HGD0NRwBCtWrkJLTxBtHVEsfO0lvP70I1i0cCXONsQwcOgAZASoFCblphXABdLOk488hldeeAFvvjEfa9evNyWxvKrSVm21MV0CM9rdhZVvv43HH3sCr81/C0tYn0VLlvH+DRw5fghZORkoLSnB0VNHOR7WoLOjA42NTXjqqWfw4guvYtWqDQj1RFFVPYBM21HkQuFurF23Ck888QTenL8QixctweZNW5GXX4ByMmwpn7W1dWS0b6O9rQ379h3Ab37zFNrb221W602W/ezTz5gBN7C6GpvWbcAhxkmEI3jx2eexbdtWZGZl4tjRo/jpz3+FnXtPoqyiAkX5WWT03di5Yyt+/cijePWNxVi+ZgdOnW1CJd/nZAcpg8LmziRbZO++fVi2dAn8tMaOHDmCn/70P7BgwUIcPnKUYzCHwqXU2mMrYTRaDm/bjheffAqvvf4G3l66AvMXLsHCJWzb1q1o7+xAOcvIzsiggUUFhJeMDRlUGvf6SLOYQEIKubhWuBMbVq/EkZYezJozDyMHVNpJCkXVeYh0X8DKFXtpBJZj0ozRWLuZOKFQygiUobw8h3Wikg6WE3Jj786teOut14iXFpw6dQwvvPAcXn71FevvQ4eP48zpc1i3cRfefnst1m/YhsriXJQUZ6GzuxVr1qxnPf0YNnQ0Nm/ejIce/hmWrVjHvJKorqpBIENHxocoWOX6FcG6tRvw84cewQsvv47Vazawn06goqIMxQV5bGGEeloXdmzdiO3bd6OnJ4blK1bgmWeewWLS16nTp2wWNDc31/o0faVBwrPP438JcRqWZIPwmNtrHD2dZ7Bn/1ZEXTkYMGQmQrT4Bg4qJH2fxe4NWzCoZiq6vdUYMnoExo+ulFcoEtF2bFi2BC888TTmv7YQCxetxq4DR4GsLBRXlCLAcetzx3D+3Dkse3sJ2lvaSPvNeJo0KO+H1evWo7m1BQMH1sBPJVSruJs3rEZrR4Qy41rUVJZQVnTi8L6d+MkvnsOy1QeQn52FipIMjj1yhaTzbUIZWb2Q7gPRkPgEx2hDXQNWb9iEhCeAefPmoIR59O27NJytPYfnnn8OjfX1KCjIZzPITziGGpqa8ewLz+PY4cOoJk3v37ULTz78EN5a8Ba27dyNY6dP4/jJU1i3fisNrA3Yv+8IivJyUFpaaPsgVtDw/9WvfkU6W4DVq1fTEF/EazE2btxs+zbl/eGn3Ow3qN6fYFjRYJFBxQcXedGWjZvQ2NSEmbOuRHGZDH8nnnQL6RrivTr0QMZU2rDqhz8sCGPSHhyjSl4BDg70VzKFHJP/GIvyKd7Rhg2rVlLJzcP4WXNQkK3JGrIP+0s+Yt4DCUQjUcx//S0cPXYaX/3qH9PoGg9vyitDIPzrSsN74p2vNd2EpA5/iqG7uxNPPv48mhp7cNttd6B6UCkTylU4SR34LDZt2o3qYcMwecpIHNq5CsuXrcIVM6/FLbfeQt2c+XsiCHV2Y/4iyvmTdZg+bRwGV1Eftlb2093lBDPM05dDbiQ4EYF1vkSTB11dIbQ1NyPc1UXmocMkIhY7IxhEXm4Rmhu70NjQxhA3hU4Q8WgE2zbuxIlD5xnmKLu7j+7CqbozyCkoQk5WLnPV7KKmwSXIQ6xADG0X6rBm7Q64MoswY9YsUJ8kRHDu0AF0nW/EsDGTkV1caDOZnT0hdERpkpGnkVcZyI1GriUxrQzE2IYYla5kD+I9TWwGFVNPJsJa1SBodrufqX3wwJlXcliiuQfpsiUgMhzSio+KUzzhR1SbpQwScFOA+QKZtK2pkPd0W2jDqYN45fkn8Y1v/iseeep1nKGSJ6WppfEcnnziMby5YBHCsTA8ZK7bt23CLx5+HNsPnUAgvwjlA8oQam/AU1Sinn/yOdS1dMNNI6Kn6SxeevYVPP7cItS1hWhsVVBJp5H35lNYQUXzQjOZsC+bdJ9A3dGDeIJGyrf/6V/wm2eeRWNLEwpJ28eOn8CvH32citYaW92JRHpw+PAhnDtXh4AviJLCQgSpva5dtRS//sXPsW3rTuOT7a3naXA9hm99/yfYtHkj6s+dIKN/E08+9QKZ8Cns27oFr776KvYeOYmtVIi//71/wc8e/w3OXKjFjh3b8ZOf/QpvUrFrZvvXrFqCVVQGm8IUO/5sGoxBFBWXIMcTxqbVC/HS/AWopSJs3MEGHy8aSLWHd1AQPIK/+Pvv4bUFy5FBBTQvNwM7NizFm68+h8Ona4k1ooxxd63biieffBlrduyHj0Zmfr4He7etwPPPPYud+4/ATXwF/AGiN0GDzUcjRK6ZEngODZgyQ0gNfT5GrF+jCS/Hf0ql1ipQNIYcCkVfMB/t5AlBvwun9+3CK795mn28mzimAcH8RDsdnY1YuHQpXqbh2E4lvjC/GNk52cjNy2QfRFFYmEP+VWhGTGFhHsOzEbfVFe0wjSIYSeDsyQtYQCV574mjNLQK4OlpxvyXnsVLr76Ntq4Ygt4MdLa14MXnXsGzL7+JiCtJg78SHhrk61e+iSce+xW27tzPRvoQDXdg69ql+OfvfR8/JH727D0IfyAoVob1SxbT+H8Lte1tWseylY2odAHybjF1OyREbpG6rK/6Xu8E8UIpeeqLFGimNBxFSVEJrpgyGnXnD+PIob00MhsxeOhYTLliCnIzs8zjIMzujnGcbFm7BQdpPHj9MqDKEcxx03hfiN/86mfYwbq7XJnM2IWmU4cw/+Xn8dff+if8+jfPMI8WFJaWoau9EU/8mmPqzYXk7VFKh4itaEU5Zl0ywln33bu24le/fBSr1mxGiMqMj0LC6wmyWcK5JsjYCbYca0WlQB3i/EgxiVFx8VDxsD17WtVlsPiJ9SMv8RJ5RXTWncKC55/HoiXr0dAWYZgyiKKl/iTeeOkpvL18Leq7GBbMgj/Tj6L8TGSQHgL+HGTkV6CgtNi8NnIyAwzTvjm1wYvszFyUcjzlk36KivNYcsImgpYtX4PWlnZnZVpF9cP7Bt6NjhTfc4mGSDeUOzKWojSY4+GIeTE4H/2m7KGelHR7KJfIaRjfWR3phz80SHrIcNHuR2MFfS47rCzNN4hHn2SPx4tIKI5ITxwdxHGXPCksrtziaWARt40Np9DYeBrFJcWoGlBhtBCNkQ4ou9MrkaIBTXrywXH9VxHKR4aWdG2WbYcPaVaStdPBGINrKtHccA5bt21FV6eOlnCjtbUZR08chz87B6NGDYE/6ejZp8+2oGbISONpWi09t/s41q5cg6KCAHyxHjTWNaJHwsEa1w+XEzzfIog1CIR8CRY7BUxGCY0PtzuI5uZ2rFu5Cq31jZgyfiIVhWziN4ZjJ07ilZeX4/DBelx37Q0YObwCGQEaO81NWLlkH86diWDU+BrUdxzHL5/+FYVSDHff/SlMGjPM3PRF1h43jTTt0+C1dcUGvLXyMIbMuAP33H41cnLCrFQTatevxb71++AaMhX13d1Y+MrTWLnwDWyiMtkRC6K6tAJZWoJ1k/ClGnn8VDposNFYQ7IZh3euw2/mr4C/aiLuue0mlOdlOG1MtdnaTcJ2BGY/vL9B4ojMin8jWp0wHsg/7k4kWs9iDZWfSGAUps6eg+JC7amIoqc7ircWrkUjaefGm6/B6KE16DqzlQrpIqw9lYWJs67Epz96A+6+604MqanC+k0rcZ7M68o5s+AOt+PVF1/D9v2n8LE/+lPc88CHcP1V0zB9WBVO79yLtRv2Inf4RAwalI+mPUvxvX9/Db7qK/Hgn38VH7vrRkwdV4qmk1uo75Xj5gf+ElMmD0O2qwftB3bgrcXrcLwxhBks5/Nf+Axuv+0OFBaVY82adRwXwKTJo6lcJdHW2oaa6qG45cY7cM01V+PqedOQG3Bh3eIVyCosx8ipkxBpPowXX1+IbadC+Mx912HGqEoaRQfRGfXh4x++GwXxTmw4dAy5Q8chcfqstT1jzGg8cN9taDhzFgvW7sbsq2fjthtn4NyJg7jQncSQyVNQTqOovKwc06fPwNyxbEvtaZyIF2L63FkYRGXQ9lmZaRXBue0L8NbydTjUVYa77rkfX/3s/bjp2qmI1+3Frm3bgapJGDW8BqHm83jxsdewdNtxfPhP/xSf+/y9uGHucGQl23D0XCemXf8R3P2hO1EapOijoSE3NAkjGVQSCz4KPju/SMacDAHRRLSJBsly7G3Lxsy512BsdSEZDOPEE9i1Zh9W7KvHqNkzceucUcjuasaxbSdQ152D6fNmIC9Dh9604dSZw3h+/ipUDJiAB+6/H0OGDcG06Vdg4tThqK/dj4zcQnz2q3+B+z9yO+bMmYErZk1FHgWpJ9mDjI46bJ2/EbuOtCF/6hTcdd/t+PQ9N2FGTQFWr1iFtQfPY+7V16A0z48dKxbjqeeWY9Dkq/Hgn30Fd15/A66jgZLpraNivRpt4UKMHDcUed4W7FnzNl5fthu+0jH40uc+iwceuA+zpk5G3Y4t2HbkADImTERNSSnrT0oX+5ISJyNKR91LdFM420sT3hLjBMdnKQVOn0rV0AmsNkvrC6G76xQ2rN9Noy6A8eNGovbsVtpYMZw9GsawIaNtf8D6lbuRPSAPI+aMQCbTtde2oLpmGO782AOYce08zL5mCoLxs9i9aQNiwRpMvWIcgggjeXo7Fi9ZgVVHuzHtymuI/8/gzrtvwbDSLGzbsh57Wt22R6/K24wtq5ejpSWE6bOuQnPLUfz6V/+BuvoY7vvEH+Hjn7oPQweXkBZoCLLuMVc3x00sNUuYmoFm44yry8DU/isaaBfqz2Ltpq3wZBRgzpXzUEKDXqextVMmyB6jKct47Yid2o9181ciUTUTU6+9HuXZyqmNhtZ+rFy8AMniiZh03R0YO6oac+dNxaRRA3DqwHHEM6rxlb/9J9xz53W4ae5MzJgyGUVFWgklbihPq6trMGvGdFxz3SzS12TbC3bo6HnccOM9uO22W1Ccn8FyhD8hzmrfD+8nIEqknIsnmX8YiWzrtm1YuXIFTh47iu1bN2Ll0sU4ceosygZxbNCg1mcHdPCPjHjpWKZ3GIVq9PW9BP04v1zgSppvi3Olulk/dkCUZJl4Iw2baCiClctXUsfcjyMnGrByy0qsXP0m/ERkackwyC2DdhKOnSTP37EWvpwBxK8Lzz39Cyx8ezHWrNuCztZODKgcAH9ACwfEPwvsSbn1Gg3E41RZKd9EF8wsQf4jz4KA34W8YAB7d+3Bxl17UVBegtKKHCxZshBvLFyG0VdchY/fez2yYs1Y/tYaHKmNYvYtd2DUoFyc2X0Ab7+0Gb7sGCaMr8aFQ2dQXD4QIyeOQqZc8vvhssK7JsKc5UkhXPspxCw8GD6citf9H0Wosx3/9J1v4x+//ff4p3/6Jl555QXU1zdR6csyQRGP0G7PzcFHP/kpfObzn8CmbWvwl3/5t/j7//1DNNfH8akHPo/rr5+pCT3t/zamovwFPU2NWL9+K+L+HFx5E42pIgbq9DYpBaFuHN13ABu378ZhMqlwJIxErAuHqZQ+9B8/xmuvvYX2rqjmM8mwtPbFXNUMjw/Np2vx4suvoL6pCbNmzUBlZUmq3HT5Tpv7Lsv2wwcDNNPTizWiMk66EDW53ZlUvp1VinC0B2vWrsPBg8cwc9Z0jB0z3IksFz3+XnnNVfj8lz6MkUPIJEmUw0aNxOe/+AkaLvNopGfiyIF9FJLHMOeqqzFu6kiTn5rNLxo6EHfecQfiPVEcPHISbd2daGo6g5b2FtQMHIJhQ4ut/LKagRg+ZAw62yLopmEn2pSRl0Q3srNzcA2NpPs/+WkMLq+xNxMmjsWXv/hFzL1yNrxsjNfnwpgxYzFsxDAEssiYvS74MrMw78qZVLzy0NrWho5QF5lyDzKzaRzOnIcrpl2BLDLlzvZOVA8YgnHjxiM74EZTWyvqOkOmcA8eOBCzb7gRAwZWo4vjOphVgGmz5lDxy0M83Iau7i5b/ZUKrv074NjSSUEZnhiSHFdSAh31XGOIfS1BFe1CTmYGbrrrXtx0yzV27/ZnY1B1MeKhDtS3tFmaro4m1DeeRjbLGj5pEgLEF7yFGDZoFLKCeegOu3gJt8Rwkn2WkOLh4Fr4NSXEGboGdpuwtWnDe9xWKwRxHNl7CAuXbUV1xQBcO2c643gwevJ0TBo7ChcO78apo2fIN6jA0uDcv2cb+UQLrph9FfILs804UduCQT+8Xu1xo7Kte4USkXJz85CD2sELEfZrOIaqUirLV1+NUUOHWNqCwkwabB60tbeivbsHHc1N2LVxM4VxEDfdehtyMnJZyyQCRfm48YYrMXr0UBw+ehp1jU1sFwVuLIIKndh07ycxfcY44sCNvIIc1JQWEr8tON/exlanqqoS2UHaTyQ3IyNWCmrzzzdjij2V4nnCV6rnDNSnDm0KHFeWznbmE/PYHsQpE4bRMFyK7Vv2Ize/hO3KJUWEOYw6mDJhH2qeOmc2Js2YBZffoY0sbx5mThuHAaUFuFDXhtYeJ/egK4Kgx0Wj6xbc81EaRQPLaGgBQ4cNxqc+9UnczH7JzqaJlojTuPGxjzuxZdvrePyRp9l/efjsp/8XPvKxG1FUKJdcNsV4N5UhtsmhFJXudEiqWwhqu5548VYKjZ5MMeaNspC0UX5Oqhh8sRCCrIPbm2UnSsatp0OkV62GRvnkRczv8CHhWoqQI818cAeC7B8goNlpJ9DKsOrpUh3dPpw+fRoLFr2N0vJKjpmbUFGRi1gi4lShH9634AwfB5naQzt56jTcdffdKK8o49jpQcOFWsx/41X84qFHsX3Pcdsf5/c5xpRDo/0o/oODOjx1iRX0DkUG2Nwc8Wm6oA4t4vidTZl//dVzURgUD+3BieP78eh//AC/efgpnD2n1Sof44dw+uRB7KYOsOd4LfEsF/g4Lpw7h5/97Od49LEn0FjXapNa4kraL6rPmQiczyykXrAOWr/WKddasZowdQoefPDLKC8vw88f+iW+8Y2/xgvPP48pV0yjbv1plBXkmxzXlhiaZORFfuzet4txXqCs8uPOD92BkcMog0IxdLR30aDvp7Y/BFyUoX1ARCVeoQ3ugqLiItx99134yle/YqfqNTQ0oKOjAzWDanDV1VciK0ubLkWEzC4eQ2trK7z5wNTrx6OkvAJlOUNRFRyGtrNNOH70ELqIWwmiiGlHtK6SAezZtBP7DhzB6EmjcMWMCsknEpqql8m4XrSF26lIZOPWW2/F337z2/jBj36Ef/zmX2BgUQaeePIZbD98joqRTuOPI4dE7qVCEWlowUMPPYeXFm/C9OmzcO+N0zk4VKbapTY67euHDyKYKuSA3bjJXGjUx5PYuWs7fvHLR/Cjn/wUP/rRD7Fw4UKMHTcad9x2MxXrUsaVaxiVnUAWykg/OfIYUhYUjIGMLNx2+9346Ic/jLzMIM6dPYMzZ86irLQYGaRJkWxYCo/bj5zCEgQzs9HS0oweGnO5pUXIy02gufYQWmpp9DPuufowjp1xITevClXFAeRYXXsQ9Ubhy8vh+KhCTn4BQ6RWx1ifXNx95w247rq5yMvJgg49aG1rwuLFK/Djf/sFfvy9f8HPf/B9/OznP8fJM2dsr1GMyq99a430PJyGXllJqbPawHGck5VBg0AHGoTI7HUAg+nYqCgvRaVO26Sg1wyZz5tBJVYnUTnKtDuhwya0+kSQHwPrJ5cVudM64dZjrHNKW+Svx59F5cKDARUFMHvEtFMKCho5cok0lxiG5OQFUVDqQnPrURw/cgidyiqaiTPHuhHt8aGkqEDbbhA3V+CwFhtMGVVdnIt/zbLVPCNB9eN7uW+dPHGMQuVF/OTHP8SPvvct/PqZ55CgAfDZj92NGSMH6vgJxLOKMHrqWFT4m7D27ZdR3xNHQ2MM2zfupfFQhgnjhzlKsAm+BPuXFyseDmlfk8QXQTyMxcpTw468pxBjJyK3IBcFOZnGvtRnSRoa/kCA2eggkxiamltw/PRZ29tWwH5Q/gltAmU+gdwilJaWo6H+Anpo0Kr73N4AMgLZqCgrN2atGkXDnexu4sDthY8BKksLMMbMk7REvTEaf+pvGRgeiyflXXXV0fxGxX14n3MnN7cUvpljIuFhe2MIeDORGczF0MGj0NTYgtzcLCqNmpRihyQ74WXf+5Je5hhGvLsTK99ej3/97kP4tx//FN//2Xfx0C8fx8bNu9DS3GoGqWoZiUQ4zjJQUVWDwsJCoyB5pGQUluHmO+/BR2+dh8rsbETjPva3D0eOH8RDj3wfb81fi1lTPopr581jDaWAaBVHbdcqnI64p+GT1OqO9YS61Glcb1N14+yUcGaqpdpaLAtXPZxuUXrRbJD4o3FIo9YmrvWKYAeJkM713SGtaDk5yOXLA6/fb3iOhZy6KVz/eytiXhPkH7TGuyhDly9fR4WnB/fccyeNaec0MDnDu20Sw2lHP7z/wMGt/hL71JN0AM6f/83f4Fvf+x7+6Qf/hn/mdd1112HBW/Px8kuvUCfqMmza4VlOYqZO014//MGBOBAanMtFuefsqde9ndgbDOCGO+/CX/ztN/CP3/4GfvCP/4Qf/cv3MXpAMZ7/zeN4a+EGtIsnuKhxhrWQUIaZ19yGv/3775qL9re/+VeoqCzHM8+/hF0HjtlUjOa4xLeCZBpe8lp9yzXKcZ70UXZQlmlvsVy25V3V3dJqcnjcmHEYOXwE8rJzUKnPMDCs9sRpdHWTV/szEHG1IRJrxeGDR/HqqyuQmZOHWz90NfKqChGKkuJcRaajmGd+P1x2eFc3p610/aYPbBDVBSlI5117Nf7uW9/EP//rv+Lb3/4Orpo7B83N9Sig9lRUUmDp62pr8Uta1Cs3bsLtH/kIfvjvP8Q/fPOvMW5oFd544Sk898zzOHu+wRSrrrhUMwpvEs/6ZcvMOp973ZXIpizRjGvchErQfEYHjx2CiZPGYsigYuhUNp2WNoTEffvV06nQtuLQmSZ0UXBpL4M70YbuCyfwyC9/jV8+vwAjp1+LL3zhixhXw7TMUW1KUHG0thHU1n7j6oMEfcjW0CY86rSwAJlLAh1dHWimkXPufC26u3owZcoUfP1Pv4ZpU8fbDL40HDullIqw30MjnNlJqTXjgGE67ELfJ7Jv60ippoIU9FLJcciFoELdCIVj6IlJUY5SkfIip6iISl0Plrz1HL7/D9/Hv/zol3a1dWfhwx/6OMaMqHDciUDjxkODn8paVFOdRoccdywr2hNyBK7K9STR1NRg+4oee/w32Lf/MOqaGnmxbXUN6AqHEA6HGU2iWUqwRhPrQ4XVTYVP+5t09LtOm9PJaDo8Q66u8ZiMqwgZLotmGh38oP6T4aCe1fjyueUlrvPnVDXTCK0MrQClTwtUaO+6hvmVBykQaHDFw4YRFqoX5lPuZv/pyGyFZGV5UVDsx4GDW/HvP/oR/vWff4kff/dhrF6+B3NmX4+5s6chkwPVPqyrI9nTXURQaY4ZpZqlDCoZV3LzpfGRlOtWewtxfx4NTS2oHjoMD/7JV3DHrbOhBT7toYx6szB2ymgMrnBj+9q3cOr4WRw81IBjx5owbdoMVFbksl+Yrwq2lviMtuyIb1lRAgYLT3Jbl4kZoYUeZl/6g15k+hRCEI3x0nY+nd4kQ1Y8R99m0p4L5e6z1Lxj3lrhD3UTL12dRo/qS+0Hc7sC8JFOtcdHBWu3T9SlJ62IOP2vUybN/dXNAuXaRuvFxf6QIRVlHjKE7QTK95SswidxlMKzWhQLu9HREkKGP5cGXR4NqrH41Cc+i08+8DFUlhdxHEVprMdpTLE8WkOtbWfw7FOP4IlfP40De/ehsf4c6urqaUj1oKeH/JZ9I8NYdVbHuf0BmkMyrrT3UYoGa8GsZKhkMkpA/eIhPZHetIdv8OCRyMjMwo4d23D0SJ31mcw4QTymseNntgxVp1qfiKfbTx9QOC/1Be9Ex2q7QOaVk4pge/C0BkWcsN91zP3Fsa8+ZFk0WLUBXF3m1ILjivlqX1eCDdH+X4XrOH6zy9l4uXtp7MNL/MR7sH7NBmzbvBdXX3Ujrpo3k+WQXGypkSlFNP3wgQDTHURLNoHEe46zvLIqzJk7D0WFhTi4fx8ioW6H5nhpr7c4ttFaP/zh4D06PB1kum6aF2jZhzi0FSRNfrh0eFoCNeVluHbWFATIew8fPoAw5WfAl4WBAwZh+JgxGDy8EH5fJtNEUV1VirvuvB3uQBYOnz5PHYCjmoV5yRt85Hwe5quDZ8RfYinGo9OENXMjytChPY889LAd8PQXf/bn+FcaaZ+8/+M4e+wYfvrD/8CWjfspc5LIpNrd1H4Wy5esREHuIHz8c19A8egS8uRW8l8aZYlslJTpkJt06/rhcoJQeQmkDYu0UeUYH1TSpACQAPwZQWRk5RFBBag9dxp79+3E+AkjUVpWyFRxPu/F5i3bMHfuzZipgyUo0wsqs/DRj9+IgTVl2LVjH06dOG8Fy30lmQhj64b12Lp1BwYNHYkx48bZLKyUFcfVyEerOxcFzL+9uQnhTql1JD6+81GaZXuTdnytBK/UARNDXS1Y+soLeOhXj6JyyDh85U/+ErMmy3/fabDaJOJKG1SCfoPqgwLEExUX+02D4c5DBkPlx5eB6TNn4s//v6/hH7/z9/ibv/5b3E9GVD2gxHRJbZ5nBiQgnQhGIyJE5sYgueY43wMSdUm50iwS7ACCzMxMO+lLh4RJEOq0OdFlZziBrlDETmXL9Ptx9uwFERWN/ippeTh+9Dg6adDdfvvduPueG5GX56N+LYOK6ivLcvtpyFDplY4uU0MMVzzctHnNZJOijxw8gBdfeBFeMtZv/O9v4Nvf+y6+9Y//iL/533+HkePGMjnpXlNfUi/d2ksiK4mZaAY96ih3CZYak2CgVmjfNGL1pdArXiDgp8ETYXU5jnwBJw/2p4+p/LxUHQdYQyqSGmdyNUifkaQxZ8C8eqLMm3FoftiMvvOWymsg0z546UmG5VyHltZmtLa3YkBVFcoLs1F7+gSOHT+FUeMm4HNfuB9jRpU4vWTf3LIOcVCcejKQEcUaWDEax3EdRgIMHliDTz/wUXznu/+Ev/3Hf8anP/tZTBo3MJWe5h/TyTmwtKYU4/T9pFgLag/sx+EjDRRsBRg3fiJysjMdw1vaMv9LsY9T6sl8CTon5Rj0rlrwVyc+xryMQ6uGZqz1jYw80Zj2TigvHdaTl6/v8FWTLjoQ6dYBKSxAlhCR390RYt90YEB1JYoLabR4M4jGIPHDvlcWjB2TMPYzFfmeaNkvOlJRfJg7Lw4AAPzXSURBVO/j5U6GsHfXJjz6xG+waPlatHWFWDcKbRo0zoZ4q+57gHBFOrIILoS7Emhu6GTefgR92SgtqsF9996PmVdOEenTyOLYyEki3NGKZHeUODyMl1951lbUvvGXf4F/0sTbt7+Pr3/9LzFx0jTyaK8pIOoxXyBIepADHXMPWA/yjuWTp7tcLI91lQITibPFHJfVVWPw9Qe/gy995RPYf3gpHvrlf+DUmTZWQ7TKceqXke+MAzm/pKG3neo4Q4j+iDbZZ2yjyjR6YrBO1HNGvp7114cQjaEo8/ezr1UfB9xoaetCR2c3MoI04lmI0wJmwvrHGV/fcQyQFnophdmxSSRTxhGzIQ6PHtyLpYuXIT+/DHOvvApZmeIDHFdiAszTMegtdT+8z0EfMhd/NsYqnGkpmNj3+vyIcczr8C7Rl6jPufQ3jdx3Ilnv+uEPDcKJ/kkzNJ1XXgPiA+QtkpviFT7KPjfHt4fPGUHil+n81Dd0YFJrc6vOg2A84k+DHRHkZmfDn5WLBI0sOVtJ/9A3D+OhdhzYtRUvvfoa5r+9Hi126ISS6QAmL87V1mL+mwvgozy+/ZZbMHRwGWkpAzNnz8Kdt96K2pMnsX7dZrJpH4aOGUx+mkAmFe2bb74JeeXUw71R6iWdOHDwOHX2bFQMqLQJN7bKyumHywfs5ouQNjCkUAm56XudUqJvqRhQIUtEemgArcBLL75IQeDHHXfehPKKLIRCHaaodXeFsWndTnQ0y8FG0IYTF46gtqGRCkkRcoIFOiOFojqGhvpTeP2tBbTg3Zhz9Y0oK3DcZYytWHX8KKkaiMKSIhzevQt1J86mBFgATVRyd2zdjlHDhmLi6IHIY2vam89jwQsv4InHn8TI0ePwD9/5Fq7UMetMkWZVmo1IH12qdvY1rPrhgwDCpkO60lEccEwAKf0+MkG5VAWokAaDWaRdrd44BpLPZokJ7gDlnocKKcNJ6npnFMIM5ROvVSmtVlUPHGx7nZYvW4ojh04aw5TJ0HS+HktWrkNhWTmmTZ2ELIaftvdZ+Mof/xl++vC38fOffR+/+Mm/4ba756CAfE5U5jiMUXFENoUtlXvybbkfCsTw7EO4dqgAmSyvzvZ2O2q5umYAyirLbZWprbMLS5avxOETJ0nDrLvNrjlt1OqQi4Jcq0/KRx8flDYe571cCrQiFWPbdBy8vvxuLn7yGafwiLMi+phwnPkk9V0hM9QIpmBSefRlUTD42caYrexpnOqNjR4y9wT7W3ETIarKbJOjOHiolPoRSdBIY9kyxBrIB2qpEF939U14+Gc/wWMP/TN+8st/wxf+8isYPLQAGUymlLZHRfuhVEBqiDpKsE55TJt0BP1Q+Mio0SRLDnHvo9XhCxYhK5gJd4TxaeDGWVk/41LtBa0EXHHDdIwcVoY3fv0I1q7djenX3IWRI0aybY5w05JJkgaLvlGVm1uCluY2nK3VyaWsh/Li5fA3qtvsc7kwh6JdtIV1DDuB7U6wHlHyRH3QNx4NU4HWx5FH48L581SoFzMS+5J0BuJ4+879dvy96KmsqIS4kHngY1l++yat+J76VLiMUah7PDQpaHTI7DRjn32UjHbi9TdexB/9yZ/iW9/5HjZv38t+YVryb7lgahI91ZUE3Yn41J/6J2NEiGMPs99DPcQAlQXnkCIXghk5DsJ5ReIhRKItyGJn+WIe1NWeQntnCwqLS+1j7kF/Bo3DNqzfvAMnTp41AybdV/JECLMYq4v+CB/xKNtl0xXwym2RdXF5Mmmg+BGOZKGoYAy+TIPqo5+cjbUb3sIPvv8QDh9r04i3MaB8dIS/Rpg1i5fhwLl1wCZiyPfVAJYvChIdC9RETbiJPpyEHmQVlCBYkIvOjmaEulvtxelTJ/DKq29h3/5jxE/ETpJVroKMjFwUFBWhpaUeZ06cNgNf3zZT3umFTRXc2VaH1WuWo76hCXfffS/7SyvXGseMz7J7q9AP70t4F26kP5g/Ky+OF5AP1p8/jWeeeRbRUBh33HYrSosdDx7HtcxZndaIc6hTF0OMPvvhssJ7DqyUEWW8iNyBuqHNaOjXT3wGM4xXHDi4D8+/sRiZ5OE3XTPXPKkqKwaitHwAzh7ej1P7zjioJM/vaqzDpk0byQ/LMGzkEMohlSMmEEeYvOTVl57HV7/6VfzV330HOw+cMp4a08IFy4+RRto7OrD/4CGcPs08U2K4u7kFZ48fh4d11YeiXYEgRo2biGuunofC3Ey2IT2ZlMSOHXuwcct2jJk8DjUDKpireHwvE+qHywR2yl/qvhdkcMjY0CVeEacCtvfALrz0wsvYvW0P1m9Yg+WrliKTFvjdH7ofU6ZOQcAvYRBGkFJBm/DWrN2KM7S0z9UfpVBdg0effBlefxU+/KFPYPb0icjOJFNJNlCpeJPEtQyTp96Mez72MWTm6ahkmUu25Y93VGCzqDhQWzh6rAX7dhzGsX0HsXfnaqxcsZxC3Ytb7rgXE8ePRKY/iVVL5uMH//wD7DlwFoNGTIQ/M4Dd+3Zjw/pN2LZlpymnBfl5CGjpTLlbG50Bpft+eJ+DjB2ShU5806dPfXzUioC0qu6mRix5ew0iwTJMv/IKlOZTEaWiphhiVM53XaSQJ1F36hhWr9uCYPEg3Hj1HGQaDyXLIZ1JrimqXKCytSIbzMPegyewcds2HDu5Hzt3bsDqFevQ1BjCdTffjplXTUGuL4REUxMWrz6Gw/UhXGiqxfatK3Fgyyoc4u++M01wlQ+ksp+JDNa39sgprNh4BBVDR2LWtHHI8lCVJEN00ajRSpkxX3cM4XAPjhw7hX37TuDM+QYcOE7a370Te3buxoFDRzBq7DhcOXMmujtasHDZahSUVeHamVNRd+IEVrF9A0eNxNzZk7Fj/WJsPXoOIyfNgafxtO3jmXDtrajKd9sJnuebgJtunscx2YZN6zbRlszAvKuuQlbAhY3r1tiBBPrO09LVG3C4tgkdHV04ceY0lcd25OcWIisziEN7t2Edx9jI8Vdam+TiJ2lwkLxj+64DGDJqMqZOHEHjoBP7d9Rjx94zqG1qwJ59W7B/12rs3rqefOa0fd6gqLTADA0fDTU3ESL8ya4TrsUVYhRxAu0Ts5WkcCdWLFmGYy0J+6jm6EHlCDFmMkZTk+SRJG+ImRHIi/zM5e6ENzOK5nP1eOHR+Wh1FePLf/Z1DKvJtnwlQLWWpVUyrVC5iZujp85i94EjOHboEPZu30OcnEReVhEKinPQ0UYDaelqhGiIXDFvNgaUlcBHWk1QGV++ajVOtXTixhtuwKCqCjtMpLG1A1t2bsf+Q7tw+OBBbFq7Hjt2bUfVgGG49rpbMHRQGUJdrdiycQsOHGvH9Lk3YNiwfNaeQjfeje0b1uPw6WaMmTYXYwdV29Yp6XTR8AUK4v3YtPME6ho6MHrsGEyaKFdXh/7TCrsg/as7M6aoRCRpoGkVs+HMGSxbtg6DBo/G+AmTkJFtGgHpg6lIq6H2eqxcuhSheAamTLsSeZntOHL4GA4ebkXdhdPYs3cT+e4hGhYnsHvXflQOm4DrbpyDXE8CTSf2YMWWAwgXjsTV0yagNJsVZ9kJNkBjT852gnBPHOtIb22dIYyfPg1DBwzAkIEViPRE8OyLb+Lw8XoMHTwElcXsF1rwCdKBVgucD1imBjFBf100QrU3QhMuDRfq2LaVOHr8lO33PbLnILZt24HVW7bgDI2/otwC5ORl28pUkvjfvPsEjp84iJOnNmP7lq24cLYOdXU0HgdybF01F5U5NOvIZ+QGKBlyiHSyY+8hNJDH7Ny2CQeP19IgL+aVwXZ2YtWqt/HE48+gqTlCfS2P/XQY67esx7YdG9He0oqSggrqcBKoVv1+eJ+A0ZFz2wdcaG9vwwaOx0WLFmDrFtI9x/Wypctx+kwt6eNa3HrrTSguzKHCTpSSPnSQjTMOxcmcPOxK0Ws/XGZIdbNYmQPyXNCDgw+N4WbK8jWrVuHtRUuxfdturN20CmvWrEQoEsBNt30U1103G1kZbvMQ0ScRTh4/gW1rNuDE/oM4vW8zZdEinCL/nXvjHZg+c6KdQu0mj9Ne02hbA5ZT5i5evRnBwgG4/trrMXpwKe03L6Vb3NyFM71+7N5xADv3n8DJMxdw7OB2LHz9JeyiHJ11FXXle+5AcXEQ2dSXc7LL+f4c9Y1tOHXqINavW27fOCyvHGGH/gweUcg2aWpO0q+fqVxOuMSgEiGljYq+xkU8HsG+/TJKtuDUibPo7GrDxMnj8cADD2D06AkUCpq3pwHkpuVMZWFIzUgSWxaaWhpw6uwJKpdtyMmvxr33fQI33zAPOZlEqyeEeE8rTp08D1+wFNffeg9Gjh5os3m2kiBlRvStaWVPHOVlpWRKg9FcxzyPHUDt+ePIzS/ETTSmZs6cgdwMEmO4FRfqTqO9O4nqQRNQVFKBttZ6nK89jgsXLqChqR1VleWorChDRoaOTr9oOAr6trkf3s/giKIYFSi54pDsCFS1e7RfI44BoydjxJghVPKITzOUfUwiXFNB0uqMS9+W0CpCAINHT8TYocNAu8EUGJ3dI+aqErRJX5vM9aHWiooBOH32JGrPHkVt7SnbV3LvvQ/gqmtnI4Pl+OKd6KSitXDVMZzsiCGSqEOo5Szazh5G7eHNWLJxF/Y2ejB4zGCUU1lKtlO6BoowZMwY2wvo90bh1cwl6V2HHBjfo5Ko8VRSUomO9gjH0lk0kZ4ri0tw2y23YdS48Rg0aAiGDR4EfWy7KxLDoOEjMG7QQAQ0kHxBjJw4DkOGVrFvmpFdNhAjxk5BRbYP5RVVGDFpMgp0SkbCjcrKkZg8eQSCfvZAPIkRI8Zg/PjxSEZC2L93L7Zt3YqGhnpkF5SgtHKg7U1rrL+AzGCQ470aeXk56OluY5HZGD9xOgYNqGI/ak4sgkg4hEBGLoYMH4uhA8s5TsPYuekctu08RkMnhO7us2g8fxDnzxzDhi07sH3vMRqG1axjKY0y9ocm3gw/5BtJOewRT2Z0OoaPGZ+RLnR2dKNg4GiMHTcWA4pzFWq2lpe4D6PbXBt9yQCjkw50WhslV09bDzatPowBk2bj7vtvBuWTgTYNu8iDtGKiQx3KS0uQV1xqe9fOHD2E9uY2dLbHUVleiQHEnyeQQE8ojooBQ9jnY1GUlwtPJMG2dqE90oPimiGYccU0Kus5yM7NxeAhQ22V8OjRA+RP59BFA3XshAn42McfwNAhNVS+5FYZp4EURSCzApOumIKi8kwLk+Ed6epCTrE+rDsZlSUF8LGdrmgEnsw4hbwf+w+cQz2V/nnXzKNBNQ4+GknqQl2CvvcCm1Ai0dn3qHgfY7nxuAdjx09GzdCBVPCVXpNPTKcPvsdDbG8XSquGYvCwURgyuABl5dVo7fSg7twJNDacR0XNYNxy0w2kv6EYMGwMRmqmltZtpKsFIXcOykdNwYSh1cgPEpeiFZat/OUaqtrFEz7bY5Vfmovh44agtLCUcqUYg2sGoYcYTTKvmopqjgca3+T/CY5z4UtrUPqvP8YaSAli7Y4yQTM5EiXN9dhMdEdnJ5qI0/qGBpw9X4tkNIHqqkoUlxTBmxXAgIED0dqexKnTh3Hh3CHUEL833Xgnhg0fheETJmL0mBHI155yacveACqrK5CZV4Bz5+vRcoZG7blziNLQEr5LaPjF4z04f/YM2lo6kJlRiG7SzPm6OtReIK9oa0ZORjYGkVZycjJTbeiH9zvocIFt27Zj48ZNqK9vpCF1mvwwH/c/8EncfMstxHueLXiIDr3y6SatS1+6CEJ0+uqHyw9iYvqv/hYu0vyP3IEyRgdDnD9/Hjt27MSu/Udx6kIL2lvrMJR87EMPfBFXXXMV5R7xqO0DlNHl1ZWoKshG/clT9r3I2jNHEcjOxI3UTa+67ioaPNQ/xNfiOlk4RDbho+zJRF7pAMyYdx2umj0TpbnaLyoKkfuenzxgEAZUD0E79ZnzDRdQd/4YEtFuXDH9Stx3/8cxYnS5xfWS5wyoHIrCnHwaU0dx8PA+NDU1YwR1lo9/8tMYOqbGXInljeI1/qdW9sPlAspOiTAH0rd9DQuFJalYROLdSMa98LsyzbXC66eQIvHFtBGdiNJeDU+yi0YVhWNCR3wxMTXdjnA3QKVUs49BxqfsMaGl44A10wkKm2icgo/CTasNAs0cuLV5VxQWp4aT7GA8vkjk6PudfMnMXREq1BTyVBqlTFBDpoDt4LPchDKpmAZNEUskeqgvdiPuybDLQ8GnVTS1Me3uJ/e/fviAgEiU+I6TtnpcVDb56NMKBsNcMRrpoRhCWfmIeciYqHa5SbMkQBEUPMI5CTNOZdlHZTbaHUPYm4EMr9e+i6Z9KVEyHzff6bIP5akw5iSNLBqneZDooqIXofGThYBWLphv0hNDz9m9ePKff4xHlp/HF777Q3z47tHIQzv8sW579+A3H8FTOzvwLz/8K3zh+tnIiVJZZNY9rJ5Pq1Okd+2BSYbdtBtUX44vTw9/td6fgUTMT3rXng7WnfXQYQb6qKy5MjIfN/PoZN3lepYd0/gSu+X49Mu1lXnHGqjE5iHsyUWuZurZnjDHTwKdHD8cnyE/PEFm5Amz7epPjgmN5XiEciNGY0QOeDRgfQFE3EFzU5SBqny0EmOKvpdjkAZhnP2l0+Tsmx4cezoRzuNiG2jMuN2dWPjaa/jx997A8PFX4K+//0coLNI+thaAyuWzLy7B3//LrzHvtg/jb77xdQwszoFPqy+SScS5O8nxzLaHXUGWKcyyf2hIgONc9e3y5dmBNtkc16wa682+lVHmaRcJkEZyza3RFWhnnerx+tNv4olfrcH1n/wSPvaZW5DDTIV1fejXlehmWVkswcc+iiBOXqWTv70UbAGWHAtTRMnIC8RIb60Acef1qo/Zf6yDpzsJn4+8xx2hOZeJgFe8Sm1QATpZKuocs6tN0Kyd24xE4ZR/2XdJlq+1uVgsG3FGiZBItVKWwUv9AOKyLckXNIBzOADcctEMdmPfwe34q7/9ma2A/MN3/gGzZ01x3MmEDjZO7VNfOINJl+Nuov1lCrcP0PI+wvHhC2Q4nkismtpkfahDLzgOzFolr5cMcKMFLq9cO7NIQhEjnZjcLkl7Ogyjiw1gbGS6esj220nLWWhzZ9ueuoxE1GhFc6iqjc/y1vEqxDE7I5JsI10znLjzxpgxKxEjUYRYDy/5fFB9IDdCNYw5BOTGx/EjyaUyZVZZe7W3RQHk99rbkiCeNKZdlD+SAdEEZRhxEKQMMRnootzROAlnsw0yrpvYj9mMS3wwfSfbpXRZpD0XjU/Q8IabY4C02c3nQIhlkI+E/U67MogE9UciyvaxVgnyEB39ooNpNMmTTEb53k355E+Vb9H64X0OMfJGufKlD/EyncJog3RkA8oZZUKpCFDvjTf2gl7YyLKnfricIAbw3pDWBzX2dAmvXRHyabcPWZRtAZ8m5sjDGdcjPVT8z6fVdMmfTvJ/ytFEPp+7yL7IQwMFpgaHiWpxdm1x0WERbsl0yvi4J5/S13HZzmQcxY1TVvrI200HiCoF+TB5u4/5m/TxUrfWZxxYtHiGLu1ZplAme6PuQ14qT5tseWBRrxGn0cq8T0aVT1sN+mnscoLJmf8MHOJyU1kKIEir2uOnUPBnkFE4AlJCy+Lpn7iHrCG+kPBlAHKyspBDRObQCLLlThlShCSFbdKdYXskvCRUbfSzJLxM4VAmsoiMz0hgyhTjIyWwO0gBKR9DGlMiVvmqa9edyz5cRgVHm9n5X3E1y+jP8CGD9Zag1QxR7xGZqYGj+3744IEoxlQmEY1WdZIUYplUeGRDpahT9Gh4liZp4CKDitsx2FpNCZJuNBuv6KIjfWBP+008ZEbaRC6PQfuOD/9r5ttPpSiDzMofDJribsovVe6utkacOH2SPCyG6rIclDDUDzJXbwmi0TyEYgEUlxYjPzubb0icTKs9OAFyxmSMjFKHRjB/KaUOzUs4y7BRnXUkNOtL+pWg9nE8GUMl3TrKL6MwPEhjSszZ6Jmd4A4yro1wRvBlw+8JmOEYtRPEWD/G00lyMsz8QaajQqk2idlr74f2HelkMm2uzsjIhC8rD25/pk1I5LDyGRxvtvKR7lvW2cW+8/JZ+oJCtQcpRoVXqwcyPjn4UFd/AfVNZ1FQwD7Jz6JSncu6VZOvFKOrg0YyFdqCwhzigvkwiUcTLxQS1mnEHRto2O0FdYDarNUVPsoONluO7EPf/QjJRS0eosSiIcBwrz4Y7MrFzu2HsWDpelSNGY5psyexLU6dnUuGrMrkvQJoToZTvCtIo1ITN74MKeKMRWVec48eCTEKOBdxKR7mUkVIIOqPDDOaGKh26CICdQBBgB2vg0A85Fk6JU7H/uu9Wq4DHmRJemnoW5uYg4e4cyWJLHcmDQDHUPB55M7WjbpTx7F84QK8+NLryMsvwMc/8XFMnjga+pqFOsy6iLfWnHeAm+UkWQ8rWdWLUQDL8Z8EIztPBrRYuw5cYCATqA6qM/knw92eHPJyMV32VAZpj4lEe9qvl6QioLMnNKkrYx3aceiiPHFy4nuFqcW6UyWtIPvR5IXoXUa09huqDQJNjgSobvg9xKsaR1yT9EirqdZZvBR/MGDu9hkO8QnRNMcwcZJFnOnDq1qtdNx72QYH4XZyowxNodVP4gj4MoizoB2T7CG/0WFIVjDHoOqrxmuPoo7b0D48b9DPPsywQzN0qZ/0jTS3N5fjKM9mqv0B0kbQhUyWnxPMYBmkLSlqpCNDRD+870F7dEWjMqD8fr9tJ/CSP4g/k3wc8mA88Wop7Sny6gPvCuiHPzCk9UEZxQa816EQuVl+5JDP+8grxBs1Iu3MEYdl2YRMXMJY6YhzNxmdOyuXxlSu4V/sR5+20GSpnSrqpt5L3pfkr7CuCWGydzEGVeJixnpWnuQjAencwUwyUOkGlDWkKZ2ZoXiSAdEI5ZIWNMSjqJdk6ZsjOtk1ohozPWWg+GU/O7n88Ftd/t4Jmu/Th37lkiSqSmhWkeFyp9JMuJJpn5O5VVBoCHeSXy4KRFeMFrsYCRUrLTzGGLmLnCZORUdySH75kh/6eKJA91qBcgwqEjKFvY7TTUT4nuFJj2apAzSmaL2TugPUNpxxEGE4lUKWEYlpDl/0R8JkuOqTpLqpIZFuYXoApQ2q39b2fnifgXgPFbuoK0pMp518RHcMJ52EDa8J+EQrdiYpY/FHuqD2XsV5eXQctWmCUo5I10wf06w2r0Q8QkNK+2dkLGi2mjQbFW3EKTzjxkCTNJdEL9L1XabUdaLuzHnsO1mLps5WtLbW4djRQ9i1YReWLtiEIxe6Me/2m3Dd3EkozqTQ1THjZIaaSPC52Q5Vk+VQ/Tamycx5kVZJvyo5GfOQx7pslcoVkasj6ZaJxCQ9bJwO0ogwL+0j8TKeJsHUPI4g5qM/EuYsT+OV+ctI9CSjiFIZiDB9MMK8yNk1vLViLAas9Surhw0eayiNQ/ZN2HGXcpRIgni/qsu+k6EArW4xtU63kzLu0uQJy9BqA3NHV2cLjh8/gfP1Z9HS3oQjJ45jz86DWLtyGzZv3oUhI4bj1ntux4DBA8wYkdBRHWS4uZLaGcW20uhTKR7hglavo4QSTxRUKsbHhruIszh5SLen29z+/OQ/3Q0N2LFlK5asXIX5b65BN+nj7vvvwdhJY22yRWU5PELGlw6lUN1ZkqQojVbRiDvR4xzWptVP/iZksLnDrINz8IK+kBSLymOdbZaxQ2RoNV0nKaqv7OOO0TDzZRp2oan97CgZZrbXSZ2pUDbEeJOaxjCdEJlkm3zsX6FFp/fJMRCuLgrlEA7vOYgly5eRr/pw5x334pZbbkaOvhFobeLFP4Yn3l8KTotlsOjeOWlOHc66M5EO+1DzVVdiwP7ptQxuao58x7qTcNTGsDsEL6W9245q10l9HWwTaU+rlmF5MdDg9GawPLVBdCi5QlpMtVn8WuvIMsTVJ3YvSiTd2oSCkE46Vo5R9quN3CQVDZadJB7sOy4ifGXHwcFq6obxGNM6my+Y3t4zvVaQrG0WS4e18C6VXjxGnZcIM3+tCnooW2IBWxBVH9liGcN9OjHE5CDry7HsjFjKuijL5zjT6Y8CuRJ7rU2iG3UgaZl9LLIwo9Lqxnj6oL3cHjVJpPB+eF+D6Fe8VWgXTeugH6NDjnMja4LGnt6JBEVzerYEBsJx+r4f/ieBWKSc1cFMYrp8VgBvOZDtrYwi8RzDs/1yjLucb07GNelP+RMWfyKiFc9kFC/xCR2XL54tzVn6rPQLTTBpklP6McUueY54hHaH84HyRd9WlQojWaEFCcmgOHUPueWLZyYYVzLQTdkhniM9R59EccX4TPqzb73G486qvYhP+fbDZYNLXP5+G1BMSUXgDQ0SKVtCsM2g6UhmPwWCkCR3BbmiEIMxLWfSjGEcv5QPMZs4LewoAykjQkF9jaOLeXQgiAwEo7Topfxozy5zkrKS9MjtgwSk09AkMAm2uZzKUZQKRBKFvByfe1n4fhPEHcxTxlMWiTvTSEczni65HfFX3yqxWX8+iQlanlQoBeqG3tmJfnj/ggiEpChjvIfKGzHKSwoP8UhFTkZ/B5mW2x8lZYVpXDjKmxiN9H2qiPLMokFDOqYmk/SlmA+ZVzQgBVzf1lFErQpRqWNCHclsbIg0Fk92Mo4U4FzSs5Rb0pC/le/aEW8NY/7itXj29bfR3tTMOGJ8WSjyV+KWj92Da++fiywf68Xx4qIB44nS6JObnVffbZKSqNYEjXdL4MooTCY6rd46PVDKc5j1C4oZc0yFqfDp0wNaiRE/DUlx5RgMxLwcE2S8jGvqKBU6xjbGrTmxbtK5j30ViHejI8Ay4wHk0iZMBqPmVibnBI0p7dWREefsNWRzWW/jy1rt4XuXHT0v4cD6sW8SrhDrSjGTIGN3BWFHdavyHi8NiAQyKACS7D+5IO7ffRBPPPmcffQwSiXVk5Q7bwwzZ0zEZ776CRQPqWaNWfdEDAXKgv+0TONKdLBNXnS5s2w1LiiMyqCicahYIY/w7UJQBhXZR8Tfg1Z/M9X5fGTHfKg/uBMvvPIy3lyzFwOHTseXvnY/RoyrQJh9kEnDTy5o4nduOUtQiCWRS1JgH9EYSGbIYGP/k3uZK2mE5hfrFvfH0eWl0UYekiG3L5YfS2g1UEI1xH7pIa50OmKAdU7REusr0Sr+JQPfaIWGkhZYxC9F5jIIdNy9XPk8fjmFkmbIC2UsauJIS5xh0RLaEWC8eChAA4b07GNZvkwKUS9CxLO5PDI7KfSOgqfc7SYFajFNSGapby55RYDCnRpH/ihjRlShFBxJ5PEqk28TYVMC4mwrrSkkAnHy/G5kkf58HHcao0mXXFy0sldCupFCQppkP1t+HGdSMJSxaE0Kh2NYsXUcczoWWH0albLBseiVSzlpRzN1ccoFueJoQsOj84rZnwlfanpFg93oUW1w2qpvy0l2SWzJJYZZkzbZ/yzOpif4K9qNa9JQHg6EGN/HSQOBRBbbzLieHr7PZjyOLeKkxxsjCjiOwnLFyWV+msXuNAPJ52G8iBTtGEIZzmy0pJhsNNVBpYKyTC47cVKdnOHZBUI5u7yH+chA1wEpjnzqh/cviMJkRAmkaMdIj9In+rpY6WQ/4VwTTHKhdniq9A29T//2w+UG42n8K/7l9HkaP3p2cOncaZKSckA8STi19+SNHK9aYdLH6nVyp88V5btW9JBfedwFxo/EU5St3Lt1si05Y2rgk074J8JbnZyqA5XEsVwS3uQ7Uo/j5CfeJGWJ+EE0gJDKZnjQHaZeQt2DOmyEslJcQW7+IfLEAHm8V8oz+WpUSjIVAh9lVoz5djFtJvO07wWK6Rmt9cPlgnftodL1LsOCRCV3IH3UU8JHylaCBBKj8ualYiGZmKRyaytNMn5EHEwWp3LmpzJhRlaUVpTS8ZbyloRFBYDCRyqZN07lVJsEGE4RxFpRAaRhJEJ0kTCk1IoYRQtS2hLM3U0hZwxJ4UzioSSSb7+W1W0ligqKTQLKkvfanAAfqIiKoxkjuwhp46rfoPoAgKiVGov2QYXJUMTsetkEca2PfPbIEPJqn5GjqlgaoxPN8bjIpKjck9mYmU76NL8MrXj6tD4hs4bKmc0AkamRXjRClIX+aiLB/tFo8JOObLke+p6QZqnJAEMRtHd0UgFPoC0UhTeQi5xkHnw5XgQKNZtOmpbCzLT23SAl92hiQrNcqqT2S1Fx5p0YZhIdZqwkSe8JlinSdWvmm+2WwipVWTYLh5ytlGjiQwYi2TsNKVK9xi5zFs923K08VHrJ7MXMY2FE5EvGFvulENMg0wqVSjf+L8PRfhlHCgF/TBDpw71STmVQ8Z3GugahJ95l+NDEC8gH0h8tVBo3+1irRDrgxi1fMI7T5uYW9ISoPLNdbl2sX15uBnKKgugkv9FsnGbu9F0iDk7yGNaZCq4d6e0OyL4ijtU3aqOEpAxHiRriTkOabYr6YzS+eshnfMyHdBHuQGd3J5opafz+QhSVEcfEn9ul/ZXqNTaPAohUwjqpY3UcrUdZmWBLkC9l0nhx2eQMFWV2h3hhmMq3Zgq1B4Ydxn5TH/JeijhpQ6s3Wh0U/1Ftte+NaDUQ3jT5JNz4mE4TSoxiBnGcEXVYifBMrsfWkd/yvY5OVz+aoCdPtANN2EpnVcMBGShRHb/PckUpWu1jS/iGGWgCQq1lu7T/VQqh6ubRKgz7XqPDDkdRBIH4K2tgPFn4ZVp990mGncer76tpFUvvSPMkRnNr1YSb7SkibSRy+U4GtQ5sYWov+4e1CjFMqz3aoyaQouHg0ylX5CT+nxAtKG+bZKOhQ4NKfJ5dx2J6GEdfzsyzHlLfJTSm2FHEAOvGPlO/ctyoSQkOGFvZTI1Drfqqf1Vv1VnWldxUhTmlDrJ8G7NsbVQ45Hu39iowrWOISSZpEoE0rLFKnNjKNtukHOJy72GbFVd0JJrReV6y+GV8xcg3RHnShZiYYkq8gHV3BVkrUWQ/vG9ACBUYeaYfHDB2Ib7qIWXzlcRKeiFfBniC9OusWgmnyoCXtO/evHSlwvvhsoBGcbqXBc7vRTzK8FUM7Se1Z8khvdcYVmzyL8mD9Kq9hwaV9M4I+WVCuq/GMNGrsS4e75UAFc/1iA9rVUuf0dDElibHVA55rfEWppe8pXzR5I08aJCk4cYyJV88LEPhCcqduFwGmbfcr100tDTphBjDVCcKj6Q8d8i/nHqyaNbZxUttMGLsh8sG73kohSBtZJjbEwWcKVLEhRRMYtgEg5RaPzUmcw3yUKBRIYH8+ynl5DqRlBCWACRikxLCol5THCh4pUBJsrja+Z7vYlIGSFgkkhip0RQAUgPpRVxKGiAivijVzihFl1ymRLyiKtaNwlkKsPK3/RwsW9VP7+2wDaDWNg4J5Z1qpymK/fDBAuGOkkouFhGfGISjnHj1DRopXqQNHbYgRV7qYFCHFVDRN7czKmEh0rMUJS0M+aI0r7S7VPRK5UVHXGgGnuo6U4rYlb9USFGsczlUZG97L+NuDJVKK5JyqMqJaX+lv/KK0vrymWUD1pH3fEk1UeTK8qVEkZlSKZZxQZ7IeIzg4/gg1ceTUkj1jmEqTrTN/8pf+dkvC5IrrrioxyWFWHlzfPCSW5ap5QzTcFC9tUJgmdk4kFuVU18xerthGRfbrBEp4aLG8EcKM2uv5vTYcxJZcfa1BBDLlnEZZfooC5Jh65PBSfzIhU7cJK1SvCekinfKdQJkxIqfaEYvToswRs3YJ4uKPMiEDi+1ya9EaSFIXhUhvqWqZ7JftNqVNOXfWSUyQ5RPmryRMuvsTdJMoYRmCH5NGZIvyWgMaRGGBXjQQ5OXJZqwc9yKlVevXqT7PjV3/qZbo97TdBDFp/bSyI2U/2U0ySBTjAAFqR28wAcdkmKGGkvxGzX/NnDydoAZ6tFohAKYbYuTrtVzqos7IaNXPDiDuoGz8pT00kDUBAJjJD0h4+1a5TdXR3al9gO5bJVJEwcCGjOsv/KzwkisIRljWmFjfIkB2SZeKgBmFLL2flrqxnZJ0zLy7TQt5iC3bcmBgAYIx62oTCuOcoW1QWMdLINQsoX/rW5awVH5MsJVB3kgcPzH83gxAf9H2Ca54kiGRN2aVvEgwOzkshlhuCbyzMGTbZQxq3ys313d7A+NxCw23ZzzWDfyA8MJjSySvVaBRdPmaqgK0QAXHYkCzdhUPVmOTpIUxbh1siSHJZuKkKHRjqJQS42GIoyj0eTVmGebEz7SNGlO7vFqfj+8T8BorQ/ISrYRxFf2jjRCKpAuIuVbuquxVqNZ/eMYVzzSnH3bTa/SedqYtEHLy3nXD//9YN3Py+FdDogTyeAVmLuzYqTwIl1R/F+TS3Hya+FTHlr2TsgjL3BWHzVZ5vA4rdoLNKknGWNIdsvjSjSgQ9zERBjEeC7yZxXm8GhNAGlqSkHKhHdaqZeR5wrxlzyP8lNVs2yNR5KfixdKdhGipCPxPSfMb94r9k1LTRRpwrjfoLqscEnvpg0MGVO614qNHSEtClJMaU/Ei2a4jYQkJDn2teoEucVIYTIMyvJWErEVKl0kDvnna0+FAeNZUaIHCUAFG3PSr6x4xmVKoynlLSJ3JCe8JCib6dWjQ1X8o/wuXgxklorAevBRyrdYnPLuazT2ve+HDxJoZkYz/qknMTQpXyQI0a2MadPP9M7QzoCIGJJDYwqXkW10nRoCDrU4l8Uw4tOVip+6LqZIvxUoRLSuGmh2nUzS3A9jfCIz1IoSadD2xhgTvlhSGow+03e6dTLjI3MkQ7SNrwzTvpp0JUS+Zl/xEjNWo/WRX9uAanH5zk7709jTXydbFW2/VlAKUre9IbxJ11BhGlEOOE+9twQb68zLYqRcX/Q3rHbz14mmu/SVaprd9YG+UdQo5cX/6lkb24rDhmvzrX2QlR1ge176lmB8RHcO6E2vepKqo1Rd8SK5ISpvzezpMrBM1B6msunlVO78o9U/pzfFR1Kl6GU6TgqsvvabBt05SJMa79wTeiMovswm8S8GXpJYcXsffgukE/zn8Zy3qQYSVJRtnGdf6zAWdXlE9MI+1WhSNLNZLYmTRr2pXjO23VucmRK9pVt0u2GYlAC1gf+taSQW0YuMJvWGthfFNVYkOxhTeepAFMtAGVqmfUeH80LPqpL0IMerwV73pnNOLGSvslCtjKltaUhRqsXtE5yCvi1Jx01fF8Ha1AtKo+dUOv7ozozAi9T3DlAMvXNKu5ibnlRq3/z74f0OzoETmrwiLo3Pp8J1pUjHwbRosS9fJPTe9MPlhEtH8KVgui6vBGWO+JEdXNbr+eD8ky4p/Cof4VDyXcg1XiMckg1p1GpaV5eCTOyayEiPZ6cWxgvtVn/EbXWxFJukkeGj1NQjtAKmpDKObNpFKRz6cfR03SmuA+YhQpCkslh6VAap8H64vJDG8iWQNqYc5ZSIEUdIIc4xWsTuHbcaKRlSGxHzOQqcLC5JL5NgRKnNxugUHCLbqE6rVSnkMp9knM806c2lkESsk67kVmipjRh4uWV1p4mbQkiGHYt0SRpT8dHJWBLUzuqUihaxpwaFCJ7RdMkFRqB2meJC6DeqPmggfBF3xLVDYcIn/wj3MjaId+FaurCUrRiZo1le1G1s47Alogqm4/uUzriV6E0PAsss9UtgfIvGS+qPLr3tjaH8Ur8Og2R5xkWlTEnRkpAlDZprHVkky42b65IzWdGb3sApyQxChdtsNnOR+xAf1BSX3OXcGld8kUouGlZK0bcuY7IaD0zv0cBTrTVulRcvG5tOQv5xykxrxxf/Mj3/ptvZq4QqRMZGavwIVJydYKQgjUkpFozv9Tt5OC+UzilWoBDn3aUgNzIZvqZ423gmrtRw1lmt1EEHSmjo5rjvXUnnpbpa/g5B2OX8VRyFOR2qZ3MX1IYl9ou5CGvfjDJlAs08yjB2Iisie1BR9c/6iWmkpAvVTqzfGaR4m/KtOlrl2Crei6/ZekiaN1prhTkZWqK6/zNQXlZzhxE6g4OgVT6vTvgjTnXyqtubySYH4Pj1O813wKmN+krzqEqtKBacMprS3W4zt+oZ8n7HUEzF002KNmQ0ycWQ6gMydTqWh3kygyhx6pwcKBpTu5XQcrMrDcKQZck8daiM6ETu3el4oiGjeD6Y8dwnsdI5uTpxVTHDSereqbcT4sTTHS8+WN0tLDUG7EGx1QcKs0f7o3WnXtw5GaV/mAvDNRvJkHSY3aQ7sR8+UGCH9BCrUshFI0KjiSOG2lghoWlES/n2Mq7hvA9NXqSMfvifAslRR1/kqPVyPIu5OG/srx5TKobpEtItHI4jma07pWds8VZNBvLeWJjJMeXl4LgX071EoNVteadQW6AurBOIJeaMcuTh5SJN2eqU8nF0W9GZTdIqlfJRvcy+Ez9x5KToztiPFd1baj9cRvhPD6W4SGBCxn+BEBGADBYhMC1EfgtYVC1DMr7HnbbGhX4nnRxL5P0QYM2C4kTxEBIyqijsU+LZyYS3IrxYjMobFYN0S1Kr6QQF/Of1Tjc/bWD1w/schC8ZDsRXhNxKZKCvNXj0XR4po+5so6RuvtCiZtDVDU9ch0bwnbfCviOkuZug0oi2CHLPkRuYZpRFXdrlYtRgCk8K3os8nOQOqCKEeOoYZ08s0/KVj3O0vQenaruRzM5HVbkfATspMEOehqaoq9o6jU4rW3LucsXIPJmfy3wGWnijgop/KzVr076HCRIcJ3KV0smb9bWNaKhrQmZhHoqrKpDhp5KssawEbPcl5G4PvPg/3aRLy1HjUg20N45aqTvFDytfPvjlGhWRAOCY9mdYX+s9n9inGtFar3NOQ1PPXlqGA3ZgQOreGdB8Si9FvgfoOG/b+mI1kjJDRVYdquqyUs7BBDHoIAGpyMKJxKD81vXNIRlU4jd+MhJvzFQhRO3bImH4iYfuxgjO17cic0AJsgoyiJ0w+RIzT8qwIL2wbOvT3xFULdGn/N7N5VJVZR0kUgVmhqctauIlkRLqv08Z1unWfu0j0smnchNx9oclY+06I4SQw+vSflWSUFx0qMNOUvuTnCryD/Gq/IjNCPNSXI0YHb0vZcFwoDYxTG4nqrFPJxOpfaRJ4Uarq7FIhEpDDI2Njai7cN5O7kt6MpBZMgAVFSVWlh3Mwfhu5mOry3xS/a0oGwukM5Yplz2nmzp4EWeJwnd0lLwlFFvU50I2sxI9xF3ON9/ktqm9WYplY1E3Ko/jLkbacCQSS9b+A7WFT84eBdVGrXf+mdmuahHSK6RmXOlWDdJleZNedXAMb8z8Ip06dqtGBClXvkKqo5cGIG8VR0n74X0CKRz3QgrXMWrAMpKcTf+XgmhIsQT6zpjIU0fuOxMzfcDoWkRiMRTSD//NkEaffvv2PkchjRQHS2K3jscLw+2AoUsYioHmYjXuxUf1WQcZOH6fjjN6B06Zh7KyYLdkitz7NNIpEdP4lysfOVScBpPbRZ1BfuVM4/aJ9znugHLP7pu3vpdnnEFGVbwDvkAWX0vKpkF0ZEze7DoSKNtCGahPsrxHe/rhvw/ecw+VjAsRmCx1hbS3tqC5oQ7hkE79SlIIhinPAggnMnkfgT8YQF5BOfJzAmhvqrPN5vKTVx4JxpG0iqIDwWAhMoL5yM7KQH6exEUC4W4Xzpw8hnC4lQQahCerCPnVVVQAaTqx8AymtF0QpJ+GjhDOnGmAO5xEPsvPyMlBflUJqCsa4WpMOP6tFGj87e7uwLnac9aG7p4QCouKUFJcYt8USH/MV3W0GeJLNMx+eN+CaJQMTC5a4ZSy6ZchEm5DuCeM1k4qxjmkiRwaLERppvZWhOsRDXehsScfyZwi5GV5kCHhpmlrNxV8ZuPsgKCRIGLhH6OOvkJPL/TO7nnZfZ/3YlyEmIeGE//5YmRyysTVjm3LV+A/Hl6CAROvx//6X7chPxhHLK79WpqxdIpxDCr5T1PxJXM1nqi9PK4WtLa1oL7BC5IwxwgNRC9HhI5OpwAvLilBIY0mP5VAff9IhB/p6sYvf/JLPP7ok7ju7nvwxT/9YwyiUeWiImsrLb31lxKgAN0LrPG9CoDTuwqTWqBf8QNdToJ0MuPZFCw65NUdCqO7qQOtrmx4iwuQq29h8b3XGiTlXvthLu49ehdwIJvrDDtF/3RMe2tTM+qam5DgQBeuQFxW5eehpHKwDXiJHcf3XGvlfvYfMalKqQBzQWYMuVFYe6W+Kv8EIm1tqO/oQSy/CJVZWQgoKvsjRmGmXBMd3Vjy6go889JCfOTrX8KV10xDlidKQ0uroPqyPSvDMhwzrA/0Ckvnpy9YtxMcY8oKZJiUd6e3ba1UE1OKKYM+VcbvBSpE7e81qHzMgjxPwRTAoa5WtDR2o6PTjTgNirg3bHy9smwAiotyDFMq0vajqSpSHCXcWRXbo8gbZS+zSnHsUxpmfWndSJNhiqGTJNnnzChJ2nT6nNTDdjfW1eHll17G4gXzEe1sRYiKxNX3PYhPfPJeVOQ5x7ybgkNDRvu3rFfYF6pOX4MqmQhYPd3uNsRjXWip86KB7Ur6OW40DkMdqCypRGblILbJhSxV0fAfZnX5kPSTnhzj0Kqvtgq8Tn1leKtUM5h0qiNpw04GZBQ3DWodZqEW60RN061ZGU38yYS3PQzpjrSO58XwOHESZ4DyVJnqM/WYrYepDD7KhV4b1M3IUrJ+eH+AUNUXDHfk2tEomhub0NhI3YQyKe0JUVRahYLyIksmPOpAFnFPrwwqhfTNz/ISwYj6jej74b8Z0t2dxkca0hLP0X/Jf/kyEg6job4OTZQ7Wq3SYVfi+TUDBiI3P8MW+J1v8pFzM35XZzdOnaxluPTmKIoKi1BWPsDYtyb9xAzcbu1tYoD2O0lGqBI6ZE0HLYk/u2g4JUgZJrxIR6SrlrYL1GHrGD8H/kw/KqrLkZOZYTQmGZJIdCDWE0fjhS509pDXU4iFqWvLqcPryUNlaTWKxVNZvnN6qeirHy4XvMug0iXjQr9iDpFIBLt37sKjD/8S9c2NFMhRZJCaojTPO2kAtZ2rpzFVhC/9xf+Hq6ZNxYa3F+GN+S+jrqGWug4R6Cq0E5e6ow1obU1g/LjZePDBr2Dy+EFoaKrF6qXbsWTxG2hqOq6zBuDLq8TVt9+H2+64EaU00KQsuxLdOHHmDF5+cxk2rNuJCBW2rFgUecVluO/LD+LKuZPg97osvZ9FxmMR1F04hyVLl2Ipr5ZWxs/OwZy583Dvhz6E0tISa9s7od+o+gCAyFWGOrmRDhywlRGykERnI95+ayFee2sVrr3rAdz24ZtTK1RUVsLnsG7hG3hx5SlcceOHcNets5AT17oEacCTgbBWvJifo8oZTzNe10shVqQYonFApw5GK4qoX4KO66IhoGO6lVIGlVzugFasf+t1/MXfPY3x13wa3/3nB5Dha4c3ngWfllKZzDGoVAcJXLLcBJU86q+eYBQ9Pec4nubjN79ZhZ6wG1m5OuUugkjUhXIK7LvvugvXX381jUQ/FcwQmSaV5M4QfvHvv8CvfvU4rrv3o/jSn/8vDK4oJssm89cgUb0l9HVQB+sv5dXZjCsGLbFOVY6N10qJVr4UrnrK+KRabO5Tiq3+MfOKD5FYD8egB5GGC3j6pw9hY10Md3zuc7h+xmiqlo7yDej7cTKonG9IvRtUiDpEv4RYDDs2bcYvH3oIR06dRaCohAil4Am1YWRJPm6585OYftV1COYqPynxEf7NJN5pxKk4VdJcJkLsmyw2Wa5lwjRfxkPY/OYbePj1xRh1/R34/D23oyBIA4CvIm7yHBoQnu4YXn78VfzrT36Fr/3j3+G2e25CNnmZDCqXHWLCAvhfR43L3178o/cEL2uG0w65L9qxyvxVn+nbRI4LaFqDp1EjA4HxdRKf4YE81i0CSgveXmL8HUDFqv1U3nXgRtqgsrIjzZj/2kt44rEX0RUKIKugEGFXJw3XOCaOnYqP3Hcvxo4fzfgu+KXUWyLNrjJDEoVWcnVioVERw/2sn0+nUGhCgE2P8n2ceNb6jU+fylBd2GcR5mXKpAxZGt0Xzp1DV2sTdqxahB89/CzG3vUg/uov/whDimioMo3i6tIBGqqLNmQrK8eg6mEIC0v42UfqnFZs27QKj/1yAfYcqkVeRS5x0Y54ewvGj5yA6z7+KYycMhVlPp22xxboEI4IW8CxH5O7o/pdpZjxKKyw73VYDVsj3Lg0Q+wsg7L8MNutMimZ9Mx/6gMbJryPsM9FB16tiOp0DyZTv5j9zD5MkrZ0RL72G6trne9uaVWbcXX8PMNln0rB1hqwSuqH9wmI9N4JRFBXRzveePVVvPHGawhTEfdTAe8JhTB4xAR85qvkvUOryPMVmTilrHHw7hjPvWB0nSLA38Id++H/DNLdrd++4yptUNlJjOQP+qDvhfO1eOmF57F8+TJGkIz0IBrz4Lprb8Z9H/swKqtKFGwLB7W1Z7DwrQVYvHAZwj0h8qweDKgaiNvu/jTmXDMPGdkc04ynI9bNp8YMKvETcg/JJ4YlkvIgEceTlwnlWJcPu3ecwKtvPIUDh/aZ7MotzsBNt9yKO279CLKDlHligdFWLH3rbTz2yAto7ggjtyQTIXc7usNRDB40AR+/71OYNW08xaYWDkRXor5+uFzwrg/7SrikV6fSBkYwmIFBg4fiiismYfas6ZgzYw6mT5+GwaMG4tihc7jQ0I4b77kZwwfVIC8jByNGMe60iZg5czZmzZqH6TOvQEFJLjZu3ImBg0bhhpuuR3aOF7t378Sxw2cwaeI43HzzVZg4fgz2HziKxSs2Ir+wAqNGDkEG8d/Z2YxNW7bixOl63HbL7bj52mswpLIYq9evwzbGHzpiOKr5bEogq7x75zY8+sjDOH7iBK674UbcdNOtrMuVGDtuPCoqyjlgqN6xjWmjUaD7foPqAwCGIqkxpFXhi0xJTCoW6cS2dRswf+FSjJsyAxMnjTPG6ZPCEm/Hzg1rsHDDIZQPHYvpE0ZQ2aNBRSMo5g6Qt7nhZV7p1RvbNMwb/RpN8FcakR1iISKzcp1fzexrE799uDoRpoJGpkyFSd8bcuoaRf2J/Vi8ci8KB03D1deNRZaH4yupg1WYziE/lqe/UqD4T4yVVotmtELhVqxavRa7dp3G/R//LG6/83pMnzENs2fPxRVTp2LcuLHIy8sh3Su+IyrcviBGDhuJmzlWpl19DQrKy2i8Oa5UrrgYOMFLCS/aZ5jEiaOYOmOe6qbVx2VKvVYWGMPiOi6RVtfU5bh5se2aVWNaLw2rpS+/hvXHLmDi3HmYOLAspR4ogVzGlIOz+mzAYOdWfw2rTlT1Ocs8feQonnvmGQwfNQYfuv9+XHPTjRgzvAbHdm3GmzSevcEqDBk6DBkBtSLKugeIVir5qWwgPCepgHtyaLQqd9ZAygsrcHrbejzx8lsoHDUZV02bgqCMHFZPbltqUyISxcHdh7B1x25Mv3Ye6zAUmRRK2tOmtkrx1zKDxZVBxX+OIyQv/dcsorNkjogUeDKnpFa3ZJDR+BTylVqp1P+6opqssg0/TpjT2YxlhtbvAcpC7TRNX7WSYcDHeBc2rF2DZctW4/ob78Dd996LK+fNQlVFGdasWIW1azagpmYoKsvLaVQwLWlaSr9z5C5plnWSbijVT2uqQrtz3LdOzPSii2VFzbWJxnhURw0rgqpDQ4xKhbnQUWHJKyxBSWUNMnsasHbDNmQOv5I8eipKMkWDLIp/9Kt81EO6U5N06zhIaoywjwwHMRzctwPzX1lKJXY0Pv+1L+DKmVMwceRIHNi9D8u27kBBVQ2GVlUxfoI1oaEkfASyLOf0IS7qKV36qKdL3yFTaziWKQGd8aBLtUi5isrcklFtZEP8q6/lsRMh3mXiu8RQFFV5Kxnfu2lwya03ymcbVuxJl5xjjd5ZFvGsCR17VL1YRj+8T0DIeCdC+Ox1e5Cbm4uxY8di9owZ5M2zUFlZgTUbNmPXwRMYN34CivNFa6JaIl2yhHeGXeLZflL5OhhPPfTDZYO+PWxSgWNeIDZrH9zlTVFRESZMGEcddhZxOof8MIC3316GuvpmTJw8BVm0kiPRKFasWI6T1DVvv5W66U03YVB1Cfbu2UW5cRClVcNQMaCMo1yTQ5qgZCE2wyK5oMKky5BBxuXyR9ng7kQ4Uo83XluJ3zy6CNXVVfjQR+7EnHnTEMyJYuOmTWhp8mLk8FEIyAHAHcUm6j07tu3FXXfeg9vvuRXTyPtmzZqDadNmYcSw4dTfqY2ID1mr+7a8H/674RKDqi84Ao3DnsSVmZWJKiJ24KDBqBk0AFVDhmPAkMFov3ASa7ccxBXzrsNtN1+D/Mwg8gpyUVldjYGDa3gNR83gQRhUU4Pd+3bjdG0Dbr3tLkydOtYQ7PP6MZSG2uQpEzBw2CAqRpUoyCvEhs170doexhVTJqMoR1QTRl5+MUaNmYypkyfT8q7GqBED0N3TjaUbdtL4Ksa06RNMYTx95hQeeeSXbEECd919N2686WYMI1ENrBmAouIimz1Kt01GlKCv8dgPHwAwvIkNiiFJZyG7CnfiwK5d2LPvMKbPvYaGxmhTjrxkYlKOTh3ch23H21FDGpowtgYBrVx5/GjrieFMfSOZVD3CTW1mZAWyM03OmUcg6UKn/mgFoqXhAjpbm9Hc1IiOtjZ4/TSceEmftNPKaNTJT7mbzLLpQhs6m5vR03oOh3dtwaqNx1A+cg7mXDMSGVTCzU1ILTCy412K/MT09M9WwzwRRCPt2LZ9F+ouxPHZz34J06eOxNCBQzBk0CAqvgOQm5Nt9GsnElFh7WxrRuP5etYliaLCMgQKSuAKuthe1jHBNts0fALdbe0Ih8nAqdyGqVyeP1+Llrpa3ofhy8mzvguyDi7tdaQUiIUjqD3fgIb2bjR1dqOtvYsCJWArw9EeCoFwFxq6W9B64ji2L1+FQx1JVI+bgNLCTDTXt6KN5bl9Efj9GZQhHIMpRcKuFKSD7E7aJvFcf+YMtmzciCtmXIkP06AaSb4yfMQQlGd78dabq3GhOY5xEyajuCCJ9s5a9OhQBSqmUoMlI90JGlThNjR3utERlltFDOHuVnScPYFDm9Zi9d7jyBoyEUPLihEIx4jbdnTFOpGR6UW8K4Qj+45g++79mHbNXNQMG4CG+jNoOX+BdMIyMoIpQ0eTMyyMBeojum1NLcR/A9rZ5paWdr5zIScn01TnZIwKNY1O5a0PRHb1RNDYWIfWpnPo7GpDRlY2Em4fhbdjVOvIW32YOUUovztYZ/JPaoVH32Gy50QP9u3ZiWNHTuP2O+7FzbddhyEDazB+7GhEOzuxYP4iGjyZmEKenJutT1nQwAsR53X1aGtuJ913sp9bEQgGjH+rvR5b9exCa3cETSEPAn43ebFWaeT21s0+PYdm0mNGZpYZH9YSjWHy9ZaDW7Fk5Ub4hs/DrJmTUZaRem8g89sawssxTHUnGrYJMI0h9QuVilMnDmD7poOYcMUs3P/AhzC0ZiBGjBqBtrpmvLpiNcopA2ZNGsexx/gJmoIc0+fP1KKhpwetzQ3o6exCjz5IHCRe1d/oZBld6O4OIRQN0Nbxobm1Da2NtehuaUKM7UlkZNkR8/YhgJ4WoiqEiMYT8dYhHnHmLLo0ztwBBDJFey50tDehpbWbvIPjVihh37ndNKiYT4w0daExxDEYRWbQa/H74f0EokXCO/CisV+Qn48Bg4fYVT1wMIYPrcHhoyexYv028q6Z1InKTEbIjdX4u4zyNGkLUr96dzGwHy4X9O1hyeH05LrJUuLTRz2xpLSMOu8wXkPskrvfihWrcOzEScy79moUFuZa/KysIEaPHG0LCAOoH48dPZj8oQdvL90AT2YBxk8ei0z7uLcOo2KBMqZ08V5y3w5u443tA3W1oa7hGP7jx8+Rfw7Ag1/7AqbOHIOBAwdh4PBcbNmyAzu3n8f06TNIc+Sv7jj27dyNs2cacM+H7sXMeTMxpGYIBlNHqKqsJJ+mjiLCY5tsgq6fti4rvMugShtRAlntJrB4aYbNrc25MW3kcKOr6QJefuop7D7ViLs//ilMHTvIlDDxCE+ky4mnbKJxHDh4CP/xi4eRk1uMe++7F+Wl+XzhosDORSENMK+fFnqMabwR+7r/BgrGUNiNObNnoqyIQpgKaG5OIY2qIivAEw/B5e9BT0cHVm07gCoKz8mTJpog37NnB1575SXcfNONuP3Oj8BLoW+ym83QpGQ85sxQp9upgdS/OvUBAyFUqpZNJ2mFigpWpAMHd+7Czn1UqqbPNbclP1/bKVvubpzavxsbj7SjYth4zJw0jMYCjYgTp/GzR1/Az3/1CFa8PR/LX3uNitkJ1IwYjiwKSH2XyU6MjEWxY9sWPPSLn+GZp5/CokULsXzFCtQ1NaNsQA1yc3M4WMIcFlG000BbtGo9nnr813j5uWewcsF8bFi1DLsPN2HslXdi9lXDESQ9y73QNtwb2bEtRn8maqVHGmj2KRptx+49B3D8eAeuuvpalJfp+zgJM/bUC+lTfXSC5rmzZ/DSCy/g8V89hvmvvoFXX5mP9qQPQ8aNRRaHmDbXm0EVDmPRG2/huZdeR9IbwLIVK/Gzf/8xFs1/FVu37UDEm4uKimrk2geI4oh0tGHrxk344U8ewlMvvo7X31qC3bv3oqKkEAOrSuCJhbF372788KGfY+EzT+PIlp3YUR/GPhoeG1e8ibffXIJ9+w8hr9hHJl8Nv0euTWqgc1kX8K9Wj8zItGdGiMdx5ugRrF21CsNHj8PQsVOQzPIjgxEKAlEaWgdxtj6O0ePGobPlCB765fdxuL4DQ4aMQaEEmLrXE8XJg9vww5+/iL3H6pGbmcBrLz2D5x95CLvXrMKOWtJNfTe2r12LtcTrsmUr0BXvxKgxw9hnPhw9cBxr1m9G9ahhOFV7HI8y3evPvYwjB08iv2QAisoKyUd0XL2Hxm8E+3btxqOkp8cffQwLFy7C4sVL0NndjTHjxxPNXgRJlHtWL8Hjjz2DzrAXO2is/eyn/4JXX34cu3ZtQ25RGaoovOV3r9UXn0e+7+os4uL3Aetf8TUZVMJjKn0ihL3btmLHjv2YMvVK9utIZk3jh2VkuxNYuWwtad6PqRTYJSU56Ohpx4b16/Dwzx/Gc08+h0VvvYXlb79pe+bKB49EVoBGFcs4d2grfvSLx7HzZA9GjhpO2tE6jAf1pw/i1+yz7ccbMH7KFcii7HDwS6Bx23F4C5as2gzX8GtpUI1Decqg0srWRVqQIGE6tskZJloX0khxVgplmJ0+fhCb1+9F5dDhmDFnBt84Y+sox87a/QcxdvpMzBhHnsDARCSMw5s5nh/+FZ549SUsfvN1rFi6DBdaOjGAynB+rk46pDHVXosXXngNK9ceQheN8UWL3sCjD/0UC159mTSxDsnMQtQMGYwcVuz4/g145pknsO90PVo7Qnju17/C60+QVt6YjxMNnewTx+1mJfvuF798khwrH8OH19B4Uxu1Wh7B6nU78bOHn0cnx9vQQVXIoMHeD+8n0KASiOZStwLTIaQr6T2VDP7Gujuxbec+HL/QhhtuvpF8sshGsOjaWXl0dKzefCRr9GNX38z74XJA3x42PiOc8LLPkujZ3PHlyh1JTZp50N3Vg7XrNsIXCOIaGlT5hTnGforyC1BcXEK0S1dgfG0sDXVi6aotyMgvxRWzp6CARpezYE35a98ZcvAv7xiVqwlQCX6Xpx0HD2+nLN6OiWNuxm13TIHEZQxdyPDHcfLsOeoitZgwfhyqKqg7e2PYu2svTh0/hxkzr0RFTbnlo2nTWEL6LctUUQkdAOdQYD9cPkiNagfSxoUgTWAyqhy3Jgt1pu2JrjMnjmLH9r02kzl58khDk5AodwknDyKPiSKxDipbO9FAxnLlnHkUWNUWT2SrbQWJeIR/NAuu+J1ovXCChlIblS4/jStHoEhp1Hd0wpoVlJykEEK0EY1NpxGKhJCZTSWTLzq6u7B//z4UForAi1F37rQtxZ4+VYtTp+sos2JmdDl7YZz2qo3p+374YIEwJmboUBMNK3KseDSC2jNncPREHY6dOYfjJw7jLGniXG0tlaIoYmQqWhs6e+wInn3ySRw7eYZM60587cEH8aE7b8X5U8fxs5/8FAePHbOcu6kknz1fi5OnTuKaa67BlxjvM5//PIaNHIEVq1fi1Tfno769w8rurK/FD39Aw+TtFZhOJvqVL38Rn/nMF3HbLdfT6C9FmHQumteGdTE425tiQjgNDi06boDGEk2Z1iSA9rjY8dAEOd75SbdaBRCz1NjUGMkvKMKcedfgk5/5HOZdcx0uNDRhDw2ZzrCUU+XLyCov0oMzZ07j8Scex3f+8bs4dvwkPvmpT+OLX/g8bZgofvLTn2PXnv0ccxxv4RBWLV6EX1P5rKkZiAcf/CP80de+ijlXzUPthQscg43S+jFw0CDc99GP4XOf/SwmjRqF8soqXHfTzfjyF76AL3z207jrztswfOgwBGjAcSg7yOvb9NSDHCAsgipsjSM/icUQDWl1zd4ijBB7QCc7KqobwWA28rOzcfzIAaygkVTX3GzZGc9ie7ZvXIeNmzcjmJ2LkTSWb7rpJnzpK1/CdXNn2N6z8TOuxOe++AV88Uufx6c+/UnMmjETWcFM25gcYft7erqwadNGNDU14cMf+jA+zb5qbGzGk08+i6PHRSfikTEsXLQAPyHtBPx+/PHXv46v/8mfYsaMGVjw1gJ86x++g9ra86yQm7K2Ga+/9Cr++i+/g907D+NjH7kPX/7SAwgEIlTyH8am7cfNK0RkosMgJNT//wK130AdlbpsNcmZjRXPi5GfG9XphMZQG43jCOmKhl+Gj/0MHDx+FO093bjx5tvYnj/Dl77wOQwsz8fzv/k1FixYQZ7LSKxrT0cdtm/dioNHG8nzA0Sd3+rf1dmIvXu24+ChkzYbK/NOjn9p0SMj35uMI84yRRaqC2vGX83kpwmlL+hZyit/dNHo1jgxpYH5nL9wHvtPH8ex00ex9e0lWLtiFUaMHInxkyb25nbq4GEc2LYD1117DcfoV/C1P/oqRo4agreXLcJTz85HU4sapcghnD19Ar/4xa/xT9/9gblifvazX8AnP/H/Y+89AOO6qvTxb2Y0o14tWcWWe++923Hi2ElIb5AEAgRCW3bpS1tg6QsEFhI6IYQQ0kh1euLee7dlW+7dlmWr15mR/t937jxpZDsBfrsOZv860p333u3l3FNuvZNKTzn+8KfHsWnHYcYbQUN9GRYvegX3sf+/8OLrGDS4Pz756Q9hyOA+NrDx3AtUQomL2VnpKNlegmXL11PRZjlsUEj9uxHLli3Dpm3bkN0lB1lZmS4PnXBpgoeWerIfaZigtrISh/fswZF9u7Fg3hvYtm0rrriSylSv7oaqpGTWBdvCxsEFrDrhHQTJubYNJK4lIuQ7Opji0L5d5C0leOGFF1BbV4crrpiFbkVdHUlly2qZdiSivbqkXSJE4VqUnz5OebXeDmwTQ3cyr7CA4AKa8V4lP0jJ9kH3TQVMztWBGHXu1nySUp1e7EdicjKClGGPnzzmeARDhyNh1NRUY/++vTiy9xD27N+JU6dPGo1UdqQkOvk2ln4nXDRwXC0OVPGeciGmq9PwNPrtGoYNoqMXyTw3UUgJ+xMxY8pEFOQk27ZaMSx3epKhCNvPhxNHD2Dd2lXo328wpk2dRkGFOrrTzlz7asTchpKDaKWgsWzBqzhO4bVHt+7IyZZCRYGSUqgExkAC0U1CBlOqPbUf6zYsRyMFnsJuhUhPD6GpqQHHKfwmJARwkILOz+//OT7/2X/Hl770Dfzgh7/G2nU7ieQOuZS0dzu2yukpVp3wzwBUo9hcMSwykPCVGAqisrKaAsxz+PrXv4nP//tX8ZUvfwnf+/a38dgTT+PQ0VPwJdq5f1hDAbuUzO+qq2bhYx++C9fMvgZ3fOKjmDP7CuzetRObtmxBI/E0KVEnWGZjzNgxuP7mGzDnmhtx/U23414K4N179MDO3btRVlFJAhjG1vWrsWDBEuTld8M1187GrGuuxuU33YoJEyYgOzvT9pB4qO+G2/URXwoHhor06w4D0J4TJ4CeOlmJslNVOF1+BifLKvheg0iYzJz+1UfS0tMpOI7H7OtvxGwqM4XdurEbulF89U2j0lJWaHT/kIS5ou7FuO2222luxnU33YjLLruMAnGEdXWUfavBFNS9paU4QAVz+LDhuPmaGbhlzjTc8e7rMGbMGISCpAeMX0LgjAkzMevGm9G/T290ye2KyVOn4obZc3DTzdfgqtkzUFTQjUyB/c8y0w6uFtrrwdazy5PoD/tykOVXHw3y3XgI46g5W0ahthq9e/dD17yu6D+wD6ZfNhWN4SYq00eMBKnotWQsJRs3oHefPpg6Ywqy0jMwdMQ4jLt6DiaOG4WiwgIMG8W2vWkWZl17Ja66/kqMGD4COolLoHypPbqwfDMvm4mbrroZt9x6O0aMGIl16zdg165dZHYhHDx8CK+99prRyZtuvAlXvOsqXH7VFfjExz9ua/AXL12Krdu3M8Yw89ZERTWMovzeuI74dNNtN+H6W2/GlXOkpJ7Axk37UaMtPIYHwgEpQf9TaMc1jZBrqV4CKyghwe+YAGnwyQN7kEx7Kb4pySnmN7drEcZPmIzrqUheTpy+6tZb8LF73od0Kly7du5FfaMaM8q4IkhPS2fLpBiaeYylNVKP1JQktl8yGb98tuXCXgLEczutirUoexVZDu0DJeeDVQvDaJmrcMR4DRtchwPMoyD7jW9+A1/7+lfx3e9+B4cOHsasWVeib7++Lm1G2yW/EJMun4k5t92C6ynwXnXVjfgw+3P/gQOwbcdOVFVXKxnmIGIDDIFAEEOHjcSNN92Ma2+4BTfcfBOmTZtEhaiJgs1Z+tPeKJ3WVc8+mIFJE6fhrvfdhQnXzsHtd9xCHO2P3Xv2obquFgMHD8a4seNw+PBJHDxYixatGWTdnzlxBLtLd2HMuAmYMHGsowGd8E8BvoQENDc2YvniRfjRf30f//GFz+PRRx5GUlISZs+Zg5wuOqtYuCehmbRYtN3w+3y4sG0nXGzwZEC7BzFmV3HmDBa8+Sa+/Y1v4D++/BW8+uprGDBwEKaRR4aStHWElFkDVHwRLVVYEgs0VZRhxbIFCJN/9utPWpqq5d6xtvUi956Mw+RtygLCDe3XLCrohV49e1Eh34j5C1/FqVMnUVlVhy3bd1NuWYcTpw6jovo08UiRBJCRmUGaVYU/PPQHfPnLX8ZXvvRV/Pi+n2Dzlh1OjJDsbLNTnXCxweN7BkIob+TShBoPyLzsKF/5pkK1e+sOvDFvEXoNHoGRI0bYKfkiGOJ/QT8RQ0ftSUlqiRAptmBX6V5Mnn45evfrY3gUoiCnSaaA4rV1o7SMNmPeGwvx4CNPIDk1HbMun46MdDFKMWshL4Ur+pPXmsozePalhXjp9eUYNGQQRg0fSDYOErU61NZWY1vJduyjQDh+6hS87wMfoDA3GzWnT+E7X/0aGe5i1Dez06g3GDNWjEI6lVe5856dcEmCNKlYm7k3tZVEGh+F6YgpFRPGjcPNN96AO+98D959x1245d3vxqQpk5CVk2mb0hvrK7F3VwkRMIi+g4agrjFMYacCLQ0NyKMSkpiSQgFoP+rrG3RjBHIzMzFgwGBTxmuqTzF8GYLU7DXjUV5ZT6Gykcp8LfaU7kBe1wJMnDgTXdK6MiTxiwKZZgV0/HcL8T5E/cNImw0ixHDNFcdAr7rI1vDRF2BQEcMkHDp8BN/81vfxsY/9C+699yO498Mfwbe//R1s2rDV9LIAJXlDYfY5QTgctj6s6rJJZQ9EhElcNRpW3L0HbmQ9jR49zCl6rI+rqIh9/7vfxrTJE5CYGKLXgF03UEVh9U+P/BHrt+5CJfuPLjXs26MbiXkuA7Kc7J9aigjWYX2jVNYw/TS20QXJvg6YIa/bxcqtpJV1D2zpjJu+pheqNHw2N9az7ivRQGXvyJGjeOwvc1HNPFx7wywMHpQGEg2MGjUBoRY/tm7YoVWNjLgF69dtxIHyRgwcOBD9embH0mEd2X1IrQhE/CQ9PuKAOVhmlB/Vj5Q5nboQIM0bOXwCBvbXvjzWq68eBXlZaKnXyGA9Gvi3b89OnC2vxvhJV2AwaaIrdAsysjMwY9oU9OtRgFIq6tq7I8gv6oZpV1yGaTMGMjEd89CKdLZhEtumsq4JzcybZmrUfrb8xHLVDvpqt+n41Va3onFtlayS0xjN8xt+aM9WNZWHOtbFro1bSE/no0tBPnFgBrp2SbVm6t21O/Lzu5Gu1qG+ohZNp8uQk5GKbPaziqoGKhXWwoyZrU8818mVscMSCSxDUCqpW+Ugxd/Z0kYDacqb9kExJTtunJ/mpa2Px/IcB+Zuv8I5Kr0mVFChIY9ISUnD0OHDqfBQ6b35drzvzjtQ1C0L819/DSuXrrZ+pz2BGdmpKBw0GPXMf1ldDWoazjJvLchJCbJMlThdoxlBKvCMOiXQit5UtK66+XoM6teD+q2Wmyfg5ttvx/f+86uYPHIA/RI/m7SnMERF6wpcQ2U6OYkciTxt8Mhh+ObXv4L3vudOpKVksC9lYvKkIWisPYXdO/Yj0sxysC02bSlB2ZlqjCXt0om0WunRCZcaeIQrDvjZQpqkkZT+lEVuvPlG3HHXnXjXddchKTmRitVDKNl+SEhv+K9l5JJlLGBcVOfE2gkXAbw6vlBdO3mX/IDKsdtr1IpU0rgRo8bi+pvejbvuei+unT0dJw5uw2OP/QG7D54CxQFbNeIXDdJBPEE/murq8PxL8/HsiwvQvXc/TJw8FsnJ7r5Md/GDoGMOJLvYliqj88koyO+LT3/mU6RlPfCLX96HT/7Lx/GB938ITz/1CpITs5Cdk4Fkyija7KDFfRMnT8Z/kMb8yyc/xnzejjlzZuD48UP47re+g5fmLkF9XdjJu51w0UE9+zyQUiXTDkSHlgY2eAT1NVV4bcUW7CtvxpSZV6ELBUihSSL5Y5LhoRQkae2NqDu2FyuXrUVKdjeMnDIWfq0FFRKSuSe01CPQXE5UoiQTrcH61Svx4F+WojFtIO6895MYPmYAmWQLBb06ukcQYPy6fLO6+gzmvrEU9/1hJfL7z8L73nsX+hRLeNUYZxPz3YKuPYoxcsZMXH7DLbiZjPCeD9+Bj9x6NZqP78bixctwqp5CNUNEWUZ3olJsRNTUeWbQhI9OuBRBspZwSMKinZpjo/cS2UJoaE1EICkVM2dehvfefg3uvPEa3ErBavYtd2Py5NHIo5CY2FIN35k9OHtsH9Zs3Ipv/fi3+OJXvoWvffFz+PynP4df/P5RHCmvpABP0kY8CKCKws9pvPDiq/jcF7+Nr3zpS/jy5z6K//z6l/DqvOU4WalRKq2iq8CJ4wcpGychNbUr8cnEN3YmXf8atgtMpVCFKehbz2JfUj9x4qYDLWHTdhm7r8fKlcAYMhCOpCE5LRPTr5iKm269CTfceB2uvXYOrrh8Kgrzu1h8mmfwaW22bgRlfmy0jC9SzOzUQn7JuMQYgopHekomMtKyrU7VD0TyuxYW4aqJIzC4ex7s5MPEJAr+s/BuKqf7Srfhu//xJXzp3z6NL3/+q1i2ZgvqGVAnJeowDp1tqNOKmjT4EWhA0KdpFpeuyII/ql01torcpad09e750bv6nkd7WIYEfwLqqmvwyktP4Tvf+Hd85TOfwbe//3PsbczC+z73Ocy8aiQSNaLDQowcPAPD8nqhdO1GlOzYB1QewdrN23E8eTgmTpuKvORmqj6tsEkV5TnMfDYwRy2pqGamtNBLepiPZdAh+q1UTiOtzfCH0pGW1MPVK31EWo8h2HIWWWEm7E9GbYvuQDrEMqYiJXMwWjWgpJT89fTbipzUENKjFag4fQaNTYxblwKnp8GXx/CS2lURYaZR24xUCtcIMm+sAsWCiPBIl9oSV6hYqu603F7xOqGbH0a35OLa2WytfvXjKR1SfOhHylsgEafPluORPz9kM7if/9wX8YPfPIXE/pNwN+t32Kg+bL8wldMGnDxxGH/60+P47Be/is/S71fJuL/+9f/EmtWbUM/2bKIR3kSYTIT+k1qate+emWBaVKgND9mGwYRkbTNUd2Aea2h0vUCIwmgawsTFlkAl60tlIERIjaNOWHD5VhmtlmI/wnXhGj9sUEJLfWmXkISho0bjzutvxe033YnbPvg+Kj7TUH70INbMW48GoqMvwMw1HMf6NxfiC1/4T3zqy/+Jz331W/juV4nPz/wJx8tO4yxxI4IcJDb5kcFMJ3RJQw2VrVqmFFUeAwEUFQ/BZaMHY1BuCvGHbUSipJvl/MEcFZd596Penw1fej5Gj+qFKazTpAQqWQlRDB2Rjt4FdVg090mcPlGOiup6LN1wAIXFwzFsSD81P7un2kymEy4pUMfymkW4SPzzkXCHqEz3HTQUs2+4Fe+6/f2460MfwvSZ03B4zxYsX/AaGqpr1RMZRDIHcVvRxBmBBlBilK8TLhJYk51jBJpMkKIr4zVvSmo6ho4ch5tuvxPX3/pufPh9szFxQALWbnwDi7ZuQiM9hkioNcuOSA2Zx1m8SLrywwffRGvWWLznnk+iV+9C0nGTTpDQ2uQG1LwGF2knCBckGxj75o/Pn4NBwwfgs59/N/7tXz6MG6+7FjfdcDWuuuIG9O4+FGkpaeia241kPYkxJ6Cge3dMv2o2rn3PDbj2lhvw0Y+8D/e+/3Y0U7l75i8v4dDhsyxgJ2a9E/A31bL4srtsLIySXTvx5tLVyMrvhSHDhlEo0xHkZP4yYm7eUqZoM5YtX4bNW3cSKcejW88ehryaZdKaeTuEwt9Mf2GsWbIQ9/30fpyuC+ITn/sarrnpGqRnE7uMWQq9aUiNGqhMvfLii3jgV39EWt4gfPwzX8JlM6YgWSPJVJESA34UFxXZcqO8/O5WODHB1nAUo4b1w4iBfXCm/AwqauqMVStmjcy7zaRxacWM99YJlxboMAq1i7sAVYbg1yWdOjI7gMZGEi56aKKp0mBz7KhwTcEnRBuRGWpBkPic2SUPE6dMwdQp4zFp0kRMmXEFrr7+Rnzqs5/FbbfchIyUJNSfPYLnnngUjzzyZySnZmHchAm4cvZMjB8/Fj169EFCYobtcRIG1tXpstQ6BINBQ12TY4nv4eawrXOOkHJqu6AtbopN2XhYpx9DQz2FuOpvjMDvSzbCmZefj9vvuBEfuPt2fPieD+ETH/8obr3tRvTs3d0E7Ratp1JASXME4bSWnyUE3Z7BCBFdsxIucjJ0pqPjv708CmyWyvKlm6gkwGuWCyjs2Qsf/+Qn8cAD/4277rgFXbMzsHj+PHzr29/DgqUb0CxOYOI/PVM4DpLg20WCUfUz14+0/E730mnoQlqjeIrK7pXfMy4z8qN8ukUQGjXs1acfJk6ajBmTJ+OaOdfiA/f+K66+9ip0yaJAr0plrWbn9sTk0WNRc+ogtq9fioojB1C6vwwpRSMoxI5gsk22L0wXNCoDraygYIJmqRqMxglLmlQJljGlzNyyaK2sJ5/dEyInLdusYdkakMwyh6hAM7NkrBSmfUlkiImmArC10axhG8ZfV0MFvbYK6VKitDTEl4Bm4TCF9LBmL7VsJJiJFMYXrdOJbzokwpXdCJ9GwKmJNzY0oLa2wQYU7MCUDuSbmYsbCDKBTTF4zNtql+4M3MI+kpSWiqHDB2HKlAmYNnUSrrzuFtz8/nsx+fJpSMzQMs4m1Jw8it898ACeeOxJFPfuh0nTpmDy9KmYOHkK8bGIsbn9A8InKWnGJ1gvekakPQWC7IutqK7RnjcqVbTX8f2mWamWmLcWKqStumjd14iQzVoR+DC8dA3hsm7fcUA8Nrpt2huFINap2lYzYRosa5K0kxjCiMkj0L9nd5w8eBo1VUy1rgKvU5H53W9+i8TUTPbniaQBMzBj2nQM79OTuBZEs7efQUobaUaY+YqyTyvXUfYP0R+9tyoNvviopCYKD1S9VAStSljesC8DDbqjq4kWdHMtkYh+vXti5NAi7Nu1DNu2r8e20qPYuf8s63UmevcsJC7Jn/rNuYXuhH8onNccwk9aEg+1h9KW8movIurJF9Iwduxo9O5RhGOH91HMabT2twtZibuKKhY6Bp1t/Y8Gt9WllW0oGulaR9dL2sW8zbUIZqdj2sQxyMrMxNHT5TE/8sY2r6/AvOeew/d+9DPUR1PwqX//Bq66ZgbSE0kbSTPEHbW0WXuiW1tJU8gbq6hkV9Y2WsuLZISZvq5giUYCJGtN6DWoCLfedQfuJr+/58P3YMrE6Thx7AzqKGMU5BdqXIdhdb6AaKDOIhDukcjRdviQQeiSnY2yk2WIaBRXtp0odtEhniO/PZBhNdTWYtnSpSg/fRrvuuZqNmoXQzjyF1DmcdOmJpX5UXb8FF545U0iiR9jx41GZrqEKcdUtMncBKaEEHas34Lf/v5P2LpzL+O8EXfcfhOKswJ2zDPFChKfVElixLYqLFuxCD/971+iviaCb37zS7j6suHIULoWcxBJwRTkZeXi9LEyVJSftcJJ3PGFAqhn3mqYbnqmRptDElMsL2L+InJ2u7mBbBXSCe2ebSdcOiDUkbDh1hA70JtG7LVETXvjpF8ILylTmaOESOGmjs1PSc9Gbl4BuhcVY9aMifjo7Tfirrs/hts/8AHc/YG78N4b3oUxw/shROG3oqoGa9evt5H2D9/zAXzwnn/Bdbd+FLe95w6MGzuGeMQ4KWxFIjoUIl+5QENDpektwq3aijps2FiCo0ePUWhsRmqKskGxPCw800xIO7SVRi8xjUPLSXTHkS4cjER0SausnbDV7j/2JrRlMWW0fEAHuWgAI5mdKZGVEZBWo2UFzFiE5WlobDBBoC0PfNHFqVa3rKtWGh1kodgzcvNw+VU34I73fgBf/Y//wEc++hHs3bsHW7dspvAqrVVLtxi39hMw3caGeqRQyEyhrelG1uEopOrbJWWgpzNOgbC9jNYXnQ+VIaTlfBNm4ra778UH3/te3HnT9Rg/uC8yNLtDpbpVAopmXkKJGDl2GIoLklC6YyUWrd6E5OxizJ45EXmZSawmGmoaLma2QSLz6atAoOUEshNhy4ZTWGFiVA7oV+Vn/euQBNkn6I9KrpSZKO3CjXVIoYKWn98DDfXaGLydDK+J1CiForNibMGBIwepdCagb7/+SExycaqYkrx1J15Q7UKmJ8admJREnNVST6VPZTiWmfKTx3Hfj36IT3/ms5i3YLFj8qxI5Uz16upL7FVqjld7BHuJsyGuqt+EdFLV5bPwwQ9+0JbG3XLDLAzqlWtLtlubqeywL1VUVGDFylUo7tETd9/9XtxDc9v7Poxb73gvevXuzT7RwD6itic7b2S9se110iWLgETttQ2TDxw9i/37j5GpN9jMi9A65NdMJT+Iiy0hKpisjxDLk+xVPJ10h5OwpS3fca/2YijCpy2TofpPnFGVaJmqunyiMRDSfbaFLqdPTtJBG8BZlmnlqtUoO3saH7n3A/j03e/Bvbffiptvux2Dhw1n/2Tb2hQ4ge3iYzm0lFGn8GkiVMcp62JmS02dS1VvX1rQI6Wa9c+8aU+jzTQrnwL6C0ibjKRTmR2AMeMmo1uvELaXrMK2zftIQzIxfOgQpKS4/uZhaSdcwhAbrBDN0h4Vn08XTUviEAb6cJpy0qHDh5GT0wVJ7G/CKvn1Du5S6M5WvjRA7WFGvdjaUi2j+yljg0BadRBOwIH9tTh+tApdMrJtBYetoPLXYMeaVaTPv0BNVTO+8NlP4N23TCJfcOQhQG6gATmj0wHJJpVYuOgVfOOb/4mf3f8gDh8+49ijUiRN0RkAPtJptxRcIJdWbN26FYcOHsTQwYPRo0c+aZHi1lYY+aPRQKHjYjh2/DTKysrQo6dOC9XcOaET2S46qL3/RvBjx87dWLFiJQYOHIQrLp+O9JSAln8bc3NtxV+NStbXY/HyNdi+7wimzpyNgYMGWUIydg+JJF0i47Y16/GbBx/Gxh2lmEVhTZuHtca9vK4aFbU1FPjIyLSEiIrc4gWv4pvf+AbqaprwoQ9+DEMH9UYNGWUZ3aqqaimgRpGSmoURg0ciNSEZa5aswP5Dx1DbHMHho8fx4rz5aGCaU6dOQmFumuVFeY6x8JhMKhuXNxE/GY8fdsKlA2ol99SbQ2HtO5KgKuFJLWerrghy1QxSAyVQCa46ZIEaFUZPmEIhsAHPPT0XO4+WE69Oo5YMsKaqDmcbGmE6AkEXstoCPMZ7+uQpCs1nUXZ8Fx555E945ZWXUF9dYQME6SSwU6fNYn9owtIlb+DUqXKcPVuLN99Yip27j1CYS6aQ2WSCsuLz2wmWJLR8t/Lwx/izjJBRH+xLmtEwTLRltArpwPDV/LGMFET9JMIRCsJNNfVo1F1BNdWmNDVRsTl7ugrVdQ1UyJQ445XCQhzXvivNhHggFm/r++WH7v6EIKoqK7GGAuiekhLUVJxGXVWFnX7XJScHhQX56Jqbi5A2hhEsbxRI+5Dgp1Cw3bZxPQ4zjNKurWowxUttpqEKpdqest7dl3MXqICaAWlBE9u2jsJ5bVOrxuE0+a0GJ4OjQtis0b6oLb/QlanFPYowbdIQbF63GL965GnkdO+HGVNH2kWqaA1RKGa5VG/BADL6dkPXPhk4fmAljuwpsb1wtTT1DdZIrHspHxKANFtHE1WOJPAG7fLWpmgTmZnOXgL69hmKHsVFmD9vLl5/5U3mtQE1VLbWrV+BV+e9jsy87hg3cYKVLcp2UFvohNO2QQHiru6f0iyL7vXSclYDq4woqivK7TqIRx76HZ6b+zJOltewvIYZsdoUMC5mUjO3no2LgIbtaU/2BTsUiO0sZTWsfMhFQWMEzy4jpr3uXwtIAWMbnD17FvXEr32lJbj/F7/B0pUriT+NxHetAQggK7sblcpCVFYexa6dm1FVW4m185fikT88hYOHdLqh6suiRwv7YgPpu/bFlbGeqlnnPtLxhjNMg+81pOUqm90zpdptLwxBHzE7VXwMf/2+BKvTWt39Vd+Mqup61B07iRWLVrEv1OHKWVOhg/OamrSvUEvz/Cg/U4ayxiaUHj+GF55/Aa+8/ibqqqtsH5vFyvyGWwJuiboUd5cSq04KIROXRczo5MJwlLgRoTJNppLAOlTW/FL46NUEL83KtUirzMaAAcMwfmpvPP/SE3jxxSUYP3YK7YpII5QGvRheuLJ1wqUKah/SB/YPrYqoqamwLQkN7L+7dm3Hc88+b8r3tClTqNBTUWeTan+OHZtu/bEjdLb2Pw68LS4ajFXfE81TO1bXVqOStKq26gz2rN+ORQu2Ije7GBPHjkEilZ+W1masWvIqfvDD+1B2ph4f/fAnMGvmJDST71bVaEVBE3GAFNrjq6QBjc0VeHP+y/jFL36OP/7xcewqPWJtbwoa09X+ZK04qWfaddXVpP1n7bqK++//GdLT0vC+970HuV10AYRID+kqZZM65rGuphaNtQ0oLdmBP//5KSvHzTe/C92754mUdcI7AG95sW9H8KG5vhovzp1rxynrlKspU6aaNi3eK8YhZqynlmEcPrgfzzz/Iqrqo7jz/R/G4KEDjPdJqgkRAfwJRNi6Gjz/7LN49JnnUU6kS0rPxX4qYAsWvIk35r+ENWs3IjUlE316d8exo/vx+GN/xMsvL0ZGRh5CSVlYvW4NXp/3JubNn09hbyd6FXVHdpdcGzlISU7HurXrsXr1aixctBhr1qwho6/E7Kuvxqyr59ipU2KCypNNw1q+acT8iPgSUGKyhSGt62qdcCmA2kOyhp5qIbdck2SlpQV7Svdj+45dGDN2PIaPHEYBh05sPC3r2rtzKzbuOonBQ4Zi3PDeyO+Sh/TMbli5eTdefeU5bFmzBKuWrTKhqvTgQXTr1hN52WnQbeQiiqtWb8amTVuxft1ybN6yBs0UnqIUz0OJaZg2eRR6dy9EFhW1Ogrbqzeuxtolr2PlyvWINPkwbvAA7C+rQGbvPph92TikqaMwvAYWHF+NjUrzXZ+O2VKk9CegsSGMzZu34WTZWcyYMQ1FXTPop50hi2jqWzNopbt24/nnnrV+tWTpEmynEnSyshrbdpVi45rVSKaQ3rdHdybgx7oNm7H30FFMILPv07eXjcIZnjM+5cUEQYJG50+cOGEC59y5L2Lx4iVYtGQZ83Ma02dchmuumYPcLHeAgWY1NGqfX5SPmqYwVq9fjzXLV2LxwlXYumUnlc5kFBZ2pV8rZVsZHChV2fLJf3NhmU4cOYpt20vQtedgDB47FhkpAQSFAFrG2UoVSlPjVHx0bYLuXEoKRG1J5/x587DjZBTXvPs9mD6mDwLMmg7C0R2HbtNxM1KzA0jKTseu3buxeslqLF20AqtWrUGkoQk9uxUikNCC7VtLWI/7MWnqbPTuW4DkYJRKRBX27TyK7VsOY/TU4RgyfCCy07siL68rzlSexjrSppUrlmPBojexacs6FOYX4dZb78agEcOtno9QKVm+oQQDRozBxNFDyEhd5Z+kUrd6cynyB4zF+NEDkBYiXrCM2qPRSsVjy9Yd2HOkDMkZXTBh6lTiQpZXkwwuikVjWp/q1rWfm2ePgdJhPW3buh27S/di6LDhGDhoMBJUh4xINFz7AbQPVXWfmJiE8opqrFyzDjtIY9euXcf62Iw0Ks1VVJIzCrtReZ2AfNZhRloqmyEFG7bvwvJVr2LTmhU4XlqGgq5FCDMvXXr0wZVzprN9gINbt+DPj/wJTz33AtauWYaSfQdx4iyVte1bWacbEUnKQEFerl2AbUzFhr28gQf71Ysra2yv0akTVJ5WrMf2vfuxc89eLH1tPpbOexW19Wcx86rbcMWc2UhPTWD7UQBuqGCbH2EbbMGSdcTNTRuRk0QlmWU6E0nFjCuvwsD8NKC+nP1kAw43hDBxynQMKMhBgmZ0WVE65l0rFO2Y5AQfTh7eidXkOWkFozBl8iRkkG7oSJYAyy5ByRebyUM0aM2UnM4695/GI48+j6bGrvjoJz6Gvv1dezJGPmOCtwXqhEsW2EbHjx3Fc889RwXqOcwj3Xnj9dexbdt25OTk4aabb8O0aVORnBg01NUgl9pUJydbcPttf7q39q9OeCfAo5GanSIlZf/eQaXk6af/gqf+8gzmz1+AFQvfxOE9h9Cz50jcdPfdGDCsr50ZcPb0MTz31O/xwjNL4EvKRTCtC2WEpZj3xitYtmQNtmzej0zKrEWFWY6uaiF4fQ3Wb9qG3XuOo1vPYZg95yr06dElhhfs/eRv20kjH/3Tn/Dy3Jfw+muv4RD5YJ++A+wQqTFjR9lAXAJln7r6SixauBiPPvw4XnvlTaa5FMuXrUAgkETcux2zrpyBjMxEG3RMYNydmHVx4W9UqDRg2YxgKAkjRozG9OnTqdikgcq05CcTcMVXtCxJI7lq7BQy/amXXYnho0cjOYnatPzQv24b0fKZSFMjAknJ6DVwKCZNv4LCSn/k5mQhJzsTXfPy0K2oGL3IhAu65jLeJtt/MH3GDIyfMBUFhfnokpeFzKx0+s1F9675GNC7n10U7KcQ0I9xZefkUCAKMFwqCigcTZo6BTOvmIUchtHyEB+NhCuNSDhFkB9xypRA3UzMTaYTLh3wyJ97o4AjKkHBJYUKzcBBwzBs+HASkRzasTXZuIHWZpv2Lu5Lt6FD0TUrhGBiCgYMGIHM3Fy2f4QKVjpyMnKQTaG4sGcP9KbJSE2ym8aLe/RCQUEP5Hftii5dMtCtuBCzr7oOl82cjcEUSAf174m05CASUzLQd/Ag+skkrjeRiHbH7FnX2DHJ+X37YcDIwejdLRchdRgimZupVSliCpWMrKSYOA98+pGd3QW9+vVH3749KBRSUqNviVpSSBTGVQDQ1NyEmtoa+INB9OjdG1OmTcew0aOQ1zUH3bp2Qd9ePVDI8vmDIaSmpmMw62nYiKHWl6WYGY+nsezZMrdWhNhHc7vkWorJKanIysll38vDyFGjce2119gl3VohZQMT5qsFyVlZ6NOrN90KkJKUYvfC6WqD3n17oks2GYsyy7Ip/15bxpJmPIrDPVUNOr2tuLgnho4eg6LifOuzAZWX/VZ15GMft+OzqfiFdBQ8nVLJOBYvXwt/14G49X13o1uXFBPJTcXQ5JOql8qSL9GP7sXdqJgUICu5KxWFTHTJzUHPHj2oUBdSWfZbmfuRRg0fOZT0Jpk0RXt/mtkOuRjQdwQGj+hrNMjX6ieOdMWgwX2RlZHFvASJB9kYNrI/brzpFowYOR4R5Z0MVe3fo99AjBg3Bl118iTroiVM+koFomffgRg4ehwKcjPalBtdAJ1CJaa2thEbtu1Cz/5DSMuuYFgK/QTDEhFYKRiGN3wY7pwjkOujle2YmmrH/w4fOcpOcLTlzqw40XIpZrY3kXkMquzMZzfWf1JqCrIyMzBsyBBcd/11GDFmDPoPHYL+PXshVUtOWPeFxcXIKyygIhZFXmYmpo69nGW/DSMmjCWd74einoXyhkhNFepr6pGQnsHyFmPyjJkYMXwMiomjuXk56N6vLwqIM3bIkQQM9m2bqWoDvbdQ2W+Wkw2mBAKJzGdvFPfuiXSmXUD6370gD1NmTMblc65DWlqyVU8yNbqCQvKX4v7I6JKHTLbRgL5U9mZOx6TJU9GP/K1P717okh5knTYjLTMLvYdPQN9+/ZCVkki00QwgFVw/3dmaqmHNYCYl+9CjVz8MHj3NeFaIil6UGpcUqgAZpR3BLr4Dxwt1/0dj43EqgbvQu9cU3PLuOcSbRFa7Fg+ytGynmMzdCZcysI3sHqDqKiSwz2t5X3Z2NoYPG4Grr7kOY9lPNGBBlGlrT9E90TB9eqYdzrfphIsNjgvZVQzuhbS2Fg0NDXbHYV5uAWlJLmnfUMx6103oP6yXm2yi50hTPbLZb0ePnIzREy5H124FyMtJRX4eaRn5ZiHpYV/SuJwsyqYagWHnN1rVvS8GDh2LK+fMxuhRg0x+EGPSIIp4b1VVJelDI9NPRk5uV0yaMhW33Xob6RDTtjwyLn/YZrK0qqa5OYqsrGwqb9nkQcPw7jveh6nTJzG826era1K8gcxOuHhA3qCu/tdAEoiYdWwdFcE7ilkCjEcs3F4DGn600K+82LIUvkiY0WoGO72MDMji0xXQZmu4eV5Ty5cQR5q45+8twcuivIrfnuNdzjKWBv1IlPOQ1wmS+nGCrfzp6UVlglgnXDrAhlHbqMHt2H22mN3x4dMuBwfCOTW2tWFrHd2EHBnWtn7UMCgd/RRIDSHOBwtO3NMWd5+vHU8dCDOFGe7CPn0FWsJIYB60xTRRS/VcDA6Z5CGkc98Yb2sYyQyn5UwG2rNCf4rHYSCfUhBEMPUliZEIqi9FpVycl2UmZTNVHsc+B2I5caC+pw7LPHqg7Gm/VID9TIK5nNUvdNlge8jz+5/yo3wpAQni5t0d8cZg8n9+GPNsJEdlsy8zAqszU8wEsuWb9UtnlJYGcVRMWTvh3y2dU535QkksTBTrFy7BD3/+W/S+7Dp85JP3ojCZygGF7kTWeav252qSIBimalONRDQxHq07z6KJA0tenlUG11Yqmd/8qyVT6UcREUfUhtEEKn8qt3yqFT2oZb59iLSmWpSJjNMXYUwJqVYe1/qxskS1Hj8JLb6Q0Vc7vARhlrEe9eWn8bNfPoSXFq3FBz7+Gdx0+w1IYfJqRZkExWaHc/ApnGEcUtQtO2oP0yIVH8HaxrkIbyKsVFs2arbCD+VM/lXJWpp6LljlmA/Lp5LUqZVUflyaCs88yIOyxO6jVy16U16TdJWALWVVHuQSX19Q77RZyCStj1XVxwYWnBTjgZbmsC5thkpxuX0rgljqMXAN3qxziZlUKKCN2zK6ODc+PrWuIMHyGSK+BLXBm8GiyDY7zXBq95wUXCtnC8vLOKUs+ROEE+Juqba8NJEOEeZNp28GWEmaadT9Qwnqd37mN1yH51/8PX734Gu44cZP484PzqFQpbhIx6LaFxErdidcOiBUOw9oaTTqwiDsFs0SqhndMlv3bAtl8SoevXRw6YR3BNRA/I0NZLrlf0Z4ZB0HohtJCJOHhtnmftLZkPzbQvQL0cl2aCUV0aCj4tcAllvy76iObB3lVIqiAB4enE8APLlGIVs1Ax6j/heCFtIdLTTRQUoOqy5Upk7434S/kWS75nCsyoGNZtLI1gQpgpYJ+cQs2HBqd6GZnnLXyGSbvCdO4RciGFs0NJVRwyuEDrqwbRL882nviFIxXJS7GJfbnC9eLXZpufLiFihRs5S4IlR2iKunvLm8640IZyOgem+PwHvraNsJlxJY21i7CYUp3EiIVMOr7WnaeZz2TAgnpeA74VULT3UqoJBIsr3wyHaSkFqJ5unb4lHc3sZQfQvp6CHKF+GtrGxVEp+2XJQvoYCEqia6EaOdtGWZFa1W2kHifnveCHFCorzKuI6l8ijmdogP1gHkXWEscAxikQnn1ZeE/y5u5VNxW2HMzmrQCuH82Ahqm8DrGY/0dwQLZl5cXnVAhI4FNsWNgrPqV+mrf6teLQ/6NeHBgZeCfr2ZYld+2ioCM02kKvUIUnDXCXbq981MXW0rZmRCfF0tDm3bjT8/+QpSc/tg5qyZyKKQmiCfOu6a4SSAK2odINBKRSpqypQEXKbhZdCyph/lytWTGJmrIv0Sd+QcIygaa25lFK2mtLOk0jKswi0ixkCcoD9rVlmx/jWLL98K7bBSwEio6AtXRKPk9eSpMjzz+JO4/79/hrMVlbjnng/iylmXmTIlUG5knG/Foy9Xd16sBtY+NNZYKpNrS7W1XZhMa7d8Vpb0JzpuNNorg1cTAuVZN09RkWAYi9rqU7ayb+YbW0ieY6imV2GUeVUDhuVP7aij4Fnx+qCRquKl4UIoAoGzbQNL17PzSqr0XbNY1ZsA48QT40EWlX5o7MJkl1/XEvTLihcaKI+29MbaWcf863Bi9V3+yJXKmb3yR7hky07Nh2ypvPOhkzV15IxisT1pVHATdBKgrxotTRVYvmQ5nn16GQYOHI+pM8YjOVkY7E6C80wn/DOAa/N242Ggng7U/MI/Dwwn3GscdLb4PxokC3pL3V0bmlTgyEiruJjsmsiDwkjU4TPmxtaMxkaMjOiIiPEZI0JSetwlPbQXoWxNJM0kHaB/eREVUlBRlHa8sJhpLJKYcWA8hE8NZ7mdngoVA3lTZDGjLTlKV37P4QadcJHgb5yhEngNG9eAFwQXnZpRPFK+YyyMwFY2Z/5Y+0r4dCOd+pXg46NkEpUR7hGh/ES5hFYtk1BMwhIpVHRrTTE00alkiiogwVQRueTpT2kIiWWt8VvHWNuYuoECCDqWSf68aBS3ZbUTLh3wmk0b902IlYUQRljm2lLo4NpR7mp9EizilbBFl4rqYAJfVNIQBRkF5V8ChVmF07cmGyw0BXGNMvtFOBlhi5+CINPVch/NSMlOS7kkmum+CYln+jK8MSnbhdPDJsXow8QxCZUCRUHjKWg2UsUXn8VNI29y1ydfVUJZ/a2gMG3VFWeci4zrF3p3T68GLwTtoWNB7eHFryVqUhxU26EIhUON4CckQXeXqhVMKFW968sT8N8OLEOxXOloWh8VVTKjJo0S0kp1IXUoUncGaxe8iRVLVuLA0bNAagHm3HY7xl8+AZnJfrZTPRIo+Sao/RlQywTVnGKXfHO0Q7ggUJasmEq3vVWUmiu5x+RoJ0RheAVvIjPWPXgJonpR5krta8Hqaat5rSSb3QgqA0QGKYIRKjNe7DZDFSY1JEPXoQnSexTv6TMnsfCVF3F43z6MnDgN46bOQGJGpvFu8csQjVQZd4WAYqPFBetWbjIC+omVpiN4LSnw3Nv9eaE9ELYLlw1XBawz2amOJB74dGS42dOGRvxAtZygETNCJMFn4oZmfoLqRAofaEUD868DHHXynxXD6+PWn2Jp6coNE1TkQaO9Ssulrly5GlA6CqtWdiKFmz1jTjxaYdEpFP3SroVp60sDJT6fG4qIUrEidTCvsjcw/LAXS8VxO0cFXDqydS4yGl+oravE4iVPYd3KDTh6uB7ZXYpx2x13Y9T4IQiE6plOhCVJsxkqy5aVXS+dcEmA1+R/FWLtzn/hkiC+GTs0aVucfDGckmsHH51w0cFrJUH8O79Ic9QsJqX6NVAq2iYur+sxqByRnCQYwaCxe/RI33U3nxi+7lElDXFyLGm6VjSI7sg/m1jsQ7KEk30dzTofLmBraCLapHemJTCUoYPoYxsaKSENPSpzGhzrxKuLDX+HQnUh8FrufIixQEMHGUNIgTFEJ7gqtFiQcxPSidFpEjVogpnQVouqEogQWlPuWLIQSYE12qd4ZBdLhRG20ST5teVgstbshFtA4/LigWwE7TbtdoJ4+064ZCCGSucpVGpjT+Cyh8RhjS/rjQJ1TIkJ02sC0d4vKY//Imx61V1q8ilh2/aP0jFM7UaitClYNFFKVDrxXHbmn/FEqZS1MC+6u8mJQh6W0Xj5OQ+IZzE3LRmT6O7wnWnR3ilUdIxFEzXiKHcTYRXsgnAh7JWdjBWJoNy5uFycMu7LJeZmfDyITyvuPS4h1Z0g0BpBM/ukFIjUcB38FJJbgyloosSsBQradaL9Q7ak0WaGXU4uBOeVwxQRGn+QLCto9EX2WozZREH1tWeewYYNm+iWjKtvvB3TZk00P0bemF6IPEV70/Tp17Ir1m98GoJ4eUavahHVWswq9ss8x4X1RYUvPtTTOsSSh7TksSWZRuWjh0AYjSxnI7EjTbTMlpVQ+JcizzevHGJ5Ptuw7lLTflTdNSWtyZY8W53pwlmqEVRI7J4qWmuvjotJIHqomFyc54Ja+a1xx5XY4jDjwLUQvzRMq/zE3AXu1/Mp8OJWGWPvqnDRab56ttbvCLqzWNRcClXI1kUxh7TTxdBSj6y/yqv1cbV/TFARULjRfT+i606tVrlVOyqlU35cYK/MyoGztXd9evYdeIjnh2AI4eKU31YJV/Fx8DW+rtpqxoa0CVZfsfzS08kTR7Fs+YvYuHYL0lO7471334ue/QpZMp1eWU+fASSSr5lc5gX1kuuEfzx4Df23AtsuhgkdmrHtvUN8+qCJ9bFOeCfBayVB/LujJaIJIgWt/jD7ajPplQZnQ2j2Uw2idy15jooMkY5IBrCDZ0SPSJs1eCu+Lq4asMFVtq2amg+RN/F1yb+iXo62xLf9ud8xsPBOtoXuyjNvIho03iCu2Rm3oBGXVJ464WLD/0ChUjAv6PkN3+6iN2KdJUO0IcFQ03vuWlChcUqHDOIgGiXUOK8T9xSrVCH5s7X9xvCEvUIafpumrhkozQ84/4rFrWuNafG2dMNdKmr06m0hvkMJFOCvBuqEdxK8JmpTqIRNUgOEF7FPazJ51LivcCmAkKbi+d9EIVUj4AEFpXs0QLWdiNGuUBHf+C4lQ7MritX8MrwmMpoozMpO+yy0TMiFl2+taZaqJaLGDNCuTU0SUbb4CYzfiJ2kR+K8U6jc7JbD3QAJNcN75aBpoX/FJlGzXag7HxQkHrSBXtAa1+9iUTIuzQ/LVr1U9eeMp1o5UI4uAHEJeVmVQtXIdBqY/4zmagSkUIXSqFC1sCfqtvgEJLIObTblb1So9GzLM8uisjs3/prAyxakMK5j8717tnR8vEKEgm4QRbqNGFarLpQlB9QR29DsCTOuZpJgLzzQTI9mMZWYhZM1fzWo4+qJHmMMTGUWaOuQFPIaGs2bJUmhshFKi9SCNNKtnq8Z2kMjHFT6tFN7qwUUFT9dccJh5o8tTUtd9OgLxu7Mo5CupZTNzIZomO6LcgeBeK3KGIxuuvqxMDTxIHsPznXzXFXDilHQli/VhM2A6cNqyb2qgqwPqiQCjcIylD70MNqscMJZF8ZAF0HTXYNmYvmKMWiHjDAg+6bDPuKh4hJYH6dgoEE06zP89GvGsk4h+ZFKo/p2fET9T3G4fHoDBJZZho3Lh8s041Lfkn8N3PE7ln+1sWxj1/jyX4KJF961kQvXFsT6gCuz8qNWcPHYYU3RRgTZnkLIaLN4Ef2EWhD2NTJ3QYYImnLp1ykvpDEd1ol1wj8e1Mh/Dxh+dIS2Fj0vLlnQmIDS2e7vLIg2eBD/Lo6rdmFfJV+QSxP5cIhCQICdujnYTHpBjkwFKmz7Z7UCQY0un3xqaTefsa8YNSJtMBrBB+m1uIugned6ba+n934hEI0hxGipU7BEb0kPW0hj2uy09Do2g/920XXC/wrEcZe3h1h3jwN9CVWccYjnwL15rNljMJ5te6j29uWXkNCEEIUTYrTH53wTMSRx2LQps613Q5gYYhHkS19utF9vsomBvCtKReEe55l24JflJ2bOce2ESwWMatAIjeNQuQPhcJhpLWjKRQwnLKj37ey82BzEhWuDdix3/vhlQr6LxyO+MUnL3ISNTlWKB2fvni4bnjqj2JylexiY5Cq/8ZYdQa4utnZwvhWWQmbMsb20nrv368UQby5k8zYQ8+AejLctQFupYsnFxaTXeBMH8VaqLVMWaKETOn1RfrWEaaPN/wGEExNRzS9bORaQCl3PMkdttF9lVzfW/iwplqIOFiP/Ze/ibqKtRvPkuT1dB7Fas8Sdi36tvVUePuTDldKjTXyNuXmvBp6SwBBionFYa0vv3QwrY+NDp4bRyvaUauZJp5ManjAfdu+aFYD01Ri0w75YTu3dA73HfwvO/fbAs9ezYzyxfF+AHkotbLPTw4zyI9wXjXYCRJsXFtqb1VT57dWrM5bfluPy1VNaYxG2ZcGeNM42Zmlxe0MNrhaUA7O2X69mYuFicThw2H8uyLdq2UL8FT5gcca/WdwuPX23+huoTPkRbghQmfIjEFR7ykXzU030zppgMB0OY8PeNk3lYmyHc7//N+Fixv3/E2jDp3bwrPT0aHAn/POABvs1ROj6sloxJn/y0yce46NbgP3bJ6lT7lJw2HdtSTK9ss1lXPfSj+TYOpoG+nYrWrw/524eDTp+xYFnqXy0edKPW6LexmLaHTu8dsLFA/GzDqAJK5u0MiwQURfTJlsJk0GRAzTR2omHEj5q6abLKYUmuoSTn+SdxhtjQRW2xfY/aBRO69FdogFKCeIbUSpRUVseo4A6WhYIR8RU+Ul/Do3lkYga0Vp2pu6T8CNmLZGEHsnsFKdy5fKn5YPSzKmzN4pxBZkyY1GZGKn8vTXIg2Jrw8pOuJTAGs8RsIjN2rCtbNRaJEmEr95G9rW5XAROfxLQ3N4HkS/tz6CKQ6S1JVX81ziS5jJs/49fS+6UhHNzQAsjkuwH5p+fit/wiakwPr3rFB3TfZqEe/QvAZ4EWFgqrJSAKDQ2QdEENOEy8V2R8sVP5NfRC+pLdrCB9SHieksdcVdCn0a8RTKloil9GX6rA7ZBC/PDgFESV/PEH5WXr4rO+WRv0CZbhbfRfNWA+r3rUU7lcMsQFUahdZqezXYxIu0HsbgNpKw5QZ8/+rcFBj4k8yNJtlaNmkfQrKCUgFYxG6uotwH59Qw/A7E0NBukJXZWcS3MN+2bW5vQ2BJFMEBBlfWmI2ITEoUTKrsLb0K9zUQoFtWjMkt35xgD96GcqQb8LfVMt9Hy0KI18z7NhAt3xGRpKf/8V1Zc+fjCCjPcpFKn5aHyplkpLVLULGiUyp9TJlgPbINoRAK1alv1y5ZQGJWRSKLqVjhhVjPfpUj6o2GWUSdPCn+130ojjyoPMZ0BFLUzDGDxunZ3bSgjfKWFgE+9tg1L8UNyvPY4BVoUImozixHSw1YhrlU+7RmPF0Z5NGGA9orfy4BTXJUv1YwsYompjsxGeRWuufCaHZKxwitOKcPCa9Un+UOE8YTZxhFmvpmB1B98rZoTTCTNZ/4URnxElasPgmK3ssfSdEjr3PR0PUk4rjT9RA+6Md1W4qZ8qguab8apONRPravRUbn3sS18Lc3CLEvHfBMn3W2LClxFhxqWg+HIg5ppWtn+ASpWUR1lHGJpSSN0Vpi3kNdyyuzY8tZIg82+NjI9dzEw6QBTC9PoxMA2GsFytbY20FbYqW/9OG6rvFl92CXSyqsrm/Ok8suncEwtqjw7746uyK6Z77q82du77NRj0Vclb9EorPKreiGdcMa5RxSPvBjIg7UIjbPXm2ysGDTutz3EJQcdssYyGIHSk2Ugcqg85kJr0WW1UyuNTk11DnHGVYMznXDJgDDTZEUPjL7QljROS7r9pA+t5B2BVtGkABroJtXIuqPwgN+iK82ik3xXnxYt87VIZha9Fx8RjRANY0gy1Kgd4KQ0mZbomIB4I/QyWSWGW5KPdYxPi8ne9V63Y5qkO42MsyWB9JF9nOjWwjjDLdVy7cSxdwhiLdcR3Hn8IrIykp4oADU3GYHQ/hHHBtVCbE0KD00mCLqGFcNuJcM3wqlGNqYvF20/JpLRWnc/BdTiOumJ0UdtGYkYNYm3RmLJPLXcQzdMK4yjzCFEmslYycDgr2FsOhvKCYNaThFtZPxMRoTNiYHCtAQisTYPujkv7XNxMfLPkNeBSiNjYMxXRlXjMfg21074h4PaTa0YJs5JtBCofWgfPkOd/KxTXGhMRKG19kvp5C3pLUQWCqSOeJkoa0jjRookqEkhV2DNFAhFLIhwxk98ClD0IoWzZTnyJ1fT/LVcjO8UOlu1dImETgMIDqTC0TCcZk/q6b3JqB3TNWbsJuojzRTg+al39SVLvIFCDAUlP9OWgKoRbXc6nMNw+nA/8st/E7LMRR5l9Kq0KITR3foAPWqwwZYxUYOMMFNN7KfaOusJ9cqU/IlsOxFNcbL8sXRkVMeuWzjlzBQlfqkeUviipYmtARqWWQu+Emnj9Av2c9aXUjNQHHHGGBed4q3VE/1kRjrlT6Gk+Lpjt9n/5dffiCAZnJZs6pooW1Llo/Cq+NR9aeUuVlU+tSxN/ZqObE+fMUalIcWXYdj2JEuMV3SP7SgmyIrXYs5G+jC8Ytu2Njeikc3TRL9KI5FxBFTJ+qafRtFFlVP2pI8hto1wtYF+LYvkhGoDt6qLdd3SRIGeLsRNIYJOS5XeqFFM+bF9e7a3iLiqs98pmEv5btYR6zRWHiYW08eUAL8lPKvGBV4b8kFjyjFf9FC+pGpqwMyQhOVQGq0UoqnyWVv79NPMemO8wsUGhrPt1oYEbAtFFMM/1YfhB+vThySmpbZyuVDuFEL4IqOl3MqvKbrWWHS1wIxLbaBHWAoVcckCsi1Yry22XjCZJQpZqwrdrXGsMArkVDaVUvzKFZf2ql/2CTvGnJG3qF+aO8PSWfWljeJebl0EzCXLoDP42uwF1rccDZKQoxlTIWeUimdYafmpULVQ8KEH1UOYOKkVoyqmjl7XlQ86bCkBuieN/YNZYLM6UNnDTYxL+6uUDQ3S1LD6HdVTttrLyxLYag1+G8hVeVU+GI34J/uosFjejTQQJyPMvwmB9ifFSf7kQSb2IlyDhDKnUMlJKZmRsywl1SlmfajcseXJXnTmR79GWxSIfuioL8s+DW3i/Lm3SwqUpXgjIO6ISopG6k0MRjxGzkINNYfJT17p1HeotEuuMU8C7ynwmq8T3nGQHODJhO4p/FU7kXbpVD4NfLDf+iNNbNsa8ja2K2VLXe6v4QZRMvmJELcdzQ3afmJ1UcMF0R31afoLI5W9OYVP0UX1bvUtpSd+TNokPDEccXkyOUaIRXD9RVjXyP5bp2BG7qRQ+cKJjM5NMkjk1iSI/DWRPljX64SLDudd7KtjdO04ajEV41JqUGFEGP4QmaGt+xQLJROPphLDtDmPmEZGorHIABHNh7P0wDB+jVVLxJJIlUIBgWEZdWuUwoOfyEDhUyOMwQTt26A/X7LFHyFiSbjUsY9REucEIqOfCKMTmBIoNfl8EkQyGLdQTWyDzJhpaORaQkiItm5WIAGBEIUkxaXOwPB8tW8pjQpt5TU7ljOGtA707pn2Ryf8g0HtwLbSCJFEBO07EIaRbNHUCN3oJ5Pt717tXGOZNlDjk8BQIJcol0Bc3LttExbMW4RjdQEUFOQjJbZ3oZXIJJQQLjnMkeDFPiBjX8qKlAMBc0Hk9otoUuATid21vwxvLlyNVSvewJq1a7Fr7wl2l0QU5GYiIdKALVu2YPHGbYgkpKIoKw379+7GSxs2ozEcQXFmuh3dXFF1AqvWr8Cx8lbk5nZFSgIxXoIylQaVUdhruMsPCWkqn+E0JTOHz8wLHy1+CnNWFvUUO3A8xhAYXyysDj9Qz9HR567fWlDasK9IQNV6bflQlXqOisHS5Qf7rsKbteL0DP90R50dtED/mokQLZDftwJHg/SMWUTrcezIfry8aCUOnihHbmYmUlOSmFcyF9IDiaUhMj+LkbihtnM0hRHQUofXiM051Y52ajSbcVTulEmWnXZSuCTwanDHF6lnWUnDAqnmT62q0FKOdW+TyiElWYxWypwdtkGNpiVAJcdcNfMpvKCbHfeuMEpB8zZkpBTA/YE0MkjHBBP45/JL/KaPKDW2AzvXYeWmUiSm5SM3gzRXnFF79tieorQCtZTRO+bLtR3L5NDVSqzW0ZtbSsfUpTx4HJb1JJauCgmq4HIT8aWy6RTfBJaZKSjTiloXKfNFgw+WLr2K5rp2UqIE5kEpCVTXbH2+KT1GYAghV+fX8+WB+6ab4RQN+ylRxWi3TmqUX7tSV/VPhNb+NKWdSGNllsihejAkZT5kp+j4o3y6jMqCeTfawLqkjZWD8UWJO7o/SjUqAUeKZ4ACTgv7YpjG2pl+1WesD9EuwgwqFt11ppMNjW5o8KW1Cge37sK61fvgS81BalYyFX+FUxzCPYbXl9UXHzHjEpDoxFwkJrsBBCrwCaRLGvXWfs0ghTy3x4xt5G/EqbIyLFy+GssXL8OulUuw//BBhNMykZmRyfZj2xPXojqMhUqdzRQzDsM1pu/u6BMloDvrQNbmrozKvrUBG9atxcrF21HXGEJalyyEgg7HpMD7NNgkoLZo1xIwAjsdjVY6Pl5lU1ncm/ty5fZw09WJ1YvnxyV+aYIKZsbltUUDxMQ3XcVi1vxxNJIvxA3JLe5aD5aOBVadtMcRM/rxnp3wDoOHkwQ1Q6wJ7Goda7cYXaaJsA8ZrrLvSVnSxfMa3BFPCJFnBH3NxAVRD/ZPRtZsGhVlUhEY0V72P9EL4b3cE4QQpDF+ycpGB0S/yCsilG0oW/vY52NJWy4dDRPvJy5FxeE0mKaLe+maKF7DXkz+YP6j5EAmy0giZr5VlE64qNBBoTLmQ3CEVh9kEEYMRAWaUV5+EgtWr8aSdZuxZeVmlG87gHp/AjILuiCZ3jXwFDCOU4ET+0uxeNEyLNmwHtu378b+7fuQmp6DnOw0IgmFm0gFeSXF4VAKGmsj2LJmFVav3ow6SijZeblETAktGgWjsNQiJKUok+hHWdkhLFryCkoPVSAtLRepSdpnQGJmjN5QFg21tVixaAmWLliI7VtLcODgCYSSUpGeRSGVZVP5VEJm1JU1VnBX7gvAW1h3wj8ATIjQQ0ta4hQqs67BodLdeHXJbqzeuBs7tqzDpvUrsWUz8XXrXjQ2NCM/N4s4IAFJwoUP4dpq/PkPD+ILX/4aypuTcfVVc5Ah2ibcJxEUiZOxP+E4jcilI7bOiKjKTqC9PSC+Hjh0AL968Am8MW8ZTp/ah8OHj6K6FujRqzv6FndFpKaC7g/hh7/8HdJyCzFhxCA8/vgf8R8//ondrD999Egkp6ejdOdm/Oin9+HQqWZMnDQJGcR3CR2arXA1QWAeNNMiexn9up4gPGenZKZbNDqu7LJcNtYulNdmVRJcydGyD2jWJKpZB43KkVirbLS38osx8C3+8mCl5OpAD7aCKZuyZ5o+zarRk2lr/NeDdrrnw+9LpJWrr44gYYwP0RsyGuba3lWmSLgO8+e9iU994evYsmMvJk0Yh+KifHOLkolpFiSoGelY+i0BN9CiPCkftjSHvsVYrPfbJ+O3fChzsdFA5teUMQmGFGrPHD6FlUvXY8GaUmzcsQtr1i3Ekb2bSb+iyMrrxrZyArnVtuVdS8M0+MN6pnKtDcuWrhQtVoKUAAm0iNThQOkurN26BwmZGUhKSSFDZiyGZBTGybgba85i7hMP4Y9/eRX9hk3CwB65rE8K0CyQZmzEXZWkLYc0AVwzK05pk71AZZcy4hlVqQPWHPOqT/mxpYD8NiFdbZzQgoZoLUp278aShWuwbeUm7N60ATtKNuHw2Qpk5xchLaQRVsWkIMo3jUauVM5YDlS7aiOXsHNzTrITyIeMAxeKbmy/SH0ttizfgHWr1mPN9g1YvWUt1m9cj0N7DyEnvQvSyUuk2CmM8QtbosZ0NHvJdIQBcpRM4e4d5Cf96dXuO2NdqdZM+aXSxC5EvBG+kKrQk8IZv2CdaLBOXcDNBbL+mUUVWbFqJaREJOGAVkWIb/kZWUvNSTz/l5fxyJPzUNR3AHr1607ByoVTNVlgqw9XQ/ZJYxAJo+roMazash+RhGR0SUu1kx1bGfDA8UNYtWw9wqei6JKXikByC46fOIWFS1Zi+/q1WPf6i6SBK5FYPAhDBw9ChqbniTcR8lC1eTAqvu4yIXz0aWDBsDiGq7FMaOWHT36IB/9930/xX9/9FRJSszFs7BhkpAbtbklTqDQbr7an6uZogv6NKpu90hR4dz86UD07/JOtjKuSmLu1zyUIrigus8yrPiOk+Zu3bMS8N97A5g0bULJlK3Zu3YHK6jp0LS62cmupltrcKZgOB13BvQgJ8e+d8A6Ch5ME9Qv++8kvz1aUY/nyZVi6ZDm2bS/FptKDiCSmojg3h43egihpv9pQNEEUr7WlAQnhs9i3ezMWLN+EoycDyMrOQVoKe0OUvJW0wRRsBlOKohc61EIrJlr0FN3VEnP2p0AwBQ3VPqxduxZLly4i31mHE6cOIi0jDZlpmTZgIXXKH2m2KwOPHT+I1+fPw4bVpNGrS1B5th65PYuoACYigTQtYAMdl2if+j8E58xQESnY0k7hENEVvqiTR1F7+gieefZVPPXyUgo023F41w7s2boBW/cdQlp2MboX5CJJE1JowOG9O/Hc0y+zgVdh65692LFtK9YuX4nyyjDyuvdEZlYiEknEw/URbNpyAJvWrcRLzz2BX/7yUdLkLpgwfYKUbSZOJCRj0nvF6XIsI5KuWjkPj/7x13j62UUYMmgM+lFAbaEAqvXt4huVp8vwytxX8Pzc11CyaydKdm7A8iVv4tCx0yjsMQC5eZkOkV3hYuVjyWMCxVvC2zh1wjsNYtJOodKovh1HqvZpOIW5T/8FP/7tM9hKJb7s+AHsLS3Bzp17sO/gUWRmpFPA6I9gsk6EpMBFAhOg8nPm5FHUNkUwfOoVmDxpFFJtNEkjRZ6gIZCAQMxR3zChzKWpGQEJJR7+iF021VXj+RdfwNNz5+O297wXX/7iv+D6a6/FlOmXoWevYiRrqVlzHU6crUZTKB1jx1NY7lmIs+XHUcd4xo+fgNGDBiMpGMTxo/vwOhWJ5KwemDZjBjKZd9Fdw1VmU5PIDpUZp400Kwci7zGlL5Z/1ZQEQuU9iCY+1QsoALEYGvFWebXwz04jlOBFG5vR8EnkVDxiBiq7JaZX86NlX7LQ6YZKwCY+JJn6lQbfW6nA6EnTIiWLzEMzXSqDRdsGikeBRYOitqbc0SDlgbatTaiqrsLpsxH0HzSCyuV4FHTJspC66yNABhMwhqX8y7AG1EYqoPlRbGpDp/S5PLFuVF7aubYm0L9KLOHH19iA+S+/gW988z6s3b4fR04cw34qUyWbV6Jk+w5EA8nIK+6FYFDzUKIpSktLR1kPTETL8wJh5knxk6mZUsO0hX2RmlN47tmn8YuHnsTA0WPRrTuFbfqUcqQ9WD7NKDZWY+OKN7Bi235Mu+pGDO6RxzqWgik8ZBuznKqxQETr8Jtpx7qyoXGWkX9SSZUPKQVSwiTU2b4fpqGRV9W4ju3VAIPeaWk1pH+1YUO4Cls3b8HC1xdh29r1KN2zA+tI89du24Wk9Dx0K+qO1CSWj8qIxakZGktfOGi1ab9W15ZTVaqMvl2K7oNlUZZk7FMZjaDq5En84Nvfx1NPPY3SQwdxiP10X2kpNixcibLTNcgt7oMuOekm2GsJpb+FOGdSqwY4WBJGphZRSlGNJhA5/dbm6hOunmJzK2wr4ovqiHWqfhKgMqF71dyphaQV1K60FNCEJ8ZrM1RWFrV12PxKOCKiyYcahUWowbJlG7B+2zGMmTIJ/Qb0QJDx2F44q49YgdWW/FJIGYNoEzZSkPrBzx5CdmE/jBveR5aooJL5m0cextOPPY+shCwMHdYPobQg0jOySUcm4prLpyGRityKkgPoMeVqTBwxAGnW2bQaiG3O8gSjmpNUW6nUzA/LpWEBH4VIjwdq2ZH1PbaFlqYeOnAELZF0lmM6Bo8ahDQy5aCFI9gR9nyzK0/Udqx3w0GV0OGoqtFhpUoqwzKr7vgmkF/F5XwL+OWyculAfH7s3bVahPW5YtkyvPbSXOwpKcHeXSVYv3oVNm3diZScHigqLkKISGpKOMPZ6hjWnSm1MhZZLPL4NDrhHQLxHNFAR7X0XlVVgSVLl+KF517G5o3bsX3nZry6cAF27TuD4oIeKC7MQ6sGX0h3g5RlNbCrFR6Hti7Cd777NXznBw+CpArTZk5DQddEducmKjYmINsAjOsPovfsE6Qb6pcCv7+Bfa4a5Sfq8epLa/DKK89h5aol2Ld/H0r3bUJVTQ1ysvsiPZN0TwMh0VrsK9mFx595Ea/Om4e9O0tRunkHdu/ZjEhyEjKL+yElqHksLQt2PawTLh6co1CJuMoIxURIDdWo11CwePF5PPfqOtx89+fwwffeijtunY7eA7OxdNlGrN+wHwOHj0RRXjJqTuzBs4+9ijNnA7jrno/jtrvejavmzMCAXvl47qVXUNsYxtChQ5GelIl1K7fgqWdeRqTxOApyQjhwoB75vYZj+uxxSCUBCpD5KR+NdZVYNH8hFbRFyMoAUhN9KCmtwLSpszG4f0/4SNyNRbY24zgRb+vmElw++1245yPvx7XvmsF4GrFw2TqU1yVgYP9+yEpLdEyRHUdldWV+G0TrxMFLDqRQqc2lUNmoutqo6TQV7uU4URPCBz98L/7tXz6Mq+dciauufhdmXzUHI0YQ79JSSMC0TCYBIRKYQCgRgwb3wbuuvwkjJk1CUqIficILjehItNaotwQNicHyL0HBCJMDUzfIE1sprWpmRDMb5UcO4NmXXqQSVIi7P/Bh9O3eFclJyUhKDtmyHeGpRpUGDB6JqVfMRv9+fZAaBAb27YHLZ12JYcNHIC2UZOPFJw7twfLlK5DXfTAuu3w6MnWhUgwhrZ/GjIRit7NBohrFPjo6pYX2FM61DMHySrugrdmW8iEByFlKkNFyBVu255fY6Ai+NrNryF1Lca2PWJzO6NuUB/p0jIF2DOTTkgPamVgt4daCKZBmBRkXG86qUFZtoPwLJGgwSYVRG1i5mALrrUfPXpg16zpcNnMGsvOyWAKmIqGXjEXvPl0GosAJTpizMio//KAvtY6rDuXTXlh6i14J8qk0JRRTKLdZzKZ6bN+4A2vW7cQHPv45fOJfP4w7brsag/t1w+7dOzH3tYXI6N4Hffv0RpoSZFwR5lMyNVNmKyguOfCp+uGDzmYX8NVj7eoVWLnlAC6/7gb07JaPZKWvuouFidaexu4ty7HtWBWmzL4Jg7t3YQRsfyln9CP8V/bd/kB+MX7hJnNvZRaNczOZTkyV0ZyMT3GYxugEX6q3FAacAq74DLTUOtCC7gVFmDZpKq655ipcd9O7MHzcSGzddQBLV6xH/74se3GhhXEzVGw7i1cKgsrAVzPyQUN7l0m5eCnJLs6v/ahkYdSUl2H+K28gp0tXfObLX8X7P/oRXD51OrJbE/H48y+hljg5duQYJJMf6IRGU2oSNL0sPHMYp9gVm8qeYOXll81kJdKLq0PNl6qe1DhKX3YJmq3V8t0A+wKdXJuqnvjCf+XeluLRaCDC30IM0wapBBna0xYJVIrWbkMJhbCJ06ZjwMDitvvDpMC4GSDh7LkKFWssXIODu7Zg0Zp9GDp6OsYM647a2go888IbeG3BIsxkfO+97TbkdO1qIQJU6pOCiUhMAso2rsAbm/eix/SbMGl4L6SrEpiALp9WWwSlfEsLZT0J1VRTqgnROH1pkEZCZUAj8ArIOhs1YiSuve52DBk1jAocqS7t/FJQlbjt6WO9q68zDTewQFDcNKo71alRLr63QazcXtnbKRvBi+NSAS9jenrGsErUrxW9exZj9uxZrKNraK7FiCGDsHbDNixbvwdDR45Fftc0jTsY2Oy3FKpYeFfWWAJeOp3wDoLag62hwSo2hXB03/79OH78GCZNmIQP3fMhvOva2chITcUrz7+GIyfLMHTsGORkJBNnxYNIK0iLao8dwdNPPoLFK+ejMZyK1PQxuOzKqejeLZH9RQM27Ots7lbSVRs0I+bYDK/smKbxO38jGpqO44+/fxGvzd1IeWAcPvrxD+DOO+9kXw9i0ZIlOHKoCUPHjERGYhhntm/Aww8/jQMVwEc//BHc8/67SasvQ6TpIJ6gDNKSOxwDexUhpY3WdCLYxYQOCpVX1xI23CiKviggnjyKpx55BCeqknHz+z6CEb0zkZ5Sh6xufpw+1ozXXl2LkVPGYGjfTBwp2YjHH30D/QZOx+VXXYXCrunIzUw1RWjF6vU4U92IUaPHIjsl05hNzz598e47L0f16YNYv+YkcooHY9qcsUgicolBitGdOHoYx44dx6yrrsGEUX1x7NBebC2txNQpFD4pDIfJB6T4aT9MRloGhg0dhQHDBiEjIxXp6Ukoyk/HKgpFW0tPYdyYYehemEOZRKMConBion8FyTpx8BIDigVkSNoVowV/TqESVaoiDq3GoTM+zLpyNkYN6ImM9ExkZGovQRpSkpPQEtGysxbUNoQpGO7CltWLcGjPbpytrEckOQfpJJK6tUECqu4taqmvxcljJ1Fe3YSmFj92btuITWsWY+/+PahvCSElOwfJknFNyJWgmoCaMyfw/Msvo7D3MFz1rmuQbvqJyGcMlRoqUXFoHw6fqkUoM499IYhk4ntIQmTlWezbdwgJIfYZ5vfM8cNYsWgZuhQOxPAxE1Basg1bVi7GyYMHEUrOQnI6GTUj1XK9uuoz2E1GUK2d6IFklGzZhHXLF+Lw/n0IR5OQ0SUbQUpQrXWncLD0EPYejyCN9RMKKW9k7nWncXT3Huw+WI+0zFwk0T589hQOHTyESoaPNjZj6/oNWL16A04c3ouU1EQE0rNMEJcM6fNTUaMCtnvPISzfsArbSzbg4O4t2L/3MEoPnsSxykqEginISKYIK+mpA6gvyuiXeTGGAzQ2N2L/gT3YtGktdu/ajRNHahH1pSA1O4X1Th9RYoFfM0FNOLV3P8rK6ln0ZOzauw2rVq3AEeYl3NiCRLaTT4M0TEKyJKXfGFMT3ijvenNKhQ4qMPtwI/bs2Iv1G0sx89obMXFSL+Qkp6G4OJvuLXh14Qo0J2djxMBhSCk/g41bS1GRkIRs4lAo4hhoNKGZtK0Sh9YfxZnaM6hsKMP2NSuxa+MqvLlgMXYePoPUnHwcP1OJ0h1HcPLocSqPTcjKykJLcwU2rHgNGw9VYsIVN8LXVIct69dj69YSNNU3IzWTSiUVbM2m2LwahdqyM2XYsHkTNqynIE/8rqw6jVTWd3JKGuuNInNrA84e2I/TB86gIRjAofJj2LJ2JbZv34KTFbVIzypAcrIfzVQm/FSqUhLTkJbRBWlZaUhOC6GwKB+nymuwbv0O9O0/AEOH9jMlQ7OZXvsJy71BB8N3DVCYm74kscT7jYnR7j/mj2Vh2zRUV2Dx6wuQnJqNOTffjG4FXZGblY38UAr+8sqb8Gfm4IoZ05CqJTW+Jior4hUnsYp8ZsfmEuxhX6muL0NadlfinZQH5jPaiLPHDuDkodNoScjEmbomrFy7HCUb1+DM4eNoZZ9KzUhByNeM8OmTOLJzDyoiIVRFo9i8dTU2r16Jk4fLEEzqgsQM0hPmN0hlzq8lxK1JOLR/L/vHSqa/FgdLNmHx4rU4UtaMyZdJoerh9BgW0akSfNfyxFipXfn1S4hU4/i+EvajIxg8eibGDO+KZcuX4oFfPYpBw4fjg3ffRUW+p1Wj7ZvTag4FDdfh6JpFmL/zBIqm3YyJg7ohy/qaH010lwIVpEJ55tgJLFuzEVs278auPVtwpvIUunTpZvWkvEhhryQt2rljCzatX44jB4/ibFkELYmJxFfd+xUhLkmhYoRNNXQ/ghMnGtnHgth36CDWrdqEvdu3oaGhBul5+cRp8Vv1PWVSigSzzHy3l9swg0/Z6MXhzyUJymwbKL+tSGRfSsnIQkpaMvE1GUVFBTh8+BQWU+4YN3k6evXuYgMfanzRDtHbjn0iFmmHuDvhnQGHc5IDVf3C0/SMDPTr25emB2liGuXIHAwo7IaSDSuw9chhDBg/Db0LctkH2ANIq9B4Eq+/OBcvLV6PKTNGIi+3G+obinHFu6aiqFArMijL2pU/xP5AI3kMFRxy/Bj1M3S3PcaUYY4d30mF6iV0yxuFj37yTnSnQpScnIrinuko2bEL69YexPDxmsAIYMNLz2PByp2Yct3duG7WVGSyb6blpKEguwZb9x3GroocykEDUJil2TGm1IlfFxXOO5RCipRqXZ1ep4Zp83hFOYnvm6/jwMkmKk4z0ac4gwJUDWrqyrFiSSn2HqjEzDkzMZCKlpjV3OfnwxfKwfhp44iYGgVvQkXZMbw+bwVCabmYOm0yFa1M9OjeE8OGD0RiWgKOlW7GyqXHkNNnCKZePRrkkWRURFQieUpKEpl3fxR374eUQA02UQBYu+0UZlx2DQYPKLarqZRrbQUPhRKRRCFTjCOqZSBkjBpBWLJqO/NfRwY8Eb2L802hsg4kQiaG7xG0C0EnEl5yoKVMOhbYZqikUWjaIVxuCtW+U1GMmzQF/brnmV81n83O0NjSFpozVTWYO/dFzH3qUSx47XW89MZCRFJzMWbMSCQbXjBEazNqK07j8T//Bc+9vBinK2vx+kvPYOn8F7F0xQqU7D+O/OK+KC7oQuGvFrtKtuDQ7m3YTkVmEd3rQeJGYbS87ACVkoOoraOAmpqEpJZ6vPT4n/DI068jt3gg+vfM15ySCSYvPvUkfvHLB9Fr4AgM6Nkd5YcPYv3i1WihAFcbCeCVF57E/LlPYd2KZahtAgp69ifBT7ER9b07t+JH//0Alm8sQTUd578yF6+8+DyWLF2G/SSuXYt6oGthDiqP7cKvfvkQXl5MZj9uInJydOxAq9n//he/prBKpnDZLHTJDqJsfwnu++n9WLnjEMqPH8MLf3kCr73xJtYuX4BmKjH5/YYgI037f5j/xmNUCjbjgV8/hWdefA2bN6/GqkUv44nHn8ar89aiLpqAIYMGoSAnQ936nH6lCGQEVKkkrJHLNDTUY8mSxXj8sT9j3pvz8PSfX8GJM40YMGYI8jJTLd86ZMTfWI3HHvw9/vLqUpxi2y5Y+BrLPpdttQD7d+9Fbs/eyMl39ayBdyltWupoe4fEQUnntHdGI8dO3GulbtiAPdv3YM36EoybcQX6DCqiv2YK26Ro9fV4ZcFKNKfmYOqI4Ti5dAG+/uP7UR5KwuRxg5Gq0UiSr4aEGqxYuhq//vZDqGypQKO/Bs8/9hhW0/82KmsnKptxrLwCJSU7qagTf/aXoktOCvr160OkrcL29Yux5UgdsrsPwY41S/DKSy9i/sLF2L9zB7IoqHbt1QPJOkCjqRaHTpzEs8/PxZNPPo3ly1ZjLRXKjRtWItLYiOK+wxBIClEAqMOCZ5/Fw79+AkebGrFiy1q8+fxzWDJ/PtZv2oKsnAIU9OiJYEjLGEk/1Uja22Xt5UNtfSVWrdzE8rdScJiOHsRdqQTyZwctiPBKQKTROIeax45rtxd+68eeamvPL5/mj8Z+1FtbUFd1BotfmU/lJQuTZs9Cbna62Z/YsROvLF2FosHDMGv6RGQkqcUaTah/6OHH8PuHH0XJpm1Yv3oplYVNCKZ1QXbXYqQnUamKNhAnX8MvH3iYCmQYm6h0PvP0o1izZB6WLSLu1LagV/++yE33oWzXdvzwOz/Emv0ncfTsGbz2whNY/NprWLF4OWrqo+g+cAgSU0LkVQ1obWjF0dKTeHLu03iSfWTz6tXYTiVtPftiKL0Q066YSR7WnbijcorfeDzHCdNebXgKhZbyHNy1GUvWHcDQMTORlRrGw394GOFACj7w0Q9j1KDBCOpURnq3lYbi1ar7cC2OrV2C17afQOHUG3DZkEJkyL2FeE33ANuilgLh0888i9/+6QmsXrmWyvcKrF23EmlpeSgs7IkEKlUJbPLTp0/juWefwfPP/QXzqdi+8uIyBNLzMHDcMKSQ3iYxTeU40lCB3z/4CJ58+g3SpAbSm0V46bm5WLHgdezduwtZRX3QtRv7DvPqJr2Ub5ZfA1D6tFhixuLUi2dz6YGN38XelXu1Y0uYfVA8SIaOTVVnsXDxKpxpSMB1N1yFgq5SQtXarp/o6G0Xh35jfUDQHnEnvGNAbqDlymxHoZ3eE0MhJCam2OAWonVs0CDxvRWbN76B3acqMeay69C/uIvxPc1OH9n2Jn71yBMI5o3GnbfPwgn2sSMnUzDzXdNQkE+6I1ml1a38aPHXkfcQX0C+Sx6nJleX0KCDBiX3H9iKN19ej0H9pmDW1ePhD4oetrLvNOHg4SPYsf0U+g8dhJ6F6di2+E1s2n0MV9x4J/r1zNE4Ib02UHY+ge2HTqPkRCamjBiCHrkUkjtx66KDenIHaFMs+PSm7vMpiIybMJoM7giepQB68GSFbLFu8UEsWLIOIyeNx1BqwX6koKC4FwYMycPCJU/hubnP42xTBHX1zXj1hQU4eawCw4ePRG5+nhHR1C5J7iBACbktiURMjY65pUlyFwbYZvNgKpJSxEzDaIk02F0sml3SnSQaTVYujU5rX4CEo2ZiFf+NXLNzlJfXoPxsJdLTkpGRkeZOiJLb3wp/l+dOeEfAaxM97Z0/pErJSYmorqrCIgpHLy1YhNcWzMPri5dg6epNOHTsVMxrFLk52XjvXXfiF7/+FT712U+isCgPFVWVRlA18SF/miJvpkBfdbqCgsVcvPzqPFx77bX49W9+gf/4jy+isq4KTz7/Kg4frcKZ8jN46aW5ePCXP6ffZ7Hv4CFs274Tf3j4CTzwq9/gt797EPPmLUVVZRU1/wD7UhUVrTOINEkpFBDXiautFWdRefw4GpvVCyiARKlYNLZi46p1FGRX4r1334XfPfQbfPB978HK5Uvw5sJlqG8kMyAj1zrtQwcP44mnn8crbyzA7DlX449/ehSf/8IXcPTQATz258dx+mwFtIFfdVRWUYtmCWUGfgoFjaitqqCfGtQ0OHudMrRrZwl++9CjWLFqFT7y4Xvw8EMP4uP33oMFr7+GhQtXolKnxLMDHtq9Fr964Ieor4/gv37wEzxw/wP46pf+DQMpoPboNQDX33wbBgzsbu0kgep8oKrLOlBeAr4ghUQKbcmpuGrONfjRj76Pr//HF9CrsBsqy8+ivlmHhtOnxcXEgwFUnjmJl1+fhwfJ2IaNGIkHHvgZvvW1L5Me1OOxx57C4RNnTVDUpbhiLhRrpPMQNM9AUVZZMi1A7a980PgkqLbYcbbNzRrkSYDu92gWjSFtSk9KQzqV5B79i5BChrhn41amc5wNx+CMKlxTjbVr1qKM7Th09BhcPm06vv297+MHP7kP110/C3379sUnP/0Z/OyBn+DB3/0E3/rmlzFj+jQEE1j+SJgKeCoV11a8yfYcwHr8/n99D/f9931IJJN95dWXsfdQGRlxAmnrUdz3k/uxat0W3H33PfjNr37B+H6Ny6dPJu19Bn9+5ElUVLNEVIKTmbcVS1bioT89hqSsHHzve/+F+3/yIwzu0wO/+tUvsXbTdoRbNOuTyq4SQPnRE1izfDGWLH4ZT//lz9iyegWmjRuHkcMHq4h2R1Z8a7rZPgkpztYTUuy+NClMVrcCV9fng6t7LSNMoNB99FgZ3lyyGq+uWIEXnn4MDz30SxQUdMXVV89BmrQFwukTR/HEY3/BtpJSfOJfP4Vfsl//4v6fon+fYvzxkT9h+ZrtxleENH4qoOtXrWH9/AH7DhzGpz5N/6yv6264Hm8uWGIDfxEqm6n+CE6y3zxCBXUT+/JHPvRh9uff454PvBeL572GJ56cyzhVnjC2rVlPfP8tasJRfPO//ov95WH88L6f4OYbr0dmmk64ZR3F43zc6/kgR9a/n/gZqUVNTTmepbLSSOH8k5/8JEaNHO5qzpanqr61T07CGgvHNLTBPTZ3ZLRM0WkhaApf6stP4rFHn8TK9VvxsU/8C/7wh9/ip//9E4wfP5507bd4/Y0l7IMO+wu7dcOH7/0I7n/g5/jkv/wraWYeausarc+4+XYBU2KaYSrtL7/6Kv78+BPoT1ng5z//KX74w+8gKcmPhx+l8n6qRl3UxW3FcxnTb7t520r5xwMzGSMPsZy259wfDOHo/v1YPn8Blr/5Jv74+99jd+lO9vGr0auXW5apSpVv0TW3Z0Z16PqK4rvES/9/GkzuVZMQJB86EMVQn6JDsAE1Z/dj/6HDpJ8pyEhMthlfrfCtO7ofL7+8GJXRDNzwvg+isLg7Aq1NxPVKNJCn6s4p7U+0/k8c0Cy1HS3VGjF+Z+1PJ7lTCiBtJ90lXzt0qBQnj59gHpgIGUpjpJm8tZG8qAll5GVAOnzpmaiuO4X9pWvQpKXM4juBVNQ1+ymXnMHpA2Wora6kpfY5xgYrOuGigUcV28Bp6WpW9659IcHUNApnV+H2W2fjyMF1+NFPf4rfPvgsXn58DfoMGIl7Pv4+9CpKIUYEkZ5fxO9bMG5SLzz08G/xiwd+iYd+80esW7EVV172LrzrmnchLSWERrtTRqcDKVWtJdV9JVR0mLA2Bds4sT60+5eavLsITTiv08joSkQUM9MGP6G/7aHQmyQ7bQj2h+21pTmAV95ci81bSzFx/Cj07NGNqal0fwcZk/dOuHQghjMOSwn2oGU0gjCVimPHjuGNN+fhD398BL9/5GH8/uGH8eyzz2HPnr2uzTVSS6JZkN8V3Xv1Qz8KqjlUsBIobUvwMXHOGJ5wTQ8fuhYU44abbses2bPRjULwmHEj0ad/Hxw4ehTHTp5EMYnoR+79EL71wx/iExR6hgwdinHjJ+CLX/48fvCDH+Db3/k27rzjZhTkZZO2NSAp6KfQnEg8dtjooAVJLc1ICQURpXBOkkxGnYiG6kZkZ+bg/e+/AzOnTUbPwUMwZfJYClyt2LtvPyp1fCBxX8eI67CJfgNH4L0fuBdXMq/FVGQmT52GyZMmoEtOliPaLVIS2OeoDPgTbKeP1aWWjcm0BpgvrbcWUKHU3oz+Q0bgPXfchalXXol+QwZg/IjhSAkmoLT0INPXJvdW7CxZj72lOzB29HgKaEMwuP8IzLpyDqZOmo6srFwEU9xhF1bJJlDFg741iKNBETEb5Ugj5UnIyc5nvx2EwQP6ojC7C1JDSZQl25cLaW+L9sUkhHwIJWfg5jveh1tvfzeGsJ6mThqNXt264jAZ4bHj5XZnh43kE1Ra7wQya3N7VbqmXvE9ynyEESVzTE3zIyfJpRWmglOyYy8SA2mYPGw08vNz0G1UX8wYPwL1+w9jy/bd7ijyUBRnSg5g++adyB47CEPGj0GXrK4oYJv07jcQ3br3sCVWPbsXYVCfbuhHwasfFYCcnBwGplDMLNTUN1DpBSZOmIKrZ8+hUtUfI0YOZdl64siRPTh1mgy3tR4bNqxD2dlaXD77WlzzruuI073Rt38/vOe2mzC4Xy8sXbIUR45VIEBlPkxlISM1GzNmXYUbbr0dQ4aMxPDhxNdhA3D88AEy4mNk3tq/mkCFKohTJ8vx9NNP41e//jlee2UuMiil5yUlIxpT+mPVRhR0mMRKs0/VpJ4SFuztvDYXnGunepfRiLGalXi1az/+/PTLePiPj+Kpxx/BVuJZz16FKO5WFBMRWrBj42YcPXgc1113C+6+41b0GtADvUeNxe133IK8vBysXrsFrB5VKyLNdVRy0jFtymX40IfejyunX4YBgwdj6mXTMXLMeOJRkH7qEYxIqfJj0NARuOGW2zF1yhT06DsQk8aPRiLxopT05HR1Axoaq7Fo/hKcKm/ApMtnY8zocSjq0x+9R5DfMI8tjKvVDlmJA31cqDoMyOW0n4MVlxBoxnPPPoEF81dh0qTLMX7CSON3TXRTvbqj/9UO6g+u/qOabaUvu+NLfgRyIr/dtWUDVm3YgVnX3oqbbrmeCn0xRowYh3e/+92spzzs3r0Lp8rOWH8IkAbkF3QjnRuB3n36IpFCpF0w7uU71lSur4BKbiFuuPEmtsG1GDCoL+nfKPTono9dpaU4cuKMiXQ6HEZLow0V2vDEqwovs14ClxZ4ufPAfVPpZVuFqUiX7t2PJx9/Eg//7kGsWr0aOV2y0b9vIX3YmZykbZRX2K9s1yLbyEkuMtY4l2qx/38BTub1MJl4KhnTButCJPoZ1JqOYP6Sudi49wz69hyIgfmZSGaztYQrsHjB81i27gRmXP0BTJsxhPybPKKJ9CPUiKDt79eaGMYjpNe+XYJxGH4b/1Ha1nWZemsCuhX0w+xZV5Be78ajf3oY8159iWnMI+1diPVrN6Pi7CmmS9kkIRXDJl+GkeOGYf4bj+PBP/wcS95YgNWvLMDLry/BmjVb0XymGokJGiCx3mdpd8LFg1hPfmswAZQUtGtBT1w550qMGTUQa5ctx4O//SPKTldj+mXTUFCYjUZKEELGZjZ0DzLz28jUupGZvPTiC3jx+WeR3yUHl02fbMemm/BCEqOxebuR2psCp9G+BjFJL133IUqjWSWNs7m9VfIR1ag8kVAkSTq83nTXC/xkMP568o9avPHaEvz+j3ORy/xfNfsy5GRpnE5+HcS/vyX8VQ+d8I8AI4FtDcgfTT8QVXr17oVPfOJj+MlPfowf/vDH+N73v4d//+KnMX7iWCOcwjdhoBFMMrtmCpi6bFrRaLt6W5TG+vhOoS63SxEmTpqG5FQt3WimkC0TQX24mYSN6nwwgK5FxRSkBqBP395kpl3QhQJKHwqzA4p7oH/vPlTgqLRRgNYMjQQsYjzx13YvOWBhQtTgJO/rvguNMreEw0jPyMJQKjCDh/ex/CBSg8SkAAWcBNQ3NNCfctuC5kYdtxrE8FHjaEYihe5aDpfLfHz6M5/Cv/7rJ2xmTheBSmDTLe+6ONSVV2fg6bQi2ZPQqy5lz/ApqSkYTiFxBOO0CmeGdX+GJpdZbeyeiiGKlKQgMlPTyRyCqCf9Vn9tbvShtrJZSTJvMYKjNjgPZEflkoKGVDvFqz7vdmcpFNXLcAP8rG8/82738cgLfdiFsNp0G23CAAq/Q0aNR2aS2omtGWmgAiZ30SbmSZXNoukh0care4cRAuXDsVYtKtWgT1NzNbbv2IJlm3Zixeb1eOG5F7Fo4UrMmHol3jVzBjJDIfhSkjF7+nh0ZVobt1LRQR2TL8PmJatRXdWMYVdPQ3ouGbMSYibCLENTOMIyNTPfujaYqSoDLRoscszPR4VVonIwmIzRVA6yMtyyoWikCSnJarF60t0GhBtqsWXrZirI6Rg6cqKbhTNEDhMnu9oG+aaGRuw7cJyCH/E23Ihuhd0wgopvTk6uxanWSg2QIpOmNlM41OEXikIXRvYdMAif//cv4qf3/ww/+q/vont2Bh7+xf14841FqCHdF75afzGpgPVms4yMgp9qapudMqHhQu1+LjhsVPlbojp5MoDJU2fiX7/wOdz3ox/gxz/+Ae6653asWLEQv//tb3C8XJfORlC6cQtOHCmDPyEJqzZtwfqVm7B99TLs31uCM2fP2LHHp8+6y7ZbWX+FeV2poEwzhUJpMTHW3XB87eufxi03XoGk1CTShXqkJ4ZoP4ZKxUCEfMR49vvWMBVs1rGWMjZFWlBZVYndew8iJasQ3fsPcXipiznrhAONSLYj/B22/q1APU5NgIa6Wuzcvh2HDx+zAYHqat25JpAwxuxIsXKfhrPqK+HYKZ1B9gnxReGUdaiGchzctQ17j55BXSSAdetLsGHdFmzdsh4HDx4kboSxYyfrq+Ks9TrF4bYAkEY2s9w2w6iZY7kpF8qA6s557tevP0aNGWt7VgU6RjqRGQixDhuaotb/jPyaMqhADv4WrLg0wGqk7U0lEA23g3dI3CZOnY7//M538f2f/BRf+Mp/IC0jBT/58bewbMl8RNjXdRR/kI3qnRwpQqR6lHAdq8JY7J3wToPNHllLtIPtAyW+a9T+zRXL8MvnX4I/dzDmzLkW/fOTkMlW21uyCotXLUXPwVPw7vfcBM1Fhti+usA5lBghnxY/czEbn/SzH5LH+aEDLRg3cUJJ6zRNJ5ckUnbojQ/dey9uvOlyrFy5GN/77vfwve99F5s3lmDIoJGUq/MQCpJOk4f0Hz0DH/30ZzFoYG+8+tzz+M43v4UHfvGArbaZc8XlKNJpgMyAlLpO3Lr44GhzHDhi54i0fqXCoCGMpa8swk+++zMS02T87L9/jF//+j7MuXk6Xpr7GH72s//GgbJyI/DRphY88cjTmPvcfNxw7Xvwywd+jp/99LtIS4/g+9//Bh5/6nmcqaVQRI1dSpXT0Ck2tNawyZtIZ+IVKnsx48gvRS3mTUKfBOMWMn9dPilhRDMJ8ioB1SST+tNY/sYruO+HP0NFrR/33PsxTKIm31ZgeSY44hb76IR/GhCRamtEQexVjDo5JQXdundDz6656FVYhL7duqFbXq4dSqF7zJ2k5/xKWJDgZmgoKSYGTRQuBLqXKTmR4SI+u2/EnSfJMLGTssIUVsK0d8BntMH2/TRQ0WmiBKEBBqr2iBDHpFS0Kl4KbyExVgnMVMYUmuIjcVkCPIVs+m1Q/phJO66ZhFM3gjYxHesXCRTzaysQbW4i0U4yhi6SGdIMG981UCGZWFWiZVf6S83OQpcuGVZGnTiUSMUrQqauHu7qUsvsWkioqcIwzkY7woy2rKsE5jMhpNviaaeyKjsML2FNF1o2Mh+y7NurF2NJwEsvv4qXXluOJauW49nHXsTxw1UYTUGra1EXi9PFfGFwy8QCSEjQMgn1bCo9Nkut5V/s9806ztrNMBqY5uXetRTCR+Wj1R+y8TiF0ehwhAqHpEDhhfRZ5V91om3BEnXdlxSUeFA+wix/Cxobq/H0M3/Bj3/yAH70ox/jjTfmY+aMK/Dxj30IvXpkMRbWSdiPYaMGYMCI3ti/7zQO7d2Hmsr9KD14BD37D8OUyWOs4FJb7ejqJOIU27WFuKATBZUL8VqbQosNGFl9Ez+0hEuXNQpaWV7NpIabaqjIEJdCCRTqm1BTW0P/Ouwj2WR5UxUpUCsuKVB1tXWorq1nHTXbEc4pyemMO5E4xR4h+kf71qY6U6iEd43MgtUs8S4pLQWF3fugqKAnevcfhHs/9AEUd83D+nUbbHmotafRUT6ZZwmXbsQ31tYxRcvcLwQd7BVCFhJVmRMq/QmhdBT1LEYv4nC3vn1w/S3XYOCAXtizawcOHDtA72G01DVid8le20P1vR/cj/vv+zl+c999+MNvf4nyM+XMd38kpRCHqWlq8E58TX86vyWs+mYbBIMhdMlKRjrphJZ66qAX8ZpW4pqMBlJUp6nUEnSwg2bDpU1WV1exr7PeEtLQzP5nlEN1yjpJTFCPIL2IxLQJD1TEDuX2IOZH7dBCZSwlA//2qS/h7vffaYdSPPX066hoJBbRm21B0h02ukzYAvGXdR215X9MV/mXgxRZ0bbKUwiTbhxnm/3+0afwk5/+HD+57wGa+/Db3/wGlZWVyM8vQChJVwETGMwGoBivlv8nBNgnWb4O/STGO1uJdHYXHevJmwEON9YyCrYN/YjPK79y0fJZ6+fx9dEBXJyXHihf6h/tObQn60aDOqlpGcjr1hP5Pftj2MRpuObaq9AlOwlbN68mjjglVT1B9wJZ74hF4sWlgTHvvRPeWfDkXnun0UoJQaThDNaveAM//eM87Gsoxl0f+wSuvnY6+Td5Ss0+bFq6Elv3VyI5Nwl7Szdj7YZ12LhyM06fOE26cwyrV2/Exp2nUVNH/mK8Tdxeh1G4EwLFjkzsIL2RXGCX50dCyOyaj7s+eCt+9vOf4v4H7sfP7r8f77/7IwiFUski6lHUPdP6U0s0Ad37jsC/ffbL+PmPf80+/TN8/b+/iauvmY5kfwO6d8tBUrImMZJYLlemTrh44Lh0HHhIJazSKLaElaPHjuPlF1+jkBjAzTfcgVmTxmD8+KG46tbLMLB/Dyx65SVs3L4RNRQiS7eXYN4ba9GtaCiuvkrLH4Zh5NhRuP29t1CoC2HB/Dewf+8hlwajd7RXs01EpkCEfMSNqjkxj8ajuZYtEWYKjBSY7NQUafUes3bOMZRpYSdYQUbxU5w8VYkvfvnLuP66K+00tnY9XU9F7n2/DXh56IRLA9pQg23vMWWN/lDw1jIlHwUJzWZo2VWY+GxPGsNmLbXgiwQcjdwYpmk2iP580WZjevIXtFO7RP58aKYAoD0tsdl6g2YKsWKMiVQ2wm46gP/0wLgCoWR+UwijsqXsCcPaBAohKIWsZiomNgLPIkhwlfgoD02U8DSa1OJrMtIbpV0j+6GN8FtcyrRGRX1UfhLs5KhWU+hCNpggBU99R/sVdO9JlHmSgiZBUPQ8keXXQEazjZg2IpEKg7Ik4h6N+lFdF2WdKY0YmLDAOmC8TSo/FR1dXNza1GBVLqUgMaQeG0FVFes9mowjR47gscf/hN/85kHSjQUYP24CPnD3zcjJpLBv9UTvMheCWNLRCBXVZjGYNiu2HXOZQAvNQKtOZKnZQVUiP4JSfKNSpTRg40CnjmmPkZbbRKgwmL3RDJVYcfOd356AI/rn7PUbQKTFR4aUjDvecxu++qXP48v//kV89nNfxM233YaCwnRrO1v6FmW752Wi3+i+iNbU48CWEuwq3YMTVEyHjh+HQdovSr8RcU+1aSNxhumlsu5CrNuACaS0Ujubgqy8SPCkIEtclP5uBWZZoy1NtnSvtZX4Sj/BpFQkpmTZ/pQwtXbFI+asOhISVFXXIikphHwdNU/cbGCc9ZFGo582Yq4ADGtKLBORUuVnnpReMxUFzWJG2TfCVrcB5BYUoktuDv2yjdiPhBYSBXUni/Cg8vRxlO7cif2Hj6OamlmL0pBCIoQxUE24WrZE+NCbK6BMzI310Eoc1yycn/n1FJXMwm4YNGQQY4mgvraaXv1UAlIwdPhw3P2+u/Ddb38NX/zi5/GpL3wRX/vWf+GnP/4R/u0TdyCf+rxmWVqoeOrEQy0RtSPnLVvqX1RDWW1OrNWAA5VV2WtG0E5TcPlqZf34Eth/aKU9dQEqGvVNVfRfS5ri8MqA8ZdVlKOpqdkUYncSYgxU52ZinzHTBuzfdplwJIABfQfgppuvRrfuOXjqqccwf/5CNGh0hunbKDpx1PFq9Q1dZZBofTbE9hBFtJiZZ2SkISk91faf3XXnHfjqVz6HL3/18/jM5z7H96/jxz++D5//3CfRs7jIaIflx7Ks/hMkbgof45cu8s2QjXkgTutgDJvpZxjNbEsxk6IlBUpDBrEc2oy+nYgaqw/F4OKMxWf909lcOuDy6rDDqHUHoyXUEQnEUs4NU30o7tEDmWlpqK+uge4eUwx2vYYqQRAronuYa8x0wjsL6vtsBRpTrEQEaKdDidatWYTv//i7KDkQwW3v/SJuvPlypKUIP9n/qivQWOtHgy8bKzcuwAM/+y/86ie/xCO//QN2bN2OA3v3489/+gueeOJ1lJ9tcNcQkP+2hltwprwMu/btx97jVaioZx9hkj5bWiAMCNqqg4ysZPQdPBgjx40nbRuFnJwCHNh/VFlDfn4GaYrjVVqW2CWnO/oPoKxN2Xzw4BE4W3kWa1YsQW7XJHZ7HTrlpOpOuLjwljWsERdbSsOmOF1Zhd2nDtlpenZLtIEfyWlZZOyZqK+gcNnYhHBTJQ6fOILjp2ptb0Zu1xStHCUhzkZK0XD4krOIgJUINFZTPye/EX5ZXFmIBAtQRzlCF/4W0CaVRNxGBilA+QJRO8ZWufGlFqAx2JXo0YhMXwtSxagVC4m9v7WKzLESOzZtwi9/8zSOlbfg36lMffj9V6IwVWxBDJB+KSyo41jh2YncKFwM9Hqu6YRLB9gemrCQ2qDlQHZkaUCCnJSOdLKydCRRDMoKRQzHdGKfnlqeJuPWrieagqSDD4BM+BKzyRCTkEUClc34hbOJUhzoN0JhtYECrY+MMIlM0QRwza4yfAKFhmQKerojyTIWYT5IjJspiPkDFHKp1Wg2SKCN+xJSbDaWKNtIQToYrkdyY43FqNGjA6WHsXrjbgquDcT/SuIrBZgolabkNPqg0E1ObDjL9CPJqRr7RSKF3GTj0AFUMgFdYJrGPCQ0UYFStmzWiqGYR93rJnWqMSGHiloCUhsOsA9VOhSnwLxx0xEs3ngc9c2sM9UroVU3wrPCG5iXeo1+WJw1TK3WBHbNniVScGyJ1qJkbxWyCobim9/9Ch74yTdt+cF//ewXuPdTd6Nvj3SWSX2UwWiksynXqhIZD3S0tbqj9o/4Vd90dDOHWUhKyEJTSgTRxAZks/5SFMCOnWad+pLRGEhDsr+S9XrGlcnuBUpHXTCR5a5HUqTa0nR7NKkM810CsO7pknIdYmK600qin2bQfQldSGUy4E/KxLAB/TB5OM3oMRg+chzSstMp7Mb2Rmgto/AlMRVTxwxHj6QarFiwDC8s2IemjHyMmzqOuQfSqOgntNYzb1QQmO+QLwnBunoEztYgjYU2PUqzlj4t7dNBPfQfDSCJaBVixjVpqPz7/c3ESbffL7mpFqFQHnoNnoLjRw5i88blqg3mhXkKpePoyVrsOlaJ/MIsjOqXQ+E/CxWBDFQl1SElUolcKuNWV8nZpL+kw+TsSZFaZLH9g6z7xCTiTaJmBJnXgChzNjaUHsCuM8eQR6aenqQ5HOG2LtWtZ7YrMP/pP+Oed9+F//zuA9h88Cwq6aGRrRxhf3GgFKV4OEVWX3bqHRU8Ce0OKFT4Q8wT+11SI4pCEjMIvi6oaEjB1j37kJzUigIqCdqc3XXQCAQo6DAURg/sg+GTh2LA5GkYOupmjB82DsOL0pHCNFqINY2Jxahhv4i0UNEkMiZp8MSoRMBOl0015MxAZWI3nE1MR2akCpmN2tgtypCEGtKJs8F6OzY8Kxqiwt0VKYXNqKlfjZayE1CONIu8qWQFVu3YgCrqoRoM0GEwKquid/d1Od4lO2G4cN11BnlIRm1ruim5gXAdBg8pxCc/+z6kpJzC4w/9DFvWbpBH86oZTslihh1UmMOhDISIXxnEhERpjBY5myY1Dym9eiHTX4Mc9oeRg/tjxKghGD1mIsaPnYFRw4baCbiagWujNZbHZOJmMnlxI7/rkE481dUSdkcXFUXN40U1kxoIkySY2sv2ZGjRQSp3QeKqTrZjdzbc1HkuDtlV8rZC81fqPHm+S/mSA+VWORR90K4YGSn1mqEOkL7aDJ7NDqp2RE9LsG/nSfTIH4wk0iYrrRpfYA/Fo3qWcfMHl2bJ/++Ah21CQc9YryS+Gi0S3guHW+qxf/tm/OqXD2P5+iO445Yb8Zm7p6IPmYZaGOQNrbmDcMOH/gW/f/BX+PF3vofvfO1r+No3/x2f/fd7MGXcKAzpNRH/9vGP4UMfmo28AmKOVgxESaGoiL323C/x8U/cjE9+6QfYcqCesq4OZGMfMh5LWif6rTv1DCP8qKNS/vIrr+PwsdOYcdnV6FXUg/yLOEhalCjerjxZpwQOHj+C198sRUM4HTOnD0Zets6/jqFcJ1xUeMv+KyVD+xkEmV26oM+IASg7cxwP/eZBrF27EZt3bsGzL7yChYtWoU+/IRjRfyBys3JtzX52Tle88MJz+Mszz2DLzt1YsWELfvWHp3Hg8ElMHD8W/XoUMVYypfLj2LtzI3Zv3ojtO4/hZPUZnDp+CJtXbcXWkl0oO1tOoTCMZjL402VHbdP78tVbUXKgDE11NSjdvAlrVu3A9t17qJGXkaA1Y+eWNfjG1/8T8xavxdiJM6mtD8aubbuxln7X0u3gkQMUGkgAyShs469yQuFNI2udcOmDiKFaSoRQIpkYkk2X0yVC5h1uCdkR/ds2rsLWnduxcccOrNvK55YdbPvjtgwPFNRqK6uxv3QHcWMDNm/egfIzZ3H6CBWaNeuxjfh0Qie1kcBFKGzpGlztRQpJGzCGH0QTpYNwQz0VGreEyOZLRAwpPDRRsWloorLRRMHZGC6BP7o7y0YwE5MwfMpUFBfkYe2yBVhC/F+4agme/PMz2LCFClU4TAG6gakzjXALGpqb0dzcSAFO6QuCqKNWUK+9X00UyInH6sotIsBk2C31NQhKuSMoX45p6EPiTBRpud0xetxEJLdUYem8F7F382bMf24uHnvyFRw4XktvVBQDCqV9Ez5bq619PS02pceYmDcbwNB+CqbTEq5hX2pGYnIewq2JrMsq+iGJj7L0DHvwyC4cPrrbBHQJFMqF5Arlycub5c8s+EPjD1BdpnLR3NCIQyW6/X0T1q3djMOnj+J05Qns3rIN62h/6Ohx6oKNDEKVicoHqNgl+ppcfGo/2jcwsVYqvkEqqgJLn0ZitGEQaYETaOSi5Zx6yiYZ9WGGpwQYZVtGbIpOwPrQ7JBm1OnLli1LomV9FBd1w8j+BVg8byGefWk1+g4bgQGDuhsO+Km8CFeiLc2Ue1MxfNhoFGRl26lgKxasJI0iru4qxfEzZxgr0wgzL2Ey+qYwfNprFUtbSnkD27+FGlYoohkDPyZMvtwuF31p7hP4058fwaatW7B+/Xo8+ewrOFvfgjlXXUG6qyWXiRSlE1EXaKSgXot0zUQRGlpM5TQc9kUa7G4rH82+fXuxbfs29pHN2LRps51U+ejzL6FLr2LMnDkV+TmZVpe6rFT4gqZq1J45if37D+C5ua9j8apNjNtqlX1T9SpwJYkHjd+7kX+LzUxYM2lUQk+dPoQduitqRwnWbdyIZ+bOQzkFjFlXzsDIgYMt/MgpM9Czby88+9QTeOh3T2ALhdkN6zfTbMSuXTttI7eu4fD5qRCFaUjvo62NrIlY/xQ2UKgycV5V0pKEeiqflapjKjQpxB8DP2kMlYdGKkxacttap9Hinrju1tnE/0osfPFFbN+4H6+//ipWrFuBZiocodR09iP2xBYJ4UyG+GKHO6gTeHXhELYNoi1B4nMC+38ErWGX9uiRQ/GFf/8Q+1EDHvz1g1i5aptzZx3plMMd29di2+Y12LH3AOpqanGkdBdW08/e3QdwpuosFZ9UjBw3DZdPGY1VC17HHx96BGvYr7bsKsH6LZtJL0tQXlHBvDCv7LeVpIm7S3Zi66Yt2M6n7qo6eeIg65b8dEsJTp0UjdR+Ru0KIJ+ONiGgARz1B5VLfZ14qnrSUmnrInJR+VUfwmUruDP69WwuPYi1E5+udE4ZUm4bGlnXR/Zi67Z1WLdhGfvLWrz2xhuYN38x+vYeiitnzkZOZirIKqh/Sq6KL6kzwnsv5k54Z8FagD+299N4OHBo+1b8+v6fYe6L8zBx6hxcNnkMDu/Yhc2UI9Zu2IoDR06hwZ+O7PwCDOjXG8MGDcfQwcPRb8BQDB8z1PYtpydn034QhvUqQGIwTD5D+sfom3W/25bVWD5/K5at2ICDx+pMphF10L106hfVlRV2j97Wjauxae1q/ObXv8FTT/0Fw4aPxu2334EuGdnUu3S6Zh1OHj+MHds2212C8+bNw6/u/x32H6jFvR//HKZPHYHkRPIQFq0Tsy4+nHcPlQidQKPaoosiftp7UlSUh+bGFqxYvYHMeiOWrVyCrWTavXsOwr/+y8cxasQgJCSEkZOThfy87ti7/yCZny4BXYOVK1aiZPt2XHvNNbjrznejR7FO2gM2bViPJx79E1575SVs37EbVfVRVNfVo4SItIP+0zNS0L9fH9TUVGHhwoV46MHfY9myZTh6mIJxYzMqqxuZRglKS3eib58CZGelYs2atVi4YCnCzT4EgynYQcVs8bIlWLJiEZYuX4hQIIRePXvbRvuoTdFTkNKSFJZTphMufRABFEiYdQKYs9Fx1gf278cOKvG7S/dj7br1WLJ0OXFmhe33UOv26dULKSkp2EUh8aknnsDLL72Ebdt24GRZOcrKz2LL9h3YsWMnkkIBDOzfi3jURPw6QkXMh2nTpyErL4k0t8mW7O3bdwzRSBDjx41D97wuJFoUKCmcnz1bhV1UyroWFGLc+NFITXYX+CVQCbHxfPatvNxcKnVhLKECN3/dUuyjUDOiVz8M7z8QUaY9YvoU9OnWB9Unz+IQy5LXtyfGTBqL9NjyusrKcuzaeQCFRb0weswYpKYloPxsOXbv3o9uhb0wYeJ4pNNOdSTQHgi3b4EiNRW6bkVFOHOmHG+88aYdx378+AlMnToNRb37ozUpE3OumIS89FY0nT2DzXsOILW4DyaPGom81BCL2ITak6ewreQwsvoMwehR/ZGbkYzGqjosXbrWyrR+83YsWbAAqxfMw/x5r2PTzh1I75rPchfZ8if+t4HaxTMCWyqpLzK3k0eP4i9PPYmXnn0KmzeuxdGT5aihBLez9AA2bthMLtSMHt3ykUa6s3PrVlTWNWHi9MvsYs0AFVstndizZ58xqxGjxqCwe/f2hAgd03Z1ZTMnvgRbdnjw4CGcPHUK06ZNRS8qERKITBC0WUGCX6PwDEGhVjOUPrUPldAFS1bBl5iG2++6E7175NmopmYSNAIq/ddPpb57kS56DWADFZWlpFsLVqzCzr17iZ+J6Nurmynwh1n3Z2qDGDWRCkPvLGvPMBWhA/v2o7a6CWNHT0X34mKkpaehe8/uOH7iCFatWIo1jGvlihVG02688QbMnj0bSUlJpqzvP8A4y8sxiu3Zq3dv2w8niUIHE5SUlGDy5MkYOnQoqqur8dhjj+GZZ54xurt06VL2lW0YS3y77dbbMGjwICQlUqlmnnSEBdVfq8jG2mbsOXwa+8qqMWLsWEyaOByZAdJjtrk75iWuATyw+mT9mJNrh8bGRioIJdi7Zz/2HtiPVWuJW8tJ26kM3XrLrZgzZw6y0jLMb3paGoq7dWO/qCGvWIL1GzZixYrllufdu0uQkZmO3iyr0t5P3nTixEmMGT0GfXr3RchbKmHJxvLGRxUV2x07dqB3v74YNmKE0Q0tLz1ztgwbN61Hz+5DWRcTkJPN/lScjdOnKrB04XbW1QaUnT6AGZeNRW5ONwo9yRg1lnXdh/ijmRsWUnz2LXkOraQknTx5BIcOlGP4iPEYMERhge49ClBbG8Gm9Tuo9AB9+/ZARloyVi5fhj888iCWs7yl2/cTZ5pQ1dCMLRT+9u8tRX5RDrIKs1hPqRjSZ5BdZfLagkXk40uxavUqvEkFoHT3bnTJyUFx92LDiZ07d+KJxx/H3OdfwOZNm1BVVY0y9vE1m3ZgF2WA/Mxk9OvVk03XipLSvWikvDhh8hQUdCW+S8FursfevftwojqMSVNnoFt+jq1KseomvpkSYcXXj1Mp2r8udfBymEBcOoan2Ueef+55k3UWL1ls+DV+7CTcftt7MHhwL5uQk9CuBTV6tre7V1pWyj9Bqf/ZwattgffeZicaJPm3uRnbtmzGgoWLUFkfQXJGDmnmfqMly5auoFkG7acePHCA3VclHcwRD5kmVJcfw85dh/jWFWMmkz7kJ0Mz5wH2D1t6F4ji2MmDOFZ9DAOHXI53XX0lehckWh40SKy9wBvXrcOTjz+Gl+e+iJUryUv8QVx7/U24/sbryNty4NPKAqJMXXUVFi9ajMfZT1997TXKPaUoKCzCzbfcjJmXX24DHEESXtEbU+aV1U64aEC6pu7dDvEKVTvRb6GwWk8mXIvDB8tQH65Dc0sDAsFEFBX2IfMvsoZqaanX9hC0RhIobB7C8bJTiDAObZRPTEpEnz590LVLNhFGdkAlBcBD+/agkUJPICEZ0UAywsZXW+xiycKCXPQsLkRzUwOOHzuKw4cO2VHTIaarU3LCrUE0UTpJTU3EoAHd7OSrU6dO4vSJKgpDIfYLP03U7rpqRiPLEUWv7r3QvbA7Qok6srqdqakaLsjcOuGSAiGrE73EgrT8wo3tyGjDftmpMhw7fhJ1DWFEWn22vEyzRpoUL6aQ3ZPKvJbiCfcOHz5om/XtIAf5SwjZU8JEUUEeFZMuxJEoTp2sRXVVhIJrEZIymLqv2pRxLW2tqwmgW7cCZFLRCJAQCuqbIlRQyuBjfHkF+RQ6RXS1rEMHEGiU3i2LqTpFgePoKRwP19j+vlFUhJKZl1M1Z5HUPR85qVlorWjEmaOnEclMQk63rrp5gn/1dlTzsaNnkZycg1wKMAmhKOob6rCXSl5ycgZ69KSwHvKWp+hJ3DZOrn8x71b2k5M4QOFaB2hkZ2ajb+9eqAv7cKw2jJ5FecgJsg7rqrD/5BnUZOSiuEsedD+gH5VorqjC8SNVaKWCVFCUDn/DSfzuJ7/D4uXbMf36WzF4zHAEo03QQpfDh/fg8blPw5edi8/865cwYdggE65V5QL1Os/ojih7F7egh9qaGgqVB1BTeZK0hUwkKR3N/hTU0h+bAD0L89AzPxvJSQEcP3rMBmW69OiNlPRUJOsggHA98eEEmviaV9gNSRS8tf9MXd1L0+GRciM8cmDLnWnOnKmkcFSG/PyuyMvLNiYmDGyN+Q23uhH5BM1+tVKhIGHbsX4rPv+176NLz4H4xve+a5d6JjH6RB/dNYhDZUp7KsQ+68rP4MjhYzjb2IBqLSFMTbZj1HvmZyFIGnvm2HGUVQSRU9wbWTkhKmAR0tca4vkJ4m6YCmoPZGeRprqC4NCJw2yXw8wK2534n0vFXXQ3MUbvNBN/hoqCDiDQMdlprA/hu+h9OZUsXTmgewe7du1K2tmMXbt2oaKiwgadZEIUIPr164fs7GxTDJVumGVKpJLt5nKJHex/n/zcd7Bo6yF85Vvfwx03z0SW9hxZz9WqB6vEDqA9N2pwd7GyZv6cQnWMilnl2VoKMJoBYdmp0OTkdUHvvn2REtCck/Y8tBA3hOE+lFHhPnToCPtHExLIjETztXehW/cC8pNCxhpg+Stw4vgpFBYWIot4HwiyRyhBaxMBC8U4G0gbDh0+hLTMDBtxVtmlUNU3VODAoVLiXD7pRC/yNs081uBkWRmOHKxHU0ME2V2SqEBlkD6EUXHGh+zcHOTkZlGocWW3i6sN+4TrfHpJt0Ezw7I9DtehC/tYdn4qca2O4UnjKupw4vBZJCYE0YPlykhPIe5T+Tq6ixGznlu1hD4VTWyvZiq3WakJ6NYzH2m5KUigVpbCXll9ugbbKXzVazaSZYoQ91KSk9GrZ0/k53W1+q88W4mjxKWa2lrLo+hGI2lpI/OaTv6si9ML8rJYgACOHCtDBcudT6U2jYqnjv/xR6pxin3vWC0VwT59kUoZQCsQtQzaLRSNFdo6lZvzkY1qxdXSpQjxDeVyW1tbSbq7DzWkVcFgApqampCZmYk+vQa4Ew9jQUR+9RpDAUJ8XA4XOuFig+pcRvXdXudu3xTpD/uPeP7ZM6dxkn2qviVAXiP5QPtNKXNq7zH7kAZEe7OvJJO3m9hojUucZv8MN5Bmn6hEXX0O8np2QzBNy33Zz0gsdT0QJQScrTiEI6S3SOhp12ekJ7f3i2i4CeWnKReQ9jfUN5BW+FHUrRg9+/RjX6XCxaTkV0tOI6TRJ9jHThw/jibyxIRgCMXFlHHJQ3TgjpZw6xAjDaaGGLYTyy4unKdQeZ8ioG6DqWZw9C2GF1ukGQciiyaMssECuvuJzBDRBBMmLwTyqo3T8h+y0fa3BrFWMQgd9as7MMQM3xrCRJoaEiutO1XabxV3qyGXMQia+PJ2wqUPhmqxpxOEDQNpwactpVC7u6WqFwKbpSFOGVOzn7fGqYamahKjIAmocI8CHvUlKS4tVKgsuO2WkFBHYLRSmKIkuKGQcNCBiLNAS/2UnJZ7kGTG/BNPfe5UMMNWjSZog0+SD3XyQAEyVfu8GE4la+BvkNRUShnlGkKsj8krhXmduOeVx+5G0TI8Cj5MhH+KQWDU3y17ZcfWhYNtQP86VEMqTbP6J/tyQIJuQPfGaVkc8ymhNlpPAZLpUGhz0IRTh7biK5/+GpXJRHzz/vsxaIBmAxxUnTqFL3zzP7CFgu73vvUjzBw/0uISKDeeEXjLcJXdSDhsefRrrZANA7bVVAfQcr6WMBmW7TULap7EliGlsp21DwkagGGKqgExGYG6u2JUPlQ3EufcqY+iDbL1TAziq88+iAf8i7Rotk27+RxDrj99Er9/6E94c9k6XP+e9+L2u25FEgV6nbaW6AsbmpI1u3SFi8JZMmqBYlUJDdgWOqXNT/xTO4v66oCIEBWTBDJth+MJdliF8u1jGjr1VLMYlsXYrwceLZfiZHvqYuAtdRb98+zlT/YJCRfuR8Idxa9yK89azudvbURT/Wk01lVj1ZrN+M0fn0dR/1H4t09/Gn26ZSKJ7RCwSlca7el74Dbzq+5Zq9Y/lX/5a+9L8dCkMvNpMz4qG/HG8DlWlxcCncwpRTlg++4chFmnKnZAy1lVGPED5VNto3eNEBK0/NLP+mgmLwqFvLwFWBesq9YGBqF9gnb1tfO9cKQSwQThZIJFpbYW/bHBSubfDXKoShQfQX7agJigdTosv23p4HvUTwLk17691FhvdNCqZZ/Ksxg1++KF+XQL+0WT7Y1KaCY9SLQdiBeECOvTZl3j8OTCwDZrqmG6xNEERwuUuoqhZcgaENCewFZbWGnFt26se/C0p8p9qOxK559FoToXvByfD8ZrWp2yTv3cwKr0wt7fLqpO+F8BVTAbwvq41xCxChdh1quecjde+vZYGN9ctlyQ4Vy04kCiA44XR4gHraSPPtIeH2m/lotr1sjxMh8VIT5Eu2l0WJaW0SeFGN6vONoRwkg1g0WYlPXjgCzoHtuaEw/1je46Fw0q6RoMHaAV9OhMJ1w06LDkL1650LunZNgvG9CQxr6obPFdG+g8pNKbtHx3aR8ZBltfJ0AJ7bx4tdxERMYuUDXiL+ItJcwxGok12o8ggq5INWoZIQOzJSlyY/x2MZ5Gj1v4zWg18my5sn00MWHM/NJon0HMn+4AaI6S6Tc1k46Lqbr0NWrrldUrbydcuhDfQka7DAPthY3p3oVJEjKFTzrNS/ihe3+Es8JjO/hAuEt80gl5zq+ESAlH9E/3Viot8qN9Qs0Rx+yVnk6LS1B4fglPI3QzQmnpUMgkEdMSGI0cUdIxIik8VjqafjfiKgJII8FC+N9EVNSgRIJkKD7D8kNCmEA8tYMs6dhCIVo4LAFSqeuUPmbb+o3hLv9MsKa7cF+14Pa1ODc91Q+sb+op/OdT6p3CRSnEttKtoaHRZh6CGtViACf8ub6lAy2s/hIS+VCm+WlMohmRhhpsWrMJZWcqkVVUhKScHFRXVSNaVY9VK5Zj8apV6DdsOGbPvhqZaSltgr+MB5ZrpumtZVfa2ryvmUcdv2ySJd1bWHc61lvFVP9lDm2/lYLVU+v1ju2WjKz6ZMGszHaSI+0tLbnpaUaYohdhgSVhtjIRKrla+qc6VBwS9I1WGc4ofRegpvIMqspPYfmSpXj1tTcxcuwEvPvOu5CWlmxpSayUSqfyNFOgVRtZE9jMDBUtCsyNjLOREaqNtDROxiRRpmFHpzNtt2yQEbYSh8KW67YyKb4WKTaROqNxyrdAdSolyFOQ9K1RdIHVMcPLWN3TtNeRs1Mdx4MnaNteGeGf8Ie0dcPGDXj08SexbttOjJk0DXe//33o3z3X9s7pqHtVmM8ElfNB9SkPlqbZKE9U2Ij7kWYqlsIDlUM8QD74rzLSkn1Mbq6NFE5034HjK96eFXrlO7GFSSnvenplV1HMg/NkJso+a5lRe/Ph1ZXilELkvLFdGWdCwCl+lkdTOMULQ3FRurwpQv1q4MDht75i4Hkxwx+mo7bXPiQ7+Eb2rEdXBuUv1gYEF59G10V32PZRGrpZ9i2YFFUKVgyrwRC+EujO9DXDqBMiFb/qUfWp/EqpVp26PuSM9UQ+1ed8wl3Lv9IhFVC68kew5UWqYH6HaanmFf5KkXK5inlsqxcXh1nFzD8HMN8sitWVysJ/GxSyArC8ElWMTrJ0jmHF4UMMYlVhEGfdCRcBYnTGoK2u1SByYrsR942+s9HkrJUoIidN5NOG23qnXKv+5PU99RGB2th6BvlTM2mvLt+VH7d3ljSK73b9AvmTuobuIPSzP7O3MZz8uu5kPF5xkycrv66/yI9oj/JPYFpuOMs++On6mozhmtIVXWQYe6eTl99OuHjQYYbKe1UDeI3inuZqDEbE3O6iiCGfQAjYtj7TEJbIZOEcw1O08iuFSkzd7peJta3iNzwQEaIfCSw2QkZhUMhlCCXGap5cepYSv2Wl6U/hqGbGdIywIY0EVt3PIWFX05wM5sRrGRdHPMSXuxMufTBUoFFrkcTwV4Y21o5qfwlYrrXZqLRzbSy8MfQwfzHCxG8p6cI9h5eOfBHbaYS7jIvCi/BSmOMEDpemS0245gQJhZA/iYyWLwkcUlQsPrpp9odxtbL/KC+6IkD3AkV1khfTDsqN0opijmojKcMlEMFt1J4KlZZX+VvtnEoyaY06afBCRFbM3Pl3P0wxhtPxSoTA+nTs3fIlf3T2+qHJbXwneTfFTmmwdPTgDkWQIuWn8GhxWFD+tNSyIzZg88qNePzpF7DxwCEgORm6aSNNS89YcUMnj8fVd7wb/Xr3sRPrtI/i/J4Yyz5BSqkYnBOkFYfSYX2KFvh1pLXz51d7SOIzpc/EPDJAx2ooztJeb4qVhglay9HK8MBshRfy4/DB3tiYTnhWSzpwfMy1r56WJ6tXP06VncBzTz+FhW++wa8ALrv8Slx7863o3rNYNWfp6Mhs1aPitAtOaRcMMmW7xJc4wvQizDFL4/KlumdmHD1jiu7h6CSfVhgTigmykNFBIj5vjkACvsu/aLWMBpHUziqbBxIEvW/DDbrr6dl7dueGM1AytLeZFJ+WuR7Ftl27bfZj0JDhKMh2947ZSfdqT/5pJq0jKBJFowpW2np3dla/pON8s28tu1E/tcE8vgcD6kd0dd4tKsu/tZE+vXyrDFHHp7TpW1m2uM1bR3COsY9YfHqJ2bXlzdJQv5Ay4ma9VMd+DXwwb1J4pFAJr5xCJ//CZVe/zu+5dXEOxNJSAYWzTulhedTX1aksb/oTyK9GxlXqIPGKflRuOiqYBoJ05Lnj06xD0hkNasqPoTZB8bi4HLiyx2xieTGhkFbqadbnrN1koeEWoxSWng1mmFCq9oj1I/rVSWee3OBAHvVtPi0vSvGv1MwlB21NpcwL+K2WsF8+vLYWDqr9zV8sTAfwwnfCRQA1ijBUFR+raDVE7FPtpH4lvPfaTHSGnNe+NSPvNY9HF2ylRszW0QafjXPpTdRcgwot5IFaaRAlCoiH29UY9KtZ3ASjnewX5Gnska5/KG76dbjEFyP+cmN40Y0A6Y3crO8pvD5E42SUsqwUpr0/KUNGsjrhokIHheptwXAl1oBk1A6dBHKQHQm4Gl5gywMFIiKyOzcJR1xk6xn5cqGdwOARI2cn/0Is++gI9ODCe3nzYiOiGyLyleCCKr6YRSf800I8GogNu3YXeC4e3jnXeHCtL1sZfXlPQbx/LemSvcNVF5ts3JsLF5NoKfSJSOrLC2FfIt7WZ7w01G8keLh0tExMbxGGkJCjZWEqisYNRJRFqs1O8VBQczFJiNQMhotVeVDMDt/15I/N1uqVdkZsLRKzEnhf7TYO9K0yah23y51byGZvrRTULSEJiTrQ3UGA5ENLAH0S5pnp0pJSrN+3F/UUyJPpL6GmEampqRg1bTLyuheyrG6hg+ZKXL47woXsDDxGaMIXmYtZev7jS2OinnvzrASxiOOtBK4lZBRKnuLN24FLRYpHbV0Ndu/aidJdpcjNycW48RORm9+1LVaBwwl+GdNj3Pq3JKhdsVbkT3OArn1jSrmXWXuRD8aisJ69njKKxwz92HITgdpJqV48sKTFPnQgh/JoR0bbom8rlVrJxATlmQqG5bFDlrwCeOB9e568grWDXFUTnkuba3w0gg7BvHgFcaHODSPoEC4OLuhXJVVuiNFtvOZCdm29Jfb8G0FpWl9WnMINCnRmJyelIUqifq9E6BDr96aU005+RUu8+nK9xoUUDWmPqyNYlj24oKOLxwl0MaBg6dE1+4wzLgfyH3O1jMVSsU4g4+UuPtw/IcSKaGCFeItSxfsT/NMW+J8NYjhruHhOYxkuOtrT7iJJVP1PPjo2kvqQa7h2e4XzKLAOonBjr+R2jFt9UQqVeqlC2rorG1CjjV+DlJ7CFtevDGjbRktcGu713DK4vAvibQWxoJ1wkeHvVKiEWDJknMIOgRFxGRH2GMNoU6jcEhMXmEZJWcvqx5mYixk3vuwhk+dHEPcuj/HgeWmLJR7i4+iE/7sQ3/b/G20uIio8ZDzCc4suwofwXIKSh/vCc/prldhIzI0lK1cTNM3dy5scJTQ4wcO+YkRdypjcTcAxG/YoWikeEzMkuJhiJjfatvUz+VS+CFoCZm+080mc1Sv7qTl2hFgyHUB2Mup/bvSZKVN5McGY+dR+HtH0VgpOfqav/Ml/gsogNy3dVfVo/5jfKVxt4qOLWDdXWZncjqa/HVwRvBx6IWORXgDaXPQiuLA3ghenINbeFv9bBjgH2HZU9Gw0sL20FqVGorVMqz0LLi21n5rS5ElrP6dQKV2pH4qnzUlgWVFtKn+isbHye+4eWCDPn5cfC3xRQMkrJc0Q2j412fmDaCbOSKBQykksV4LKJoFC+CnLDg3vxRJf2PM8nVdUQVvJ3tbxb4T4OBj2LaM818HqW5ZqF/owTyqP5pjj61+DHoq4Y7nanAkXTNMqWHWrwz6S6El8Vw4yspcH4QzjtQiEX6IdFPX4IqMklUsF0ZiHstlGWywMIS4ffx0UyAsYD04hOhdc1OeG4Xtbfemn3ZcHzuZSBeX0bXLoFcS8qPYF+ohr/w5+PPgr8XbC/yKormONYAMDrPeYQuU1TXtruIHPDu3XBvLR3mby5aRfDY0xnISCGL9WX7QZKr4rJg2W+mwwiunbXuYLxd8J/0zwd7agUMFjIt5DyOgRDYLZCf2cahTzGQN+xYRIz6UdFePf9eZ9xb8TzrP2UuCHMSzPyNHLm+enE/5vgocMnvmfg4vJKT4Sbp0yRVIp4tuGTnIVMXQzqSbExGwdcRYhlY331EyUG9dywoyFMjsXhrExLhmR9bbhBnNUKL26cWBP4Ha9LNb/ZGd+ZSdzYTAvMdC7jMud3pWyEwaNzvPNfikQR0n0NZumdKRkmRvLKdbR6qOaFKDQx+8mKgl1FKsbW6Jo1SVEzJ7xLIaxcsXy/nYgL55xpXGqXntQZ+uB51dgdWJKqH28BcSHaI/1bQJcENxSNQrQfIYjUYRZVrfWXnXGh5mYHwWIgUtFNhKC9aVZR/7Jv1csi8L5cRCXN726YLF3z48s4oX5iwNKTVjnsspfy3esv9BoLtbu9ZLAoKfn4GWzDc61UP4JMWs9PPNOgtJT2bx0jW2dC+I3EpZMO/agvf+051v+YuX6K9AeJgY2M6s6VCfStywFepHoxqdn57T0WL7VJl4LxfpqLLyz0Yfe/l9B5dPQizPORr1UwqeeDlzWXL6ckV+amPDq7Bx4b+02lxJ49eXVqatFr4T/M1Ac8fF2wsWC9pbz8M8Dry3Pb0+3XsCjqTH8tffzMdVxQw0kqR8Izxku5lUPDXtqjYqtTtGAjC2Htbkqmr8Gb53HTrg0IB6j3hq89mtThuJB6Cli0NG+HXEF5yCL4rG45KMN32IQ/9XRpQ3arBSHR4hi0JYNz5Ms2iw74f8svAWu/E9AAoqhln4kvMTwvA2l9NOO+07Rce/ORXsKvKVzEjHZ3ehgArM8eCb2LZG7xX4Vp8NrJ/goHAmvCUxeYMZjj/ZvDxRGNmbb0akNrLY8TzHjyeSmslnZ48Ulvx1Db6KS9kbEhDWlbod4mC8Kk4xDe10Uofau2KlrzawXWgXpT+Km36dZtVhibwGxLLUZS4fGAd/aaEi7aOj5jactbXYdIN42/l218vcC02d62qvWKuboqsHJixavqyf3Hh+/vtvb15ivh2+ykjF37cGTpQsrLx2M/LA+nR8l7jH+iwtKTT1Cp8/Zl+WZpeBTqbtcyIeUKSrWdPBmcN8aYh6s7O5p0cYZgfmKtzgP3tLhHLhwJLJRqeKf51cpbb1GEHizg7T2lr67fZhqw/MCXxCUTpvxXiwHmvPTk2B2gjYP54Fz0a/CtJWgLUgsJkLM/v8JnOLmxW4xKdPq+0YbZFwunHG0Q+/ueWEK8LfV1D8K4kt8Xunb4YKFiFnGezer+Li8+DrhYoBX9efXtNc2zoeHmW3NaNb8MuOsnKtn4kHhG2mazL+8a+9Ui0gzQTzWrcRSn9ZSb/YL7Y86L54LgWUkZjrhUoRYM/91sCY0KeHcBtV7DD1j1p4PD3FlOiKf58NBu0u8n/j3jtAe0usW7TYKco5NO1zQshP+6eACDexZndfEbZYOC+Phgv4NYrYdHPVxoTic0GAQUyQ8Cz00TuWN2bb5iwdZtvmXgqI4nCrmRJYYmD91V77EhXEv7f4cYXZpebLeBcGL4wLGexWDaZsT4kMCsaVk5XQKpt5UNtvbJAbCMFoCZyfUxYJqN6xqyZQp+m6x09PiyhYHbWn/VfB8ttd/W7i2cse1jQcdLFz4drhQhcndlfKcwASW0zYq84/lN/KoOqJXGQfnpkEwzdVYqftWIBnPa5t3CeMSymXVjj/t3uQmZUpPV9Z2QfzigxOZCcp+LF0nMHggS1dvbdgsvx0g3qKjoye/yAjOC3pB8EK4dN8aPH8d/Zxvc/63i9trO4F8eIpzO7gSd7T7m0FlV4E7jHrEv+qnPe6Yq0H7u/PsfmPAlw7fgvMszodznb0gykGbmzVQzEV0IGYV7y/+6Rl9t4O+OtpcWuDlTya+BOfk2epCoBf1iDaLC0B8nJ1wMSG+pl1te+0Ss4nxJc/2gq3WHvgCIAfNKNOwA4sqOE4ZC6IfYw6ObseGnC4I5ydzTl7bft8O4nG0Ey42/G0KldqRxpFITVrGB9NYZGzK0mtvvuiv41ip3D3C4tl2cI39xpu/Bn+L3781rk7oBEEc4WlDHf0I7+PwvM0+DstjDw/0KYz3TJuzvcTS0XvMweszmq/wQnQIYxI7fdi7LAUKobwROth5G1zfBjrE46CDlZ0I5nKiFxerLGgjBcL+YmH0o2zInoykjUrEsmdbNW3Gi0qI7gEyWnA+KBrv6RlXE+1uDryv9jpqd7/Q27kgl3hz4fw48PycD6bA0E2n8enkJcWiSbn2g8xoaZXTXl8G9iI7naLolTD28Iw9rMbMtFkSYiqzvZ0Xb7u3iwZKwq36V77Ynpqdo6Xs1faGJ+YjkZbuNL62KukAcjnHVZ+xR7zpAOdZxMDTat/SQzzE/HleY68yXm13rPUYeJ48sPfzfNEmrm3Od+4AcvaM0rTasDCqTd0ZpSehLUOxjiXwAsZALpZqrI+2BYn5UyiLP/b794NLTL8uLQ/0pjhprB2cTbt7x+9z3S59UG692vSef60Ub+HewUofsXp727g64X8KXk3r6Wqav/E0I4a3gva3vwcUSnRPhmnxU31EabaB8T5HJb1W/9tB8Xvmb4G/x28n/E/hbz+UwsBj4vEoEB+8veE0LhZjJefAhf3/v4Pie6t4vLQ6EaoT/l44F6/0HbPT0LE5eXZef+gYJv6rowvhPAuBLC8E8R7PDeiF+Wt2bwPxyXYIEhcPX23EXF+yth/B+Wk4l7fq/wKLwL3+jXB+ah1tzo/x70/j/w3Oz1lHuIC7Zc2z9+BC4eP9/DV3wTtR3nbQuKdSNOXOyuTSt9e2Ny+Pbyc2tIe4lODtc3Wuq1fOv2b394LiUE2r/s6N28tDx/idrZe2B/QT8+65dAz1vwEXSDMG56YZy8o/GZxbPg/+pyWJj/efr1b+GeF8/PvfbAP1V8Fb0Tyl5eWgs73/L8HfqVB1wv/Xjh0aAACAAAjz/6tNVgN5+wIAAADOtw0BAAB4CCoAAIBIUAEAAESCCgAAIBJUAAAAkaACAABIZhZ+Fcf6RdYZqQAAAABJRU5ErkJggg==)\n",
        "\n",
        "\n",
        "\n",
        "\n",
        "\n",
        "\n",
        "\n",
        " Write a Python program, which returns a list with 2-tuples. Each tuple consists of the order number and the\n",
        "product of the price per item and the quantity. The product should be increased by 10,- € if the value of the\n",
        "order is smaller than 100,00 €.\n",
        " Write a Python program using lambda and map"
      ],
      "metadata": {
        "id": "YYHlwdkSZI3m"
      }
    },
    {
      "cell_type": "code",
      "source": [
        "orders = [\n",
        "    [34587, \"Learning Python\", 4, 40.95],\n",
        "    [98762, \"Data Science Handbook\", 5, 56.80],\n",
        "    [77226, \"Python for Data Analysis\", 3, 32.95],\n",
        "    [88112, \"Machine Learning Guide\", 3, 24.99]\n",
        "]\n",
        "\n",
        "# Lambda function to calculate total price and add extra 10 if total < 100\n",
        "order_totals = list(map(lambda order: (order[0], order[2] * order[3] + (10 if order[2] * order[3] < 100 else 0)), orders))\n",
        "\n",
        "print(order_totals)\n",
        "\n"
      ],
      "metadata": {
        "colab": {
          "base_uri": "https://localhost:8080/"
        },
        "id": "iTz3VAn8bI9g",
        "outputId": "33f532c6-6a5f-4665-be76-d72d04259438"
      },
      "execution_count": 44,
      "outputs": [
        {
          "output_type": "stream",
          "name": "stdout",
          "text": [
            "[(34587, 163.8), (98762, 284.0), (77226, 108.85000000000001), (88112, 84.97)]\n"
          ]
        }
      ]
    },
    {
      "cell_type": "markdown",
      "source": [
        "\n",
        "\n",
        "\n"
      ],
      "metadata": {
        "id": "S3ergjcwZGPk"
      }
    }
  ]
}